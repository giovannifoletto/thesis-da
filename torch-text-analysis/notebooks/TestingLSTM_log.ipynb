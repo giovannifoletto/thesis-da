{
  "cells": [
    {
      "cell_type": "code",
      "execution_count": null,
      "metadata": {
        "id": "GnrI9mRBPD1N"
      },
      "outputs": [],
      "source": [
        "!pip install torchtext"
      ]
    },
    {
      "cell_type": "code",
      "execution_count": null,
      "metadata": {
        "id": "6ovobJiJRwK_"
      },
      "outputs": [],
      "source": [
        "import numpy as np\n",
        "import pandas as pd\n",
        "import polars as pl\n",
        "\n",
        "import torch\n",
        "import torch.nn as nn\n",
        "import torchtext as tt\n",
        "from torchtext.data.utils import get_tokenizer\n",
        "from torch.utils.data import Dataset\n",
        "\n",
        "import matplotlib.pyplot as plt\n",
        "import seaborn as sns\n",
        "\n",
        "import json\n",
        "\n",
        "from collections import Counter\n",
        "from copy import deepcopy as dc"
      ]
    },
    {
      "cell_type": "code",
      "execution_count": null,
      "metadata": {
        "id": "sVIhn_Tw5-53"
      },
      "outputs": [],
      "source": [
        "def get_json_file_into_data():\n",
        "  f = open(\"drive/MyDrive/unificated.ndjson\")\n",
        "  #print(f.readline())\n",
        "\n",
        "  lines = f.readlines()\n",
        "  data = []\n",
        "  for line in lines:\n",
        "    print(line)\n",
        "    break\n",
        "\n",
        "  f.close()\n",
        "  return data"
      ]
    },
    {
      "cell_type": "code",
      "execution_count": null,
      "metadata": {
        "id": "cWuoQpq9dxdX"
      },
      "outputs": [],
      "source": [
        "SELECTED = [\"eventTime\", \"userAgent\", \"errorMessage\", \"eventType\", \"errorCode\", \"sourceIPAddress\", \"eventName\", \"eventSource\", \"awsRegion\"]\n",
        "\n",
        "def select_from_data(data):\n",
        "  data_polished = []\n",
        "\n",
        "  for line in data:\n",
        "    obj = json.loads(line)\n",
        "\n",
        "    n_obj = {}\n",
        "    for field in obj:\n",
        "      if field in SELECTED:\n",
        "        if obj[field] == \"\" or obj[field] == None:\n",
        "          n_obj[field] = \"NaN\"\n",
        "        n_obj[field] = obj[field]\n",
        "\n",
        "    #print(n_obj)\n",
        "    #with open(\"drive/MyDrive/reduced.ndjson\")\n",
        "    data_polished.append(n_obj)\n",
        "\n",
        "  df = pl.DataFrame(data_polished)\n",
        "  df.write_ndjson(\"drive/MyDrive/data_polished.ndjson\")\n",
        "# print(len(select_from_data(get_json_file_into_data())))"
      ]
    },
    {
      "cell_type": "code",
      "execution_count": null,
      "metadata": {
        "colab": {
          "base_uri": "https://localhost:8080/",
          "height": 161
        },
        "id": "kiYtuO3TDPtD",
        "outputId": "ee39b9fc-4575-4d5f-e672-1e80e26bdb15"
      },
      "outputs": [
        {
          "data": {
            "text/html": [
              "<div><style>\n",
              ".dataframe > thead > tr,\n",
              ".dataframe > tbody > tr {\n",
              "  text-align: right;\n",
              "  white-space: pre-wrap;\n",
              "}\n",
              "</style>\n",
              "<small>shape: (2, 9)</small><table border=\"1\" class=\"dataframe\"><thead><tr><th>userAgent</th><th>errorMessage</th><th>eventType</th><th>errorCode</th><th>sourceIPAddress</th><th>eventName</th><th>eventSource</th><th>awsRegion</th><th>eventTime</th></tr><tr><td>str</td><td>str</td><td>str</td><td>str</td><td>str</td><td>str</td><td>str</td><td>str</td><td>str</td></tr></thead><tbody><tr><td>&quot;Boto3/1.9.201 …</td><td>&quot;Request limit …</td><td>&quot;AwsApiCall&quot;</td><td>&quot;Client.Request…</td><td>&quot;5.205.62.253&quot;</td><td>&quot;RunInstances&quot;</td><td>&quot;ec2.amazonaws.…</td><td>&quot;us-west-1&quot;</td><td>&quot;2019-08-21T11:…</td></tr><tr><td>&quot;Boto3/1.9.201 …</td><td>&quot;We currently d…</td><td>&quot;AwsApiCall&quot;</td><td>&quot;Server.Insuffi…</td><td>&quot;5.205.62.253&quot;</td><td>&quot;RunInstances&quot;</td><td>&quot;ec2.amazonaws.…</td><td>&quot;ap-northeast-1…</td><td>&quot;2019-08-21T11:…</td></tr></tbody></table></div>"
            ],
            "text/plain": [
              "shape: (2, 9)\n",
              "┌───────────┬───────────┬───────────┬───────────┬───┬───────────┬───────────┬───────────┬──────────┐\n",
              "│ userAgent ┆ errorMess ┆ eventType ┆ errorCode ┆ … ┆ eventName ┆ eventSour ┆ awsRegion ┆ eventTim │\n",
              "│ ---       ┆ age       ┆ ---       ┆ ---       ┆   ┆ ---       ┆ ce        ┆ ---       ┆ e        │\n",
              "│ str       ┆ ---       ┆ str       ┆ str       ┆   ┆ str       ┆ ---       ┆ str       ┆ ---      │\n",
              "│           ┆ str       ┆           ┆           ┆   ┆           ┆ str       ┆           ┆ str      │\n",
              "╞═══════════╪═══════════╪═══════════╪═══════════╪═══╪═══════════╪═══════════╪═══════════╪══════════╡\n",
              "│ Boto3/1.9 ┆ Request   ┆ AwsApiCal ┆ Client.Re ┆ … ┆ RunInstan ┆ ec2.amazo ┆ us-west-1 ┆ 2019-08- │\n",
              "│ .201 Pyth ┆ limit     ┆ l         ┆ questLimi ┆   ┆ ces       ┆ naws.com  ┆           ┆ 21T11:31 │\n",
              "│ on/2.7.12 ┆ exceeded. ┆           ┆ tExceeded ┆   ┆           ┆           ┆           ┆ :47Z     │\n",
              "│ Linu…     ┆           ┆           ┆           ┆   ┆           ┆           ┆           ┆          │\n",
              "│ Boto3/1.9 ┆ We        ┆ AwsApiCal ┆ Server.In ┆ … ┆ RunInstan ┆ ec2.amazo ┆ ap-northe ┆ 2019-08- │\n",
              "│ .201 Pyth ┆ currently ┆ l         ┆ sufficien ┆   ┆ ces       ┆ naws.com  ┆ ast-1     ┆ 21T11:31 │\n",
              "│ on/2.7.12 ┆ do not    ┆           ┆ tInstance ┆   ┆           ┆           ┆           ┆ :47Z     │\n",
              "│ Linu…     ┆ have      ┆           ┆ Capac…    ┆   ┆           ┆           ┆           ┆          │\n",
              "│           ┆ suffici…  ┆           ┆           ┆   ┆           ┆           ┆           ┆          │\n",
              "└───────────┴───────────┴───────────┴───────────┴───┴───────────┴───────────┴───────────┴──────────┘"
            ]
          },
          "execution_count": 22,
          "metadata": {},
          "output_type": "execute_result"
        }
      ],
      "source": [
        "df = pl.read_ndjson(\"drive/MyDrive/data_polished.ndjson\")\n",
        "df.head(2)"
      ]
    },
    {
      "cell_type": "code",
      "execution_count": null,
      "metadata": {
        "colab": {
          "base_uri": "https://localhost:8080/",
          "height": 161
        },
        "id": "_QsPyLb6U9mu",
        "outputId": "45438b5a-a4e0-4cba-cb87-acaa24be8e94"
      },
      "outputs": [
        {
          "data": {
            "text/html": [
              "<div><style>\n",
              ".dataframe > thead > tr,\n",
              ".dataframe > tbody > tr {\n",
              "  text-align: right;\n",
              "  white-space: pre-wrap;\n",
              "}\n",
              "</style>\n",
              "<small>shape: (2, 9)</small><table border=\"1\" class=\"dataframe\"><thead><tr><th>userAgent</th><th>errorMessage</th><th>eventType</th><th>errorCode</th><th>sourceIPAddress</th><th>eventName</th><th>eventSource</th><th>awsRegion</th><th>eventTime</th></tr><tr><td>str</td><td>str</td><td>str</td><td>str</td><td>str</td><td>str</td><td>str</td><td>str</td><td>datetime[μs, UTC]</td></tr></thead><tbody><tr><td>&quot;Boto3/1.9.201 …</td><td>&quot;Request limit …</td><td>&quot;AwsApiCall&quot;</td><td>&quot;Client.Request…</td><td>&quot;5.205.62.253&quot;</td><td>&quot;RunInstances&quot;</td><td>&quot;ec2.amazonaws.…</td><td>&quot;us-west-1&quot;</td><td>2019-08-21 11:31:47 UTC</td></tr><tr><td>&quot;Boto3/1.9.201 …</td><td>&quot;We currently d…</td><td>&quot;AwsApiCall&quot;</td><td>&quot;Server.Insuffi…</td><td>&quot;5.205.62.253&quot;</td><td>&quot;RunInstances&quot;</td><td>&quot;ec2.amazonaws.…</td><td>&quot;ap-northeast-1…</td><td>2019-08-21 11:31:47 UTC</td></tr></tbody></table></div>"
            ],
            "text/plain": [
              "shape: (2, 9)\n",
              "┌───────────┬───────────┬───────────┬───────────┬───┬───────────┬───────────┬───────────┬──────────┐\n",
              "│ userAgent ┆ errorMess ┆ eventType ┆ errorCode ┆ … ┆ eventName ┆ eventSour ┆ awsRegion ┆ eventTim │\n",
              "│ ---       ┆ age       ┆ ---       ┆ ---       ┆   ┆ ---       ┆ ce        ┆ ---       ┆ e        │\n",
              "│ str       ┆ ---       ┆ str       ┆ str       ┆   ┆ str       ┆ ---       ┆ str       ┆ ---      │\n",
              "│           ┆ str       ┆           ┆           ┆   ┆           ┆ str       ┆           ┆ datetime │\n",
              "│           ┆           ┆           ┆           ┆   ┆           ┆           ┆           ┆ [μs,     │\n",
              "│           ┆           ┆           ┆           ┆   ┆           ┆           ┆           ┆ UTC]     │\n",
              "╞═══════════╪═══════════╪═══════════╪═══════════╪═══╪═══════════╪═══════════╪═══════════╪══════════╡\n",
              "│ Boto3/1.9 ┆ Request   ┆ AwsApiCal ┆ Client.Re ┆ … ┆ RunInstan ┆ ec2.amazo ┆ us-west-1 ┆ 2019-08- │\n",
              "│ .201 Pyth ┆ limit     ┆ l         ┆ questLimi ┆   ┆ ces       ┆ naws.com  ┆           ┆ 21       │\n",
              "│ on/2.7.12 ┆ exceeded. ┆           ┆ tExceeded ┆   ┆           ┆           ┆           ┆ 11:31:47 │\n",
              "│ Linu…     ┆           ┆           ┆           ┆   ┆           ┆           ┆           ┆ UTC      │\n",
              "│ Boto3/1.9 ┆ We        ┆ AwsApiCal ┆ Server.In ┆ … ┆ RunInstan ┆ ec2.amazo ┆ ap-northe ┆ 2019-08- │\n",
              "│ .201 Pyth ┆ currently ┆ l         ┆ sufficien ┆   ┆ ces       ┆ naws.com  ┆ ast-1     ┆ 21       │\n",
              "│ on/2.7.12 ┆ do not    ┆           ┆ tInstance ┆   ┆           ┆           ┆           ┆ 11:31:47 │\n",
              "│ Linu…     ┆ have      ┆           ┆ Capac…    ┆   ┆           ┆           ┆           ┆ UTC      │\n",
              "│           ┆ suffici…  ┆           ┆           ┆   ┆           ┆           ┆           ┆          │\n",
              "└───────────┴───────────┴───────────┴───────────┴───┴───────────┴───────────┴───────────┴──────────┘"
            ]
          },
          "execution_count": 3,
          "metadata": {},
          "output_type": "execute_result"
        }
      ],
      "source": [
        "# DO NOT RUN IT NOW, the initial parsing breaks if the datatime is converted now\n",
        "# Is more valueable to be run later\n",
        "df = df.with_columns(pl.col(\"eventTime\").str.to_datetime())\n",
        "df.head(2)"
      ]
    },
    {
      "cell_type": "code",
      "execution_count": null,
      "metadata": {
        "colab": {
          "base_uri": "https://localhost:8080/"
        },
        "id": "xrAlfe2n1IRG",
        "outputId": "773dd57d-5f6f-41cd-e5d4-1b06fa9a5579"
      },
      "outputs": [
        {
          "data": {
            "text/plain": [
              "(1939207, 9)"
            ]
          },
          "execution_count": 23,
          "metadata": {},
          "output_type": "execute_result"
        }
      ],
      "source": [
        "df = df.fill_null(strategy=\"forward\")\n",
        "df.shape"
      ]
    },
    {
      "cell_type": "code",
      "execution_count": null,
      "metadata": {
        "colab": {
          "base_uri": "https://localhost:8080/"
        },
        "id": "EkgXPtmnE37u",
        "outputId": "9a4b7305-360f-4209-8dfd-e3b5293bf429"
      },
      "outputs": [
        {
          "data": {
            "text/plain": [
              "['boto3/19201',\n",
              " 'python/2712',\n",
              " 'linux/440-157-generic',\n",
              " 'botocore/112201',\n",
              " 'request',\n",
              " 'limit',\n",
              " 'exceeded',\n",
              " 'awsapicall',\n",
              " 'clientrequestlimitexceeded',\n",
              " 'runinstances',\n",
              " 'ec2amazonawscom',\n",
              " 'us-west-1']"
            ]
          },
          "execution_count": 48,
          "metadata": {},
          "output_type": "execute_result"
        }
      ],
      "source": [
        "toker(\n",
        "    \"\".join(\n",
        "        [str(x) for x in df.select(pl.col(\"*\").exclude(\"sourceIPAddress\", \"eventTime\"))[0].to_numpy()]\n",
        "        ).replace(\"[\", \"\").translate({\n",
        "            ord(\"[\"): None,\n",
        "            ord(\"]\"): None,\n",
        "            ord(\".\"): None,\n",
        "            ord(\",\"): None,\n",
        "            ord(\"'\"): None,\n",
        "        })\n",
        "    )"
      ]
    },
    {
      "cell_type": "code",
      "execution_count": null,
      "metadata": {
        "colab": {
          "base_uri": "https://localhost:8080/"
        },
        "id": "6H4Nvn-tc5-l",
        "outputId": "158bc5c5-3ef2-40b3-c2ba-a611b621e98c"
      },
      "outputs": [
        {
          "data": {
            "text/plain": [
              "array(['Request limit exceeded.', 'AwsApiCall',\n",
              "       'Client.RequestLimitExceeded', '5.205.62.253', 'RunInstances',\n",
              "       'ec2.amazonaws.com', 'us-west-1'], dtype=object)"
            ]
          },
          "execution_count": 53,
          "metadata": {},
          "output_type": "execute_result"
        }
      ],
      "source": [
        "df.to_numpy()[0, 1:-1]"
      ]
    },
    {
      "cell_type": "code",
      "execution_count": null,
      "metadata": {
        "id": "6ylhLFG9h9HG"
      },
      "outputs": [],
      "source": [
        "toker = get_tokenizer(\"basic_english\")\n",
        "\n",
        "TRANSLATION_VOCABULARY = {\n",
        "              ord(\"[\"): None,\n",
        "              ord(\"]\"): None,\n",
        "              ord(\".\"): None,\n",
        "              ord(\",\"): None,\n",
        "              ord(\"'\"): None,\n",
        "            }\n",
        "\n",
        "def create_vocabulary(dataframe):\n",
        "  counter_obj = Counter()\n",
        "  dataset = dataframe.clone().select(pl.col(\"*\").exclude(\"sourceIPAddress\", \"eventTime\"))\n",
        "  for d in dataset.rows():\n",
        "    try:\n",
        "      txt = \" \".join([x for x in d]).translate(TRANSLATION_VOCABULARY)\n",
        "    except:\n",
        "      continue\n",
        "    split_and_lowered = toker(txt)\n",
        "    counter_obj.update(split_and_lowered)\n",
        "\n",
        "  result = tt.vocab.vocab(counter_obj, min_freq=1)\n",
        "  return result"
      ]
    },
    {
      "cell_type": "code",
      "execution_count": null,
      "metadata": {
        "colab": {
          "base_uri": "https://localhost:8080/"
        },
        "id": "pdeQJZg5ntxC",
        "outputId": "3563065f-b691-4eff-fdcc-dd050fb67980"
      },
      "outputs": [
        {
          "name": "stdout",
          "output_type": "stream",
          "text": [
            "188250\n"
          ]
        }
      ],
      "source": [
        "vocab = create_vocabulary(df)\n",
        "print(len(vocab))"
      ]
    },
    {
      "cell_type": "code",
      "execution_count": null,
      "metadata": {
        "id": "AiI-XEimrevs"
      },
      "outputs": [],
      "source": [
        "torch.save(vocab, \"vocab_vers_2.pth\")"
      ]
    },
    {
      "cell_type": "code",
      "execution_count": null,
      "metadata": {
        "id": "FflWIimF5bb7"
      },
      "outputs": [],
      "source": [
        "vocab = torch.load(\"vocab_vers_2.pth\")"
      ]
    },
    {
      "cell_type": "code",
      "execution_count": null,
      "metadata": {
        "colab": {
          "base_uri": "https://localhost:8080/"
        },
        "id": "D-xkK99Jo_vr",
        "outputId": "4792e8f8-4119-4ea8-ac43-f0f35103081b"
      },
      "outputs": [
        {
          "name": "stdout",
          "output_type": "stream",
          "text": [
            "2\n"
          ]
        }
      ],
      "source": [
        "for i in range(len(vocab)):\n",
        "  print(vocab[\"linux/440-157-generic\"])\n",
        "  break"
      ]
    },
    {
      "cell_type": "code",
      "execution_count": null,
      "metadata": {
        "id": "xSJPCQk7hqhG"
      },
      "outputs": [],
      "source": [
        "vocab.set_default_index(-1)\n",
        "def from_tuple_to_token(tup):\n",
        "  #print(tup[-1])\n",
        "  try:\n",
        "    txt = \" \".join([x for x in tup]).translate(TRANSLATION_VOCABULARY)\n",
        "  except Exception as e:\n",
        "    txt = \"No data\"\n",
        "    print(f\"WARNING: skipping {e} - {tup}\")\n",
        "  res = []\n",
        "  norm = toker(txt)\n",
        "  for i in norm:\n",
        "    res.append(str(vocab[i]))\n",
        "  return res"
      ]
    },
    {
      "cell_type": "code",
      "execution_count": null,
      "metadata": {
        "colab": {
          "base_uri": "https://localhost:8080/",
          "height": 216
        },
        "id": "zKrkFYj7hrT2",
        "outputId": "c8e126ee-ac57-44d7-d4cf-2647180d0151"
      },
      "outputs": [
        {
          "data": {
            "text/html": [
              "<div><style>\n",
              ".dataframe > thead > tr,\n",
              ".dataframe > tbody > tr {\n",
              "  text-align: right;\n",
              "  white-space: pre-wrap;\n",
              "}\n",
              "</style>\n",
              "<small>shape: (2, 10)</small><table border=\"1\" class=\"dataframe\"><thead><tr><th>userAgent</th><th>errorMessage</th><th>eventType</th><th>errorCode</th><th>sourceIPAddress</th><th>eventName</th><th>eventSource</th><th>awsRegion</th><th>eventTime</th><th>concatenated_list</th></tr><tr><td>str</td><td>str</td><td>str</td><td>str</td><td>str</td><td>str</td><td>str</td><td>str</td><td>str</td><td>str</td></tr></thead><tbody><tr><td>&quot;Boto3/1.9.201 …</td><td>&quot;Request limit …</td><td>&quot;AwsApiCall&quot;</td><td>&quot;Client.Request…</td><td>&quot;5.205.62.253&quot;</td><td>&quot;RunInstances&quot;</td><td>&quot;ec2.amazonaws.…</td><td>&quot;us-west-1&quot;</td><td>&quot;2019-08-21T11:…</td><td>&quot;Boto3/1.9.201 …</td></tr><tr><td>&quot;Boto3/1.9.201 …</td><td>&quot;We currently d…</td><td>&quot;AwsApiCall&quot;</td><td>&quot;Server.Insuffi…</td><td>&quot;5.205.62.253&quot;</td><td>&quot;RunInstances&quot;</td><td>&quot;ec2.amazonaws.…</td><td>&quot;ap-northeast-1…</td><td>&quot;2019-08-21T11:…</td><td>&quot;Boto3/1.9.201 …</td></tr></tbody></table></div>"
            ],
            "text/plain": [
              "shape: (2, 10)\n",
              "┌───────────┬───────────┬───────────┬───────────┬───┬───────────┬───────────┬───────────┬──────────┐\n",
              "│ userAgent ┆ errorMess ┆ eventType ┆ errorCode ┆ … ┆ eventSour ┆ awsRegion ┆ eventTime ┆ concaten │\n",
              "│ ---       ┆ age       ┆ ---       ┆ ---       ┆   ┆ ce        ┆ ---       ┆ ---       ┆ ated_lis │\n",
              "│ str       ┆ ---       ┆ str       ┆ str       ┆   ┆ ---       ┆ str       ┆ str       ┆ t        │\n",
              "│           ┆ str       ┆           ┆           ┆   ┆ str       ┆           ┆           ┆ ---      │\n",
              "│           ┆           ┆           ┆           ┆   ┆           ┆           ┆           ┆ str      │\n",
              "╞═══════════╪═══════════╪═══════════╪═══════════╪═══╪═══════════╪═══════════╪═══════════╪══════════╡\n",
              "│ Boto3/1.9 ┆ Request   ┆ AwsApiCal ┆ Client.Re ┆ … ┆ ec2.amazo ┆ us-west-1 ┆ 2019-08-2 ┆ Boto3/1. │\n",
              "│ .201 Pyth ┆ limit     ┆ l         ┆ questLimi ┆   ┆ naws.com  ┆           ┆ 1T11:31:4 ┆ 9.201    │\n",
              "│ on/2.7.12 ┆ exceeded. ┆           ┆ tExceeded ┆   ┆           ┆           ┆ 7Z        ┆ Python/2 │\n",
              "│ Linu…     ┆           ┆           ┆           ┆   ┆           ┆           ┆           ┆ .7.12    │\n",
              "│           ┆           ┆           ┆           ┆   ┆           ┆           ┆           ┆ Linu…    │\n",
              "│ Boto3/1.9 ┆ We        ┆ AwsApiCal ┆ Server.In ┆ … ┆ ec2.amazo ┆ ap-northe ┆ 2019-08-2 ┆ Boto3/1. │\n",
              "│ .201 Pyth ┆ currently ┆ l         ┆ sufficien ┆   ┆ naws.com  ┆ ast-1     ┆ 1T11:31:4 ┆ 9.201    │\n",
              "│ on/2.7.12 ┆ do not    ┆           ┆ tInstance ┆   ┆           ┆           ┆ 7Z        ┆ Python/2 │\n",
              "│ Linu…     ┆ have      ┆           ┆ Capac…    ┆   ┆           ┆           ┆           ┆ .7.12    │\n",
              "│           ┆ suffici…  ┆           ┆           ┆   ┆           ┆           ┆           ┆ Linu…    │\n",
              "└───────────┴───────────┴───────────┴───────────┴───┴───────────┴───────────┴───────────┴──────────┘"
            ]
          },
          "execution_count": 24,
          "metadata": {},
          "output_type": "execute_result"
        }
      ],
      "source": [
        "# select(\n",
        "#     pl.col(\"*\").exclude(\"sourceIPAddress\", \"eventTime\")\n",
        "#     )\n",
        "\n",
        "df = df.with_columns(\n",
        "        pl.concat_str(\n",
        "            pl.col(\"*\").exclude(\"sourceIPAddress\", \"eventTime\"),\n",
        "            separator=\" \"\n",
        "          ).alias(\"concatenated_list\") # col(\"*\").exclude(\"sourceIPAddress\", \"eventTime\").arr.\n",
        "    )\n",
        "df.head(2)"
      ]
    },
    {
      "cell_type": "code",
      "execution_count": null,
      "metadata": {
        "colab": {
          "base_uri": "https://localhost:8080/",
          "height": 161
        },
        "id": "oSIJyBmr4Q3M",
        "outputId": "b86fd0db-19aa-472e-a021-05cd87511cce"
      },
      "outputs": [
        {
          "data": {
            "text/html": [
              "<div><style>\n",
              ".dataframe > thead > tr,\n",
              ".dataframe > tbody > tr {\n",
              "  text-align: right;\n",
              "  white-space: pre-wrap;\n",
              "}\n",
              "</style>\n",
              "<small>shape: (2, 3)</small><table border=\"1\" class=\"dataframe\"><thead><tr><th>eventTime</th><th>sourceIPAddress</th><th>concatenated_list</th></tr><tr><td>str</td><td>str</td><td>str</td></tr></thead><tbody><tr><td>&quot;2019-08-21T11:…</td><td>&quot;5.205.62.253&quot;</td><td>&quot;Boto3/1.9.201 …</td></tr><tr><td>&quot;2019-08-21T11:…</td><td>&quot;5.205.62.253&quot;</td><td>&quot;Boto3/1.9.201 …</td></tr></tbody></table></div>"
            ],
            "text/plain": [
              "shape: (2, 3)\n",
              "┌──────────────────────┬─────────────────┬───────────────────────────────────┐\n",
              "│ eventTime            ┆ sourceIPAddress ┆ concatenated_list                 │\n",
              "│ ---                  ┆ ---             ┆ ---                               │\n",
              "│ str                  ┆ str             ┆ str                               │\n",
              "╞══════════════════════╪═════════════════╪═══════════════════════════════════╡\n",
              "│ 2019-08-21T11:31:47Z ┆ 5.205.62.253    ┆ Boto3/1.9.201 Python/2.7.12 Linu… │\n",
              "│ 2019-08-21T11:31:47Z ┆ 5.205.62.253    ┆ Boto3/1.9.201 Python/2.7.12 Linu… │\n",
              "└──────────────────────┴─────────────────┴───────────────────────────────────┘"
            ]
          },
          "execution_count": 25,
          "metadata": {},
          "output_type": "execute_result"
        }
      ],
      "source": [
        "sample = df.select(pl.col(\"eventTime\", \"sourceIPAddress\", \"concatenated_list\"))\n",
        "sample.head(2)"
      ]
    },
    {
      "cell_type": "code",
      "execution_count": null,
      "metadata": {
        "id": "BH9u5rsQ81nj"
      },
      "outputs": [],
      "source": [
        "del df"
      ]
    },
    {
      "cell_type": "code",
      "execution_count": null,
      "metadata": {
        "colab": {
          "base_uri": "https://localhost:8080/",
          "height": 161
        },
        "id": "_7T99gIx9QCK",
        "outputId": "31361961-524f-4ff7-89b0-3d1ba0c51c49"
      },
      "outputs": [
        {
          "data": {
            "text/html": [
              "<div><style>\n",
              ".dataframe > thead > tr,\n",
              ".dataframe > tbody > tr {\n",
              "  text-align: right;\n",
              "  white-space: pre-wrap;\n",
              "}\n",
              "</style>\n",
              "<small>shape: (2, 3)</small><table border=\"1\" class=\"dataframe\"><thead><tr><th>eventTime</th><th>sourceIPAddress</th><th>concatenated_list</th></tr><tr><td>str</td><td>str</td><td>str</td></tr></thead><tbody><tr><td>&quot;2019-08-21T11:…</td><td>&quot;5.205.62.253&quot;</td><td>&quot;Boto3/1.9.201 …</td></tr><tr><td>&quot;2019-08-21T11:…</td><td>&quot;5.205.62.253&quot;</td><td>&quot;Boto3/1.9.201 …</td></tr></tbody></table></div>"
            ],
            "text/plain": [
              "shape: (2, 3)\n",
              "┌──────────────────────┬─────────────────┬───────────────────────────────────┐\n",
              "│ eventTime            ┆ sourceIPAddress ┆ concatenated_list                 │\n",
              "│ ---                  ┆ ---             ┆ ---                               │\n",
              "│ str                  ┆ str             ┆ str                               │\n",
              "╞══════════════════════╪═════════════════╪═══════════════════════════════════╡\n",
              "│ 2019-08-21T11:31:47Z ┆ 5.205.62.253    ┆ Boto3/1.9.201 Python/2.7.12 Linu… │\n",
              "│ 2019-08-21T11:31:47Z ┆ 5.205.62.253    ┆ Boto3/1.9.201 Python/2.7.12 Linu… │\n",
              "└──────────────────────┴─────────────────┴───────────────────────────────────┘"
            ]
          },
          "execution_count": 27,
          "metadata": {},
          "output_type": "execute_result"
        }
      ],
      "source": [
        "sample.head(2)"
      ]
    },
    {
      "cell_type": "code",
      "execution_count": null,
      "metadata": {
        "colab": {
          "base_uri": "https://localhost:8080/",
          "height": 211
        },
        "id": "sE0gQ0ag6tRk",
        "outputId": "320757f0-0422-4dee-ada1-0d7f13a57889"
      },
      "outputs": [
        {
          "output_type": "error",
          "ename": "NameError",
          "evalue": "name 'sample' is not defined",
          "traceback": [
            "\u001b[0;31m---------------------------------------------------------------------------\u001b[0m",
            "\u001b[0;31mNameError\u001b[0m                                 Traceback (most recent call last)",
            "\u001b[0;32m<ipython-input-1-c95f03f67c6c>\u001b[0m in \u001b[0;36m<cell line: 3>\u001b[0;34m()\u001b[0m\n\u001b[1;32m      1\u001b[0m \u001b[0;31m# f = open(\"output_tokenized_data.json\", \"w\")\u001b[0m\u001b[0;34m\u001b[0m\u001b[0;34m\u001b[0m\u001b[0m\n\u001b[1;32m      2\u001b[0m \u001b[0mnew_data\u001b[0m \u001b[0;34m=\u001b[0m \u001b[0;34m[\u001b[0m\u001b[0;34m]\u001b[0m\u001b[0;34m\u001b[0m\u001b[0;34m\u001b[0m\u001b[0m\n\u001b[0;32m----> 3\u001b[0;31m \u001b[0;32mfor\u001b[0m \u001b[0mi\u001b[0m \u001b[0;32min\u001b[0m \u001b[0msample\u001b[0m\u001b[0;34m.\u001b[0m\u001b[0mrows\u001b[0m\u001b[0;34m(\u001b[0m\u001b[0mnamed\u001b[0m\u001b[0;34m=\u001b[0m\u001b[0;32mTrue\u001b[0m\u001b[0;34m)\u001b[0m\u001b[0;34m:\u001b[0m\u001b[0;34m\u001b[0m\u001b[0;34m\u001b[0m\u001b[0m\n\u001b[0m\u001b[1;32m      4\u001b[0m   \u001b[0mtokenized_data\u001b[0m \u001b[0;34m=\u001b[0m \u001b[0mdict\u001b[0m\u001b[0;34m(\u001b[0m\u001b[0mi\u001b[0m\u001b[0;34m)\u001b[0m\u001b[0;34m\u001b[0m\u001b[0;34m\u001b[0m\u001b[0m\n\u001b[1;32m      5\u001b[0m   \u001b[0mtokens\u001b[0m \u001b[0;34m=\u001b[0m \u001b[0mfrom_tuple_to_token\u001b[0m\u001b[0;34m(\u001b[0m\u001b[0mi\u001b[0m\u001b[0;34m[\u001b[0m\u001b[0;34m\"concatenated_list\"\u001b[0m\u001b[0;34m]\u001b[0m\u001b[0;34m)\u001b[0m\u001b[0;34m\u001b[0m\u001b[0;34m\u001b[0m\u001b[0m\n",
            "\u001b[0;31mNameError\u001b[0m: name 'sample' is not defined"
          ]
        }
      ],
      "source": [
        "# f = open(\"output_tokenized_data.json\", \"w\")\n",
        "new_data = []\n",
        "for i in sample.rows(named=True):\n",
        "  tokenized_data = dict(i)\n",
        "  tokens = from_tuple_to_token(i[\"concatenated_list\"])\n",
        "  tokenized_data[\"tokenized_value\"] = torch.tensor([int(x) for x in tokens if x != -1]).float()\n",
        "  #print(len(tokenized_data[\"tokenized_value\"]))\n",
        "  t_shape = tokenized_data[\"tokenized_value\"].shape\n",
        "  tokenized_data[\"tokenized_value\"] = tokenized_data[\"tokenized_value\"] @ torch.ones(t_shape).float()\n",
        "  tokenized_data[\"tokenized_value\"] = tokenized_data[\"tokenized_value\"].item()\n",
        "\n",
        "  new_data.append(tokenized_data)\n",
        "  #print(tokenized_data[\"tokenized_value\"].item())\n",
        "  # f.write(json.dumps(tokenized_data))\n",
        "  # f.write(\"\\n\")\n",
        "  #break\n",
        "\n",
        "df_new_data = pl.DataFrame(new_data)\n",
        "df_new_data.head()\n",
        "#f.close()"
      ]
    },
    {
      "cell_type": "markdown",
      "source": [
        "non ho testato con tutto il log in questa implementazione però.."
      ],
      "metadata": {
        "id": "llSGerbbNm3B"
      }
    },
    {
      "cell_type": "code",
      "execution_count": null,
      "metadata": {
        "id": "si0yR9wF8Fus"
      },
      "outputs": [],
      "source": [
        "df_new_data.write_csv(\"output_tensor_data.csv\")"
      ]
    },
    {
      "cell_type": "code",
      "execution_count": null,
      "metadata": {
        "id": "kcKrLFDoAcOD"
      },
      "outputs": [],
      "source": [
        "df_new_data.write_csv(\"drive/MyDrive/output_tesor_data.csv\")"
      ]
    },
    {
      "cell_type": "markdown",
      "metadata": {
        "id": "7iqz0n-iDSCQ"
      },
      "source": [
        "# NEW DATA GENERATED\n",
        "\n",
        "From now on, we can reset the kernel because the dataset that will be used will be the newst one."
      ]
    },
    {
      "cell_type": "code",
      "execution_count": null,
      "metadata": {
        "colab": {
          "base_uri": "https://localhost:8080/"
        },
        "id": "RMwY0DCpE1Eq",
        "outputId": "5180e313-e541-4fb2-80b9-2cb883bb8453"
      },
      "outputs": [
        {
          "name": "stdout",
          "output_type": "stream",
          "text": [
            "716M\toutput_tensor_data.csv\n"
          ]
        }
      ],
      "source": [
        "!du -h output_tensor_data.csv"
      ]
    },
    {
      "cell_type": "code",
      "execution_count": null,
      "metadata": {
        "id": "5TqRF5BkssMk"
      },
      "outputs": [],
      "source": [
        "useragent_tokenized_dataset = []\n",
        "\n",
        "def recreate_dataset_for_useragent():\n",
        "  dataset = df.to_numpy()\n",
        "\n",
        "  for i in dataset:\n",
        "    results = []\n",
        "    try:\n",
        "      txt = i[0].item().replace(\",\", \"\").replace(\".\", \"\")\n",
        "    except:\n",
        "      print(f\"WARNING: not parsed {i}\")\n",
        "      results.append([[-1]])\n",
        "      continue\n",
        "    split_and_lowered = toker(txt)\n",
        "    for i in split_and_lowered:\n",
        "      results.append(vocab[i])\n",
        "    useragent_tokenized_dataset.append(results)\n",
        "recreate_dataset_for_useragent()"
      ]
    },
    {
      "cell_type": "markdown",
      "metadata": {
        "id": "za3mgRxGDfZC"
      },
      "source": [
        "# Start TRAINING AND LSTM"
      ]
    },
    {
      "cell_type": "code",
      "execution_count": null,
      "metadata": {
        "colab": {
          "base_uri": "https://localhost:8080/"
        },
        "id": "s8Ket7UmR1MA",
        "outputId": "d2a0e813-a458-4f95-e341-d54191c942d1"
      },
      "outputs": [
        {
          "name": "stdout",
          "output_type": "stream",
          "text": [
            "Collecting polars\n",
            "  Downloading polars-0.20.18-cp38-abi3-manylinux_2_17_x86_64.manylinux2014_x86_64.whl (26.3 MB)\n",
            "\u001b[2K     \u001b[90m━━━━━━━━━━━━━━━━━━━━━━━━━━━━━━━━━━━━━━━━\u001b[0m \u001b[32m26.3/26.3 MB\u001b[0m \u001b[31m39.6 MB/s\u001b[0m eta \u001b[36m0:00:00\u001b[0m\n",
            "\u001b[?25hInstalling collected packages: polars\n",
            "Successfully installed polars-0.20.18\n"
          ]
        }
      ],
      "source": [
        "!pip install polars"
      ]
    },
    {
      "cell_type": "code",
      "execution_count": null,
      "metadata": {
        "colab": {
          "base_uri": "https://localhost:8080/"
        },
        "id": "v2xEzxmdSEB8",
        "outputId": "6c190dc8-db49-4458-d5a5-feec41a82ed5"
      },
      "outputs": [
        {
          "name": "stdout",
          "output_type": "stream",
          "text": [
            "Collecting pyarrow\n",
            "  Downloading pyarrow-15.0.2-cp310-cp310-manylinux_2_28_x86_64.whl (38.3 MB)\n",
            "\u001b[2K     \u001b[90m━━━━━━━━━━━━━━━━━━━━━━━━━━━━━━━━━━━━━━━━\u001b[0m \u001b[32m38.3/38.3 MB\u001b[0m \u001b[31m24.4 MB/s\u001b[0m eta \u001b[36m0:00:00\u001b[0m\n",
            "\u001b[?25hRequirement already satisfied: numpy<2,>=1.16.6 in /usr/local/lib/python3.10/dist-packages (from pyarrow) (1.25.2)\n",
            "Installing collected packages: pyarrow\n",
            "Successfully installed pyarrow-15.0.2\n"
          ]
        }
      ],
      "source": [
        "!pip install pyarrow"
      ]
    },
    {
      "cell_type": "code",
      "execution_count": null,
      "metadata": {
        "id": "7fGufyQODq6T"
      },
      "outputs": [],
      "source": [
        "import numpy as np\n",
        "import pandas as pd\n",
        "import polars as pl\n",
        "\n",
        "import torch\n",
        "import torch.nn as nn\n",
        "import torchtext as tt\n",
        "from torchtext.data.utils import get_tokenizer\n",
        "from torch.utils.data import Dataset\n",
        "from torch.utils.data import DataLoader\n",
        "\n",
        "import matplotlib.pyplot as plt\n",
        "import seaborn as sns\n",
        "\n",
        "import json\n",
        "from tqdm import tqdm\n",
        "\n",
        "from collections import Counter\n",
        "from copy import deepcopy as dc"
      ]
    },
    {
      "cell_type": "code",
      "execution_count": null,
      "metadata": {
        "id": "wZlp1uzTDh4M"
      },
      "outputs": [],
      "source": [
        "df_new_data = pl.read_csv(\"drive/MyDrive/output_tesor_data.csv\")"
      ]
    },
    {
      "cell_type": "code",
      "execution_count": null,
      "metadata": {
        "colab": {
          "base_uri": "https://localhost:8080/",
          "height": 161
        },
        "id": "8Bb5AMJgBIXj",
        "outputId": "ae388b80-2e56-4690-f76f-fad092c2cc9e"
      },
      "outputs": [
        {
          "data": {
            "text/html": [
              "<div><style>\n",
              ".dataframe > thead > tr,\n",
              ".dataframe > tbody > tr {\n",
              "  text-align: right;\n",
              "  white-space: pre-wrap;\n",
              "}\n",
              "</style>\n",
              "<small>shape: (2, 4)</small><table border=\"1\" class=\"dataframe\"><thead><tr><th>eventTime</th><th>sourceIPAddress</th><th>concatenated_list</th><th>tokenized_value</th></tr><tr><td>datetime[μs, UTC]</td><td>str</td><td>str</td><td>f64</td></tr></thead><tbody><tr><td>2019-08-21 11:31:47 UTC</td><td>&quot;5.205.62.253&quot;</td><td>&quot;Boto3/1.9.201 …</td><td>4.531885e6</td></tr><tr><td>2019-08-21 11:31:47 UTC</td><td>&quot;5.205.62.253&quot;</td><td>&quot;Boto3/1.9.201 …</td><td>9.160587e6</td></tr></tbody></table></div>"
            ],
            "text/plain": [
              "shape: (2, 4)\n",
              "┌─────────────────────────┬─────────────────┬───────────────────────────────────┬─────────────────┐\n",
              "│ eventTime               ┆ sourceIPAddress ┆ concatenated_list                 ┆ tokenized_value │\n",
              "│ ---                     ┆ ---             ┆ ---                               ┆ ---             │\n",
              "│ datetime[μs, UTC]       ┆ str             ┆ str                               ┆ f64             │\n",
              "╞═════════════════════════╪═════════════════╪═══════════════════════════════════╪═════════════════╡\n",
              "│ 2019-08-21 11:31:47 UTC ┆ 5.205.62.253    ┆ Boto3/1.9.201 Python/2.7.12 Linu… ┆ 4.531885e6      │\n",
              "│ 2019-08-21 11:31:47 UTC ┆ 5.205.62.253    ┆ Boto3/1.9.201 Python/2.7.12 Linu… ┆ 9.160587e6      │\n",
              "└─────────────────────────┴─────────────────┴───────────────────────────────────┴─────────────────┘"
            ]
          },
          "execution_count": 3,
          "metadata": {},
          "output_type": "execute_result"
        }
      ],
      "source": [
        "df_new_data = df_new_data.with_columns(pl.col(\"eventTime\").str.to_datetime())\n",
        "df_new_data.head(2)"
      ]
    },
    {
      "cell_type": "code",
      "execution_count": null,
      "metadata": {
        "colab": {
          "base_uri": "https://localhost:8080/",
          "height": 482
        },
        "id": "G7ZE6xcvA28u",
        "outputId": "3c207465-6583-44a1-9173-95f073184b27"
      },
      "outputs": [
        {
          "data": {
            "text/plain": [
              "<Axes: xlabel='eventTime', ylabel='tokenized_value'>"
            ]
          },
          "execution_count": 4,
          "metadata": {},
          "output_type": "execute_result"
        },
        {
          "data": {
            "image/png": "[encoded data removed]",
            "text/plain": [
              "<Figure size 640x480 with 1 Axes>"
            ]
          },
          "metadata": {},
          "output_type": "display_data"
        }
      ],
      "source": [
        "sns.lineplot(\n",
        "    y=\"tokenized_value\",\n",
        "    x=\"eventTime\",\n",
        "    data=df_new_data.to_pandas()[:5000]\n",
        "  )"
      ]
    },
    {
      "cell_type": "code",
      "execution_count": null,
      "metadata": {
        "colab": {
          "base_uri": "https://localhost:8080/",
          "height": 233
        },
        "id": "0IK6yos4CFqS",
        "outputId": "e32d5bed-1e98-48ed-a9ee-cac4dfebe50c"
      },
      "outputs": [
        {
          "data": {
            "text/html": [
              "<div><style>\n",
              ".dataframe > thead > tr,\n",
              ".dataframe > tbody > tr {\n",
              "  text-align: right;\n",
              "  white-space: pre-wrap;\n",
              "}\n",
              "</style>\n",
              "<small>shape: (2, 11)</small><table border=\"1\" class=\"dataframe\"><thead><tr><th>eventTime</th><th>sourceIPAddress</th><th>concatenated_list</th><th>tokenized_value</th><th>t-1</th><th>t-2</th><th>t-3</th><th>t-4</th><th>t-5</th><th>t-6</th><th>t-7</th></tr><tr><td>datetime[μs, UTC]</td><td>str</td><td>str</td><td>f64</td><td>f64</td><td>f64</td><td>f64</td><td>f64</td><td>f64</td><td>f64</td><td>f64</td></tr></thead><tbody><tr><td>2019-08-21 11:31:47 UTC</td><td>&quot;5.205.62.253&quot;</td><td>&quot;Boto3/1.9.201 …</td><td>2.0686352e7</td><td>4.531885e6</td><td>4.578353e6</td><td>2.212806e7</td><td>4.804994e6</td><td>2.294152e7</td><td>9.160587e6</td><td>4.531885e6</td></tr><tr><td>2019-08-21 11:31:47 UTC</td><td>&quot;5.205.62.253&quot;</td><td>&quot;Boto3/1.9.201 …</td><td>4.531885e6</td><td>2.0686352e7</td><td>4.531885e6</td><td>4.578353e6</td><td>2.212806e7</td><td>4.804994e6</td><td>2.294152e7</td><td>9.160587e6</td></tr></tbody></table></div>"
            ],
            "text/plain": [
              "shape: (2, 11)\n",
              "┌───────────┬───────────┬───────────┬───────────┬───┬───────────┬───────────┬───────────┬──────────┐\n",
              "│ eventTime ┆ sourceIPA ┆ concatena ┆ tokenized ┆ … ┆ t-4       ┆ t-5       ┆ t-6       ┆ t-7      │\n",
              "│ ---       ┆ ddress    ┆ ted_list  ┆ _value    ┆   ┆ ---       ┆ ---       ┆ ---       ┆ ---      │\n",
              "│ datetime[ ┆ ---       ┆ ---       ┆ ---       ┆   ┆ f64       ┆ f64       ┆ f64       ┆ f64      │\n",
              "│ μs, UTC]  ┆ str       ┆ str       ┆ f64       ┆   ┆           ┆           ┆           ┆          │\n",
              "╞═══════════╪═══════════╪═══════════╪═══════════╪═══╪═══════════╪═══════════╪═══════════╪══════════╡\n",
              "│ 2019-08-2 ┆ 5.205.62. ┆ Boto3/1.9 ┆ 2.0686352 ┆ … ┆ 4.804994e ┆ 2.294152e ┆ 9.160587e ┆ 4.531885 │\n",
              "│ 1         ┆ 253       ┆ .201 Pyth ┆ e7        ┆   ┆ 6         ┆ 7         ┆ 6         ┆ e6       │\n",
              "│ 11:31:47  ┆           ┆ on/2.7.12 ┆           ┆   ┆           ┆           ┆           ┆          │\n",
              "│ UTC       ┆           ┆ Linu…     ┆           ┆   ┆           ┆           ┆           ┆          │\n",
              "│ 2019-08-2 ┆ 5.205.62. ┆ Boto3/1.9 ┆ 4.531885e ┆ … ┆ 2.212806e ┆ 4.804994e ┆ 2.294152e ┆ 9.160587 │\n",
              "│ 1         ┆ 253       ┆ .201 Pyth ┆ 6         ┆   ┆ 7         ┆ 6         ┆ 7         ┆ e6       │\n",
              "│ 11:31:47  ┆           ┆ on/2.7.12 ┆           ┆   ┆           ┆           ┆           ┆          │\n",
              "│ UTC       ┆           ┆ Linu…     ┆           ┆   ┆           ┆           ┆           ┆          │\n",
              "└───────────┴───────────┴───────────┴───────────┴───┴───────────┴───────────┴───────────┴──────────┘"
            ]
          },
          "execution_count": 5,
          "metadata": {},
          "output_type": "execute_result"
        }
      ],
      "source": [
        "sw = 7 # sliding windows\n",
        "\n",
        "# this will prepare LSTM for the training and testing\n",
        "for i in range(1, sw+1):\n",
        "  df_new_data = df_new_data.with_columns(\n",
        "    pl.Series(df_new_data[\"tokenized_value\"]).shift(i).alias(f\"t-{i}\")\n",
        "  )\n",
        "\n",
        "df_new_data = df_new_data.drop_nulls()\n",
        "df_new_data.head(2)"
      ]
    },
    {
      "cell_type": "code",
      "execution_count": null,
      "metadata": {
        "colab": {
          "base_uri": "https://localhost:8080/"
        },
        "id": "4d0Zs1_QEmL-",
        "outputId": "0a32a257-d9c8-48be-b537-1650d19ea119"
      },
      "outputs": [
        {
          "data": {
            "text/plain": [
              "array([[datetime.datetime(2019, 8, 21, 11, 31, 47), '5.205.62.253',\n",
              "        'Boto3/1.9.201 Python/2.7.12 Linux/4.4.0-157-generic Botocore/1.12.201 You are not authorized to perform this operation. Encoded authorization failure message: XIg4TxLJ2aEqqq4lR7Om7p_2yFF3XKCxI2kKRKyIBrx61jEE9ipijSYtNlyeHkCVUCY5jcAWQQlS3edPthsPNwILnilu4Tq903RZXHsCymd4KjN33a5l2Aoip3Lzme_g9g6bpFgooVQT46mLx9Yw7ofZWOCoxryomZlGZZKYmBD2s5duB9LUkJQQSpbhjhXbtEgkweoifgxyWZpGMouWXGyzREhU-e8D9vZMMQ5gEQbwdQeKujSeAtStyHKV_8uDEfj6n-koicBd4QyDxafxO-5u14NdOwrxfPkXx2oo2f5ORGbl7o0Ly-5T6M7PD-124l7H8vsBnw1Auezzq-03slWo5pqyReIs0LIOVLN5CS61UaDGFsYnwRxdl6eXUWoWPUlXyfi7Mkb9qma_S2txQhuXHKPontKq4rHL2bWMy8U7piIO2DTN45P3-oIy2fZ5ykzUNVaOfy5f-Oms-RS3Zmhm1oW0tMwKTHLeMnTwj7uGr5-H-tg6T3GYl-CUFt2L3Yu6StZ4DUtQ-QTtrgbwvNg8hiWOwnNGhgx7BwfZJBofsU48mM6PiPAnD5WcuEn4DTBeiIDxRbjENo2_ADgAk6L0T0lvg2WnMfqHPGVzUwrxz81jEY_1W-oLH_wq1jsAfg-eFRnGlENP143CrIwihWv7sVQ AwsApiCall Client.UnauthorizedOperation RunInstances ec2.amazonaws.com us-west-1',\n",
              "        ..., 22941520.0, 9160587.0, 4531885.0],\n",
              "       [datetime.datetime(2019, 8, 21, 11, 31, 47), '5.205.62.253',\n",
              "        'Boto3/1.9.201 Python/2.7.12 Linux/4.4.0-157-generic Botocore/1.12.201 Request limit exceeded. AwsApiCall Client.RequestLimitExceeded RunInstances ec2.amazonaws.com us-west-1',\n",
              "        ..., 4804994.0, 22941520.0, 9160587.0],\n",
              "       [datetime.datetime(2019, 8, 21, 11, 31, 48), '5.205.62.253',\n",
              "        \"Boto3/1.9.201 Python/2.7.12 Linux/4.4.0-157-generic Botocore/1.12.201 We currently do not have sufficient p2.8xlarge capacity in zones with support for 'gp2' volumes. Our system will be working on provisioning additional capacity. AwsApiCall Server.InsufficientInstanceCapacity RunInstances ec2.amazonaws.com ap-northeast-1\",\n",
              "        ..., 22128060.0, 4804994.0, 22941520.0],\n",
              "       ...,\n",
              "       [datetime.datetime(2019, 8, 21, 11, 31, 47), '5.205.62.253',\n",
              "        'Boto3/1.9.201 Python/2.7.12 Linux/4.4.0-157-generic Botocore/1.12.201 Request limit exceeded. AwsApiCall Client.RequestLimitExceeded RunInstances ec2.amazonaws.com us-east-1',\n",
              "        ..., 21589856.0, 4578353.0, 4624821.0],\n",
              "       [datetime.datetime(2019, 8, 21, 11, 31, 47), '5.205.62.253',\n",
              "        'Boto3/1.9.201 Python/2.7.12 Linux/4.4.0-157-generic Botocore/1.12.201 Request limit exceeded. AwsApiCall Client.RequestLimitExceeded RunInstances ec2.amazonaws.com us-west-1',\n",
              "        ..., 9160587.0, 21589856.0, 4578353.0],\n",
              "       [datetime.datetime(2019, 8, 21, 11, 31, 47), '5.205.62.253',\n",
              "        'Boto3/1.9.201 Python/2.7.12 Linux/4.4.0-157-generic Botocore/1.12.201 You are not authorized to perform this operation. Encoded authorization failure message: XIg4TxLJ2aEqqq4lR7Om7p_2yFF3XKCxI2kKRKyIBrx61jEE9ipijSYtNlyeHkCVUCY5jcAWQQlS3edPthsPNwILnilu4Tq903RZXHsCymd4KjN33a5l2Aoip3Lzme_g9g6bpFgooVQT46mLx9Yw7ofZWOCoxryomZlGZZKYmBD2s5duB9LUkJQQSpbhjhXbtEgkweoifgxyWZpGMouWXGyzREhU-e8D9vZMMQ5gEQbwdQeKujSeAtStyHKV_8uDEfj6n-koicBd4QyDxafxO-5u14NdOwrxfPkXx2oo2f5ORGbl7o0Ly-5T6M7PD-124l7H8vsBnw1Auezzq-03slWo5pqyReIs0LIOVLN5CS61UaDGFsYnwRxdl6eXUWoWPUlXyfi7Mkb9qma_S2txQhuXHKPontKq4rHL2bWMy8U7piIO2DTN45P3-oIy2fZ5ykzUNVaOfy5f-Oms-RS3Zmhm1oW0tMwKTHLeMnTwj7uGr5-H-tg6T3GYl-CUFt2L3Yu6StZ4DUtQ-QTtrgbwvNg8hiWOwnNGhgx7BwfZJBofsU48mM6PiPAnD5WcuEn4DTBeiIDxRbjENo2_ADgAk6L0T0lvg2WnMfqHPGVzUwrxz81jEY_1W-oLH_wq1jsAfg-eFRnGlENP143CrIwihWv7sVQ AwsApiCall Client.UnauthorizedOperation RunInstances ec2.amazonaws.com us-west-1',\n",
              "        ..., 22941520.0, 9160587.0, 21589856.0]], dtype=object)"
            ]
          },
          "execution_count": 6,
          "metadata": {},
          "output_type": "execute_result"
        }
      ],
      "source": [
        "shifted_df_as_np = df_new_data.to_numpy()\n",
        "shifted_df_as_np"
      ]
    },
    {
      "cell_type": "code",
      "execution_count": null,
      "metadata": {
        "id": "f0lk9hVVH4iI"
      },
      "outputs": [],
      "source": [
        "df_to_numpy_to_scale = shifted_df_as_np[:, 3:] # take only the columns with real interesting data"
      ]
    },
    {
      "cell_type": "code",
      "execution_count": null,
      "metadata": {
        "id": "R4dPjYEmEGDH"
      },
      "outputs": [],
      "source": [
        "from sklearn.preprocessing import MinMaxScaler\n",
        "\n",
        "scaler = MinMaxScaler(feature_range=(-1, 1))\n",
        "shifted_df_as_np = scaler.fit_transform(df_to_numpy_to_scale)"
      ]
    },
    {
      "cell_type": "code",
      "execution_count": null,
      "metadata": {
        "colab": {
          "base_uri": "https://localhost:8080/"
        },
        "id": "cSFJRZxTIdFM",
        "outputId": "fe93c441-4f79-4844-9944-ca6e93d4026c"
      },
      "outputs": [
        {
          "data": {
            "text/plain": [
              "(8,)"
            ]
          },
          "execution_count": 9,
          "metadata": {},
          "output_type": "execute_result"
        }
      ],
      "source": [
        "shifted_df_as_np[0].shape"
      ]
    },
    {
      "cell_type": "code",
      "execution_count": null,
      "metadata": {
        "id": "O_85t4qcIVcB"
      },
      "outputs": [],
      "source": [
        "X = shifted_df_as_np[:, 1:]\n",
        "y = shifted_df_as_np[:, 0]\n",
        "\n",
        "X = dc(np.flip(X, axis=1)) # this function will flip the columns. Now the older value is t-1, the newest is t-7"
      ]
    },
    {
      "cell_type": "code",
      "execution_count": null,
      "metadata": {
        "colab": {
          "base_uri": "https://localhost:8080/"
        },
        "id": "VHOHqPZEIl8v",
        "outputId": "46372c17-5e8a-44e0-b914-6f32136185a4"
      },
      "outputs": [
        {
          "data": {
            "text/plain": [
              "1260480"
            ]
          },
          "execution_count": 11,
          "metadata": {},
          "output_type": "execute_result"
        }
      ],
      "source": [
        "where_to_split = 0.65\n",
        "\n",
        "split_index = int(len(X)*where_to_split)\n",
        "split_index"
      ]
    },
    {
      "cell_type": "code",
      "execution_count": null,
      "metadata": {
        "colab": {
          "base_uri": "https://localhost:8080/"
        },
        "id": "J6T9IRkwJHAc",
        "outputId": "a5c2a24e-4730-4da4-d4f6-db4a488096ed"
      },
      "outputs": [
        {
          "data": {
            "text/plain": [
              "((1260480, 7), (678720, 7), (1260480,), (678720,))"
            ]
          },
          "execution_count": 12,
          "metadata": {},
          "output_type": "execute_result"
        }
      ],
      "source": [
        "X_train = X[:split_index]\n",
        "X_test = X[split_index:]\n",
        "\n",
        "y_train = y[:split_index]\n",
        "y_test = y[split_index:]\n",
        "\n",
        "(X_train.shape, X_test.shape, y_train.shape, y_test.shape) # check on dimension"
      ]
    },
    {
      "cell_type": "code",
      "execution_count": null,
      "metadata": {
        "colab": {
          "base_uri": "https://localhost:8080/"
        },
        "id": "Qbw83BDcJn9f",
        "outputId": "a0fcea84-725a-43b8-a8df-dffafef5ca5c"
      },
      "outputs": [
        {
          "data": {
            "text/plain": [
              "((1260480, 7, 1), (678720, 7, 1), (1260480, 1), (678720, 1))"
            ]
          },
          "execution_count": 13,
          "metadata": {},
          "output_type": "execute_result"
        }
      ],
      "source": [
        "# Reshape since the LSTM in pythorch need one extra dimension\n",
        "\n",
        "X_train = X_train.reshape((-1, sw, 1))\n",
        "X_test = X_test.reshape((-1, sw, 1))\n",
        "\n",
        "y_train = y_train.reshape((-1, 1))\n",
        "y_test = y_test.reshape((-1, 1))\n",
        "X_train.shape, X_test.shape, y_train.shape, y_test.shape # another dimensional check"
      ]
    },
    {
      "cell_type": "code",
      "execution_count": null,
      "metadata": {
        "colab": {
          "base_uri": "https://localhost:8080/"
        },
        "id": "sKJ-fAJFJ3UG",
        "outputId": "87f9a9b7-7e5e-44a7-c76d-7fd206f5a16f"
      },
      "outputs": [
        {
          "data": {
            "text/plain": [
              "(torch.Size([1260480, 7, 1]),\n",
              " torch.Size([678720, 7, 1]),\n",
              " torch.Size([1260480, 1]),\n",
              " torch.Size([678720, 1]))"
            ]
          },
          "execution_count": 14,
          "metadata": {},
          "output_type": "execute_result"
        }
      ],
      "source": [
        "# Transfrom to pytorch\n",
        "X_train = torch.tensor(X_train).float()\n",
        "y_train = torch.tensor(y_train).float()\n",
        "\n",
        "X_test = torch.tensor(X_test).float()\n",
        "y_test = torch.tensor(y_test).float()\n",
        "\n",
        "X_train.shape, X_test.shape, y_train.shape, y_test.shape"
      ]
    },
    {
      "cell_type": "code",
      "execution_count": null,
      "metadata": {
        "id": "CFHgFo0nKCUJ"
      },
      "outputs": [],
      "source": [
        "class LogSeriesForecastingDataset(Dataset):\n",
        "  def __init__(self, X, y):\n",
        "    self.X = X\n",
        "    self.y = y\n",
        "  def __len__(self):\n",
        "    return len(self.X)\n",
        "\n",
        "  def __getitem__(self, i):\n",
        "    return self.X[i], self.y[i]"
      ]
    },
    {
      "cell_type": "code",
      "execution_count": null,
      "metadata": {
        "id": "EolHjGlZKIib"
      },
      "outputs": [],
      "source": [
        "train_dataset = LogSeriesForecastingDataset(X_train, y_train)\n",
        "test_dataset = LogSeriesForecastingDataset(X_test, y_test)"
      ]
    },
    {
      "cell_type": "code",
      "execution_count": null,
      "metadata": {
        "id": "BDWnhc8WKZ-t"
      },
      "outputs": [],
      "source": [
        "batch_size = 2048\n",
        "\n",
        "train_loader = DataLoader(train_dataset, batch_size=batch_size, shuffle=True)\n",
        "test_loader = DataLoader(test_dataset, batch_size=batch_size, shuffle=False)"
      ]
    },
    {
      "cell_type": "code",
      "execution_count": null,
      "metadata": {
        "colab": {
          "base_uri": "https://localhost:8080/",
          "height": 34
        },
        "id": "9pnwIVoiKl2k",
        "outputId": "4d28f104-0d31-44c5-eabf-8e261e59a81d"
      },
      "outputs": [
        {
          "data": {
            "application/vnd.google.colaboratory.intrinsic+json": {
              "type": "string"
            },
            "text/plain": [
              "'cpu'"
            ]
          },
          "execution_count": 18,
          "metadata": {},
          "output_type": "execute_result"
        }
      ],
      "source": [
        "device = \"cuda:0\" if torch.cuda.is_available() else \"cpu\"\n",
        "device"
      ]
    },
    {
      "cell_type": "code",
      "execution_count": null,
      "metadata": {
        "colab": {
          "base_uri": "https://localhost:8080/"
        },
        "id": "KvnQncYiKhUc",
        "outputId": "8e845073-9423-48f9-fa62-6e6c1993572c"
      },
      "outputs": [
        {
          "name": "stdout",
          "output_type": "stream",
          "text": [
            "torch.Size([2048, 7, 1]) torch.Size([2048, 1])\n"
          ]
        }
      ],
      "source": [
        "# check on data loaded\n",
        "for _, batch in enumerate(train_loader):\n",
        "  x_batch, y_batch = batch[0].to(device), batch[1].to(device)\n",
        "  print(x_batch.shape, y_batch.shape)\n",
        "  break"
      ]
    },
    {
      "cell_type": "code",
      "execution_count": null,
      "metadata": {
        "colab": {
          "base_uri": "https://localhost:8080/"
        },
        "id": "KlS9i_1dKuWH",
        "outputId": "519448f7-b456-4d37-fdf6-3c803c4690b3"
      },
      "outputs": [
        {
          "name": "stdout",
          "output_type": "stream",
          "text": [
            "torch.Size([2048, 7, 1]) torch.Size([2048, 1])\n"
          ]
        }
      ],
      "source": [
        "# check on data loaded\n",
        "for _, batch in enumerate(test_loader):\n",
        "  x_batch, y_batch = batch[0].to(device), batch[1].to(device)\n",
        "  print(x_batch.shape, y_batch.shape)\n",
        "  break"
      ]
    },
    {
      "cell_type": "code",
      "execution_count": null,
      "metadata": {
        "colab": {
          "base_uri": "https://localhost:8080/"
        },
        "id": "m6G37dj1K0bm",
        "outputId": "1fa19413-118f-4a7b-e598-cf98d505160a"
      },
      "outputs": [
        {
          "data": {
            "text/plain": [
              "LSTM(\n",
              "  (lstm): LSTM(1, 64, num_layers=2, batch_first=True)\n",
              "  (fc): Linear(in_features=64, out_features=1, bias=True)\n",
              ")"
            ]
          },
          "execution_count": 21,
          "metadata": {},
          "output_type": "execute_result"
        }
      ],
      "source": [
        "class LSTM(nn.Module):\n",
        "  def __init__(self, input_size, hidden_size, num_stacked_layers):\n",
        "    super().__init__()\n",
        "\n",
        "    self.hidden_size = hidden_size\n",
        "    self.num_stacked_layers = num_stacked_layers\n",
        "\n",
        "    self.lstm = nn.LSTM(input_size, hidden_size, num_stacked_layers, batch_first=True)\n",
        "    self.fc = nn.Linear(hidden_size, 1)\n",
        "\n",
        "  def forward(self, x):\n",
        "    batch_size = x.size(0)\n",
        "    h0 = torch.zeros(self.num_stacked_layers, batch_size, self.hidden_size).to(device)\n",
        "    c0 = torch.zeros(self.num_stacked_layers, batch_size, self.hidden_size).to(device)\n",
        "\n",
        "    out, _ = self.lstm(x, (h0, c0))\n",
        "    out = self.fc(out[:, 1, :])\n",
        "    return out\n",
        "\n",
        "model = LSTM(1, 64, 2)\n",
        "model.to(device)\n",
        "model"
      ]
    },
    {
      "cell_type": "code",
      "execution_count": null,
      "metadata": {
        "id": "iChy2csAK-VE"
      },
      "outputs": [],
      "source": [
        "when_to_see_info = 10000\n",
        "\n",
        "def train_one_epoch():\n",
        "  model.train(True)\n",
        "  print(f\"Epoch: {epoch+1}\")\n",
        "  running_loss = 0.0\n",
        "\n",
        "  for batch_index, batch in tqdm(enumerate(train_loader)):\n",
        "    x_batch, y_batch = batch[0].to(device), batch[1].to(device)\n",
        "\n",
        "    output = model(x_batch)\n",
        "    loss = loss_function(output, y_batch)\n",
        "    running_loss += loss.item()\n",
        "\n",
        "    optimizer.zero_grad()\n",
        "    loss.backward()\n",
        "    optimizer.step()\n",
        "\n",
        "    if batch_index % when_to_see_info == when_to_see_info -1:\n",
        "      avg_loss_across_batches = running_loss/when_to_see_info\n",
        "      print(\"Batch {0}, Loss {1:.10f}\".format(\n",
        "          batch_index+1,\n",
        "          avg_loss_across_batches\n",
        "      ))\n",
        "      running_loss = 0.0"
      ]
    },
    {
      "cell_type": "code",
      "execution_count": null,
      "metadata": {
        "id": "eoKs-qEfLAqB"
      },
      "outputs": [],
      "source": [
        "def validate_one_epoch():\n",
        "  model.train(False)\n",
        "  running_loss = 0.0\n",
        "\n",
        "  for batch_index in enumerate(test_loader):\n",
        "    x_batch, y_batch = batch[0].to(device), batch[1].to(device)\n",
        "\n",
        "    with torch.no_grad():\n",
        "      output = model(x_batch)\n",
        "      loss = loss_function(output, y_batch)\n",
        "      running_loss += loss.item()\n",
        "\n",
        "    avg_loss_across_batches = running_loss / len(test_loader)\n",
        "\n",
        "  print(\"Val Loss: {0:.10f}\".format(avg_loss_across_batches))\n",
        "  print('***************************************************')"
      ]
    },
    {
      "cell_type": "code",
      "execution_count": null,
      "metadata": {
        "colab": {
          "background_save": true,
          "base_uri": "https://localhost:8080/"
        },
        "id": "3z3HwV6YLCwq",
        "outputId": "02f662d0-de4a-4757-b07c-07932a5c5b75"
      },
      "outputs": [
        {
          "name": "stdout",
          "output_type": "stream",
          "text": [
            "Epoch: 1\n"
          ]
        },
        {
          "name": "stderr",
          "output_type": "stream",
          "text": [
            "616it [03:27,  2.97it/s]\n"
          ]
        },
        {
          "name": "stdout",
          "output_type": "stream",
          "text": [
            "Val Loss: 0.2785170078\n",
            "***************************************************\n",
            "Saving current model\n",
            "Epoch: 2\n"
          ]
        },
        {
          "name": "stderr",
          "output_type": "stream",
          "text": [
            "616it [03:21,  3.06it/s]\n"
          ]
        },
        {
          "name": "stdout",
          "output_type": "stream",
          "text": [
            "Val Loss: 0.2756573558\n",
            "***************************************************\n",
            "Saving current model\n",
            "Epoch: 3\n"
          ]
        },
        {
          "name": "stderr",
          "output_type": "stream",
          "text": [
            "616it [03:15,  3.16it/s]\n"
          ]
        },
        {
          "name": "stdout",
          "output_type": "stream",
          "text": [
            "Val Loss: 0.2767279148\n",
            "***************************************************\n",
            "Saving current model\n",
            "Epoch: 4\n"
          ]
        },
        {
          "name": "stderr",
          "output_type": "stream",
          "text": [
            "616it [03:16,  3.13it/s]\n"
          ]
        },
        {
          "name": "stdout",
          "output_type": "stream",
          "text": [
            "Val Loss: 0.2750815451\n",
            "***************************************************\n",
            "Saving current model\n",
            "Epoch: 5\n"
          ]
        },
        {
          "name": "stderr",
          "output_type": "stream",
          "text": [
            "616it [03:22,  3.04it/s]\n"
          ]
        },
        {
          "name": "stdout",
          "output_type": "stream",
          "text": [
            "Val Loss: 0.2771261930\n",
            "***************************************************\n",
            "Saving current model\n",
            "Epoch: 6\n"
          ]
        },
        {
          "name": "stderr",
          "output_type": "stream",
          "text": [
            "616it [03:15,  3.15it/s]\n"
          ]
        },
        {
          "name": "stdout",
          "output_type": "stream",
          "text": [
            "Val Loss: 0.2758251429\n",
            "***************************************************\n",
            "Saving current model\n",
            "Epoch: 7\n"
          ]
        },
        {
          "name": "stderr",
          "output_type": "stream",
          "text": [
            "616it [03:22,  3.04it/s]\n"
          ]
        },
        {
          "name": "stdout",
          "output_type": "stream",
          "text": [
            "Val Loss: 0.2761723101\n",
            "***************************************************\n",
            "Saving current model\n",
            "Epoch: 8\n"
          ]
        },
        {
          "name": "stderr",
          "output_type": "stream",
          "text": [
            "616it [03:15,  3.16it/s]\n"
          ]
        },
        {
          "name": "stdout",
          "output_type": "stream",
          "text": [
            "Val Loss: 0.2763263285\n",
            "***************************************************\n",
            "Saving current model\n",
            "Epoch: 9\n"
          ]
        },
        {
          "name": "stderr",
          "output_type": "stream",
          "text": [
            "616it [03:16,  3.13it/s]\n"
          ]
        },
        {
          "name": "stdout",
          "output_type": "stream",
          "text": [
            "Val Loss: 0.2753096223\n",
            "***************************************************\n",
            "Saving current model\n",
            "Epoch: 10\n"
          ]
        },
        {
          "name": "stderr",
          "output_type": "stream",
          "text": [
            "616it [03:21,  3.06it/s]\n"
          ]
        },
        {
          "name": "stdout",
          "output_type": "stream",
          "text": [
            "Val Loss: 0.2762581706\n",
            "***************************************************\n",
            "Saving current model\n",
            "Epoch: 11\n"
          ]
        },
        {
          "name": "stderr",
          "output_type": "stream",
          "text": [
            "616it [03:17,  3.12it/s]\n"
          ]
        },
        {
          "name": "stdout",
          "output_type": "stream",
          "text": [
            "Val Loss: 0.2757743001\n",
            "***************************************************\n",
            "Saving current model\n",
            "Epoch: 12\n"
          ]
        },
        {
          "name": "stderr",
          "output_type": "stream",
          "text": [
            "616it [03:16,  3.13it/s]\n"
          ]
        },
        {
          "name": "stdout",
          "output_type": "stream",
          "text": [
            "Val Loss: 0.2773067653\n",
            "***************************************************\n",
            "Saving current model\n",
            "Epoch: 13\n"
          ]
        },
        {
          "name": "stderr",
          "output_type": "stream",
          "text": [
            "616it [03:17,  3.12it/s]\n"
          ]
        },
        {
          "name": "stdout",
          "output_type": "stream",
          "text": [
            "Val Loss: 0.2777191401\n",
            "***************************************************\n",
            "Saving current model\n",
            "Epoch: 14\n"
          ]
        },
        {
          "name": "stderr",
          "output_type": "stream",
          "text": [
            "616it [03:21,  3.06it/s]\n"
          ]
        },
        {
          "name": "stdout",
          "output_type": "stream",
          "text": [
            "Val Loss: 0.2774119675\n",
            "***************************************************\n",
            "Saving current model\n",
            "Epoch: 15\n"
          ]
        },
        {
          "name": "stderr",
          "output_type": "stream",
          "text": [
            "616it [03:18,  3.11it/s]\n"
          ]
        },
        {
          "name": "stdout",
          "output_type": "stream",
          "text": [
            "Val Loss: 0.2789694369\n",
            "***************************************************\n",
            "Saving current model\n",
            "Epoch: 16\n"
          ]
        },
        {
          "name": "stderr",
          "output_type": "stream",
          "text": [
            "616it [03:16,  3.13it/s]\n"
          ]
        },
        {
          "name": "stdout",
          "output_type": "stream",
          "text": [
            "Val Loss: 0.2784884572\n",
            "***************************************************\n",
            "Saving current model\n",
            "Epoch: 17\n"
          ]
        },
        {
          "name": "stderr",
          "output_type": "stream",
          "text": [
            "616it [03:15,  3.15it/s]\n"
          ]
        },
        {
          "name": "stdout",
          "output_type": "stream",
          "text": [
            "Val Loss: 0.2784480751\n",
            "***************************************************\n",
            "Saving current model\n",
            "Epoch: 18\n"
          ]
        },
        {
          "name": "stderr",
          "output_type": "stream",
          "text": [
            "616it [03:14,  3.16it/s]\n"
          ]
        },
        {
          "name": "stdout",
          "output_type": "stream",
          "text": [
            "Val Loss: 0.2785152495\n",
            "***************************************************\n",
            "Saving current model\n",
            "Epoch: 19\n"
          ]
        },
        {
          "name": "stderr",
          "output_type": "stream",
          "text": [
            "616it [03:16,  3.13it/s]\n"
          ]
        },
        {
          "name": "stdout",
          "output_type": "stream",
          "text": [
            "Val Loss: 0.2784664631\n",
            "***************************************************\n",
            "Saving current model\n",
            "Epoch: 20\n"
          ]
        },
        {
          "name": "stderr",
          "output_type": "stream",
          "text": [
            "616it [03:14,  3.16it/s]\n"
          ]
        },
        {
          "name": "stdout",
          "output_type": "stream",
          "text": [
            "Val Loss: 0.2775853574\n",
            "***************************************************\n",
            "Saving current model\n",
            "Epoch: 21\n"
          ]
        },
        {
          "name": "stderr",
          "output_type": "stream",
          "text": [
            "616it [03:15,  3.15it/s]\n"
          ]
        },
        {
          "name": "stdout",
          "output_type": "stream",
          "text": [
            "Val Loss: 0.2772821188\n",
            "***************************************************\n",
            "Saving current model\n",
            "Epoch: 22\n"
          ]
        },
        {
          "name": "stderr",
          "output_type": "stream",
          "text": [
            "616it [03:14,  3.16it/s]\n"
          ]
        },
        {
          "name": "stdout",
          "output_type": "stream",
          "text": [
            "Val Loss: 0.2770251334\n",
            "***************************************************\n",
            "Saving current model\n",
            "Epoch: 23\n"
          ]
        },
        {
          "name": "stderr",
          "output_type": "stream",
          "text": [
            "616it [03:16,  3.14it/s]\n"
          ]
        },
        {
          "name": "stdout",
          "output_type": "stream",
          "text": [
            "Val Loss: 0.2779211700\n",
            "***************************************************\n",
            "Saving current model\n",
            "Epoch: 24\n"
          ]
        },
        {
          "name": "stderr",
          "output_type": "stream",
          "text": [
            "616it [03:14,  3.16it/s]\n"
          ]
        },
        {
          "name": "stdout",
          "output_type": "stream",
          "text": [
            "Val Loss: 0.2732345760\n",
            "***************************************************\n",
            "Saving current model\n",
            "Epoch: 25\n"
          ]
        },
        {
          "name": "stderr",
          "output_type": "stream",
          "text": [
            "616it [03:15,  3.16it/s]\n"
          ]
        },
        {
          "name": "stdout",
          "output_type": "stream",
          "text": [
            "Val Loss: 0.2754839063\n",
            "***************************************************\n",
            "Saving current model\n",
            "Epoch: 26\n"
          ]
        },
        {
          "name": "stderr",
          "output_type": "stream",
          "text": [
            "616it [03:15,  3.16it/s]\n"
          ]
        },
        {
          "name": "stdout",
          "output_type": "stream",
          "text": [
            "Val Loss: 0.2752375901\n",
            "***************************************************\n",
            "Saving current model\n",
            "Epoch: 27\n"
          ]
        },
        {
          "name": "stderr",
          "output_type": "stream",
          "text": [
            "616it [03:12,  3.19it/s]\n"
          ]
        },
        {
          "name": "stdout",
          "output_type": "stream",
          "text": [
            "Val Loss: 0.2766058445\n",
            "***************************************************\n",
            "Saving current model\n",
            "Epoch: 28\n"
          ]
        },
        {
          "name": "stderr",
          "output_type": "stream",
          "text": [
            "616it [03:14,  3.17it/s]\n"
          ]
        },
        {
          "name": "stdout",
          "output_type": "stream",
          "text": [
            "Val Loss: 0.2744430602\n",
            "***************************************************\n",
            "Saving current model\n",
            "Epoch: 29\n"
          ]
        },
        {
          "name": "stderr",
          "output_type": "stream",
          "text": [
            "616it [03:14,  3.17it/s]\n"
          ]
        },
        {
          "name": "stdout",
          "output_type": "stream",
          "text": [
            "Val Loss: 0.2742562294\n",
            "***************************************************\n",
            "Saving current model\n",
            "Epoch: 30\n"
          ]
        },
        {
          "name": "stderr",
          "output_type": "stream",
          "text": [
            "616it [03:15,  3.15it/s]\n"
          ]
        },
        {
          "name": "stdout",
          "output_type": "stream",
          "text": [
            "Val Loss: 0.2747702301\n",
            "***************************************************\n",
            "Saving current model\n",
            "Epoch: 31\n"
          ]
        },
        {
          "name": "stderr",
          "output_type": "stream",
          "text": [
            "616it [03:15,  3.15it/s]\n"
          ]
        },
        {
          "name": "stdout",
          "output_type": "stream",
          "text": [
            "Val Loss: 0.2758353949\n",
            "***************************************************\n",
            "Saving current model\n",
            "Epoch: 32\n"
          ]
        },
        {
          "name": "stderr",
          "output_type": "stream",
          "text": [
            "616it [03:17,  3.12it/s]\n"
          ]
        },
        {
          "name": "stdout",
          "output_type": "stream",
          "text": [
            "Val Loss: 0.2758078277\n",
            "***************************************************\n",
            "Saving current model\n",
            "Epoch: 33\n"
          ]
        },
        {
          "name": "stderr",
          "output_type": "stream",
          "text": [
            "616it [03:12,  3.20it/s]\n"
          ]
        },
        {
          "name": "stdout",
          "output_type": "stream",
          "text": [
            "Val Loss: 0.2755824924\n",
            "***************************************************\n",
            "Saving current model\n",
            "Epoch: 34\n"
          ]
        },
        {
          "name": "stderr",
          "output_type": "stream",
          "text": [
            "616it [03:13,  3.18it/s]\n"
          ]
        },
        {
          "name": "stdout",
          "output_type": "stream",
          "text": [
            "Val Loss: 0.2747112811\n",
            "***************************************************\n",
            "Saving current model\n",
            "Epoch: 35\n"
          ]
        },
        {
          "name": "stderr",
          "output_type": "stream",
          "text": [
            "616it [03:19,  3.09it/s]\n"
          ]
        },
        {
          "name": "stdout",
          "output_type": "stream",
          "text": [
            "Val Loss: 0.2768069506\n",
            "***************************************************\n",
            "Saving current model\n",
            "Epoch: 36\n"
          ]
        },
        {
          "name": "stderr",
          "output_type": "stream",
          "text": [
            "616it [03:12,  3.21it/s]\n"
          ]
        },
        {
          "name": "stdout",
          "output_type": "stream",
          "text": [
            "Val Loss: 0.2748901546\n",
            "***************************************************\n",
            "Saving current model\n",
            "Epoch: 37\n"
          ]
        },
        {
          "name": "stderr",
          "output_type": "stream",
          "text": [
            "616it [03:11,  3.21it/s]\n"
          ]
        },
        {
          "name": "stdout",
          "output_type": "stream",
          "text": [
            "Val Loss: 0.2754445672\n",
            "***************************************************\n",
            "Saving current model\n",
            "Epoch: 38\n"
          ]
        },
        {
          "name": "stderr",
          "output_type": "stream",
          "text": [
            "616it [03:13,  3.18it/s]\n"
          ]
        },
        {
          "name": "stdout",
          "output_type": "stream",
          "text": [
            "Val Loss: 0.2761679888\n",
            "***************************************************\n",
            "Saving current model\n",
            "Epoch: 39\n"
          ]
        },
        {
          "name": "stderr",
          "output_type": "stream",
          "text": [
            "616it [03:12,  3.20it/s]\n"
          ]
        },
        {
          "name": "stdout",
          "output_type": "stream",
          "text": [
            "Val Loss: 0.2765015364\n",
            "***************************************************\n",
            "Saving current model\n",
            "Epoch: 40\n"
          ]
        },
        {
          "name": "stderr",
          "output_type": "stream",
          "text": [
            "616it [03:13,  3.19it/s]\n"
          ]
        },
        {
          "name": "stdout",
          "output_type": "stream",
          "text": [
            "Val Loss: 0.2760256231\n",
            "***************************************************\n",
            "Saving current model\n",
            "Epoch: 41\n"
          ]
        },
        {
          "name": "stderr",
          "output_type": "stream",
          "text": [
            "616it [03:12,  3.20it/s]\n"
          ]
        },
        {
          "name": "stdout",
          "output_type": "stream",
          "text": [
            "Val Loss: 0.2759411931\n",
            "***************************************************\n",
            "Saving current model\n",
            "Epoch: 42\n"
          ]
        },
        {
          "name": "stderr",
          "output_type": "stream",
          "text": [
            "616it [03:12,  3.21it/s]\n"
          ]
        },
        {
          "name": "stdout",
          "output_type": "stream",
          "text": [
            "Val Loss: 0.2770402133\n",
            "***************************************************\n",
            "Saving current model\n",
            "Epoch: 43\n"
          ]
        },
        {
          "name": "stderr",
          "output_type": "stream",
          "text": [
            "616it [03:13,  3.18it/s]\n"
          ]
        },
        {
          "name": "stdout",
          "output_type": "stream",
          "text": [
            "Val Loss: 0.2763392925\n",
            "***************************************************\n",
            "Saving current model\n",
            "Epoch: 44\n"
          ]
        },
        {
          "name": "stderr",
          "output_type": "stream",
          "text": [
            "616it [03:12,  3.21it/s]\n"
          ]
        },
        {
          "name": "stdout",
          "output_type": "stream",
          "text": [
            "Val Loss: 0.2756332755\n",
            "***************************************************\n",
            "Saving current model\n",
            "Epoch: 45\n"
          ]
        },
        {
          "name": "stderr",
          "output_type": "stream",
          "text": [
            "616it [03:13,  3.19it/s]\n"
          ]
        },
        {
          "name": "stdout",
          "output_type": "stream",
          "text": [
            "Val Loss: 0.2754206955\n",
            "***************************************************\n",
            "Saving current model\n",
            "Epoch: 46\n"
          ]
        },
        {
          "name": "stderr",
          "output_type": "stream",
          "text": [
            "420it [02:12,  3.43it/s]"
          ]
        }
      ],
      "source": [
        "learning_rate = 1e-3\n",
        "num_epochs = 350\n",
        "loss_function = nn.MSELoss()\n",
        "optimizer = torch.optim.Adam(model.parameters(), lr=learning_rate)\n",
        "\n",
        "for epoch in range(num_epochs):\n",
        "  train_one_epoch()\n",
        "  validate_one_epoch()\n",
        "\n",
        "  print(\"Saving current model\")\n",
        "  torch.save(model, \"drive/MyDrive/model_log_lstm_1.pth\")\n",
        "\n"
      ]
    },
    {
      "cell_type": "code",
      "execution_count": null,
      "metadata": {
        "colab": {
          "base_uri": "https://localhost:8080/",
          "height": 211
        },
        "id": "ccDDxg__RAJr",
        "outputId": "1024b65d-1f1a-4eb1-d947-f64b78913d4b"
      },
      "outputs": [
        {
          "output_type": "error",
          "ename": "NameError",
          "evalue": "name 'torch' is not defined",
          "traceback": [
            "\u001b[0;31m---------------------------------------------------------------------------\u001b[0m",
            "\u001b[0;31mNameError\u001b[0m                                 Traceback (most recent call last)",
            "\u001b[0;32m<ipython-input-1-2b5b885a12d0>\u001b[0m in \u001b[0;36m<cell line: 1>\u001b[0;34m()\u001b[0m\n\u001b[0;32m----> 1\u001b[0;31m \u001b[0;32mwith\u001b[0m \u001b[0mtorch\u001b[0m\u001b[0;34m.\u001b[0m\u001b[0mno_grad\u001b[0m\u001b[0;34m(\u001b[0m\u001b[0;34m)\u001b[0m\u001b[0;34m:\u001b[0m\u001b[0;34m\u001b[0m\u001b[0;34m\u001b[0m\u001b[0m\n\u001b[0m\u001b[1;32m      2\u001b[0m     \u001b[0mpredicted\u001b[0m \u001b[0;34m=\u001b[0m \u001b[0mmodel\u001b[0m\u001b[0;34m(\u001b[0m\u001b[0mX_train\u001b[0m\u001b[0;34m.\u001b[0m\u001b[0mto\u001b[0m\u001b[0;34m(\u001b[0m\u001b[0mdevice\u001b[0m\u001b[0;34m)\u001b[0m\u001b[0;34m)\u001b[0m\u001b[0;34m.\u001b[0m\u001b[0mto\u001b[0m\u001b[0;34m(\u001b[0m\u001b[0;34m'cpu'\u001b[0m\u001b[0;34m)\u001b[0m\u001b[0;34m.\u001b[0m\u001b[0mnumpy\u001b[0m\u001b[0;34m(\u001b[0m\u001b[0;34m)\u001b[0m\u001b[0;34m\u001b[0m\u001b[0;34m\u001b[0m\u001b[0m\n\u001b[1;32m      3\u001b[0m \u001b[0;34m\u001b[0m\u001b[0m\n\u001b[1;32m      4\u001b[0m \u001b[0mplt\u001b[0m\u001b[0;34m.\u001b[0m\u001b[0mplot\u001b[0m\u001b[0;34m(\u001b[0m\u001b[0my_train\u001b[0m\u001b[0;34m[\u001b[0m\u001b[0;34m:\u001b[0m\u001b[0;36m500\u001b[0m\u001b[0;34m]\u001b[0m\u001b[0;34m,\u001b[0m \u001b[0mlabel\u001b[0m\u001b[0;34m=\u001b[0m\u001b[0;34m'Real Log Template'\u001b[0m\u001b[0;34m)\u001b[0m\u001b[0;34m\u001b[0m\u001b[0;34m\u001b[0m\u001b[0m\n\u001b[1;32m      5\u001b[0m \u001b[0mplt\u001b[0m\u001b[0;34m.\u001b[0m\u001b[0mplot\u001b[0m\u001b[0;34m(\u001b[0m\u001b[0mpredicted\u001b[0m\u001b[0;34m[\u001b[0m\u001b[0;34m:\u001b[0m\u001b[0;36m500\u001b[0m\u001b[0;34m]\u001b[0m\u001b[0;34m,\u001b[0m \u001b[0mlabel\u001b[0m\u001b[0;34m=\u001b[0m\u001b[0;34m'Predicted Log Template'\u001b[0m\u001b[0;34m)\u001b[0m\u001b[0;34m\u001b[0m\u001b[0;34m\u001b[0m\u001b[0m\n",
            "\u001b[0;31mNameError\u001b[0m: name 'torch' is not defined"
          ]
        }
      ],
      "source": [
        "with torch.no_grad():\n",
        "    predicted = model(X_train.to(device)).to('cpu').numpy()\n",
        "\n",
        "plt.plot(y_train[:500], label='Real Log Template')\n",
        "plt.plot(predicted[:500], label='Predicted Log Template')\n",
        "plt.xlabel('Time')\n",
        "plt.ylabel('Log Template')\n",
        "plt.legend()\n",
        "plt.show()\n",
        "# this is done with LSTM(1, 4, 1)"
      ]
    },
    {
      "cell_type": "code",
      "execution_count": null,
      "metadata": {
        "id": "9W_GlJg0BTd_"
      },
      "outputs": [],
      "source": [
        "# create single value representation of the log: DONE\n",
        "# create timeseries windows: DONE (using sw=7)\n",
        "# Scaler: DONE\n",
        "# Split dataset: DONE\n",
        "# Torch.tensor: DONE\n",
        "# Dataset/Dataloader w/ batchsize: DONE\n",
        "# LSTM: DONE\n",
        "# Save the model"
      ]
    },
    {
      "cell_type": "code",
      "execution_count": null,
      "metadata": {
        "id": "DyQtC22xVxQj"
      },
      "outputs": [],
      "source": [
        "# NOTES:\n",
        "# - learning_rate too high\n",
        "# - data too lossy, need some more advanced templating tecnique\n",
        "# - need more epoch/other parameters\n",
        "\n",
        "# == From LogDeep ==\n",
        "# Model\n",
        "options['input_size'] = 1\n",
        "options['hidden_size'] = 64\n",
        "options['num_layers'] = 2\n",
        "options['num_classes'] = 28\n",
        "\n",
        "# Train\n",
        "options['batch_size'] = 2048\n",
        "options['accumulation_step'] = 1\n"
      ]
    },
    {
      "cell_type": "code",
      "execution_count": null,
      "metadata": {
        "id": "7yv3F1a6Wpkv"
      },
      "outputs": [],
      "source": [
        "# FROM LogDeep\n",
        "\n",
        "from torch.autograd import Variable\n",
        "\n",
        "\n",
        "class deeplog(nn.Module):\n",
        "    def __init__(self, input_size, hidden_size, num_layers, num_keys):\n",
        "        super(deeplog, self).__init__()\n",
        "        self.hidden_size = hidden_size\n",
        "        self.num_layers = num_layers\n",
        "        self.lstm = nn.LSTM(input_size,\n",
        "                            hidden_size,\n",
        "                            num_layers,\n",
        "                            batch_first=True)\n",
        "        self.fc = nn.Linear(hidden_size, num_keys)\n",
        "\n",
        "    def forward(self, features, device):\n",
        "        input0 = features[0]\n",
        "        h0 = torch.zeros(self.num_layers, input0.size(0),\n",
        "                         self.hidden_size).to(device)\n",
        "        c0 = torch.zeros(self.num_layers, input0.size(0),\n",
        "                         self.hidden_size).to(device)\n",
        "        out, _ = self.lstm(input0, (h0, c0))\n",
        "        out = self.fc(out[:, -1, :])\n",
        "        return out\n",
        "\n",
        "\n",
        "class loganomaly(nn.Module):\n",
        "    def __init__(self, input_size, hidden_size, num_layers, num_keys):\n",
        "        super(loganomaly, self).__init__()\n",
        "        self.hidden_size = hidden_size\n",
        "        self.num_layers = num_layers\n",
        "        self.lstm0 = nn.LSTM(input_size,\n",
        "                             hidden_size,\n",
        "                             num_layers,\n",
        "                             batch_first=True)\n",
        "        self.lstm1 = nn.LSTM(input_size,\n",
        "                             hidden_size,\n",
        "                             num_layers,\n",
        "                             batch_first=True)\n",
        "        self.fc = nn.Linear(2 * hidden_size, num_keys)\n",
        "        self.attention_size = self.hidden_size\n",
        "\n",
        "        self.w_omega = Variable(\n",
        "            torch.zeros(self.hidden_size, self.attention_size))\n",
        "        self.u_omega = Variable(torch.zeros(self.attention_size))\n",
        "\n",
        "        self.sequence_length = 28\n",
        "\n",
        "    def attention_net(self, lstm_output):\n",
        "        output_reshape = torch.Tensor.reshape(lstm_output,\n",
        "                                              [-1, self.hidden_size])\n",
        "        attn_tanh = torch.tanh(torch.mm(output_reshape, self.w_omega))\n",
        "        attn_hidden_layer = torch.mm(\n",
        "            attn_tanh, torch.Tensor.reshape(self.u_omega, [-1, 1]))\n",
        "        exps = torch.Tensor.reshape(torch.exp(attn_hidden_layer),\n",
        "                                    [-1, self.sequence_length])\n",
        "        alphas = exps / torch.Tensor.reshape(torch.sum(exps, 1), [-1, 1])\n",
        "        alphas_reshape = torch.Tensor.reshape(alphas,\n",
        "                                              [-1, self.sequence_length, 1])\n",
        "        state = lstm_output\n",
        "        attn_output = torch.sum(state * alphas_reshape, 1)\n",
        "        return attn_output\n",
        "\n",
        "    def forward(self, features, device):\n",
        "        input0, input1 = features[0], features[1]\n",
        "\n",
        "        h0_0 = torch.zeros(self.num_layers, input0.size(0),\n",
        "                           self.hidden_size).to(device)\n",
        "        c0_0 = torch.zeros(self.num_layers, input0.size(0),\n",
        "                           self.hidden_size).to(device)\n",
        "\n",
        "        out0, _ = self.lstm0(input0, (h0_0, c0_0))\n",
        "\n",
        "        h0_1 = torch.zeros(self.num_layers, input1.size(0),\n",
        "                           self.hidden_size).to(device)\n",
        "        c0_1 = torch.zeros(self.num_layers, input1.size(0),\n",
        "                           self.hidden_size).to(device)\n",
        "\n",
        "        out1, _ = self.lstm1(input1, (h0_1, c0_1))\n",
        "        multi_out = torch.cat((out0[:, -1, :], out1[:, -1, :]), -1)\n",
        "        out = self.fc(multi_out)\n",
        "        return out\n",
        "\n",
        "\n",
        "class robustlog(nn.Module):\n",
        "    def __init__(self, input_size, hidden_size, num_layers, num_keys):\n",
        "        super(robustlog, self).__init__()\n",
        "        self.hidden_size = hidden_size\n",
        "        self.num_layers = num_layers\n",
        "        self.lstm = nn.LSTM(input_size,\n",
        "                            hidden_size,\n",
        "                            num_layers,\n",
        "                            batch_first=True)\n",
        "        self.fc = nn.Linear(hidden_size, num_keys)\n",
        "\n",
        "    def forward(self, features, device):\n",
        "        input0 = features[0]\n",
        "        h0 = torch.zeros(self.num_layers, input0.size(0),\n",
        "                         self.hidden_size).to(device)\n",
        "        c0 = torch.zeros(self.num_layers, input0.size(0),\n",
        "                         self.hidden_size).to(device)\n",
        "        out, _ = self.lstm(input0, (h0, c0))\n",
        "        out = self.fc(out[:, -1, :])\n",
        "        return out\n"
      ]
    },
    {
      "cell_type": "code",
      "execution_count": null,
      "metadata": {
        "id": "ABuCMd6PBGYn"
      },
      "outputs": [],
      "source": [
        "# move data from SKLearn Scaler back to normal data\n",
        "test_predictions = model(X_test.to(device)).detach().cpu().numpy().flatten()\n",
        "\n",
        "dummies = np.zeros((X_test.shape[0], sliding_windows+1))\n",
        "dummies[:, 0] = test_predictions\n",
        "dummies = scaler.inverse_transform(dummies)\n",
        "\n",
        "test_predictions = dc(dummies[:, 0])\n",
        "test_predictions"
      ]
    }
  ],
  "metadata": {
    "colab": {
      "provenance": []
    },
    "kernelspec": {
      "display_name": "Python 3",
      "name": "python3"
    },
    "language_info": {
      "name": "python"
    }
  },
  "nbformat": 4,
  "nbformat_minor": 0
}