{
 "cells": [
  {
   "cell_type": "code",
   "execution_count": 5,
   "id": "976ab553-603a-44cb-b635-3b6481d42b99",
   "metadata": {},
   "outputs": [],
   "source": [
    "import torch\n",
    "import torch.nn as nn\n",
    "import torch.optim as optim\n",
    "import torch.nn.functional as F\n",
    "from torch.utils.data import Dataset, DataLoader, IterableDataset\n",
    "\n",
    "import numpy as np\n",
    "import pandas as pd \n",
    "\n",
    "from transformers import BertModel, BertTokenizer\n",
    "from IPython import embed\n",
    "\n",
    "from itertools import cycle\n",
    "from pprint import pprint as pp\n",
    "from tqdm import tqdm\n",
    "from copy import deepcopy as dc"
   ]
  },
  {
   "cell_type": "code",
   "execution_count": 6,
   "id": "3a6559f1-1580-4fc2-a66b-e16c9e5c379c",
   "metadata": {},
   "outputs": [],
   "source": [
    "class FineTuningDataset(Dataset):\n",
    "    def __init__(self, dataframe, tokenizer, max_len):\n",
    "        super(FineTuningDataset, self).__init__()\n",
    "        self.tokenizer = tokenizer\n",
    "        self.max_len = max_len\n",
    "        self.df = dc(dataframe)\n",
    "\n",
    "    def __len__(self):\n",
    "        return self.df.shape[0]\n",
    "\n",
    "    def __getitem__(self, idx):\n",
    "        text = self.df[\"text\"][idx]\n",
    "\n",
    "        inputs = self.tokenizer.encode_plus(\n",
    "            text,\n",
    "            None,\n",
    "            add_special_tokens=True,\n",
    "            max_length=self.max_len,\n",
    "            pad_to_max_length=True,\n",
    "            return_token_type_ids=True,\n",
    "            padding=\"max_length\",\n",
    "            truncation=True\n",
    "        )\n",
    "\n",
    "        ids = inputs[\"input_ids\"]\n",
    "        mask = inputs[\"attention_mask\"]\n",
    "        token_type_ids = inputs[\"token_type_ids\"]\n",
    "        targets = self.df[\"one_hot\"][idx].to_numpy()\n",
    "\n",
    "        return {\n",
    "            \"ids\" : torch.tensor(ids, dtype=torch.long),\n",
    "            \"mask\" : torch.tensor(mask, dtype=torch.long),\n",
    "            \"token_type_ids\": torch.tensor(token_type_ids, dtype=torch.long),\n",
    "            \"targets\": torch.tensor(targets, dtype=torch.long)\n",
    "        }\n",
    "class BERTClass(torch.nn.Module):\n",
    "    def __init__(self, n_labels):\n",
    "        super(BERTClass, self).__init__()\n",
    "        self.l1 = BertModel.from_pretrained('bert-base-uncased')\n",
    "        self.l2 = nn.Dropout(0.3) # Try this .1\n",
    "        # this is the layer that return the labels => must have the same number of labels the training set is emitting\n",
    "        self.l3 = nn.Linear(768, n_labels)\n",
    "    \n",
    "    def forward(self, ids, mask, token_type_ids):\n",
    "        _, output_1= self.l1(ids, attention_mask = mask, token_type_ids = token_type_ids, return_dict=False)\n",
    "        output_2 = self.l2(output_1)\n",
    "        output = self.l3(output_2)\n",
    "        return output\n",
    "class StreamingDataset(IterableDataset):\n",
    "    def __init__(self, file, tokenizer, max_len):\n",
    "        super(StreamingDataset).__init__()\n",
    "        self.file = file\n",
    "        self.tokenizer = tokenizer\n",
    "        self.max_len = max_len\n",
    "\n",
    "    def parse_file(self, filename):\n",
    "        with open(filename) as file:\n",
    "            for line in file:\n",
    "\n",
    "                inputs = self.tokenizer.encode_plus(\n",
    "                    line,\n",
    "                    None,\n",
    "                    add_special_tokens=True,\n",
    "                    max_length=self.max_len,\n",
    "                    pad_to_max_length=True,\n",
    "                    return_token_type_ids=True,\n",
    "                    padding=\"max_length\",\n",
    "                    truncation=True\n",
    "                )\n",
    "    \n",
    "                ids = inputs[\"input_ids\"]\n",
    "                mask = inputs[\"attention_mask\"]\n",
    "                token_type_ids = inputs[\"token_type_ids\"]\n",
    "                text = line\n",
    "                \n",
    "                yield {\n",
    "                    \"ids\": torch.tensor(ids),\n",
    "                    \"mask\": torch.tensor(mask),\n",
    "                    \"token_type_ids\": torch.tensor(token_type_ids),\n",
    "                    \"text\": text\n",
    "                }\n",
    "\n",
    "    def get_stream(self, filename):\n",
    "        return cycle(self.parse_file(filename))\n",
    "\n",
    "    def __iter__(self):\n",
    "        return self.get_stream(self.file)"
   ]
  },
  {
   "cell_type": "code",
   "execution_count": 7,
   "id": "0ec262e2-1abb-43ba-b4ba-ebbb4f6ab6aa",
   "metadata": {},
   "outputs": [],
   "source": [
    "MODEL_DIR = \"../../data/models/bert_15ep_5e5_280ml\"\n",
    "MODEL_NAME = \"../../data/models/bert_15ep_5e5_280ml/pytorch_model.bin\"\n",
    "EVAL_DS_FILENAME = \"../../data/raw/flaws_cloudtrail02.ndjson\"\n",
    "MAX_LEN = 200\n",
    "N_LABELS = 114\n",
    "THRESHOLD = 0.3\n",
    "BATCH_SIZE = 4"
   ]
  },
  {
   "cell_type": "code",
   "execution_count": 8,
   "id": "ae5c0a8b-6f3e-4239-ba77-cfc3c0eca675",
   "metadata": {},
   "outputs": [
    {
     "name": "stdout",
     "output_type": "stream",
     "text": [
      "Using device: cpu\n",
      "Loading tokenizer...\n",
      "Loading Model...\n",
      "Initilaizing evaluation...\n"
     ]
    }
   ],
   "source": [
    "device = torch.device(\"cuda\" if torch.cuda.is_available() else \"cpu\")\n",
    "print(f\"Using device: {device}\")\n",
    "\n",
    "print(\"Loading tokenizer...\")\n",
    "tokenizer = BertTokenizer.from_pretrained(MODEL_DIR) \n",
    "\n",
    "print(\"Loading Model...\")\n",
    "\n",
    "model = BERTClass(n_labels=N_LABELS)\n",
    "\n",
    "model.load_state_dict(\n",
    "    torch.load(\n",
    "            MODEL_NAME, \n",
    "            map_location=device,\n",
    "            weights_only=True\n",
    "    )\n",
    ")\n",
    "\n",
    "print(\"Initilaizing evaluation...\")\n",
    "\n",
    "iter_ds = StreamingDataset(EVAL_DS_FILENAME, tokenizer, MAX_LEN)\n",
    "iter_dl = DataLoader(iter_ds, batch_size=BATCH_SIZE)\n",
    "\n",
    "# targets = self.df[\"one_hot\"][idx].to_numpy()\n",
    "\n",
    "def transform_from_softmax(input):\n",
    "    out = F.sigmoid(input)\n",
    "    return out\n"
   ]
  },
  {
   "cell_type": "code",
   "execution_count": 9,
   "id": "da5ec983-7305-445a-9711-39d11f59cc3c",
   "metadata": {},
   "outputs": [
    {
     "name": "stderr",
     "output_type": "stream",
     "text": [
      "0it [00:02, ?it/s]\n"
     ]
    }
   ],
   "source": [
    "with torch.no_grad():\n",
    "    for batch in tqdm(iter_dl): # iterate over DataLoader\n",
    "        ids = batch[\"ids\"].to(device, dtype=torch.long)\n",
    "        mask = batch[\"mask\"].to(device, dtype=torch.long)\n",
    "        token_type_ids = batch[\"token_type_ids\"].to(device, dtype=torch.long)\n",
    "        output = model(ids, mask, token_type_ids)\n",
    "\n",
    "        break"
   ]
  },
  {
   "cell_type": "code",
   "execution_count": 10,
   "id": "f75eeea5-a8d0-4537-aee6-35bc1adc49fc",
   "metadata": {},
   "outputs": [
    {
     "data": {
      "text/plain": [
       "tensor([[ 1.9282, -6.4672, -6.8680, -8.6232, -6.0613, -4.4792, -6.2379, -6.5528,\n",
       "         -7.4586, -7.1469, -6.9628, -6.2170, -4.9390, -6.0181, -7.2706, -6.7134,\n",
       "         -6.1984, -6.3456, -8.4366, -6.4417, -7.2818, -7.2723, -7.3046, -7.1632,\n",
       "         -8.4377, -5.5037, -5.9017, -6.1056, -6.7001, -5.8099, -6.6751, -8.2323,\n",
       "         -5.7439, -6.8281, -6.8746, -7.2859, -5.7380, -6.2869, -6.9949, -6.8549,\n",
       "         -7.1486, -6.8452, -5.8921, -6.6256, -5.9749, -7.5000, -6.6819, -6.7590,\n",
       "         -5.6862, -6.9145, -7.8878, -7.7071, -6.7984, -5.5207, -6.5717, -7.0547,\n",
       "         -6.8779, -8.0944, -6.8295, -6.1880, -5.4165, -6.4724, -6.3870, -7.8384,\n",
       "         -6.3269, -6.9483, -6.4734, -7.4346, -6.9915, -7.6854, -7.4568, -7.8278,\n",
       "         -7.1908, -7.5288, -7.5647, -8.2323, -7.7529, -7.0195, -8.0960, -6.7863,\n",
       "         -7.0815, -7.3570, -7.3140, -7.3581, -6.6041, -6.0175, -7.0642, -4.6459,\n",
       "         -7.4738, -6.2956, -7.0686, -5.9869, -5.7371, -6.5829, -7.4137, -7.1414,\n",
       "         -5.8686, -6.7514, -7.4946, -6.1815, -6.7666, -6.8546, -6.5380, -6.8256,\n",
       "         -7.2942, -7.1619, -7.2831, -7.5358, -8.1445, -5.4038, -7.1830, -5.6133,\n",
       "         -7.6836, -7.8783],\n",
       "        [-1.9578, -5.3890, -6.5948, -7.0643, -6.0095, -4.9902, -5.7001, -5.6789,\n",
       "         -6.7148, -6.9855, -6.2659, -6.1083, -5.4831, -5.8325, -7.4620, -6.7387,\n",
       "         -5.2262, -6.2610, -7.1051, -6.4686, -7.0827, -6.1594, -6.3958, -6.9028,\n",
       "         -7.4802, -5.2317, -6.4809, -4.9645, -6.5596, -5.8185, -6.7808, -7.3600,\n",
       "         -5.5812, -5.8984, -6.6905, -6.4635, -5.5257, -6.8999, -6.9421, -6.3617,\n",
       "         -6.1279, -6.4468, -5.7385, -6.8199, -6.2435, -7.0383, -6.2288, -6.3104,\n",
       "         -6.0177, -6.5396, -7.4132, -7.3869, -6.4889, -4.9712, -5.9631, -7.1676,\n",
       "         -5.7663, -7.4600, -6.3594, -5.7542, -5.5600, -5.9703, -6.0221, -6.6277,\n",
       "         -7.0004, -6.9333, -5.4911, -7.4587, -7.5736, -6.7907, -6.9821, -6.8414,\n",
       "         -6.6853, -6.8419, -7.2158, -6.9003, -7.2508, -6.4379, -7.3422, -7.1650,\n",
       "         -7.9581, -7.8340, -6.0907, -6.6020, -6.4420, -5.7304, -6.5564, -4.6261,\n",
       "         -6.5515, -6.2739, -6.8218, -6.1545, -5.4456, -5.9236, -7.1019, -5.5827,\n",
       "         -5.7480, -6.1828, -6.8691, -5.1836, -6.2562, -5.4676, -5.6418, -7.2013,\n",
       "         -6.2055, -6.7445, -5.4196, -7.2197, -6.5302, -5.4523, -6.9500, -6.3670,\n",
       "         -7.7470, -7.2507],\n",
       "        [-0.3797, -7.0498, -7.6025, -7.8235, -6.2086, -5.8227, -6.5272, -6.9277,\n",
       "         -7.1605, -6.5154, -6.7653, -6.2750, -5.5469, -7.0320, -6.9212, -6.9639,\n",
       "         -6.2370, -6.7185, -7.6305, -6.4811, -7.8196, -6.9750, -7.7074, -7.5648,\n",
       "         -8.0227, -5.8818, -6.7376, -5.6574, -7.2210, -5.9404, -7.1233, -7.0739,\n",
       "         -6.1167, -6.6587, -7.2234, -6.4423, -6.1930, -6.5886, -6.5550, -6.7564,\n",
       "         -7.5924, -6.5240, -6.7631, -7.0114, -6.6821, -7.2906, -6.4620, -6.9321,\n",
       "         -6.7343, -7.2470, -7.4578, -7.3507, -6.7631, -4.7284, -6.6043, -7.3986,\n",
       "         -6.8054, -7.6605, -7.1175, -5.9226, -6.1810, -6.7202, -7.1894, -6.7732,\n",
       "         -6.6678, -6.8151, -6.9686, -8.0548, -6.7179, -7.9603, -7.5530, -7.2898,\n",
       "         -7.1314, -7.7390, -7.8675, -8.2762, -8.7494, -7.0721, -7.1706, -7.1861,\n",
       "         -8.0954, -7.8190, -6.4895, -6.7319, -7.1447, -6.7825, -6.5141, -5.0456,\n",
       "         -7.1400, -6.4473, -7.4031, -6.2274, -5.4403, -7.4182, -6.9353, -6.6894,\n",
       "         -6.7337, -7.0294, -8.1969, -6.6030, -6.6801, -5.6982, -6.0455, -7.2694,\n",
       "         -7.1231, -7.4931, -6.6521, -8.3356, -7.3564, -5.8883, -7.7998, -5.5236,\n",
       "         -7.3119, -6.7587],\n",
       "        [ 0.6265, -6.8684, -7.0684, -8.2339, -6.0503, -5.3312, -6.7374, -6.9352,\n",
       "         -7.1704, -7.1513, -6.4340, -6.1208, -4.8883, -7.2672, -7.2116, -6.9738,\n",
       "         -5.4534, -6.7789, -8.0795, -8.0646, -6.9752, -7.3003, -7.4393, -7.4107,\n",
       "         -8.2931, -5.9309, -6.3937, -5.8650, -7.4745, -5.6549, -7.6574, -7.3429,\n",
       "         -5.8194, -7.0211, -7.7080, -7.4533, -6.5148, -6.4750, -6.5439, -7.0037,\n",
       "         -6.8456, -7.2572, -5.9957, -6.8455, -6.5522, -7.2171, -6.7436, -7.5170,\n",
       "         -6.0390, -7.4042, -7.4030, -7.6056, -6.4624, -4.3401, -5.8600, -7.4050,\n",
       "         -6.8756, -7.7003, -6.6810, -5.9955, -5.9696, -7.3026, -6.7693, -7.6439,\n",
       "         -6.5148, -7.4159, -6.4075, -7.6062, -6.9032, -8.5543, -7.5118, -7.2590,\n",
       "         -6.9117, -7.5619, -7.4581, -8.2576, -8.1359, -7.9576, -7.2592, -7.1176,\n",
       "         -7.9297, -7.6225, -7.1404, -7.0796, -6.5262, -5.8602, -7.2482, -4.6465,\n",
       "         -7.5000, -6.7732, -7.0795, -6.6218, -5.9774, -6.6870, -8.1253, -6.6680,\n",
       "         -6.7513, -6.8228, -7.4833, -6.0942, -7.3086, -6.3000, -6.0895, -6.6535,\n",
       "         -7.0428, -7.4742, -7.1582, -7.9452, -7.7111, -6.2110, -7.3099, -6.0015,\n",
       "         -7.8178, -7.5408]])"
      ]
     },
     "execution_count": 10,
     "metadata": {},
     "output_type": "execute_result"
    }
   ],
   "source": [
    "output"
   ]
  },
  {
   "cell_type": "code",
   "execution_count": 24,
   "id": "4f015022-6809-4c63-b8aa-0a07bf6a70da",
   "metadata": {},
   "outputs": [],
   "source": [
    "f_sigmoid = F.sigmoid(output).numpy()\n",
    "f_softmax = F.softmax(output, dim=1).numpy()"
   ]
  },
  {
   "cell_type": "code",
   "execution_count": 20,
   "id": "7daf1bf7-c44d-4ed9-91a3-80e9284b2736",
   "metadata": {},
   "outputs": [],
   "source": [
    "import seaborn as sns\n",
    "import polars as pl"
   ]
  },
  {
   "cell_type": "code",
   "execution_count": 25,
   "id": "89e7ed46-281a-49d9-8ed9-f2d779ca7572",
   "metadata": {},
   "outputs": [],
   "source": [
    "df_sigmoid = pl.DataFrame(f_sigmoid[0]).with_row_index()\n",
    "df_softmax = pl.DataFrame(f_softmax[0]).with_row_index()"
   ]
  },
  {
   "cell_type": "code",
   "execution_count": 28,
   "id": "0a1c0d8c-f482-4b10-b04c-4ccbaf9c2e71",
   "metadata": {},
   "outputs": [
    {
     "data": {
      "text/html": [
       "<div><style>\n",
       ".dataframe > thead > tr,\n",
       ".dataframe > tbody > tr {\n",
       "  text-align: right;\n",
       "  white-space: pre-wrap;\n",
       "}\n",
       "</style>\n",
       "<small>shape: (114, 2)</small><table border=\"1\" class=\"dataframe\"><thead><tr><th>index</th><th>column_0</th></tr><tr><td>u32</td><td>f32</td></tr></thead><tbody><tr><td>0</td><td>0.873055</td></tr><tr><td>1</td><td>0.001551</td></tr><tr><td>2</td><td>0.001039</td></tr><tr><td>3</td><td>0.00018</td></tr><tr><td>4</td><td>0.002326</td></tr><tr><td>&hellip;</td><td>&hellip;</td></tr><tr><td>109</td><td>0.004479</td></tr><tr><td>110</td><td>0.000759</td></tr><tr><td>111</td><td>0.003636</td></tr><tr><td>112</td><td>0.00046</td></tr><tr><td>113</td><td>0.000379</td></tr></tbody></table></div>"
      ],
      "text/plain": [
       "shape: (114, 2)\n",
       "┌───────┬──────────┐\n",
       "│ index ┆ column_0 │\n",
       "│ ---   ┆ ---      │\n",
       "│ u32   ┆ f32      │\n",
       "╞═══════╪══════════╡\n",
       "│ 0     ┆ 0.873055 │\n",
       "│ 1     ┆ 0.001551 │\n",
       "│ 2     ┆ 0.001039 │\n",
       "│ 3     ┆ 0.00018  │\n",
       "│ 4     ┆ 0.002326 │\n",
       "│ …     ┆ …        │\n",
       "│ 109   ┆ 0.004479 │\n",
       "│ 110   ┆ 0.000759 │\n",
       "│ 111   ┆ 0.003636 │\n",
       "│ 112   ┆ 0.00046  │\n",
       "│ 113   ┆ 0.000379 │\n",
       "└───────┴──────────┘"
      ]
     },
     "execution_count": 28,
     "metadata": {},
     "output_type": "execute_result"
    }
   ],
   "source": [
    "df_sigmoid"
   ]
  },
  {
   "cell_type": "code",
   "execution_count": 29,
   "id": "5547dd36-10e0-4f37-8c82-b301a33394d3",
   "metadata": {},
   "outputs": [
    {
     "data": {
      "text/plain": [
       "<Axes: >"
      ]
     },
     "execution_count": 29,
     "metadata": {},
     "output_type": "execute_result"
    },
    {
     "data": {
      "image/png": "[encoded data removed]",
      "text/plain": [
       "<Figure size 640x480 with 1 Axes>"
      ]
     },
     "metadata": {},
     "output_type": "display_data"
    }
   ],
   "source": [
    "sns.scatterplot(df_sigmoid['column_0'])"
   ]
  },
  {
   "cell_type": "code",
   "execution_count": 30,
   "id": "8c6ace7d-aeb2-42f3-adcb-544224e9163e",
   "metadata": {},
   "outputs": [
    {
     "data": {
      "text/plain": [
       "<Axes: >"
      ]
     },
     "execution_count": 30,
     "metadata": {},
     "output_type": "execute_result"
    },
    {
     "data": {
      "image/png": "[encoded data removed]",
      "text/plain": [
       "<Figure size 640x480 with 1 Axes>"
      ]
     },
     "metadata": {},
     "output_type": "display_data"
    }
   ],
   "source": [
    "sns.scatterplot(df_softmax['column_0'])"
   ]
  },
  {
   "cell_type": "code",
   "execution_count": 34,
   "id": "972c6fcd-8805-4a29-adde-332c08a6f128",
   "metadata": {},
   "outputs": [
    {
     "data": {
      "text/plain": [
       "(0.9753716588020325, 0)"
      ]
     },
     "execution_count": 34,
     "metadata": {},
     "output_type": "execute_result"
    }
   ],
   "source": [
    "df_softmax['column_0'].to_numpy().max().item(), df_softmax['column_0'].to_numpy().argmax().item()"
   ]
  },
  {
   "cell_type": "code",
   "execution_count": 42,
   "id": "dcbbebc1-56be-4f50-ae72-9c8ffd81534a",
   "metadata": {},
   "outputs": [
    {
     "name": "stdout",
     "output_type": "stream",
     "text": [
      "(np.int64(0), np.float32(0.97537166))\n",
      "(np.int64(0), np.float32(0.3723974))\n",
      "(np.int64(0), np.float32(0.8228963))\n",
      "(np.int64(0), np.float32(0.9222709))\n"
     ]
    }
   ],
   "source": [
    "for i in f_softmax:\n",
    "    print((i.argmax(), i.max()))"
   ]
  },
  {
   "cell_type": "code",
   "execution_count": 51,
   "id": "fd48b616-56cc-428f-8030-3902a8226c10",
   "metadata": {},
   "outputs": [
    {
     "name": "stdout",
     "output_type": "stream",
     "text": [
      "(np.int64(0), np.float32(0.8730552))\n",
      "(np.int64(0), np.float32(0.12370581))\n",
      "(np.int64(0), np.float32(0.40618825))\n",
      "(np.int64(0), np.float32(0.65168846))\n"
     ]
    }
   ],
   "source": [
    "for i in f_sigmoid:\n",
    "    #filtered = np.where(i >= 0.5)\n",
    "    print( (i.argmax(), i.max()) )"
   ]
  },
  {
   "cell_type": "code",
   "execution_count": 55,
   "id": "3d25d2e8-e877-48de-ab24-5b4ac05416f8",
   "metadata": {},
   "outputs": [
    {
     "data": {
      "text/plain": [
       "np.float32(0.8730552)"
      ]
     },
     "execution_count": 55,
     "metadata": {},
     "output_type": "execute_result"
    }
   ],
   "source": [
    "F.sigmoid(output[0]).numpy().max()"
   ]
  },
  {
   "cell_type": "code",
   "execution_count": null,
   "id": "1512a217-6a10-43c9-a142-006d4344baec",
   "metadata": {},
   "outputs": [],
   "source": []
  }
 ],
 "metadata": {
  "kernelspec": {
   "display_name": "Python 3 (ipykernel)",
   "language": "python",
   "name": "python3"
  },
  "language_info": {
   "codemirror_mode": {
    "name": "ipython",
    "version": 3
   },
   "file_extension": ".py",
   "mimetype": "text/x-python",
   "name": "python",
   "nbconvert_exporter": "python",
   "pygments_lexer": "ipython3",
   "version": "3.12.6"
  }
 },
 "nbformat": 4,
 "nbformat_minor": 5
}
