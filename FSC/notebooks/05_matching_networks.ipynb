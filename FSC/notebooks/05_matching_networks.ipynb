{
 "cells": [
  {
   "cell_type": "code",
   "execution_count": 1,
   "metadata": {},
   "outputs": [
    {
     "name": "stderr",
     "output_type": "stream",
     "text": [
      "/home/giovannifoletto/Documents/programmazione/thesis-da/FSC/src/lib64/python3.12/site-packages/tqdm/auto.py:21: TqdmWarning: IProgress not found. Please update jupyter and ipywidgets. See https://ipywidgets.readthedocs.io/en/stable/user_install.html\n",
      "  from .autonotebook import tqdm as notebook_tqdm\n"
     ]
    }
   ],
   "source": [
    "import torch\n",
    "import torch.nn as nn\n",
    "import torch.nn.functional as F\n",
    "from torch.optim import AdamW \n",
    "from torch.utils.data import Dataset, DataLoader\n",
    "from transformers import BertModel, AutoTokenizer\n",
    "\n",
    "from sklearn.preprocessing import LabelEncoder\n",
    "\n",
    "import polars as pl\n",
    "import numpy as np\n",
    "\n",
    "import json\n",
    "from tqdm import tqdm\n",
    "import datetime, time\n",
    "import random\n",
    "from math import ceil\n",
    "import os\n",
    "from copy import deepcopy as dc\n",
    "from pprint import pp"
   ]
  },
  {
   "cell_type": "code",
   "execution_count": 2,
   "metadata": {},
   "outputs": [],
   "source": [
    "data = []\n",
    "with open('../../data/raw/2024-06-21-category-1-sorted-cplabels.json') as file:\n",
    "    lines = file.readlines()\n",
    "    for line in lines:\n",
    "        ob = json.loads(line)\n",
    "        text = dc(ob)\n",
    "        text.pop('label')\n",
    "        no = {\n",
    "            'text': json.dumps(text),\n",
    "            'label': ob['label']\n",
    "\t\t}\n",
    "        data.append(no)"
   ]
  },
  {
   "cell_type": "code",
   "execution_count": 3,
   "metadata": {},
   "outputs": [],
   "source": [
    "df = pl.DataFrame(data)"
   ]
  },
  {
   "cell_type": "code",
   "execution_count": 4,
   "metadata": {},
   "outputs": [],
   "source": [
    "df.write_parquet('../../data/prepared/matteo-label-sorted.parquet')"
   ]
  },
  {
   "cell_type": "code",
   "execution_count": 5,
   "metadata": {},
   "outputs": [
    {
     "data": {
      "text/html": [
       "<div><style>\n",
       ".dataframe > thead > tr,\n",
       ".dataframe > tbody > tr {\n",
       "  text-align: right;\n",
       "  white-space: pre-wrap;\n",
       "}\n",
       "</style>\n",
       "<small>shape: (5, 2)</small><table border=\"1\" class=\"dataframe\"><thead><tr><th>text</th><th>label</th></tr><tr><td>str</td><td>i64</td></tr></thead><tbody><tr><td>&quot;{&quot;kind&quot;: &quot;Event&quot;, &quot;apiVersion&quot;…</td><td>3694672</td></tr><tr><td>&quot;{&quot;kind&quot;: &quot;Event&quot;, &quot;apiVersion&quot;…</td><td>4176</td></tr><tr><td>&quot;{&quot;kind&quot;: &quot;Event&quot;, &quot;apiVersion&quot;…</td><td>61648</td></tr><tr><td>&quot;{&quot;kind&quot;: &quot;Event&quot;, &quot;apiVersion&quot;…</td><td>151632</td></tr><tr><td>&quot;{&quot;kind&quot;: &quot;Event&quot;, &quot;apiVersion&quot;…</td><td>3280976</td></tr></tbody></table></div>"
      ],
      "text/plain": [
       "shape: (5, 2)\n",
       "┌─────────────────────────────────┬─────────┐\n",
       "│ text                            ┆ label   │\n",
       "│ ---                             ┆ ---     │\n",
       "│ str                             ┆ i64     │\n",
       "╞═════════════════════════════════╪═════════╡\n",
       "│ {\"kind\": \"Event\", \"apiVersion\"… ┆ 3694672 │\n",
       "│ {\"kind\": \"Event\", \"apiVersion\"… ┆ 4176    │\n",
       "│ {\"kind\": \"Event\", \"apiVersion\"… ┆ 61648   │\n",
       "│ {\"kind\": \"Event\", \"apiVersion\"… ┆ 151632  │\n",
       "│ {\"kind\": \"Event\", \"apiVersion\"… ┆ 3280976 │\n",
       "└─────────────────────────────────┴─────────┘"
      ]
     },
     "execution_count": 5,
     "metadata": {},
     "output_type": "execute_result"
    }
   ],
   "source": [
    "df.head()"
   ]
  },
  {
   "cell_type": "code",
   "execution_count": 6,
   "metadata": {},
   "outputs": [
    {
     "data": {
      "text/html": [
       "<div><style>\n",
       ".dataframe > thead > tr,\n",
       ".dataframe > tbody > tr {\n",
       "  text-align: right;\n",
       "  white-space: pre-wrap;\n",
       "}\n",
       "</style>\n",
       "<small>shape: (114,)</small><table border=\"1\" class=\"dataframe\"><thead><tr><th>label</th></tr><tr><td>i64</td></tr></thead><tbody><tr><td>-2</td></tr><tr><td>4144</td></tr><tr><td>4176</td></tr><tr><td>4368</td></tr><tr><td>4400</td></tr><tr><td>&hellip;</td></tr><tr><td>3297360</td></tr><tr><td>3694672</td></tr><tr><td>3695024</td></tr><tr><td>3702832</td></tr><tr><td>3702864</td></tr></tbody></table></div>"
      ],
      "text/plain": [
       "shape: (114,)\n",
       "Series: 'label' [i64]\n",
       "[\n",
       "\t-2\n",
       "\t4144\n",
       "\t4176\n",
       "\t4368\n",
       "\t4400\n",
       "\t…\n",
       "\t3297360\n",
       "\t3694672\n",
       "\t3695024\n",
       "\t3702832\n",
       "\t3702864\n",
       "]"
      ]
     },
     "execution_count": 6,
     "metadata": {},
     "output_type": "execute_result"
    }
   ],
   "source": [
    "labels = df['label'].unique() # get only unique labels\n",
    "n_labels = labels.shape[0]\n",
    "labels"
   ]
  },
  {
   "cell_type": "code",
   "execution_count": 7,
   "metadata": {},
   "outputs": [
    {
     "name": "stdout",
     "output_type": "stream",
     "text": [
      "Mapping classses/labels...\n"
     ]
    }
   ],
   "source": [
    "# Create a LabelEncoder to map the original Label to a int64 scalar value\n",
    "le = LabelEncoder()\n",
    "le.fit(labels)\n",
    "classes = le.transform(le.classes_)\n",
    "# le_name_mapping = dict(zip(le.classes_, le.transform(le.classes_)))\n",
    "print('Mapping classses/labels...')\n",
    "le_labels_mapping = pl.DataFrame(\n",
    "        list(zip(le.classes_, classes))\n",
    "    ).transpose().rename({\n",
    "        'column_0': 'label',\n",
    "        'column_1': 'm_label'\n",
    "    })"
   ]
  },
  {
   "cell_type": "code",
   "execution_count": 8,
   "metadata": {},
   "outputs": [
    {
     "data": {
      "text/html": [
       "<div><style>\n",
       ".dataframe > thead > tr,\n",
       ".dataframe > tbody > tr {\n",
       "  text-align: right;\n",
       "  white-space: pre-wrap;\n",
       "}\n",
       "</style>\n",
       "<small>shape: (114, 2)</small><table border=\"1\" class=\"dataframe\"><thead><tr><th>label</th><th>m_label</th></tr><tr><td>i64</td><td>i64</td></tr></thead><tbody><tr><td>-2</td><td>0</td></tr><tr><td>4144</td><td>1</td></tr><tr><td>4176</td><td>2</td></tr><tr><td>4368</td><td>3</td></tr><tr><td>4400</td><td>4</td></tr><tr><td>&hellip;</td><td>&hellip;</td></tr><tr><td>3297360</td><td>109</td></tr><tr><td>3694672</td><td>110</td></tr><tr><td>3695024</td><td>111</td></tr><tr><td>3702832</td><td>112</td></tr><tr><td>3702864</td><td>113</td></tr></tbody></table></div>"
      ],
      "text/plain": [
       "shape: (114, 2)\n",
       "┌─────────┬─────────┐\n",
       "│ label   ┆ m_label │\n",
       "│ ---     ┆ ---     │\n",
       "│ i64     ┆ i64     │\n",
       "╞═════════╪═════════╡\n",
       "│ -2      ┆ 0       │\n",
       "│ 4144    ┆ 1       │\n",
       "│ 4176    ┆ 2       │\n",
       "│ 4368    ┆ 3       │\n",
       "│ 4400    ┆ 4       │\n",
       "│ …       ┆ …       │\n",
       "│ 3297360 ┆ 109     │\n",
       "│ 3694672 ┆ 110     │\n",
       "│ 3695024 ┆ 111     │\n",
       "│ 3702832 ┆ 112     │\n",
       "│ 3702864 ┆ 113     │\n",
       "└─────────┴─────────┘"
      ]
     },
     "execution_count": 8,
     "metadata": {},
     "output_type": "execute_result"
    }
   ],
   "source": [
    "le_labels_mapping"
   ]
  },
  {
   "cell_type": "code",
   "execution_count": 9,
   "metadata": {},
   "outputs": [
    {
     "name": "stdout",
     "output_type": "stream",
     "text": [
      "Creating one-hot encoding for each layer...\n"
     ]
    },
    {
     "data": {
      "text/html": [
       "<div><style>\n",
       ".dataframe > thead > tr,\n",
       ".dataframe > tbody > tr {\n",
       "  text-align: right;\n",
       "  white-space: pre-wrap;\n",
       "}\n",
       "</style>\n",
       "<small>shape: (114, 3)</small><table border=\"1\" class=\"dataframe\"><thead><tr><th>label</th><th>m_label</th><th>one_hot</th></tr><tr><td>i64</td><td>i64</td><td>array[i64, 114]</td></tr></thead><tbody><tr><td>-2</td><td>0</td><td>[1, 0, … 0]</td></tr><tr><td>4144</td><td>1</td><td>[0, 1, … 0]</td></tr><tr><td>4176</td><td>2</td><td>[0, 0, … 0]</td></tr><tr><td>4368</td><td>3</td><td>[0, 0, … 0]</td></tr><tr><td>4400</td><td>4</td><td>[0, 0, … 0]</td></tr><tr><td>&hellip;</td><td>&hellip;</td><td>&hellip;</td></tr><tr><td>3297360</td><td>109</td><td>[0, 0, … 0]</td></tr><tr><td>3694672</td><td>110</td><td>[0, 0, … 0]</td></tr><tr><td>3695024</td><td>111</td><td>[0, 0, … 0]</td></tr><tr><td>3702832</td><td>112</td><td>[0, 0, … 0]</td></tr><tr><td>3702864</td><td>113</td><td>[0, 0, … 1]</td></tr></tbody></table></div>"
      ],
      "text/plain": [
       "shape: (114, 3)\n",
       "┌─────────┬─────────┬─────────────────┐\n",
       "│ label   ┆ m_label ┆ one_hot         │\n",
       "│ ---     ┆ ---     ┆ ---             │\n",
       "│ i64     ┆ i64     ┆ array[i64, 114] │\n",
       "╞═════════╪═════════╪═════════════════╡\n",
       "│ -2      ┆ 0       ┆ [1, 0, … 0]     │\n",
       "│ 4144    ┆ 1       ┆ [0, 1, … 0]     │\n",
       "│ 4176    ┆ 2       ┆ [0, 0, … 0]     │\n",
       "│ 4368    ┆ 3       ┆ [0, 0, … 0]     │\n",
       "│ 4400    ┆ 4       ┆ [0, 0, … 0]     │\n",
       "│ …       ┆ …       ┆ …               │\n",
       "│ 3297360 ┆ 109     ┆ [0, 0, … 0]     │\n",
       "│ 3694672 ┆ 110     ┆ [0, 0, … 0]     │\n",
       "│ 3695024 ┆ 111     ┆ [0, 0, … 0]     │\n",
       "│ 3702832 ┆ 112     ┆ [0, 0, … 0]     │\n",
       "│ 3702864 ┆ 113     ┆ [0, 0, … 1]     │\n",
       "└─────────┴─────────┴─────────────────┘"
      ]
     },
     "execution_count": 9,
     "metadata": {},
     "output_type": "execute_result"
    }
   ],
   "source": [
    "print('Creating one-hot encoding for each layer...')\n",
    "labels_t = torch.tensor(classes, dtype=torch.long)\n",
    "labels_one_hot = F.one_hot(labels_t[None, :], num_classes=n_labels)\n",
    "labels_one_hot = labels_one_hot.squeeze()\n",
    "\n",
    "le_labels_mapping = le_labels_mapping.with_columns(\n",
    "    pl.Series(\n",
    "        labels_one_hot.squeeze().numpy()\n",
    "    ).alias('one_hot')\n",
    ")\n",
    "le_labels_mapping"
   ]
  },
  {
   "cell_type": "code",
   "execution_count": 10,
   "metadata": {},
   "outputs": [
    {
     "name": "stdout",
     "output_type": "stream",
     "text": [
      "Joining labels/labels_text...\n"
     ]
    }
   ],
   "source": [
    "print('Joining labels/labels_text...')\n",
    "df = df.join(le_labels_mapping, on='label').rename({\n",
    "    'label': 'label_name',\n",
    "    'm_label': 'label'\n",
    "})"
   ]
  },
  {
   "cell_type": "code",
   "execution_count": 11,
   "metadata": {},
   "outputs": [],
   "source": [
    "df.write_parquet('../../data/prepared/matteo-sorted-labels-complete-df.parquet')"
   ]
  },
  {
   "cell_type": "code",
   "execution_count": 12,
   "metadata": {},
   "outputs": [
    {
     "data": {
      "text/html": [
       "<div><style>\n",
       ".dataframe > thead > tr,\n",
       ".dataframe > tbody > tr {\n",
       "  text-align: right;\n",
       "  white-space: pre-wrap;\n",
       "}\n",
       "</style>\n",
       "<small>shape: (4_473, 4)</small><table border=\"1\" class=\"dataframe\"><thead><tr><th>text</th><th>label_name</th><th>label</th><th>one_hot</th></tr><tr><td>str</td><td>i64</td><td>i64</td><td>array[i64, 114]</td></tr></thead><tbody><tr><td>&quot;{&quot;kind&quot;: &quot;Event&quot;, &quot;apiVersion&quot;…</td><td>3694672</td><td>110</td><td>[0, 0, … 0]</td></tr><tr><td>&quot;{&quot;kind&quot;: &quot;Event&quot;, &quot;apiVersion&quot;…</td><td>4176</td><td>2</td><td>[0, 0, … 0]</td></tr><tr><td>&quot;{&quot;kind&quot;: &quot;Event&quot;, &quot;apiVersion&quot;…</td><td>61648</td><td>65</td><td>[0, 0, … 0]</td></tr><tr><td>&quot;{&quot;kind&quot;: &quot;Event&quot;, &quot;apiVersion&quot;…</td><td>151632</td><td>96</td><td>[0, 0, … 0]</td></tr><tr><td>&quot;{&quot;kind&quot;: &quot;Event&quot;, &quot;apiVersion&quot;…</td><td>3280976</td><td>105</td><td>[0, 0, … 0]</td></tr><tr><td>&hellip;</td><td>&hellip;</td><td>&hellip;</td><td>&hellip;</td></tr><tr><td>&quot;{&quot;kind&quot;: &quot;Event&quot;, &quot;apiVersion&quot;…</td><td>61616</td><td>64</td><td>[0, 0, … 0]</td></tr><tr><td>&quot;{&quot;kind&quot;: &quot;Event&quot;, &quot;apiVersion&quot;…</td><td>119216</td><td>86</td><td>[0, 0, … 0]</td></tr><tr><td>&quot;{&quot;kind&quot;: &quot;Event&quot;, &quot;apiVersion&quot;…</td><td>119232</td><td>87</td><td>[0, 0, … 0]</td></tr><tr><td>&quot;{&quot;kind&quot;: &quot;Event&quot;, &quot;apiVersion&quot;…</td><td>119216</td><td>86</td><td>[0, 0, … 0]</td></tr><tr><td>&quot;{&quot;kind&quot;: &quot;Event&quot;, &quot;apiVersion&quot;…</td><td>119232</td><td>87</td><td>[0, 0, … 0]</td></tr></tbody></table></div>"
      ],
      "text/plain": [
       "shape: (4_473, 4)\n",
       "┌─────────────────────────────────┬────────────┬───────┬─────────────────┐\n",
       "│ text                            ┆ label_name ┆ label ┆ one_hot         │\n",
       "│ ---                             ┆ ---        ┆ ---   ┆ ---             │\n",
       "│ str                             ┆ i64        ┆ i64   ┆ array[i64, 114] │\n",
       "╞═════════════════════════════════╪════════════╪═══════╪═════════════════╡\n",
       "│ {\"kind\": \"Event\", \"apiVersion\"… ┆ 3694672    ┆ 110   ┆ [0, 0, … 0]     │\n",
       "│ {\"kind\": \"Event\", \"apiVersion\"… ┆ 4176       ┆ 2     ┆ [0, 0, … 0]     │\n",
       "│ {\"kind\": \"Event\", \"apiVersion\"… ┆ 61648      ┆ 65    ┆ [0, 0, … 0]     │\n",
       "│ {\"kind\": \"Event\", \"apiVersion\"… ┆ 151632     ┆ 96    ┆ [0, 0, … 0]     │\n",
       "│ {\"kind\": \"Event\", \"apiVersion\"… ┆ 3280976    ┆ 105   ┆ [0, 0, … 0]     │\n",
       "│ …                               ┆ …          ┆ …     ┆ …               │\n",
       "│ {\"kind\": \"Event\", \"apiVersion\"… ┆ 61616      ┆ 64    ┆ [0, 0, … 0]     │\n",
       "│ {\"kind\": \"Event\", \"apiVersion\"… ┆ 119216     ┆ 86    ┆ [0, 0, … 0]     │\n",
       "│ {\"kind\": \"Event\", \"apiVersion\"… ┆ 119232     ┆ 87    ┆ [0, 0, … 0]     │\n",
       "│ {\"kind\": \"Event\", \"apiVersion\"… ┆ 119216     ┆ 86    ┆ [0, 0, … 0]     │\n",
       "│ {\"kind\": \"Event\", \"apiVersion\"… ┆ 119232     ┆ 87    ┆ [0, 0, … 0]     │\n",
       "└─────────────────────────────────┴────────────┴───────┴─────────────────┘"
      ]
     },
     "execution_count": 12,
     "metadata": {},
     "output_type": "execute_result"
    }
   ],
   "source": [
    "df"
   ]
  },
  {
   "cell_type": "code",
   "execution_count": 13,
   "metadata": {},
   "outputs": [],
   "source": [
    "\n",
    "class MNDataset(Dataset):\n",
    "    def __init__(self, tokenizer, dataframe, max_len):\n",
    "        self.df = dataframe\n",
    "        self.tokenizer = tokenizer\n",
    "        self.max_len = max_len\n",
    "\n",
    "    def __len__(self):\n",
    "        return self.df.shape[0]\n",
    "\n",
    "    def __getitem__(self, idx):\n",
    "        text = self.df[\"text\"][idx]\n",
    "        inputs = self.tokenizer.encode_plus(\n",
    "            text,\n",
    "            None,\n",
    "            add_special_tokens=True,\n",
    "            max_length=self.max_len,\n",
    "            pad_to_max_length=True,\n",
    "            return_token_type_ids=True,\n",
    "            padding=\"max_length\",\n",
    "            truncation=True\n",
    "        )\n",
    "        ids = inputs[\"input_ids\"]\n",
    "        mask = inputs[\"attention_mask\"]\n",
    "        token_type_ids = inputs[\"token_type_ids\"]\n",
    "        targets = self.df[\"one_hot\"][idx].to_numpy()\n",
    "        return {\n",
    "            \"ids\" : torch.tensor(ids, dtype=torch.long),\n",
    "            \"mask\" : torch.tensor(mask, dtype=torch.long),\n",
    "            \"token_type_ids\": torch.tensor(token_type_ids, dtype=torch.long),\n",
    "            \"targets\": torch.tensor(targets, dtype=torch.long)\n",
    "        }"
   ]
  },
  {
   "cell_type": "code",
   "execution_count": 14,
   "metadata": {},
   "outputs": [],
   "source": [
    "class MatchingNetwork(nn.Module):\n",
    "    def __init__(self, n_labels):\n",
    "        super(MatchingNetwork, self).__init__()\n",
    "        self.l1 = BertModel.from_pretrained('bert-base-uncased')\n",
    "        self.l2 = nn.Dropout(0.3)\n",
    "        self.l3 = nn.Linear(768, n_labels)\n",
    "        \n",
    "    def forward(self, ids, mask, token_type_ids):\n",
    "        _, output_1= self.l1(ids, attention_mask = mask, token_type_ids = token_type_ids, return_dict=False)\n",
    "        output_2 = self.l2(output_1)\n",
    "        output = self.l3(output_2)\n",
    "        return output\n"
   ]
  },
  {
   "cell_type": "code",
   "execution_count": 16,
   "metadata": {},
   "outputs": [],
   "source": [
    "tokenizer = AutoTokenizer.from_pretrained('bert-base-uncased')\n",
    "ds = MNDataset(tokenizer, df, 512)\n",
    "dl = DataLoader(ds, batch_size=16, num_workers=0, shuffle=True)"
   ]
  },
  {
   "cell_type": "code",
   "execution_count": 17,
   "metadata": {},
   "outputs": [
    {
     "name": "stdout",
     "output_type": "stream",
     "text": [
      "{'ids': tensor([[  101,  1063,  1000,  ...,     0,     0,     0],\n",
      "        [  101,  1063,  1000,  ...,  2891,  1012,   102],\n",
      "        [  101,  1063,  1000,  ...,  1010,  1000,   102],\n",
      "        ...,\n",
      "        [  101,  1063,  1000,  ...,  1000, 13045,   102],\n",
      "        [  101,  1063,  1000,  ..., 16798,  2549,   102],\n",
      "        [  101,  1063,  1000,  ...,  1011,  6134,   102]]), 'mask': tensor([[1, 1, 1,  ..., 0, 0, 0],\n",
      "        [1, 1, 1,  ..., 1, 1, 1],\n",
      "        [1, 1, 1,  ..., 1, 1, 1],\n",
      "        ...,\n",
      "        [1, 1, 1,  ..., 1, 1, 1],\n",
      "        [1, 1, 1,  ..., 1, 1, 1],\n",
      "        [1, 1, 1,  ..., 1, 1, 1]]), 'token_type_ids': tensor([[0, 0, 0,  ..., 0, 0, 0],\n",
      "        [0, 0, 0,  ..., 0, 0, 0],\n",
      "        [0, 0, 0,  ..., 0, 0, 0],\n",
      "        ...,\n",
      "        [0, 0, 0,  ..., 0, 0, 0],\n",
      "        [0, 0, 0,  ..., 0, 0, 0],\n",
      "        [0, 0, 0,  ..., 0, 0, 0]]), 'targets': tensor([[0, 0, 0,  ..., 0, 0, 0],\n",
      "        [0, 0, 0,  ..., 0, 0, 0],\n",
      "        [1, 0, 0,  ..., 0, 0, 0],\n",
      "        ...,\n",
      "        [0, 0, 0,  ..., 0, 0, 0],\n",
      "        [0, 0, 0,  ..., 0, 0, 0],\n",
      "        [0, 0, 0,  ..., 0, 0, 0]])}\n"
     ]
    }
   ],
   "source": [
    "for i in dl:\n",
    "    print(i)\n",
    "    break"
   ]
  },
  {
   "cell_type": "code",
   "execution_count": 19,
   "metadata": {},
   "outputs": [],
   "source": [
    "device = torch.device('cuda' if torch.cuda.is_available() else 'cpu')"
   ]
  },
  {
   "cell_type": "code",
   "execution_count": null,
   "metadata": {},
   "outputs": [],
   "source": [
    "bert = BertModel.from_pretrained('bert-base-uncased')\n",
    "\n",
    "for batch in dl:\n",
    "    ids = batch['ids'].to(device, dtype=torch.long)\n",
    "    mask = batch['mask'].to(device, dtype=torch.long)\n",
    "    token_type_ids = batch['token_type_ids'].to(device, dtype=torch.long)\n",
    "\n",
    "    output1, output2= bert(ids, attention_mask = mask, token_type_ids = token_type_ids, return_dict=False)\n",
    "    break\n"
   ]
  },
  {
   "cell_type": "code",
   "execution_count": null,
   "metadata": {},
   "outputs": [],
   "source": []
  }
 ],
 "metadata": {
  "kernelspec": {
   "display_name": "Python 3 (ipykernel)",
   "language": "python",
   "name": "python3"
  },
  "language_info": {
   "codemirror_mode": {
    "name": "ipython",
    "version": 3
   },
   "file_extension": ".py",
   "mimetype": "text/x-python",
   "name": "python",
   "nbconvert_exporter": "python",
   "pygments_lexer": "ipython3",
   "version": "3.12.6"
  }
 },
 "nbformat": 4,
 "nbformat_minor": 4
}
