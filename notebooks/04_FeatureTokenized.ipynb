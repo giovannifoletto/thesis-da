{
 "cells": [
  {
   "cell_type": "code",
   "execution_count": 5,
   "id": "1505b366-cb2b-46ef-aa05-5f0697395a9e",
   "metadata": {},
   "outputs": [
    {
     "ename": "ModuleNotFoundError",
     "evalue": "No module named 'polars'",
     "output_type": "error",
     "traceback": [
      "\u001b[0;31m---------------------------------------------------------------------------\u001b[0m",
      "\u001b[0;31mModuleNotFoundError\u001b[0m                       Traceback (most recent call last)",
      "Cell \u001b[0;32mIn[5], line 1\u001b[0m\n\u001b[0;32m----> 1\u001b[0m \u001b[38;5;28;01mimport\u001b[39;00m \u001b[38;5;21;01mpolars\u001b[39;00m \u001b[38;5;28;01mas\u001b[39;00m \u001b[38;5;21;01mpl\u001b[39;00m\n",
      "\u001b[0;31mModuleNotFoundError\u001b[0m: No module named 'polars'"
     ]
    }
   ],
   "source": [
    "import polars as pl"
   ]
  },
  {
   "cell_type": "code",
   "execution_count": 1,
   "id": "109e8f20-7b3c-48b6-ba55-edb707520d33",
   "metadata": {},
   "outputs": [
    {
     "name": "stderr",
     "output_type": "stream",
     "text": [
      "/tmp/ipykernel_32508/2035458946.py:1: DeprecationWarning: \n",
      "Pyarrow will become a required dependency of pandas in the next major release of pandas (pandas 3.0),\n",
      "(to allow more performant data types, such as the Arrow string type, and better interoperability with other libraries)\n",
      "but was not found to be installed on your system.\n",
      "If this would cause problems for you,\n",
      "please provide us feedback at https://github.com/pandas-dev/pandas/issues/54466\n",
      "        \n",
      "  import pandas as pd\n"
     ]
    }
   ],
   "source": [
    "import pandas as pd\n"
   ]
  },
  {
   "cell_type": "code",
   "execution_count": 2,
   "id": "89c3ee1e-05cb-40f6-928d-54e096370238",
   "metadata": {},
   "outputs": [],
   "source": [
    "import seaborn as sns\n"
   ]
  },
  {
   "cell_type": "code",
   "execution_count": 3,
   "id": "d0712ae3-a542-4ba8-9565-85b39d6e8c80",
   "metadata": {},
   "outputs": [],
   "source": [
    "import matplotlib.pyplot as plt\n"
   ]
  },
  {
   "cell_type": "code",
   "execution_count": 4,
   "id": "976d4a0f-f039-4cbc-b2d2-db953a724810",
   "metadata": {},
   "outputs": [],
   "source": [
    "import numpy as np"
   ]
  },
  {
   "cell_type": "code",
   "execution_count": 10,
   "id": "4fa3ceb4-ea49-44ed-87a9-e9437b96fb99",
   "metadata": {},
   "outputs": [
    {
     "data": {
      "text/html": [
       "<div><style>\n",
       ".dataframe > thead > tr > th,\n",
       ".dataframe > tbody > tr > td {\n",
       "  text-align: right;\n",
       "  white-space: pre-wrap;\n",
       "}\n",
       "</style>\n",
       "<small>shape: (2, 4)</small><table border=\"1\" class=\"dataframe\"><thead><tr><th>eventName-token</th><th>eventSource-token</th><th>eventType-token</th><th>userAgent-token</th></tr><tr><td>i64</td><td>i64</td><td>i64</td><td>i64</td></tr></thead><tbody><tr><td>344</td><td>48</td><td>1</td><td>5050</td></tr><tr><td>277</td><td>86</td><td>1</td><td>2580</td></tr></tbody></table></div>"
      ],
      "text/plain": [
       "shape: (2, 4)\n",
       "┌─────────────────┬───────────────────┬─────────────────┬─────────────────┐\n",
       "│ eventName-token ┆ eventSource-token ┆ eventType-token ┆ userAgent-token │\n",
       "│ ---             ┆ ---               ┆ ---             ┆ ---             │\n",
       "│ i64             ┆ i64               ┆ i64             ┆ i64             │\n",
       "╞═════════════════╪═══════════════════╪═════════════════╪═════════════════╡\n",
       "│ 344             ┆ 48                ┆ 1               ┆ 5050            │\n",
       "│ 277             ┆ 86                ┆ 1               ┆ 2580            │\n",
       "└─────────────────┴───────────────────┴─────────────────┴─────────────────┘"
      ]
     },
     "execution_count": 10,
     "metadata": {},
     "output_type": "execute_result"
    }
   ],
   "source": [
    "dlp = pl.read_csv(\"../data/prepared/dlp_to_plot.csv\")\n",
    "dlp.head(2)"
   ]
  },
  {
   "cell_type": "code",
   "execution_count": 11,
   "id": "ebbb57fc-436e-496d-9c47-d61290443528",
   "metadata": {},
   "outputs": [
    {
     "data": {
      "text/html": [
       "<div><style>\n",
       ".dataframe > thead > tr > th,\n",
       ".dataframe > tbody > tr > td {\n",
       "  text-align: right;\n",
       "  white-space: pre-wrap;\n",
       "}\n",
       "</style>\n",
       "<small>shape: (9, 5)</small><table border=\"1\" class=\"dataframe\"><thead><tr><th>describe</th><th>eventName-token</th><th>eventSource-token</th><th>eventType-token</th><th>userAgent-token</th></tr><tr><td>str</td><td>f64</td><td>f64</td><td>f64</td><td>f64</td></tr></thead><tbody><tr><td>&quot;count&quot;</td><td>100000.0</td><td>100000.0</td><td>100000.0</td><td>100000.0</td></tr><tr><td>&quot;null_count&quot;</td><td>0.0</td><td>0.0</td><td>0.0</td><td>0.0</td></tr><tr><td>&quot;mean&quot;</td><td>658.30469</td><td>67.90649</td><td>1.00058</td><td>3327.76646</td></tr><tr><td>&quot;std&quot;</td><td>279.868683</td><td>40.141871</td><td>0.024076</td><td>1935.690067</td></tr><tr><td>&quot;min&quot;</td><td>1.0</td><td>4.0</td><td>1.0</td><td>2.0</td></tr><tr><td>&quot;25%&quot;</td><td>405.0</td><td>23.0</td><td>1.0</td><td>1760.0</td></tr><tr><td>&quot;50%&quot;</td><td>708.0</td><td>86.0</td><td>1.0</td><td>2990.0</td></tr><tr><td>&quot;75%&quot;</td><td>882.0</td><td>98.0</td><td>1.0</td><td>4859.0</td></tr><tr><td>&quot;max&quot;</td><td>1223.0</td><td>163.0</td><td>2.0</td><td>7365.0</td></tr></tbody></table></div>"
      ],
      "text/plain": [
       "shape: (9, 5)\n",
       "┌────────────┬─────────────────┬───────────────────┬─────────────────┬─────────────────┐\n",
       "│ describe   ┆ eventName-token ┆ eventSource-token ┆ eventType-token ┆ userAgent-token │\n",
       "│ ---        ┆ ---             ┆ ---               ┆ ---             ┆ ---             │\n",
       "│ str        ┆ f64             ┆ f64               ┆ f64             ┆ f64             │\n",
       "╞════════════╪═════════════════╪═══════════════════╪═════════════════╪═════════════════╡\n",
       "│ count      ┆ 100000.0        ┆ 100000.0          ┆ 100000.0        ┆ 100000.0        │\n",
       "│ null_count ┆ 0.0             ┆ 0.0               ┆ 0.0             ┆ 0.0             │\n",
       "│ mean       ┆ 658.30469       ┆ 67.90649          ┆ 1.00058         ┆ 3327.76646      │\n",
       "│ std        ┆ 279.868683      ┆ 40.141871         ┆ 0.024076        ┆ 1935.690067     │\n",
       "│ min        ┆ 1.0             ┆ 4.0               ┆ 1.0             ┆ 2.0             │\n",
       "│ 25%        ┆ 405.0           ┆ 23.0              ┆ 1.0             ┆ 1760.0          │\n",
       "│ 50%        ┆ 708.0           ┆ 86.0              ┆ 1.0             ┆ 2990.0          │\n",
       "│ 75%        ┆ 882.0           ┆ 98.0              ┆ 1.0             ┆ 4859.0          │\n",
       "│ max        ┆ 1223.0          ┆ 163.0             ┆ 2.0             ┆ 7365.0          │\n",
       "└────────────┴─────────────────┴───────────────────┴─────────────────┴─────────────────┘"
      ]
     },
     "execution_count": 11,
     "metadata": {},
     "output_type": "execute_result"
    }
   ],
   "source": [
    "dlp.describe()"
   ]
  },
  {
   "cell_type": "code",
   "execution_count": 5,
   "id": "b3429218-d01a-4050-9eba-b4c074492ffc",
   "metadata": {},
   "outputs": [
    {
     "data": {
      "text/plain": [
       "((8740, 4), (100000, 4))"
      ]
     },
     "execution_count": 5,
     "metadata": {},
     "output_type": "execute_result"
    }
   ],
   "source": [
    "dlp.unique().shape, dlp.shape"
   ]
  },
  {
   "cell_type": "code",
   "execution_count": 8,
   "id": "593f8667-2438-4df9-b04c-ac6d9ba52774",
   "metadata": {},
   "outputs": [
    {
     "data": {
      "text/plain": [
       "array([[1017,   86,    1, 2580],\n",
       "       [ 344,   48,    1, 1580],\n",
       "       [ 850,   85,    1, 6970],\n",
       "       ...,\n",
       "       [ 874,   98,    1, 1074],\n",
       "       [ 470,    5,    1,  330],\n",
       "       [ 470,    5,    1, 4215]])"
      ]
     },
     "execution_count": 8,
     "metadata": {},
     "output_type": "execute_result"
    }
   ],
   "source": [
    "# Number of unique logs => that are the unique types of logs present in the dataset.\n",
    "dlp_unique = dlp.unique()\n",
    "x_train = dlp_unique.to_numpy()"
   ]
  },
  {
   "cell_type": "code",
   "execution_count": null,
   "id": "033f6524-6a88-4ed1-9b4d-c8c82d3baca3",
   "metadata": {},
   "outputs": [],
   "source": [
    "sns.relplot(data=dlp.to_pandas(), x=\"eventName-token\", y=\"tip\")"
   ]
  },
  {
   "cell_type": "code",
   "execution_count": 24,
   "id": "cb005d06-17d8-48c1-bbb4-98b31c1f0e35",
   "metadata": {},
   "outputs": [],
   "source": [
    "diff = np.zeros(dlp.shape[0])\n",
    "for i in range(dlp.shape[0]):\n",
    "    diff[i] = np.dot(dlp[0].to_numpy()[0], dlp[i].to_numpy()[0])"
   ]
  },
  {
   "cell_type": "code",
   "execution_count": 27,
   "id": "d03ad5a1-1022-4300-b6e5-ef74abf591e6",
   "metadata": {},
   "outputs": [
    {
     "data": {
      "text/plain": [
       "(130741.0, 58808)"
      ]
     },
     "execution_count": 27,
     "metadata": {},
     "output_type": "execute_result"
    }
   ],
   "source": [
    "diff.min(), diff.argmin()"
   ]
  },
  {
   "cell_type": "code",
   "execution_count": 28,
   "id": "c6b90ce2-d1b1-454f-a8ac-1953d6402caa",
   "metadata": {},
   "outputs": [
    {
     "data": {
      "text/plain": [
       "(shape: (1, 4)\n",
       " ┌─────────────────┬───────────────────┬─────────────────┬─────────────────┐\n",
       " │ eventName-token ┆ eventSource-token ┆ eventType-token ┆ userAgent-token │\n",
       " │ ---             ┆ ---               ┆ ---             ┆ ---             │\n",
       " │ i64             ┆ i64               ┆ i64             ┆ i64             │\n",
       " ╞═════════════════╪═══════════════════╪═════════════════╪═════════════════╡\n",
       " │ 344             ┆ 48                ┆ 1               ┆ 5050            │\n",
       " └─────────────────┴───────────────────┴─────────────────┴─────────────────┘,\n",
       " shape: (1, 4)\n",
       " ┌─────────────────┬───────────────────┬─────────────────┬─────────────────┐\n",
       " │ eventName-token ┆ eventSource-token ┆ eventType-token ┆ userAgent-token │\n",
       " │ ---             ┆ ---               ┆ ---             ┆ ---             │\n",
       " │ i64             ┆ i64               ┆ i64             ┆ i64             │\n",
       " ╞═════════════════╪═══════════════════╪═════════════════╪═════════════════╡\n",
       " │ 344             ┆ 48                ┆ 1               ┆ 2               │\n",
       " └─────────────────┴───────────────────┴─────────────────┴─────────────────┘)"
      ]
     },
     "execution_count": 28,
     "metadata": {},
     "output_type": "execute_result"
    }
   ],
   "source": [
    "dlp[0], dlp[58808]"
   ]
  },
  {
   "cell_type": "code",
   "execution_count": 35,
   "id": "a1b6a976-ffea-439b-9cc0-88b446498f02",
   "metadata": {},
   "outputs": [
    {
     "data": {
      "image/png": "[encoded data removed]",
      "text/plain": [
       "<Figure size 640x480 with 1 Axes>"
      ]
     },
     "metadata": {},
     "output_type": "display_data"
    }
   ],
   "source": [
    "plt.plot(diff[:1000])\n",
    "plt.axhline(y=np.mean(diff[:1000]))\n",
    "plt.show()"
   ]
  },
  {
   "cell_type": "code",
   "execution_count": 38,
   "id": "b25cb3dc-7b22-405f-8b4f-680995a28a85",
   "metadata": {},
   "outputs": [],
   "source": [
    "d_flaws1 = pl.read_csv(\"../data/prepared/dlp_to_plot_flaws02.csv\")"
   ]
  },
  {
   "cell_type": "code",
   "execution_count": 39,
   "id": "23dc0f62-88bf-4980-83a7-1bc0bd520236",
   "metadata": {},
   "outputs": [
    {
     "data": {
      "text/plain": [
       "25623141"
      ]
     },
     "execution_count": 39,
     "metadata": {},
     "output_type": "execute_result"
    }
   ],
   "source": [
    "np.dot(dlp[0].to_numpy()[0], d_flaws1[0].to_numpy()[0])"
   ]
  },
  {
   "cell_type": "code",
   "execution_count": 40,
   "id": "cd77f727-be17-467a-9446-285b3db1adc8",
   "metadata": {},
   "outputs": [
    {
     "data": {
      "text/plain": [
       "0"
      ]
     },
     "execution_count": 40,
     "metadata": {},
     "output_type": "execute_result"
    }
   ],
   "source": [
    "# find nearest value from dlp and d_flaws1\n",
    "value = np.dot(dlp[0].to_numpy()[0], d_flaws1[0].to_numpy()[0])\n",
    "(np.abs(diff - value)).argmin()"
   ]
  },
  {
   "cell_type": "code",
   "execution_count": 52,
   "id": "5a9c628f-00bf-4c43-b2f3-d7123e598505",
   "metadata": {},
   "outputs": [
    {
     "data": {
      "text/plain": [
       "(shape: (1, 4)\n",
       " ┌─────────────────┬───────────────────┬─────────────────┬─────────────────┐\n",
       " │ eventName-token ┆ eventSource-token ┆ eventType-token ┆ userAgent-token │\n",
       " │ ---             ┆ ---               ┆ ---             ┆ ---             │\n",
       " │ i64             ┆ i64               ┆ i64             ┆ i64             │\n",
       " ╞═════════════════╪═══════════════════╪═════════════════╪═════════════════╡\n",
       " │ 344             ┆ 48                ┆ 1               ┆ 5050            │\n",
       " └─────────────────┴───────────────────┴─────────────────┴─────────────────┘,\n",
       " shape: (1, 4)\n",
       " ┌─────────────────┬───────────────────┬─────────────────┬─────────────────┐\n",
       " │ eventName-token ┆ eventSource-token ┆ eventType-token ┆ userAgent-token │\n",
       " │ ---             ┆ ---               ┆ ---             ┆ ---             │\n",
       " │ i64             ┆ i64               ┆ i64             ┆ i64             │\n",
       " ╞═════════════════╪═══════════════════╪═════════════════╪═════════════════╡\n",
       " │ 344             ┆ 48                ┆ 1               ┆ 5050            │\n",
       " └─────────────────┴───────────────────┴─────────────────┴─────────────────┘)"
      ]
     },
     "execution_count": 52,
     "metadata": {},
     "output_type": "execute_result"
    }
   ],
   "source": [
    "#  Test if the results are compatible\n",
    "d_flaws1[0], dlp[0]"
   ]
  },
  {
   "cell_type": "markdown",
   "id": "75ddf1ed-b230-45fd-9e25-4ae8a70027b7",
   "metadata": {},
   "source": [
    "# Make the Seed an array of ones"
   ]
  },
  {
   "cell_type": "code",
   "execution_count": 45,
   "id": "aed23704-a4db-4614-b7a8-a2930eccffc4",
   "metadata": {},
   "outputs": [],
   "source": [
    "diff_zeros = np.zeros(dlp.shape[0])\n",
    "seed = np.ones(dlp.shape[1])\n",
    "for i in range(dlp.shape[0]):\n",
    "    diff_zeros[i] = np.dot(seed, dlp[i].to_numpy()[0])"
   ]
  },
  {
   "cell_type": "code",
   "execution_count": 46,
   "id": "19a1d9bb-8e8c-4f7e-ad5a-07d2d9a39d57",
   "metadata": {},
   "outputs": [
    {
     "data": {
      "text/plain": [
       "array([5443., 2944., 3106., ..., 5364., 2900., 3397.])"
      ]
     },
     "execution_count": 46,
     "metadata": {},
     "output_type": "execute_result"
    }
   ],
   "source": [
    "diff_zeros"
   ]
  },
  {
   "cell_type": "code",
   "execution_count": 50,
   "id": "5fac67a9-32bc-4c57-a51c-4a664add2e46",
   "metadata": {},
   "outputs": [
    {
     "data": {
      "text/plain": [
       "3"
      ]
     },
     "execution_count": 50,
     "metadata": {},
     "output_type": "execute_result"
    }
   ],
   "source": [
    "value = np.dot(seed, d_flaws1[3].to_numpy()[0])\n",
    "(np.abs(diff_zeros - value)).argmin()"
   ]
  },
  {
   "cell_type": "code",
   "execution_count": 51,
   "id": "8b674673-3e02-4a51-9790-e4edba985e28",
   "metadata": {},
   "outputs": [
    {
     "data": {
      "text/plain": [
       "(shape: (1, 4)\n",
       " ┌─────────────────┬───────────────────┬─────────────────┬─────────────────┐\n",
       " │ eventName-token ┆ eventSource-token ┆ eventType-token ┆ userAgent-token │\n",
       " │ ---             ┆ ---               ┆ ---             ┆ ---             │\n",
       " │ i64             ┆ i64               ┆ i64             ┆ i64             │\n",
       " ╞═════════════════╪═══════════════════╪═════════════════╪═════════════════╡\n",
       " │ 1017            ┆ 86                ┆ 1               ┆ 2580            │\n",
       " └─────────────────┴───────────────────┴─────────────────┴─────────────────┘,\n",
       " shape: (1, 4)\n",
       " ┌─────────────────┬───────────────────┬─────────────────┬─────────────────┐\n",
       " │ eventName-token ┆ eventSource-token ┆ eventType-token ┆ userAgent-token │\n",
       " │ ---             ┆ ---               ┆ ---             ┆ ---             │\n",
       " │ i64             ┆ i64               ┆ i64             ┆ i64             │\n",
       " ╞═════════════════╪═══════════════════╪═════════════════╪═════════════════╡\n",
       " │ 1017            ┆ 86                ┆ 1               ┆ 2580            │\n",
       " └─────────────────┴───────────────────┴─────────────────┴─────────────────┘)"
      ]
     },
     "execution_count": 51,
     "metadata": {},
     "output_type": "execute_result"
    }
   ],
   "source": [
    "d_flaws1[3], dlp[3]"
   ]
  },
  {
   "cell_type": "code",
   "execution_count": 53,
   "id": "43c88830-28da-40e8-856d-a3e2458d88f1",
   "metadata": {},
   "outputs": [],
   "source": [
    "dlp_new_seed = pl.DataFrame(diff_zeros).unique()"
   ]
  },
  {
   "cell_type": "code",
   "execution_count": 54,
   "id": "00ba1bb2-6c69-40af-b8d3-d65c06308a09",
   "metadata": {},
   "outputs": [
    {
     "data": {
      "text/html": [
       "<div><style>\n",
       ".dataframe > thead > tr > th,\n",
       ".dataframe > tbody > tr > td {\n",
       "  text-align: right;\n",
       "  white-space: pre-wrap;\n",
       "}\n",
       "</style>\n",
       "<small>shape: (5_293, 1)</small><table border=\"1\" class=\"dataframe\"><thead><tr><th>column_0</th></tr><tr><td>f64</td></tr></thead><tbody><tr><td>5999.0</td></tr><tr><td>7201.0</td></tr><tr><td>6815.0</td></tr><tr><td>1164.0</td></tr><tr><td>745.0</td></tr><tr><td>1753.0</td></tr><tr><td>5212.0</td></tr><tr><td>6024.0</td></tr><tr><td>2931.0</td></tr><tr><td>2188.0</td></tr><tr><td>1615.0</td></tr><tr><td>7158.0</td></tr><tr><td>&hellip;</td></tr><tr><td>5766.0</td></tr><tr><td>5176.0</td></tr><tr><td>3556.0</td></tr><tr><td>6104.0</td></tr><tr><td>7721.0</td></tr><tr><td>2977.0</td></tr><tr><td>4653.0</td></tr><tr><td>7126.0</td></tr><tr><td>6507.0</td></tr><tr><td>7734.0</td></tr><tr><td>3868.0</td></tr><tr><td>3917.0</td></tr></tbody></table></div>"
      ],
      "text/plain": [
       "shape: (5_293, 1)\n",
       "┌──────────┐\n",
       "│ column_0 │\n",
       "│ ---      │\n",
       "│ f64      │\n",
       "╞══════════╡\n",
       "│ 5999.0   │\n",
       "│ 7201.0   │\n",
       "│ 6815.0   │\n",
       "│ 1164.0   │\n",
       "│ …        │\n",
       "│ 6507.0   │\n",
       "│ 7734.0   │\n",
       "│ 3868.0   │\n",
       "│ 3917.0   │\n",
       "└──────────┘"
      ]
     },
     "execution_count": 54,
     "metadata": {},
     "output_type": "execute_result"
    }
   ],
   "source": [
    "dlp_new_seed"
   ]
  }
 ],
 "metadata": {
  "kernelspec": {
   "display_name": "Python 3 (ipykernel)",
   "language": "python",
   "name": "python3"
  },
  "language_info": {
   "codemirror_mode": {
    "name": "ipython",
    "version": 3
   },
   "file_extension": ".py",
   "mimetype": "text/x-python",
   "name": "python",
   "nbconvert_exporter": "python",
   "pygments_lexer": "ipython3",
   "version": "3.10.12"
  }
 },
 "nbformat": 4,
 "nbformat_minor": 5
}
