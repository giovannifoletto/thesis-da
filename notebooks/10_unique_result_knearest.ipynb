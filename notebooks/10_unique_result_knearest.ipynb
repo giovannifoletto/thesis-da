{
 "cells": [
  {
   "cell_type": "code",
   "execution_count": 11,
   "metadata": {},
   "outputs": [],
   "source": [
    "import polars as pl\n",
    "import numpy as np"
   ]
  },
  {
   "cell_type": "code",
   "execution_count": 3,
   "metadata": {},
   "outputs": [],
   "source": [
    "dlp = pl.read_csv(\"../data/prepared/tokenized_data.csv\")"
   ]
  },
  {
   "cell_type": "code",
   "execution_count": 5,
   "metadata": {},
   "outputs": [
    {
     "data": {
      "text/plain": [
       "(1939206, 7)"
      ]
     },
     "execution_count": 5,
     "metadata": {},
     "output_type": "execute_result"
    }
   ],
   "source": [
    "dlp.shape"
   ]
  },
  {
   "cell_type": "code",
   "execution_count": 6,
   "metadata": {},
   "outputs": [],
   "source": [
    "dlp_unique = dlp.unique()"
   ]
  },
  {
   "cell_type": "code",
   "execution_count": 7,
   "metadata": {},
   "outputs": [
    {
     "data": {
      "text/html": [
       "<div><style>\n",
       ".dataframe > thead > tr,\n",
       ".dataframe > tbody > tr {\n",
       "  text-align: right;\n",
       "  white-space: pre-wrap;\n",
       "}\n",
       "</style>\n",
       "<small>shape: (121_491, 7)</small><table border=\"1\" class=\"dataframe\"><thead><tr><th>userAgent-token</th><th>eventType-token</th><th>eventName-token</th><th>eventSource-token</th><th>recipientAccountId-token</th><th>awsRegion-token</th><th>eventVersion-token</th></tr><tr><td>i64</td><td>i64</td><td>i64</td><td>i64</td><td>i64</td><td>i64</td><td>i64</td></tr></thead><tbody><tr><td>3827</td><td>2</td><td>594</td><td>100</td><td>0</td><td>5</td><td>2</td></tr><tr><td>3827</td><td>2</td><td>298</td><td>100</td><td>0</td><td>15</td><td>2</td></tr><tr><td>3827</td><td>2</td><td>1236</td><td>100</td><td>0</td><td>15</td><td>2</td></tr><tr><td>1792</td><td>2</td><td>821</td><td>129</td><td>0</td><td>15</td><td>2</td></tr><tr><td>4009</td><td>2</td><td>828</td><td>100</td><td>0</td><td>2</td><td>2</td></tr><tr><td>4009</td><td>2</td><td>1236</td><td>100</td><td>0</td><td>2</td><td>2</td></tr><tr><td>4009</td><td>2</td><td>594</td><td>100</td><td>0</td><td>2</td><td>2</td></tr><tr><td>4806</td><td>2</td><td>996</td><td>126</td><td>0</td><td>15</td><td>2</td></tr><tr><td>1082</td><td>2</td><td>1039</td><td>105</td><td>0</td><td>15</td><td>3</td></tr><tr><td>3711</td><td>2</td><td>68</td><td>100</td><td>0</td><td>15</td><td>2</td></tr><tr><td>3711</td><td>2</td><td>19</td><td>100</td><td>0</td><td>15</td><td>2</td></tr><tr><td>3711</td><td>2</td><td>258</td><td>100</td><td>0</td><td>15</td><td>2</td></tr><tr><td>&hellip;</td><td>&hellip;</td><td>&hellip;</td><td>&hellip;</td><td>&hellip;</td><td>&hellip;</td><td>&hellip;</td></tr><tr><td>647</td><td>2</td><td>628</td><td>46</td><td>0</td><td>15</td><td>2</td></tr><tr><td>647</td><td>2</td><td>507</td><td>38</td><td>0</td><td>3</td><td>2</td></tr><tr><td>647</td><td>2</td><td>507</td><td>38</td><td>0</td><td>5</td><td>2</td></tr><tr><td>3614</td><td>2</td><td>258</td><td>100</td><td>0</td><td>3</td><td>2</td></tr><tr><td>3614</td><td>2</td><td>859</td><td>100</td><td>0</td><td>4</td><td>2</td></tr><tr><td>3614</td><td>2</td><td>859</td><td>100</td><td>0</td><td>15</td><td>2</td></tr><tr><td>1173</td><td>2</td><td>535</td><td>126</td><td>0</td><td>15</td><td>2</td></tr><tr><td>3614</td><td>2</td><td>821</td><td>129</td><td>0</td><td>7</td><td>2</td></tr><tr><td>1054</td><td>2</td><td>1159</td><td>100</td><td>0</td><td>6</td><td>2</td></tr><tr><td>1054</td><td>2</td><td>1159</td><td>100</td><td>0</td><td>2</td><td>2</td></tr><tr><td>1054</td><td>2</td><td>1159</td><td>100</td><td>0</td><td>4</td><td>2</td></tr><tr><td>2464</td><td>2</td><td>821</td><td>129</td><td>0</td><td>15</td><td>2</td></tr></tbody></table></div>"
      ],
      "text/plain": [
       "shape: (121_491, 7)\n",
       "┌──────────────┬─────────────┬─────────────┬─────────────┬─────────────┬─────────────┬─────────────┐\n",
       "│ userAgent-to ┆ eventType-t ┆ eventName-t ┆ eventSource ┆ recipientAc ┆ awsRegion-t ┆ eventVersio │\n",
       "│ ken          ┆ oken        ┆ oken        ┆ -token      ┆ countId-tok ┆ oken        ┆ n-token     │\n",
       "│ ---          ┆ ---         ┆ ---         ┆ ---         ┆ en          ┆ ---         ┆ ---         │\n",
       "│ i64          ┆ i64         ┆ i64         ┆ i64         ┆ ---         ┆ i64         ┆ i64         │\n",
       "│              ┆             ┆             ┆             ┆ i64         ┆             ┆             │\n",
       "╞══════════════╪═════════════╪═════════════╪═════════════╪═════════════╪═════════════╪═════════════╡\n",
       "│ 3827         ┆ 2           ┆ 594         ┆ 100         ┆ 0           ┆ 5           ┆ 2           │\n",
       "│ 3827         ┆ 2           ┆ 298         ┆ 100         ┆ 0           ┆ 15          ┆ 2           │\n",
       "│ 3827         ┆ 2           ┆ 1236        ┆ 100         ┆ 0           ┆ 15          ┆ 2           │\n",
       "│ 1792         ┆ 2           ┆ 821         ┆ 129         ┆ 0           ┆ 15          ┆ 2           │\n",
       "│ 4009         ┆ 2           ┆ 828         ┆ 100         ┆ 0           ┆ 2           ┆ 2           │\n",
       "│ …            ┆ …           ┆ …           ┆ …           ┆ …           ┆ …           ┆ …           │\n",
       "│ 3614         ┆ 2           ┆ 821         ┆ 129         ┆ 0           ┆ 7           ┆ 2           │\n",
       "│ 1054         ┆ 2           ┆ 1159        ┆ 100         ┆ 0           ┆ 6           ┆ 2           │\n",
       "│ 1054         ┆ 2           ┆ 1159        ┆ 100         ┆ 0           ┆ 2           ┆ 2           │\n",
       "│ 1054         ┆ 2           ┆ 1159        ┆ 100         ┆ 0           ┆ 4           ┆ 2           │\n",
       "│ 2464         ┆ 2           ┆ 821         ┆ 129         ┆ 0           ┆ 15          ┆ 2           │\n",
       "└──────────────┴─────────────┴─────────────┴─────────────┴─────────────┴─────────────┴─────────────┘"
      ]
     },
     "execution_count": 7,
     "metadata": {},
     "output_type": "execute_result"
    }
   ],
   "source": [
    "dlp_unique"
   ]
  },
  {
   "cell_type": "code",
   "execution_count": 13,
   "metadata": {},
   "outputs": [],
   "source": [
    "seed = [1, 1, 1, 1, 1, 1, 1]"
   ]
  },
  {
   "cell_type": "code",
   "execution_count": 14,
   "metadata": {},
   "outputs": [],
   "source": [
    "x_train = []\n",
    "for i in dlp_unique.to_numpy():\n",
    "    x_train.append(np.dot(seed, i))"
   ]
  },
  {
   "cell_type": "code",
   "execution_count": 17,
   "metadata": {},
   "outputs": [],
   "source": [
    "dlp_x_train = pl.DataFrame(x_train)"
   ]
  },
  {
   "cell_type": "code",
   "execution_count": 22,
   "metadata": {},
   "outputs": [],
   "source": [
    "after = dlp_x_train.unique().shape[0]\n",
    "before = len(x_train)"
   ]
  },
  {
   "cell_type": "code",
   "execution_count": 24,
   "metadata": {},
   "outputs": [
    {
     "data": {
      "text/plain": [
       "8.146282440674618"
      ]
     },
     "execution_count": 24,
     "metadata": {},
     "output_type": "execute_result"
    }
   ],
   "source": [
    "after/before * 100"
   ]
  },
  {
   "cell_type": "code",
   "execution_count": 31,
   "metadata": {},
   "outputs": [
    {
     "data": {
      "text/plain": [
       "(7,)"
      ]
     },
     "execution_count": 31,
     "metadata": {},
     "output_type": "execute_result"
    }
   ],
   "source": [
    "np.ones(7).shape"
   ]
  },
  {
   "cell_type": "code",
   "execution_count": 33,
   "metadata": {},
   "outputs": [
    {
     "data": {
      "text/plain": [
       "array([0.82002654, 0.64440411, 0.21352671, 0.45098675, 0.62188915,\n",
       "       0.59227592, 0.24527827])"
      ]
     },
     "execution_count": 33,
     "metadata": {},
     "output_type": "execute_result"
    }
   ],
   "source": [
    "np.random.rand(np.ones(7).shape[0])"
   ]
  },
  {
   "cell_type": "code",
   "execution_count": 34,
   "metadata": {},
   "outputs": [],
   "source": [
    "ns = [0.09848446, 0.52740314, 0.83209034, 0.00339979, 0.87988932, 0.30239244, 0.02079325]"
   ]
  },
  {
   "cell_type": "code",
   "execution_count": 39,
   "metadata": {},
   "outputs": [
    {
     "data": {
      "text/html": [
       "<div><style>\n",
       ".dataframe > thead > tr,\n",
       ".dataframe > tbody > tr {\n",
       "  text-align: right;\n",
       "  white-space: pre-wrap;\n",
       "}\n",
       "</style>\n",
       "<small>shape: (1_939_206, 7)</small><table border=\"1\" class=\"dataframe\"><thead><tr><th>userAgent-token</th><th>eventType-token</th><th>eventName-token</th><th>eventSource-token</th><th>recipientAccountId-token</th><th>awsRegion-token</th><th>eventVersion-token</th></tr><tr><td>i64</td><td>i64</td><td>i64</td><td>i64</td><td>i64</td><td>i64</td><td>i64</td></tr></thead><tbody><tr><td>3827</td><td>2</td><td>594</td><td>100</td><td>0</td><td>13</td><td>2</td></tr><tr><td>3827</td><td>2</td><td>594</td><td>100</td><td>0</td><td>3</td><td>2</td></tr><tr><td>3827</td><td>2</td><td>594</td><td>100</td><td>0</td><td>3</td><td>2</td></tr><tr><td>3827</td><td>2</td><td>594</td><td>100</td><td>0</td><td>8</td><td>2</td></tr><tr><td>3827</td><td>2</td><td>594</td><td>100</td><td>0</td><td>8</td><td>2</td></tr><tr><td>3827</td><td>2</td><td>594</td><td>100</td><td>0</td><td>14</td><td>2</td></tr><tr><td>3827</td><td>2</td><td>594</td><td>100</td><td>0</td><td>13</td><td>2</td></tr><tr><td>3827</td><td>2</td><td>594</td><td>100</td><td>0</td><td>13</td><td>2</td></tr><tr><td>3827</td><td>2</td><td>594</td><td>100</td><td>0</td><td>13</td><td>2</td></tr><tr><td>3827</td><td>2</td><td>594</td><td>100</td><td>0</td><td>3</td><td>2</td></tr><tr><td>3827</td><td>2</td><td>594</td><td>100</td><td>0</td><td>3</td><td>2</td></tr><tr><td>3827</td><td>2</td><td>594</td><td>100</td><td>0</td><td>8</td><td>2</td></tr><tr><td>&hellip;</td><td>&hellip;</td><td>&hellip;</td><td>&hellip;</td><td>&hellip;</td><td>&hellip;</td><td>&hellip;</td></tr><tr><td>3827</td><td>2</td><td>594</td><td>100</td><td>0</td><td>8</td><td>2</td></tr><tr><td>3827</td><td>2</td><td>594</td><td>100</td><td>0</td><td>8</td><td>2</td></tr><tr><td>3827</td><td>2</td><td>594</td><td>100</td><td>0</td><td>5</td><td>2</td></tr><tr><td>3827</td><td>2</td><td>594</td><td>100</td><td>0</td><td>14</td><td>2</td></tr><tr><td>3827</td><td>2</td><td>594</td><td>100</td><td>0</td><td>13</td><td>2</td></tr><tr><td>3827</td><td>2</td><td>594</td><td>100</td><td>0</td><td>3</td><td>2</td></tr><tr><td>3827</td><td>2</td><td>594</td><td>100</td><td>0</td><td>3</td><td>2</td></tr><tr><td>3827</td><td>2</td><td>594</td><td>100</td><td>0</td><td>8</td><td>2</td></tr><tr><td>3827</td><td>2</td><td>594</td><td>100</td><td>0</td><td>8</td><td>2</td></tr><tr><td>3827</td><td>2</td><td>594</td><td>100</td><td>0</td><td>14</td><td>2</td></tr><tr><td>3827</td><td>2</td><td>594</td><td>100</td><td>0</td><td>13</td><td>2</td></tr><tr><td>3827</td><td>2</td><td>594</td><td>100</td><td>0</td><td>13</td><td>2</td></tr></tbody></table></div>"
      ],
      "text/plain": [
       "shape: (1_939_206, 7)\n",
       "┌──────────────┬─────────────┬─────────────┬─────────────┬─────────────┬─────────────┬─────────────┐\n",
       "│ userAgent-to ┆ eventType-t ┆ eventName-t ┆ eventSource ┆ recipientAc ┆ awsRegion-t ┆ eventVersio │\n",
       "│ ken          ┆ oken        ┆ oken        ┆ -token      ┆ countId-tok ┆ oken        ┆ n-token     │\n",
       "│ ---          ┆ ---         ┆ ---         ┆ ---         ┆ en          ┆ ---         ┆ ---         │\n",
       "│ i64          ┆ i64         ┆ i64         ┆ i64         ┆ ---         ┆ i64         ┆ i64         │\n",
       "│              ┆             ┆             ┆             ┆ i64         ┆             ┆             │\n",
       "╞══════════════╪═════════════╪═════════════╪═════════════╪═════════════╪═════════════╪═════════════╡\n",
       "│ 3827         ┆ 2           ┆ 594         ┆ 100         ┆ 0           ┆ 13          ┆ 2           │\n",
       "│ 3827         ┆ 2           ┆ 594         ┆ 100         ┆ 0           ┆ 3           ┆ 2           │\n",
       "│ 3827         ┆ 2           ┆ 594         ┆ 100         ┆ 0           ┆ 3           ┆ 2           │\n",
       "│ 3827         ┆ 2           ┆ 594         ┆ 100         ┆ 0           ┆ 8           ┆ 2           │\n",
       "│ 3827         ┆ 2           ┆ 594         ┆ 100         ┆ 0           ┆ 8           ┆ 2           │\n",
       "│ …            ┆ …           ┆ …           ┆ …           ┆ …           ┆ …           ┆ …           │\n",
       "│ 3827         ┆ 2           ┆ 594         ┆ 100         ┆ 0           ┆ 8           ┆ 2           │\n",
       "│ 3827         ┆ 2           ┆ 594         ┆ 100         ┆ 0           ┆ 8           ┆ 2           │\n",
       "│ 3827         ┆ 2           ┆ 594         ┆ 100         ┆ 0           ┆ 14          ┆ 2           │\n",
       "│ 3827         ┆ 2           ┆ 594         ┆ 100         ┆ 0           ┆ 13          ┆ 2           │\n",
       "│ 3827         ┆ 2           ┆ 594         ┆ 100         ┆ 0           ┆ 13          ┆ 2           │\n",
       "└──────────────┴─────────────┴─────────────┴─────────────┴─────────────┴─────────────┴─────────────┘"
      ]
     },
     "execution_count": 39,
     "metadata": {},
     "output_type": "execute_result"
    }
   ],
   "source": [
    "dlp"
   ]
  },
  {
   "cell_type": "code",
   "execution_count": 44,
   "metadata": {},
   "outputs": [],
   "source": [
    "x_train_cv = []\n",
    "for i in dlp_unique.to_numpy():\n",
    "    x_train_cv.append(np.dot(ns, i))"
   ]
  },
  {
   "cell_type": "code",
   "execution_count": 47,
   "metadata": {},
   "outputs": [
    {
     "data": {
      "text/html": [
       "<div><style>\n",
       ".dataframe > thead > tr,\n",
       ".dataframe > tbody > tr {\n",
       "  text-align: right;\n",
       "  white-space: pre-wrap;\n",
       "}\n",
       "</style>\n",
       "<small>shape: (121_491, 1)</small><table border=\"1\" class=\"dataframe\"><thead><tr><th>column_0</th></tr><tr><td>f64</td></tr></thead><tbody><tr><td>1591.506452</td></tr><tr><td>1214.884371</td></tr><tr><td>1241.308619</td></tr><tr><td>1537.300009</td></tr><tr><td>1517.763746</td></tr><tr><td>876.010446</td></tr><tr><td>826.115827</td></tr><tr><td>1122.920879</td></tr><tr><td>1063.4342</td></tr><tr><td>241.681144</td></tr><tr><td>939.409803</td></tr><tr><td>1462.081631</td></tr><tr><td>&hellip;</td></tr><tr><td>1183.571288</td></tr><tr><td>1252.488214</td></tr><tr><td>1039.671435</td></tr><tr><td>799.535274</td></tr><tr><td>589.066035</td></tr><tr><td>1005.500735</td></tr><tr><td>779.40175</td></tr><tr><td>1477.729186</td></tr><tr><td>958.400781</td></tr><tr><td>1457.852045</td></tr><tr><td>681.116741</td></tr><tr><td>1155.600055</td></tr></tbody></table></div>"
      ],
      "text/plain": [
       "shape: (121_491, 1)\n",
       "┌─────────────┐\n",
       "│ column_0    │\n",
       "│ ---         │\n",
       "│ f64         │\n",
       "╞═════════════╡\n",
       "│ 1591.506452 │\n",
       "│ 1214.884371 │\n",
       "│ 1241.308619 │\n",
       "│ 1537.300009 │\n",
       "│ 1517.763746 │\n",
       "│ …           │\n",
       "│ 1477.729186 │\n",
       "│ 958.400781  │\n",
       "│ 1457.852045 │\n",
       "│ 681.116741  │\n",
       "│ 1155.600055 │\n",
       "└─────────────┘"
      ]
     },
     "execution_count": 47,
     "metadata": {},
     "output_type": "execute_result"
    }
   ],
   "source": [
    "dlp_find_unique = pl.DataFrame(x_train_cv)\n",
    "dlp_find_unique.unique()"
   ]
  }
 ],
 "metadata": {
  "kernelspec": {
   "display_name": "thesis-da",
   "language": "python",
   "name": "python3"
  },
  "language_info": {
   "codemirror_mode": {
    "name": "ipython",
    "version": 3
   },
   "file_extension": ".py",
   "mimetype": "text/x-python",
   "name": "python",
   "nbconvert_exporter": "python",
   "pygments_lexer": "ipython3",
   "version": "3.10.12"
  }
 },
 "nbformat": 4,
 "nbformat_minor": 2
}
