{
 "cells": [
  {
   "cell_type": "code",
   "execution_count": 2,
   "id": "5590fd1f-67db-49eb-baea-259e72caaf2d",
   "metadata": {},
   "outputs": [
    {
     "name": "stderr",
     "output_type": "stream",
     "text": [
      "/home/ubuntu/thesis-da/lib/python3.10/site-packages/polars/_cpu_check.py:239: RuntimeWarning: Missing required CPU features.\n",
      "\n",
      "The following required CPU features were not detected:\n",
      "    ssse3, sse4.1, sse4.2, popcnt\n",
      "Continuing to use this version of Polars on this processor will likely result in a crash.\n",
      "Install the `polars-lts-cpu` package instead of `polars` to run Polars with better compatibility.\n",
      "\n",
      "Hint: If you are on an Apple ARM machine (e.g. M1) this is likely due to running Python under Rosetta.\n",
      "It is recommended to install a native version of Python that does not run under Rosetta x86-64 emulation.\n",
      "\n",
      "If you believe this warning to be a false positive, you can set the `POLARS_SKIP_CPU_CHECK` environment variable to bypass this check.\n",
      "\n",
      "  warnings.warn(\n",
      "/tmp/ipykernel_6317/3584767584.py:3: DeprecationWarning: \n",
      "Pyarrow will become a required dependency of pandas in the next major release of pandas (pandas 3.0),\n",
      "(to allow more performant data types, such as the Arrow string type, and better interoperability with other libraries)\n",
      "but was not found to be installed on your system.\n",
      "If this would cause problems for you,\n",
      "please provide us feedback at https://github.com/pandas-dev/pandas/issues/54466\n",
      "        \n",
      "  import pandas as pd\n"
     ]
    }
   ],
   "source": [
    "import polars as pl\n",
    "import numpy as np\n",
    "import pandas as pd\n",
    "\n",
    "import matplotlib as mpl\n",
    "import matplotlib.pyplot as plt\n",
    "\n",
    "import seaborn as sns\n",
    "import seaborn.objects as so"
   ]
  },
  {
   "cell_type": "code",
   "execution_count": null,
   "id": "c65c7b67-a6f6-405e-a36d-d89fa8c05a02",
   "metadata": {},
   "outputs": [],
   "source": [
    "dlp = pl.read_json(\"\")"
   ]
  },
  {
   "cell_type": "code",
   "execution_count": 3,
   "id": "a2cb9845-ac6f-464b-9c96-e057cddd1688",
   "metadata": {},
   "outputs": [],
   "source": [
    "from sklearn.feature_extraction.text import TfidfVectorizer\n",
    "vectorizer = TfidfVectorizer()\n",
    "X = vectorizer.fit_transform(corpus)"
   ]
  },
  {
   "cell_type": "code",
   "execution_count": 3,
   "id": "9317df0b",
   "metadata": {},
   "outputs": [],
   "source": [
    "dlp = pl.read_ndjson(\"../data/raw/flaws_cloudtrail00.ndjson\")"
   ]
  },
  {
   "cell_type": "code",
   "execution_count": 8,
   "id": "d30afa62",
   "metadata": {},
   "outputs": [
    {
     "data": {
      "text/html": [
       "<div><style>\n",
       ".dataframe > thead > tr,\n",
       ".dataframe > tbody > tr {\n",
       "  text-align: right;\n",
       "  white-space: pre-wrap;\n",
       "}\n",
       "</style>\n",
       "<small>shape: (61, 2)</small><table border=\"1\" class=\"dataframe\"><thead><tr><th>errorCode</th><th>count</th></tr><tr><td>str</td><td>u32</td></tr></thead><tbody><tr><td>&quot;NoSuchCloudFro…</td><td>1</td></tr><tr><td>&quot;Client.Invalid…</td><td>3</td></tr><tr><td>&quot;AccessDenied&quot;</td><td>7268</td></tr><tr><td>&quot;NoSuchDistribu…</td><td>1</td></tr><tr><td>&quot;InsufficientDe…</td><td>2</td></tr><tr><td>&quot;Client.Invalid…</td><td>5</td></tr><tr><td>&quot;Client.Invalid…</td><td>6</td></tr><tr><td>&quot;Client.Invalid…</td><td>56</td></tr><tr><td>&quot;ReplicationCon…</td><td>401</td></tr><tr><td>&quot;Client.Instanc…</td><td>1449</td></tr><tr><td>null</td><td>85619</td></tr><tr><td>&quot;ServerSideEncr…</td><td>2</td></tr><tr><td>&hellip;</td><td>&hellip;</td></tr><tr><td>&quot;BadRequestExce…</td><td>4</td></tr><tr><td>&quot;NotFoundExcept…</td><td>258</td></tr><tr><td>&quot;NoSuchTagSet&quot;</td><td>410</td></tr><tr><td>&quot;Client.Unsuppo…</td><td>499</td></tr><tr><td>&quot;Client.DryRunO…</td><td>4</td></tr><tr><td>&quot;ValidationExce…</td><td>4</td></tr><tr><td>&quot;AWSOrganizatio…</td><td>2</td></tr><tr><td>&quot;Client.Invalid…</td><td>2</td></tr><tr><td>&quot;NoSuchLifecycl…</td><td>404</td></tr><tr><td>&quot;NoSuchBucket&quot;</td><td>4</td></tr><tr><td>&quot;Server.Insuffi…</td><td>280</td></tr><tr><td>&quot;InvalidArgumen…</td><td>10</td></tr></tbody></table></div>"
      ],
      "text/plain": [
       "shape: (61, 2)\n",
       "┌───────────────────────────────────┬───────┐\n",
       "│ errorCode                         ┆ count │\n",
       "│ ---                               ┆ ---   │\n",
       "│ str                               ┆ u32   │\n",
       "╞═══════════════════════════════════╪═══════╡\n",
       "│ NoSuchCloudFrontOriginAccessIden… ┆ 1     │\n",
       "│ Client.InvalidAMIID.NotFound      ┆ 3     │\n",
       "│ AccessDenied                      ┆ 7268  │\n",
       "│ NoSuchDistribution                ┆ 1     │\n",
       "│ InsufficientDeliveryPolicyExcept… ┆ 2     │\n",
       "│ …                                 ┆ …     │\n",
       "│ Client.InvalidGroup.NotFound      ┆ 2     │\n",
       "│ NoSuchLifecycleConfiguration      ┆ 404   │\n",
       "│ NoSuchBucket                      ┆ 4     │\n",
       "│ Server.InsufficientInstanceCapac… ┆ 280   │\n",
       "│ InvalidArgument                   ┆ 10    │\n",
       "└───────────────────────────────────┴───────┘"
      ]
     },
     "execution_count": 8,
     "metadata": {},
     "output_type": "execute_result"
    }
   ],
   "source": [
    "dlp.select(pl.col(\"errorCode\").value_counts()).unnest(\"errorCode\")"
   ]
  },
  {
   "cell_type": "code",
   "execution_count": 17,
   "id": "e2a705b9",
   "metadata": {},
   "outputs": [],
   "source": [
    "cloudtrails_log_schema = {\"Results\": pl.List(pl.Struct({\n",
    "    \"eventVersion\": pl.Utf8,\n",
    "    \"userIdentity\": pl.Struct({\n",
    "        \"type\": pl.Utf8,\n",
    "        \"principalId\": pl.Utf8,\n",
    "        \"arn\": pl.Utf8,\n",
    "        \"accountId\": pl.Utf8,\n",
    "        \"invokedby\": pl.Utf8,\n",
    "        \"accesskeyId\": pl.Utf8,\n",
    "        \"userName\": pl.Utf8,\n",
    "    }),\n",
    "    \"sessionContext\": pl.Struct({\n",
    "        \"attributes\": pl.Struct({\n",
    "            \"mfaAuthenticated\": pl.Utf8,\n",
    "            \"creationDate\": pl.Utf8,\n",
    "        }),\n",
    "        \"sessionIssuer\": pl.Struct({\n",
    "            \"type\": pl.Utf8,\n",
    "            \"principalId\": pl.Utf8,\n",
    "            \"arn\": pl.Utf8,\n",
    "            \"accountId\": pl.Utf8,\n",
    "            \"userName\": pl.Utf8,\n",
    "        }),\n",
    "    }),\n",
    "    \"eventTime\": pl.Utf8,\n",
    "    \"eventSource\": pl.Utf8,\n",
    "    \"eventName\": pl.Utf8,\n",
    "    \"awsRegion\": pl.Utf8,\n",
    "    \"sourceIPAddress\": pl.Utf8,\n",
    "    \"userAgent\": pl.Utf8,\n",
    "    \"errorCode\": pl.Utf8,\n",
    "    \"errorMessage\": pl.Utf8,\n",
    "    \"requestParameters\": pl.Utf8,\n",
    "    \"responseElements\": pl.Utf8,\n",
    "    \"additionalEventData\": pl.Utf8,\n",
    "    \"requestId\": pl.Utf8,\n",
    "    \"eventId\": pl.Utf8,\n",
    "    \"resources\": pl.List(pl.Struct({\n",
    "        \"ARN\": pl.Utf8,\n",
    "        \"accountId\": pl.Utf8,\n",
    "        \"type\": pl.Utf8,\n",
    "    })),\n",
    "    \"eventType\": pl.Utf8,\n",
    "    \"apiVersion\": pl.Utf8,\n",
    "    \"readonly\": pl.Utf8,\n",
    "    \"recipientAccountId\": pl.Utf8,\n",
    "    \"serviceEventDetails\": pl.Utf8,\n",
    "    \"sharedEventId\": pl.Utf8,\n",
    "    \"vpcEndpointId\": pl.Utf8,\n",
    "}))\n",
    "}"
   ]
  },
  {
   "cell_type": "code",
   "execution_count": 18,
   "id": "25b063e5",
   "metadata": {},
   "outputs": [],
   "source": [
    "df = pl.read_json(\"../data/raw/flaws_cloudtrail05.json\", schema=cloudtrails_log_schema)"
   ]
  },
  {
   "cell_type": "code",
   "execution_count": 23,
   "id": "24eab9da",
   "metadata": {},
   "outputs": [
    {
     "ename": "SchemaError",
     "evalue": "invalid series dtype: expected `Struct`, got `list[struct[24]]`",
     "output_type": "error",
     "traceback": [
      "\u001b[0;31m---------------------------------------------------------------------------\u001b[0m",
      "\u001b[0;31mSchemaError\u001b[0m                               Traceback (most recent call last)",
      "\u001b[0;32m/tmp/ipykernel_6317/1961242750.py\u001b[0m in \u001b[0;36m?\u001b[0;34m()\u001b[0m\n\u001b[0;32m----> 1\u001b[0;31m \u001b[0mdf\u001b[0m\u001b[0;34m.\u001b[0m\u001b[0mselect\u001b[0m\u001b[0;34m(\u001b[0m\u001b[0mpl\u001b[0m\u001b[0;34m.\u001b[0m\u001b[0mcol\u001b[0m\u001b[0;34m(\u001b[0m\u001b[0;34m\"Results\"\u001b[0m\u001b[0;34m)\u001b[0m\u001b[0;34m)\u001b[0m\u001b[0;34m.\u001b[0m\u001b[0munnest\u001b[0m\u001b[0;34m(\u001b[0m\u001b[0;34m\"Results\"\u001b[0m\u001b[0;34m)\u001b[0m\u001b[0;34m\u001b[0m\u001b[0;34m\u001b[0m\u001b[0m\n\u001b[0m",
      "\u001b[0;32m~/thesis-da/lib/python3.10/site-packages/polars/dataframe/frame.py\u001b[0m in \u001b[0;36m?\u001b[0;34m(self, columns, *more_columns)\u001b[0m\n\u001b[1;32m  10231\u001b[0m         \u001b[0;31m│\u001b[0m \u001b[0mbar\u001b[0m\u001b[0;31m \u001b[0m\u001b[0;31m \u001b[0m\u001b[0;31m \u001b[0m\u001b[0;31m \u001b[0m\u001b[0;31m┆\u001b[0m \u001b[0;36m2\u001b[0m\u001b[0;31m \u001b[0m\u001b[0;31m \u001b[0m\u001b[0;31m \u001b[0m\u001b[0;31m┆\u001b[0m \u001b[0mb\u001b[0m\u001b[0;31m \u001b[0m\u001b[0;31m \u001b[0m\u001b[0;31m \u001b[0m\u001b[0;31m┆\u001b[0m \u001b[0mnull\u001b[0m\u001b[0;31m \u001b[0m\u001b[0;31m┆\u001b[0m \u001b[0;34m[\u001b[0m\u001b[0;36m3\u001b[0m\u001b[0;34m]\u001b[0m\u001b[0;31m \u001b[0m\u001b[0;31m \u001b[0m\u001b[0;31m \u001b[0m\u001b[0;31m \u001b[0m\u001b[0;31m \u001b[0m\u001b[0;31m \u001b[0m\u001b[0;31m \u001b[0m\u001b[0;31m┆\u001b[0m \u001b[0mwomp\u001b[0m\u001b[0;31m \u001b[0m\u001b[0;31m \u001b[0m\u001b[0;31m│\u001b[0m\u001b[0;34m\u001b[0m\u001b[0;34m\u001b[0m\u001b[0m\n\u001b[1;32m  10232\u001b[0m         \u001b[0;31m└\u001b[0m\u001b[0;31m─\u001b[0m\u001b[0;31m─\u001b[0m\u001b[0;31m─\u001b[0m\u001b[0;31m─\u001b[0m\u001b[0;31m─\u001b[0m\u001b[0;31m─\u001b[0m\u001b[0;31m─\u001b[0m\u001b[0;31m─\u001b[0m\u001b[0;31m┴\u001b[0m\u001b[0;31m─\u001b[0m\u001b[0;31m─\u001b[0m\u001b[0;31m─\u001b[0m\u001b[0;31m─\u001b[0m\u001b[0;31m─\u001b[0m\u001b[0;31m┴\u001b[0m\u001b[0;31m─\u001b[0m\u001b[0;31m─\u001b[0m\u001b[0;31m─\u001b[0m\u001b[0;31m─\u001b[0m\u001b[0;31m─\u001b[0m\u001b[0;31m┴\u001b[0m\u001b[0;31m─\u001b[0m\u001b[0;31m─\u001b[0m\u001b[0;31m─\u001b[0m\u001b[0;31m─\u001b[0m\u001b[0;31m─\u001b[0m\u001b[0;31m─\u001b[0m\u001b[0;31m┴\u001b[0m\u001b[0;31m─\u001b[0m\u001b[0;31m─\u001b[0m\u001b[0;31m─\u001b[0m\u001b[0;31m─\u001b[0m\u001b[0;31m─\u001b[0m\u001b[0;31m─\u001b[0m\u001b[0;31m─\u001b[0m\u001b[0;31m─\u001b[0m\u001b[0;31m─\u001b[0m\u001b[0;31m─\u001b[0m\u001b[0;31m─\u001b[0m\u001b[0;31m┴\u001b[0m\u001b[0;31m─\u001b[0m\u001b[0;31m─\u001b[0m\u001b[0;31m─\u001b[0m\u001b[0;31m─\u001b[0m\u001b[0;31m─\u001b[0m\u001b[0;31m─\u001b[0m\u001b[0;31m─\u001b[0m\u001b[0;31m┘\u001b[0m\u001b[0;34m\u001b[0m\u001b[0;34m\u001b[0m\u001b[0m\n\u001b[1;32m  10233\u001b[0m         \"\"\"\n\u001b[1;32m  10234\u001b[0m         \u001b[0mcolumns\u001b[0m \u001b[0;34m=\u001b[0m \u001b[0m_expand_selectors\u001b[0m\u001b[0;34m(\u001b[0m\u001b[0mself\u001b[0m\u001b[0;34m,\u001b[0m \u001b[0mcolumns\u001b[0m\u001b[0;34m,\u001b[0m \u001b[0;34m*\u001b[0m\u001b[0mmore_columns\u001b[0m\u001b[0;34m)\u001b[0m\u001b[0;34m\u001b[0m\u001b[0;34m\u001b[0m\u001b[0m\n\u001b[0;32m> 10235\u001b[0;31m         \u001b[0;32mreturn\u001b[0m \u001b[0mself\u001b[0m\u001b[0;34m.\u001b[0m\u001b[0m_from_pydf\u001b[0m\u001b[0;34m(\u001b[0m\u001b[0mself\u001b[0m\u001b[0;34m.\u001b[0m\u001b[0m_df\u001b[0m\u001b[0;34m.\u001b[0m\u001b[0munnest\u001b[0m\u001b[0;34m(\u001b[0m\u001b[0mcolumns\u001b[0m\u001b[0;34m)\u001b[0m\u001b[0;34m)\u001b[0m\u001b[0;34m\u001b[0m\u001b[0;34m\u001b[0m\u001b[0m\n\u001b[0m",
      "\u001b[0;31mSchemaError\u001b[0m: invalid series dtype: expected `Struct`, got `list[struct[24]]`"
     ]
    }
   ],
   "source": [
    "df.select(pl.col(\"Results\")).unnest(\"Results\")"
   ]
  },
  {
   "cell_type": "code",
   "execution_count": 12,
   "id": "e1ac62fc",
   "metadata": {},
   "outputs": [
    {
     "data": {
      "text/html": [
       "<div><style>\n",
       ".dataframe > thead > tr,\n",
       ".dataframe > tbody > tr {\n",
       "  text-align: right;\n",
       "  white-space: pre-wrap;\n",
       "}\n",
       "</style>\n",
       "<small>shape: (85_619, 17)</small><table border=\"1\" class=\"dataframe\"><thead><tr><th>userAgent</th><th>eventID</th><th>userIdentity</th><th>eventType</th><th>sourceIPAddress</th><th>eventName</th><th>eventSource</th><th>recipientAccountId</th><th>requestParameters</th><th>awsRegion</th><th>requestID</th><th>responseElements</th><th>eventVersion</th><th>eventTime</th><th>errorMessage</th><th>errorCode</th><th>apiVersion</th></tr><tr><td>str</td><td>str</td><td>struct[6]</td><td>str</td><td>str</td><td>str</td><td>str</td><td>str</td><td>struct[44]</td><td>str</td><td>str</td><td>struct[9]</td><td>str</td><td>str</td><td>str</td><td>str</td><td>str</td></tr></thead><tbody><tr><td>&quot;[S3Console/0.4…</td><td>&quot;3038ebd2-c98a-…</td><td>{&quot;Root&quot;,&quot;811596193553&quot;,&quot;arn:aws:iam::811596193553:root&quot;,&quot;811596193553&quot;,null,{{&quot;false&quot;,&quot;2017-02-12T19:57:05Z&quot;}}}</td><td>&quot;AwsApiCall&quot;</td><td>&quot;255.253.125.11…</td><td>&quot;ListBuckets&quot;</td><td>&quot;s3.amazonaws.c…</td><td>&quot;811596193553&quot;</td><td>{null,null,null,{null},{{{null,null},null,null}},null,{null},{null},{null},null,{null},{null},null,null,{null},{null,null},{null},{null},null,null,null,{null},null,null,{null},null,null,{null},{null},null,null,null,null,{null},{null,null},{null},{null},{null},{null},{null},null,{null},{null},null}</td><td>&quot;us-east-1&quot;</td><td>&quot;83A6C73FE87F51…</td><td>{null,null,null,null,null,null,null,null,{null,null,null,null,null,null}}</td><td>&quot;1.04&quot;</td><td>&quot;2017-02-12T19:…</td><td>null</td><td>null</td><td>null</td></tr><tr><td>&quot;console.amazon…</td><td>&quot;9facf7ca-cb76-…</td><td>{&quot;Root&quot;,&quot;811596193553&quot;,&quot;arn:aws:iam::811596193553:root&quot;,&quot;811596193553&quot;,&quot;ASIA79EXPHZ8SRL55OOE&quot;,{{&quot;false&quot;,&quot;2017-02-12T19:57:05Z&quot;}}}</td><td>&quot;AwsApiCall&quot;</td><td>&quot;255.253.125.11…</td><td>&quot;GetAccountSumm…</td><td>&quot;iam.amazonaws.…</td><td>&quot;811596193553&quot;</td><td>{null,null,null,{null},{{{null,null},null,null}},null,{null},{null},{null},null,{null},{null},null,null,{null},{null,null},{null},{null},null,null,null,{null},null,null,{null},null,null,{null},{null},null,null,null,null,{null},{null,null},{null},{null},{null},{null},{null},null,{null},{null},null}</td><td>&quot;us-east-1&quot;</td><td>&quot;b110697b2-f15d…</td><td>{null,null,null,null,null,null,null,null,{null,null,null,null,null,null}}</td><td>&quot;1.02&quot;</td><td>&quot;2017-02-12T19:…</td><td>null</td><td>null</td><td>null</td></tr><tr><td>&quot;console.amazon…</td><td>&quot;6596d3b4-7c98-…</td><td>{&quot;Root&quot;,&quot;811596193553&quot;,&quot;arn:aws:iam::811596193553:root&quot;,&quot;811596193553&quot;,&quot;ASIA79EXPHZ8SRL55OOE&quot;,{{&quot;false&quot;,&quot;2017-02-12T19:57:05Z&quot;}}}</td><td>&quot;AwsApiCall&quot;</td><td>&quot;255.253.125.11…</td><td>&quot;ListAccountAli…</td><td>&quot;iam.amazonaws.…</td><td>&quot;811596193553&quot;</td><td>{null,null,null,{null},{{{null,null},null,null}},null,{null},{null},{null},null,{null},{null},null,null,{null},{null,null},{null},{null},null,null,null,{null},null,null,{null},null,null,{null},{null},null,null,null,null,{null},{null,null},{null},{null},{null},{null},{null},null,{null},{null},null}</td><td>&quot;us-east-1&quot;</td><td>&quot;b8382b24-f15d-…</td><td>{null,null,null,null,null,null,null,null,{null,null,null,null,null,null}}</td><td>&quot;1.02&quot;</td><td>&quot;2017-02-12T19:…</td><td>null</td><td>null</td><td>null</td></tr><tr><td>&quot;console.amazon…</td><td>&quot;9f9d038c-e5a5-…</td><td>{&quot;Root&quot;,&quot;811596193553&quot;,&quot;arn:aws:iam::811596193553:root&quot;,&quot;811596193553&quot;,&quot;ASIA79EXPHZ8SRL55OOE&quot;,{{&quot;false&quot;,&quot;2017-02-12T19:57:05Z&quot;}}}</td><td>&quot;AwsApiCall&quot;</td><td>&quot;255.253.125.11…</td><td>&quot;ListMFADevices…</td><td>&quot;iam.amazonaws.…</td><td>&quot;811596193553&quot;</td><td>{null,null,null,{null},{{{null,null},null,null}},null,{null},{null},{null},null,{null},{null},null,null,{null},{null,null},{null},{null},null,null,null,{null},null,null,{null},null,null,{null},{null},null,null,null,null,{null},{null,null},{null},{null},{null},{null},{null},null,{null},{null},null}</td><td>&quot;us-east-1&quot;</td><td>&quot;b567111c6-f15d…</td><td>{null,null,null,null,null,null,null,null,{null,null,null,null,null,null}}</td><td>&quot;1.02&quot;</td><td>&quot;2017-02-12T19:…</td><td>null</td><td>null</td><td>null</td></tr><tr><td>&quot;console.amazon…</td><td>&quot;4babc3a3-77b1-…</td><td>{&quot;Root&quot;,&quot;811596193553&quot;,&quot;arn:aws:iam::811596193553:root&quot;,&quot;811596193553&quot;,&quot;ASIA79EXPHZ8SRL55OOE&quot;,{{&quot;false&quot;,&quot;2017-02-12T19:57:05Z&quot;}}}</td><td>&quot;AwsApiCall&quot;</td><td>&quot;255.253.125.11…</td><td>&quot;ListAccessKeys…</td><td>&quot;iam.amazonaws.…</td><td>&quot;811596193553&quot;</td><td>{null,null,null,{null},{{{null,null},null,null}},null,{null},{null},{null},null,{null},{null},null,null,{null},{null,null},{null},{null},null,null,null,{null},null,null,{null},null,null,{null},{null},null,null,null,null,{null},{null,null},{null},{null},{null},{null},{null},null,{null},{null},null}</td><td>&quot;us-east-1&quot;</td><td>&quot;b83d3435-f15d-…</td><td>{null,null,null,null,null,null,null,null,{null,null,null,null,null,null}}</td><td>&quot;1.02&quot;</td><td>&quot;2017-02-12T19:…</td><td>null</td><td>null</td><td>null</td></tr><tr><td>&quot;console.amazon…</td><td>&quot;c2f959326-973c…</td><td>{&quot;Root&quot;,&quot;811596193553&quot;,&quot;arn:aws:iam::811596193553:root&quot;,&quot;811596193553&quot;,&quot;ASIA79EXPHZ8SRL55OOE&quot;,{{&quot;false&quot;,&quot;2017-02-12T19:57:05Z&quot;}}}</td><td>&quot;AwsApiCall&quot;</td><td>&quot;255.253.125.11…</td><td>&quot;ListAccessKeys…</td><td>&quot;iam.amazonaws.…</td><td>&quot;811596193553&quot;</td><td>{null,null,null,{null},{{{null,null},null,null}},null,{null},{null},{null},null,{null},{null},null,null,{null},{null,null},{null},{null},null,null,null,{null},null,null,{null},null,null,{null},{null},null,null,null,null,{null},{null,null},{null},{null},{null},{null},{null},null,{null},{null},null}</td><td>&quot;us-east-1&quot;</td><td>&quot;b80f4627-f15d-…</td><td>{null,null,null,null,null,null,null,null,{null,null,null,null,null,null}}</td><td>&quot;1.02&quot;</td><td>&quot;2017-02-12T19:…</td><td>null</td><td>null</td><td>null</td></tr><tr><td>&quot;console.amazon…</td><td>&quot;30f077e5-6c11-…</td><td>{&quot;Root&quot;,&quot;811596193553&quot;,&quot;arn:aws:iam::811596193553:root&quot;,&quot;811596193553&quot;,&quot;ASIA79EXPHZ8SRL55OOE&quot;,{{&quot;false&quot;,&quot;2017-02-12T19:57:05Z&quot;}}}</td><td>&quot;AwsApiCall&quot;</td><td>&quot;255.253.125.11…</td><td>&quot;GetAccountSumm…</td><td>&quot;iam.amazonaws.…</td><td>&quot;811596193553&quot;</td><td>{null,null,null,{null},{{{null,null},null,null}},null,{null},{null},{null},null,{null},{null},null,null,{null},{null,null},{null},{null},null,null,null,{null},null,null,{null},null,null,{null},{null},null,null,null,null,{null},{null,null},{null},{null},{null},{null},{null},null,{null},{null},null}</td><td>&quot;us-east-1&quot;</td><td>&quot;b7faacb4-f15d-…</td><td>{null,null,null,null,null,null,null,null,{null,null,null,null,null,null}}</td><td>&quot;1.02&quot;</td><td>&quot;2017-02-12T19:…</td><td>null</td><td>null</td><td>null</td></tr><tr><td>&quot;console.amazon…</td><td>&quot;dc97bcac-91e6-…</td><td>{&quot;Root&quot;,&quot;811596193553&quot;,&quot;arn:aws:iam::811596193553:root&quot;,&quot;811596193553&quot;,&quot;ASIA79EXPHZ8SRL55OOE&quot;,{{&quot;false&quot;,&quot;2017-02-12T19:57:05Z&quot;}}}</td><td>&quot;AwsApiCall&quot;</td><td>&quot;255.253.125.11…</td><td>&quot;ListAccountAli…</td><td>&quot;iam.amazonaws.…</td><td>&quot;811596193553&quot;</td><td>{null,null,null,{null},{{{null,null},null,null}},null,{null},{null},{null},null,{null},{null},null,null,{null},{null,null},{null},{null},null,null,null,{null},null,null,{null},null,null,{null},{null},null,null,null,null,{null},{null,null},{null},{null},{null},{null},{null},null,{null},{null},null}</td><td>&quot;us-east-1&quot;</td><td>&quot;b80b0066-f15d-…</td><td>{null,null,null,null,null,null,null,null,{null,null,null,null,null,null}}</td><td>&quot;1.02&quot;</td><td>&quot;2017-02-12T19:…</td><td>null</td><td>null</td><td>null</td></tr><tr><td>&quot;console.amazon…</td><td>&quot;e5cacd34-cfa7-…</td><td>{&quot;Root&quot;,&quot;811596193553&quot;,&quot;arn:aws:iam::811596193553:root&quot;,&quot;811596193553&quot;,&quot;ASIA79EXPHZ8SRL55OOE&quot;,{{&quot;false&quot;,&quot;2017-02-12T19:57:05Z&quot;}}}</td><td>&quot;AwsApiCall&quot;</td><td>&quot;255.253.125.11…</td><td>&quot;ListMFADevices…</td><td>&quot;iam.amazonaws.…</td><td>&quot;811596193553&quot;</td><td>{null,null,null,{null},{{{null,null},null,null}},null,{null},{null},{null},null,{null},{null},null,null,{null},{null,null},{null},{null},null,null,null,{null},null,null,{null},null,null,{null},{null},null,null,null,null,{null},{null,null},{null},{null},{null},{null},{null},null,{null},{null},null}</td><td>&quot;us-east-1&quot;</td><td>&quot;b814c468-f15d-…</td><td>{null,null,null,null,null,null,null,null,{null,null,null,null,null,null}}</td><td>&quot;1.02&quot;</td><td>&quot;2017-02-12T19:…</td><td>null</td><td>null</td><td>null</td></tr><tr><td>&quot;console.amazon…</td><td>&quot;09bca6e3-ff6c-…</td><td>{&quot;Root&quot;,&quot;811596193553&quot;,&quot;arn:aws:iam::811596193553:root&quot;,&quot;811596193553&quot;,&quot;ASIAZ1A0NSOL1W4ECLBM&quot;,{{&quot;false&quot;,&quot;2017-02-12T19:57:05Z&quot;}}}</td><td>&quot;AwsApiCall&quot;</td><td>&quot;255.253.125.11…</td><td>&quot;DescribeTrails…</td><td>&quot;cloudtrail.ama…</td><td>&quot;811596193553&quot;</td><td>{null,null,null,{null},{{{null,null},null,null}},null,{null},{null},{null},null,{null},{null},null,null,{null},{null,null},{null},{null},null,null,null,{null},null,null,{null},null,null,{null},{null},null,null,null,null,{null},{null,null},{null},{null},{null},{null},{null},[],{null},{null},null}</td><td>&quot;us-west-2&quot;</td><td>&quot;31e6fc70-f15e-…</td><td>{null,null,null,null,null,null,null,null,{null,null,null,null,null,null}}</td><td>&quot;1.05&quot;</td><td>&quot;2017-02-12T20:…</td><td>null</td><td>null</td><td>null</td></tr><tr><td>&quot;[AWSCloudTrail…</td><td>&quot;2dd9d57f-2734-…</td><td>{&quot;Root&quot;,&quot;811596193553&quot;,&quot;arn:aws:iam::811596193553:root&quot;,&quot;811596193553&quot;,null,{{&quot;false&quot;,&quot;2017-02-12T19:57:05Z&quot;}}}</td><td>&quot;AwsApiCall&quot;</td><td>&quot;AWS Internal&quot;</td><td>&quot;ListBuckets&quot;</td><td>&quot;s3.amazonaws.c…</td><td>&quot;811596193553&quot;</td><td>{null,null,null,{null},{{{null,null},null,null}},null,{null},{null},{null},null,{null},{null},null,null,{null},{null,null},{null},{null},null,null,null,{null},null,null,{null},null,null,{null},{null},null,null,null,null,{null},{null,null},{null},{null},{null},{null},{null},null,{null},{null},null}</td><td>&quot;us-west-2&quot;</td><td>&quot;8CF12F71E35A8A…</td><td>{null,null,null,null,null,null,null,null,{null,null,null,null,null,null}}</td><td>&quot;1.04&quot;</td><td>&quot;2017-02-12T20:…</td><td>null</td><td>null</td><td>null</td></tr><tr><td>&quot;AWSCloudTrail,…</td><td>&quot;032db777-fcc7-…</td><td>{&quot;Root&quot;,&quot;811596193553&quot;,&quot;arn:aws:iam::811596193553:root&quot;,&quot;811596193553&quot;,&quot;ASIAZ1A0NSOL1W4ECLBM&quot;,{{&quot;false&quot;,&quot;2017-02-12T19:57:05Z&quot;}}}</td><td>&quot;AwsApiCall&quot;</td><td>&quot;255.253.125.11…</td><td>&quot;ListTopics&quot;</td><td>&quot;sns.amazonaws.…</td><td>&quot;811596193553&quot;</td><td>{null,null,null,{null},{{{null,null},null,null}},null,{null},{null},{null},null,{null},{null},null,null,{null},{null,null},{null},{null},null,null,null,{null},null,null,{null},null,null,{null},{null},null,null,null,null,{null},{null,null},{null},{null},{null},{null},{null},null,{null},{null},null}</td><td>&quot;us-west-2&quot;</td><td>&quot;c0ab9819-9f41-…</td><td>{null,null,null,null,null,null,null,null,{null,null,null,null,null,null}}</td><td>&quot;1.04&quot;</td><td>&quot;2017-02-12T20:…</td><td>null</td><td>null</td><td>null</td></tr><tr><td>&hellip;</td><td>&hellip;</td><td>&hellip;</td><td>&hellip;</td><td>&hellip;</td><td>&hellip;</td><td>&hellip;</td><td>&hellip;</td><td>&hellip;</td><td>&hellip;</td><td>&hellip;</td><td>&hellip;</td><td>&hellip;</td><td>&hellip;</td><td>&hellip;</td><td>&hellip;</td><td>&hellip;</td></tr><tr><td>&quot;Boto3/1.7.4 Py…</td><td>&quot;4216d7aa-e03b-…</td><td>{&quot;IAMUser&quot;,&quot;AIDA9BO36HFBHKGJAO9C1&quot;,&quot;arn:aws:iam::811596193553:user/backup&quot;,&quot;811596193553&quot;,&quot;ASIAGD2JRX0V6RJGWR59&quot;,{{&quot;false&quot;,&quot;2018-04-16T06:59:20Z&quot;}}}</td><td>&quot;AwsApiCall&quot;</td><td>&quot;155.63.17.217&quot;</td><td>&quot;DescribeInstan…</td><td>&quot;ec2.amazonaws.…</td><td>&quot;811596193553&quot;</td><td>{null,null,null,{null},{{{null,null},null,null}},null,{null},{null},{null},null,{null},{null},null,null,{null},{null,null},{null},{null},null,null,null,{null},null,null,{null},null,null,{null},{null},null,null,null,null,{null},{null,null},{null},{null},{null},{null},{null},null,{null},{null},null}</td><td>&quot;eu-west-1&quot;</td><td>&quot;c52196ed-1d83-…</td><td>{null,null,null,null,null,null,null,null,{null,null,null,null,null,null}}</td><td>&quot;1.05&quot;</td><td>&quot;2018-04-17T09:…</td><td>null</td><td>null</td><td>null</td></tr><tr><td>&quot;Boto3/1.7.4 Py…</td><td>&quot;5ea43cf6-0152-…</td><td>{&quot;IAMUser&quot;,&quot;AIDA9BO36HFBHKGJAO9C1&quot;,&quot;arn:aws:iam::811596193553:user/backup&quot;,&quot;811596193553&quot;,&quot;ASIAGD2JRX0V6RJGWR59&quot;,{{&quot;false&quot;,&quot;2018-04-16T06:59:20Z&quot;}}}</td><td>&quot;AwsApiCall&quot;</td><td>&quot;155.63.17.217&quot;</td><td>&quot;DescribeInstan…</td><td>&quot;ec2.amazonaws.…</td><td>&quot;811596193553&quot;</td><td>{null,null,null,{null},{{{null,null},null,null}},null,{null},{null},{null},null,{null},{null},null,null,{null},{null,null},{null},{null},null,null,null,{null},null,null,{null},null,null,{null},{null},null,null,null,null,{null},{null,null},{null},{null},{null},{null},{null},null,{null},{null},null}</td><td>&quot;eu-west-1&quot;</td><td>&quot;d340607b-1e1f-…</td><td>{null,null,null,null,null,null,null,null,{null,null,null,null,null,null}}</td><td>&quot;1.05&quot;</td><td>&quot;2018-04-17T09:…</td><td>null</td><td>null</td><td>null</td></tr><tr><td>&quot;Boto3/1.7.4 Py…</td><td>&quot;d64806b8-8da0-…</td><td>{&quot;IAMUser&quot;,&quot;AIDA9BO36HFBHKGJAO9C1&quot;,&quot;arn:aws:iam::811596193553:user/backup&quot;,&quot;811596193553&quot;,&quot;ASIAGD2JRX0V6RJGWR59&quot;,{{&quot;false&quot;,&quot;2018-04-16T06:59:20Z&quot;}}}</td><td>&quot;AwsApiCall&quot;</td><td>&quot;155.63.17.217&quot;</td><td>&quot;DescribeInstan…</td><td>&quot;ec2.amazonaws.…</td><td>&quot;811596193553&quot;</td><td>{null,null,null,{null},{{{null,null},null,null}},null,{null},{null},{null},null,{null},{null},null,null,{null},{null,null},{null},{null},null,null,null,{null},null,null,{null},null,null,{null},{null},null,null,null,null,{null},{null,null},{null},{null},{null},{null},{null},null,{null},{null},null}</td><td>&quot;eu-west-2&quot;</td><td>&quot;1cb588239-e86b…</td><td>{null,null,null,null,null,null,null,null,{null,null,null,null,null,null}}</td><td>&quot;1.05&quot;</td><td>&quot;2018-04-17T09:…</td><td>null</td><td>null</td><td>null</td></tr><tr><td>&quot;Boto3/1.7.4 Py…</td><td>&quot;36f80127-e6be-…</td><td>{&quot;IAMUser&quot;,&quot;AIDA9BO36HFBHKGJAO9C1&quot;,&quot;arn:aws:iam::811596193553:user/backup&quot;,&quot;811596193553&quot;,&quot;ASIAGD2JRX0V6RJGWR59&quot;,{{&quot;false&quot;,&quot;2018-04-16T06:59:20Z&quot;}}}</td><td>&quot;AwsApiCall&quot;</td><td>&quot;155.63.17.217&quot;</td><td>&quot;DescribeInstan…</td><td>&quot;ec2.amazonaws.…</td><td>&quot;811596193553&quot;</td><td>{null,null,null,{null},{{{null,null},null,null}},null,{null},{null},{null},null,{null},{null},null,null,{null},{null,null},{null},{null},null,null,null,{null},null,null,{null},null,null,{null},{null},null,null,null,null,{null},{null,null},{null},{null},{null},{null},{null},null,{null},{null},null}</td><td>&quot;eu-west-2&quot;</td><td>&quot;1b86fb02-ac17-…</td><td>{null,null,null,null,null,null,null,null,{null,null,null,null,null,null}}</td><td>&quot;1.05&quot;</td><td>&quot;2018-04-17T09:…</td><td>null</td><td>null</td><td>null</td></tr><tr><td>&quot;Boto3/1.7.4 Py…</td><td>&quot;f6c0b042-389f-…</td><td>{&quot;IAMUser&quot;,&quot;AIDA9BO36HFBHKGJAO9C1&quot;,&quot;arn:aws:iam::811596193553:user/backup&quot;,&quot;811596193553&quot;,&quot;ASIAGD2JRX0V6RJGWR59&quot;,{{&quot;false&quot;,&quot;2018-04-16T06:59:20Z&quot;}}}</td><td>&quot;AwsApiCall&quot;</td><td>&quot;155.63.17.217&quot;</td><td>&quot;DescribeInstan…</td><td>&quot;ec2.amazonaws.…</td><td>&quot;811596193553&quot;</td><td>{null,null,null,{null},{{{null,null},null,null}},null,{null},{null},{null},null,{null},{null},null,null,{null},{null,null},{null},{null},null,null,null,{null},null,null,{null},null,null,{null},{null},null,null,null,null,{null},{null,null},{null},{null},{null},{null},{null},null,{null},{null},null}</td><td>&quot;eu-west-2&quot;</td><td>&quot;114528-d0b1-4b…</td><td>{null,null,null,null,null,null,null,null,{null,null,null,null,null,null}}</td><td>&quot;1.05&quot;</td><td>&quot;2018-04-17T09:…</td><td>null</td><td>null</td><td>null</td></tr><tr><td>&quot;Boto3/1.7.4 Py…</td><td>&quot;a5dd9feb-998a-…</td><td>{&quot;IAMUser&quot;,&quot;AIDA9BO36HFBHKGJAO9C1&quot;,&quot;arn:aws:iam::811596193553:user/backup&quot;,&quot;811596193553&quot;,&quot;ASIAGD2JRX0V6RJGWR59&quot;,{{&quot;false&quot;,&quot;2018-04-16T06:59:20Z&quot;}}}</td><td>&quot;AwsApiCall&quot;</td><td>&quot;155.63.17.217&quot;</td><td>&quot;DescribeInstan…</td><td>&quot;ec2.amazonaws.…</td><td>&quot;811596193553&quot;</td><td>{null,null,null,{null},{{{null,null},null,null}},null,{null},{null},{null},null,{null},{null},null,null,{null},{null,null},{null},{null},null,null,null,{null},null,null,{null},null,null,{null},{null},null,null,null,null,{null},{null,null},{null},{null},{null},{null},{null},null,{null},{null},null}</td><td>&quot;eu-west-3&quot;</td><td>&quot;ff1de16c-8c52-…</td><td>{null,null,null,null,null,null,null,null,{null,null,null,null,null,null}}</td><td>&quot;1.05&quot;</td><td>&quot;2018-04-17T09:…</td><td>null</td><td>null</td><td>null</td></tr><tr><td>&quot;Boto3/1.7.4 Py…</td><td>&quot;a07f442f-8664-…</td><td>{&quot;IAMUser&quot;,&quot;AIDA9BO36HFBHKGJAO9C1&quot;,&quot;arn:aws:iam::811596193553:user/backup&quot;,&quot;811596193553&quot;,&quot;ASIAGD2JRX0V6RJGWR59&quot;,{{&quot;false&quot;,&quot;2018-04-16T06:59:20Z&quot;}}}</td><td>&quot;AwsApiCall&quot;</td><td>&quot;155.63.17.217&quot;</td><td>&quot;DescribeInstan…</td><td>&quot;ec2.amazonaws.…</td><td>&quot;811596193553&quot;</td><td>{null,null,null,{null},{{{null,null},null,null}},null,{null},{null},{null},null,{null},{null},null,null,{null},{null,null},{null},{null},null,null,null,{null},null,null,{null},null,null,{null},{null},null,null,null,null,{null},{null,null},{null},{null},{null},{null},{null},null,{null},{null},null}</td><td>&quot;eu-west-3&quot;</td><td>&quot;3d85b50c-28b9-…</td><td>{null,null,null,null,null,null,null,null,{null,null,null,null,null,null}}</td><td>&quot;1.05&quot;</td><td>&quot;2018-04-17T09:…</td><td>null</td><td>null</td><td>null</td></tr><tr><td>&quot;Boto3/1.7.4 Py…</td><td>&quot;46c1b41d-f7c6-…</td><td>{&quot;IAMUser&quot;,&quot;AIDA9BO36HFBHKGJAO9C1&quot;,&quot;arn:aws:iam::811596193553:user/backup&quot;,&quot;811596193553&quot;,&quot;ASIAGD2JRX0V6RJGWR59&quot;,{{&quot;false&quot;,&quot;2018-04-16T06:59:20Z&quot;}}}</td><td>&quot;AwsApiCall&quot;</td><td>&quot;155.63.17.217&quot;</td><td>&quot;DescribeInstan…</td><td>&quot;ec2.amazonaws.…</td><td>&quot;811596193553&quot;</td><td>{null,null,null,{null},{{{null,null},null,null}},null,{null},{null},{null},null,{null},{null},null,null,{null},{null,null},{null},{null},null,null,null,{null},null,null,{null},null,null,{null},{null},null,null,null,null,{null},{null,null},{null},{null},{null},{null},{null},null,{null},{null},null}</td><td>&quot;eu-west-3&quot;</td><td>&quot;6f06678c-1f79-…</td><td>{null,null,null,null,null,null,null,null,{null,null,null,null,null,null}}</td><td>&quot;1.05&quot;</td><td>&quot;2018-04-17T09:…</td><td>null</td><td>null</td><td>null</td></tr><tr><td>&quot;Boto3/1.7.4 Py…</td><td>&quot;d4c67a34-10b8-…</td><td>{&quot;IAMUser&quot;,&quot;AIDA9BO36HFBHKGJAO9C1&quot;,&quot;arn:aws:iam::811596193553:user/backup&quot;,&quot;811596193553&quot;,&quot;AKIA01U43UX3RBRDXF4Q&quot;,{{null,null}}}</td><td>&quot;AwsApiCall&quot;</td><td>&quot;155.63.17.217&quot;</td><td>&quot;GetCallerIdent…</td><td>&quot;sts.amazonaws.…</td><td>&quot;811596193553&quot;</td><td>{null,null,null,{null},{{{null,null},null,null}},null,{null},{null},{null},null,{null},{null},null,null,{null},{null,null},{null},{null},null,null,null,{null},null,null,{null},null,null,{null},{null},null,null,null,null,{null},{null,null},{null},{null},{null},{null},{null},null,{null},{null},null}</td><td>&quot;us-east-1&quot;</td><td>&quot;6a9c32d8-4223-…</td><td>{null,null,null,null,null,null,null,null,{null,null,null,null,null,null}}</td><td>&quot;1.05&quot;</td><td>&quot;2018-04-17T09:…</td><td>null</td><td>null</td><td>null</td></tr><tr><td>&quot;ec2.amazonaws.…</td><td>&quot;a17c90cc-0358-…</td><td>{&quot;AWSService&quot;,null,null,null,null,{{null,null}}}</td><td>&quot;AwsApiCall&quot;</td><td>&quot;ec2.amazonaws.…</td><td>&quot;AssumeRole&quot;</td><td>&quot;sts.amazonaws.…</td><td>&quot;811596193553&quot;</td><td>{null,null,null,{null},{{{null,null},null,null}},null,{null},{null},{null},null,{null},{null},null,null,{null},{null,null},{null},{null},null,null,null,{null},null,null,{null},null,null,{null},{null},null,null,null,null,{null},{null,null},{null},{null},{null},{null},{null},null,{null},{null},null}</td><td>&quot;us-west-2&quot;</td><td>&quot;6bc88b1d-6c14-…</td><td>{null,null,null,null,null,null,null,null,{null,null,null,null,null,null}}</td><td>&quot;1.05&quot;</td><td>&quot;2018-04-17T09:…</td><td>null</td><td>null</td><td>null</td></tr><tr><td>&quot;Boto3/1.7.4 Py…</td><td>&quot;ea56a3f5-6a7a-…</td><td>{&quot;IAMUser&quot;,&quot;AIDA9BO36HFBHKGJAO9C1&quot;,&quot;arn:aws:iam::811596193553:user/backup&quot;,&quot;811596193553&quot;,&quot;ASIAGD2JRX0V6RJGWR59&quot;,{{&quot;false&quot;,&quot;2018-04-16T06:59:20Z&quot;}}}</td><td>&quot;AwsApiCall&quot;</td><td>&quot;155.63.17.217&quot;</td><td>&quot;GetCallerIdent…</td><td>&quot;sts.amazonaws.…</td><td>&quot;811596193553&quot;</td><td>{null,null,null,{null},{{{null,null},null,null}},null,{null},{null},{null},null,{null},{null},null,null,{null},{null,null},{null},{null},null,null,null,{null},null,null,{null},null,null,{null},{null},null,null,null,null,{null},{null,null},{null},{null},{null},{null},{null},null,{null},{null},null}</td><td>&quot;us-east-1&quot;</td><td>&quot;572522-4227-11…</td><td>{null,null,null,null,null,null,null,null,{null,null,null,null,null,null}}</td><td>&quot;1.05&quot;</td><td>&quot;2018-04-17T10:…</td><td>null</td><td>null</td><td>null</td></tr><tr><td>&quot;Boto3/1.7.4 Py…</td><td>&quot;0d510fc5-1f5d-…</td><td>{&quot;IAMUser&quot;,&quot;AIDA9BO36HFBHKGJAO9C1&quot;,&quot;arn:aws:iam::811596193553:user/backup&quot;,&quot;811596193553&quot;,&quot;ASIAGD2JRX0V6RJGWR59&quot;,{{&quot;false&quot;,&quot;2018-04-16T06:59:20Z&quot;}}}</td><td>&quot;AwsApiCall&quot;</td><td>&quot;155.63.17.217&quot;</td><td>&quot;DescribeInstan…</td><td>&quot;ec2.amazonaws.…</td><td>&quot;811596193553&quot;</td><td>{null,null,null,{null},{{{null,null},null,null}},null,{null},{null},{null},null,{null},{null},null,null,{null},{null,null},{null},{null},null,null,null,{null},null,null,{null},null,null,{null},{null},null,null,null,null,{null},{null,null},{null},{null},{null},{null},{null},null,{null},{null},null}</td><td>&quot;us-east-1&quot;</td><td>&quot;2570f948-5c42-…</td><td>{null,null,null,null,null,null,null,null,{null,null,null,null,null,null}}</td><td>&quot;1.05&quot;</td><td>&quot;2018-04-17T10:…</td><td>null</td><td>null</td><td>null</td></tr></tbody></table></div>"
      ],
      "text/plain": [
       "shape: (85_619, 17)\n",
       "┌───────────┬───────────┬───────────┬───────────┬───┬───────────┬───────────┬───────────┬──────────┐\n",
       "│ userAgent ┆ eventID   ┆ userIdent ┆ eventType ┆ … ┆ eventTime ┆ errorMess ┆ errorCode ┆ apiVersi │\n",
       "│ ---       ┆ ---       ┆ ity       ┆ ---       ┆   ┆ ---       ┆ age       ┆ ---       ┆ on       │\n",
       "│ str       ┆ str       ┆ ---       ┆ str       ┆   ┆ str       ┆ ---       ┆ str       ┆ ---      │\n",
       "│           ┆           ┆ struct[6] ┆           ┆   ┆           ┆ str       ┆           ┆ str      │\n",
       "╞═══════════╪═══════════╪═══════════╪═══════════╪═══╪═══════════╪═══════════╪═══════════╪══════════╡\n",
       "│ [S3Consol ┆ 3038ebd2- ┆ {\"Root\",\" ┆ AwsApiCal ┆ … ┆ 2017-02-1 ┆ null      ┆ null      ┆ null     │\n",
       "│ e/0.4]    ┆ c98a-4c65 ┆ 811596193 ┆ l         ┆   ┆ 2T19:57:0 ┆           ┆           ┆          │\n",
       "│           ┆ -9b6e-e22 ┆ 553\",\"arn ┆           ┆   ┆ 6Z        ┆           ┆           ┆          │\n",
       "│           ┆ 50629…    ┆ :aws:…    ┆           ┆   ┆           ┆           ┆           ┆          │\n",
       "│ console.a ┆ 9facf7ca- ┆ {\"Root\",\" ┆ AwsApiCal ┆ … ┆ 2017-02-1 ┆ null      ┆ null      ┆ null     │\n",
       "│ mazonaws. ┆ cb76-4b19 ┆ 811596193 ┆ l         ┆   ┆ 2T19:59:1 ┆           ┆           ┆          │\n",
       "│ com       ┆ -940c-3de ┆ 553\",\"arn ┆           ┆   ┆ 0Z        ┆           ┆           ┆          │\n",
       "│           ┆ 6803f…    ┆ :aws:…    ┆           ┆   ┆           ┆           ┆           ┆          │\n",
       "│ console.a ┆ 6596d3b4- ┆ {\"Root\",\" ┆ AwsApiCal ┆ … ┆ 2017-02-1 ┆ null      ┆ null      ┆ null     │\n",
       "│ mazonaws. ┆ 7c98-40b1 ┆ 811596193 ┆ l         ┆   ┆ 2T19:59:1 ┆           ┆           ┆          │\n",
       "│ com       ┆ -867d-f31 ┆ 553\",\"arn ┆           ┆   ┆ 0Z        ┆           ┆           ┆          │\n",
       "│           ┆ 7f1db…    ┆ :aws:…    ┆           ┆   ┆           ┆           ┆           ┆          │\n",
       "│ console.a ┆ 9f9d038c- ┆ {\"Root\",\" ┆ AwsApiCal ┆ … ┆ 2017-02-1 ┆ null      ┆ null      ┆ null     │\n",
       "│ mazonaws. ┆ e5a5-443e ┆ 811596193 ┆ l         ┆   ┆ 2T19:59:1 ┆           ┆           ┆          │\n",
       "│ com       ┆ -83d5-4cf ┆ 553\",\"arn ┆           ┆   ┆ 0Z        ┆           ┆           ┆          │\n",
       "│           ┆ 00941…    ┆ :aws:…    ┆           ┆   ┆           ┆           ┆           ┆          │\n",
       "│ console.a ┆ 4babc3a3- ┆ {\"Root\",\" ┆ AwsApiCal ┆ … ┆ 2017-02-1 ┆ null      ┆ null      ┆ null     │\n",
       "│ mazonaws. ┆ 77b1-44b6 ┆ 811596193 ┆ l         ┆   ┆ 2T19:59:1 ┆           ┆           ┆          │\n",
       "│ com       ┆ -9940-423 ┆ 553\",\"arn ┆           ┆   ┆ 0Z        ┆           ┆           ┆          │\n",
       "│           ┆ 63d44…    ┆ :aws:…    ┆           ┆   ┆           ┆           ┆           ┆          │\n",
       "│ …         ┆ …         ┆ …         ┆ …         ┆ … ┆ …         ┆ …         ┆ …         ┆ …        │\n",
       "│ Boto3/1.7 ┆ 46c1b41d- ┆ {\"IAMUser ┆ AwsApiCal ┆ … ┆ 2018-04-1 ┆ null      ┆ null      ┆ null     │\n",
       "│ .4 Python ┆ f7c6-4f18 ┆ \",\"AIDA9B ┆ l         ┆   ┆ 7T09:37:4 ┆           ┆           ┆          │\n",
       "│ /2.7.12   ┆ -9977-264 ┆ O36HFBHKG ┆           ┆   ┆ 4Z        ┆           ┆           ┆          │\n",
       "│ Linux/…   ┆ 9e12e…    ┆ JAO9C…    ┆           ┆   ┆           ┆           ┆           ┆          │\n",
       "│ Boto3/1.7 ┆ d4c67a34- ┆ {\"IAMUser ┆ AwsApiCal ┆ … ┆ 2018-04-1 ┆ null      ┆ null      ┆ null     │\n",
       "│ .4 Python ┆ 10b8-44b8 ┆ \",\"AIDA9B ┆ l         ┆   ┆ 7T09:40:5 ┆           ┆           ┆          │\n",
       "│ /2.7.12   ┆ -b82c-7c9 ┆ O36HFBHKG ┆           ┆   ┆ 1Z        ┆           ┆           ┆          │\n",
       "│ Linux/…   ┆ a5205…    ┆ JAO9C…    ┆           ┆   ┆           ┆           ┆           ┆          │\n",
       "│ ec2.amazo ┆ a17c90cc- ┆ {\"AWSServ ┆ AwsApiCal ┆ … ┆ 2018-04-1 ┆ null      ┆ null      ┆ null     │\n",
       "│ naws.com  ┆ 0358-49cd ┆ ice\",null ┆ l         ┆   ┆ 7T09:50:5 ┆           ┆           ┆          │\n",
       "│           ┆ -8401-49c ┆ ,null,nul ┆           ┆   ┆ 0Z        ┆           ┆           ┆          │\n",
       "│           ┆ 3d283…    ┆ l,nul…    ┆           ┆   ┆           ┆           ┆           ┆          │\n",
       "│ Boto3/1.7 ┆ ea56a3f5- ┆ {\"IAMUser ┆ AwsApiCal ┆ … ┆ 2018-04-1 ┆ null      ┆ null      ┆ null     │\n",
       "│ .4 Python ┆ 6a7a-4bec ┆ \",\"AIDA9B ┆ l         ┆   ┆ 7T10:08:5 ┆           ┆           ┆          │\n",
       "│ /2.7.12   ┆ -8ec7-9cd ┆ O36HFBHKG ┆           ┆   ┆ 8Z        ┆           ┆           ┆          │\n",
       "│ Linux/…   ┆ 61dce…    ┆ JAO9C…    ┆           ┆   ┆           ┆           ┆           ┆          │\n",
       "│ Boto3/1.7 ┆ 0d510fc5- ┆ {\"IAMUser ┆ AwsApiCal ┆ … ┆ 2018-04-1 ┆ null      ┆ null      ┆ null     │\n",
       "│ .4 Python ┆ 1f5d-4f93 ┆ \",\"AIDA9B ┆ l         ┆   ┆ 7T10:08:5 ┆           ┆           ┆          │\n",
       "│ /2.7.12   ┆ -9b74-26a ┆ O36HFBHKG ┆           ┆   ┆ 9Z        ┆           ┆           ┆          │\n",
       "│ Linux/…   ┆ f9b96…    ┆ JAO9C…    ┆           ┆   ┆           ┆           ┆           ┆          │\n",
       "└───────────┴───────────┴───────────┴───────────┴───┴───────────┴───────────┴───────────┴──────────┘"
      ]
     },
     "execution_count": 12,
     "metadata": {},
     "output_type": "execute_result"
    }
   ],
   "source": [
    "dlp.select(pl.col(\"*\")).filter(pl.col(\"errorCode\").is_null())"
   ]
  }
 ],
 "metadata": {
  "kernelspec": {
   "display_name": "Python 3 (ipykernel)",
   "language": "python",
   "name": "python3"
  },
  "language_info": {
   "codemirror_mode": {
    "name": "ipython",
    "version": 3
   },
   "file_extension": ".py",
   "mimetype": "text/x-python",
   "name": "python",
   "nbconvert_exporter": "python",
   "pygments_lexer": "ipython3",
   "version": "3.10.12"
  }
 },
 "nbformat": 4,
 "nbformat_minor": 5
}
