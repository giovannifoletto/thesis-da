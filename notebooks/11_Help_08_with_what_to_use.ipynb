{
 "cells": [
  {
   "cell_type": "code",
   "execution_count": 7,
   "metadata": {},
   "outputs": [
    {
     "name": "stderr",
     "output_type": "stream",
     "text": [
      "/home/rising/thesis-da/lib/python3.10/site-packages/polars/_cpu_check.py:232: RuntimeWarning: Missing required CPU features.\n",
      "\n",
      "The following required CPU features were not detected:\n",
      "    ssse3, sse4.1, sse4.2, popcnt\n",
      "Continuing to use this version of Polars on this processor will likely result in a crash.\n",
      "Install the `polars-lts-cpu` package instead of `polars` to run Polars with better compatibility.\n",
      "\n",
      "Hint: If you are on an Apple ARM machine (e.g. M1) this is likely due to running Python under Rosetta.\n",
      "It is recommended to install a native version of Python that does not run under Rosetta x86-64 emulation.\n",
      "\n",
      "If you believe this warning to be a false positive, you can set the `POLARS_SKIP_CPU_CHECK` environment variable to bypass this check.\n",
      "\n",
      "  warnings.warn(\n"
     ]
    }
   ],
   "source": [
    "import polars as pl"
   ]
  },
  {
   "cell_type": "code",
   "execution_count": 19,
   "metadata": {},
   "outputs": [],
   "source": [
    "dlp = pl.read_ndjson(\"../data/raw/flaws_cloudtrail02.ndjson\")"
   ]
  },
  {
   "cell_type": "code",
   "execution_count": 23,
   "metadata": {},
   "outputs": [
    {
     "data": {
      "text/plain": [
       "(200000, 17)"
      ]
     },
     "execution_count": 23,
     "metadata": {},
     "output_type": "execute_result"
    }
   ],
   "source": [
    "dlp.shape"
   ]
  },
  {
   "cell_type": "code",
   "execution_count": 10,
   "metadata": {},
   "outputs": [
    {
     "data": {
      "text/plain": [
       "['userAgent',\n",
       " 'eventID',\n",
       " 'userIdentity',\n",
       " 'eventType',\n",
       " 'sourceIPAddress',\n",
       " 'eventName',\n",
       " 'eventSource',\n",
       " 'recipientAccountId',\n",
       " 'requestParameters',\n",
       " 'awsRegion',\n",
       " 'requestID',\n",
       " 'responseElements',\n",
       " 'eventVersion',\n",
       " 'eventTime',\n",
       " 'errorMessage',\n",
       " 'errorCode',\n",
       " 'apiVersion']"
      ]
     },
     "execution_count": 10,
     "metadata": {},
     "output_type": "execute_result"
    }
   ],
   "source": [
    "dlp.columns"
   ]
  },
  {
   "cell_type": "code",
   "execution_count": 20,
   "metadata": {},
   "outputs": [
    {
     "data": {
      "text/html": [
       "<div><style>\n",
       ".dataframe > thead > tr,\n",
       ".dataframe > tbody > tr {\n",
       "  text-align: right;\n",
       "  white-space: pre-wrap;\n",
       "}\n",
       "</style>\n",
       "<small>shape: (1, 1)</small><table border=\"1\" class=\"dataframe\"><thead><tr><th>errorMessage</th></tr><tr><td>u32</td></tr></thead><tbody><tr><td>162839</td></tr></tbody></table></div>"
      ],
      "text/plain": [
       "shape: (1, 1)\n",
       "┌──────────────┐\n",
       "│ errorMessage │\n",
       "│ ---          │\n",
       "│ u32          │\n",
       "╞══════════════╡\n",
       "│ 162839       │\n",
       "└──────────────┘"
      ]
     },
     "execution_count": 20,
     "metadata": {},
     "output_type": "execute_result"
    }
   ],
   "source": [
    "dlp.select(\"errorMessage\").null_count()"
   ]
  },
  {
   "cell_type": "code",
   "execution_count": 21,
   "metadata": {},
   "outputs": [
    {
     "data": {
      "text/html": [
       "<div><style>\n",
       ".dataframe > thead > tr,\n",
       ".dataframe > tbody > tr {\n",
       "  text-align: right;\n",
       "  white-space: pre-wrap;\n",
       "}\n",
       "</style>\n",
       "<small>shape: (1, 1)</small><table border=\"1\" class=\"dataframe\"><thead><tr><th>errorCode</th></tr><tr><td>u32</td></tr></thead><tbody><tr><td>161768</td></tr></tbody></table></div>"
      ],
      "text/plain": [
       "shape: (1, 1)\n",
       "┌───────────┐\n",
       "│ errorCode │\n",
       "│ ---       │\n",
       "│ u32       │\n",
       "╞═══════════╡\n",
       "│ 161768    │\n",
       "└───────────┘"
      ]
     },
     "execution_count": 21,
     "metadata": {},
     "output_type": "execute_result"
    }
   ],
   "source": [
    "dlp.select(\"errorCode\").null_count()"
   ]
  },
  {
   "cell_type": "code",
   "execution_count": 22,
   "metadata": {},
   "outputs": [
    {
     "data": {
      "text/plain": [
       "(161751, 17)"
      ]
     },
     "execution_count": 22,
     "metadata": {},
     "output_type": "execute_result"
    }
   ],
   "source": [
    "dlp.filter(pl.col(\"errorMessage\").is_null() & pl.col(\"errorCode\").is_null()).shape"
   ]
  },
  {
   "cell_type": "code",
   "execution_count": 18,
   "metadata": {},
   "outputs": [
    {
     "data": {
      "text/plain": [
       "(57154, 17)"
      ]
     },
     "execution_count": 18,
     "metadata": {},
     "output_type": "execute_result"
    }
   ],
   "source": [
    "dlp.filter(\n",
    "    pl.col(\"errorMessage\").is_null() & \n",
    "    pl.col(\"errorCode\").is_null() & \n",
    "    pl.col(\"responseElements\").is_null() &\n",
    "    pl.col(\"requestParameters\").is_null()\n",
    "    ).shape"
   ]
  },
  {
   "cell_type": "code",
   "execution_count": 3,
   "metadata": {},
   "outputs": [
    {
     "name": "stderr",
     "output_type": "stream",
     "text": [
      "/tmp/ipykernel_18589/1177998677.py:1: DeprecationWarning: \n",
      "Pyarrow will become a required dependency of pandas in the next major release of pandas (pandas 3.0),\n",
      "(to allow more performant data types, such as the Arrow string type, and better interoperability with other libraries)\n",
      "but was not found to be installed on your system.\n",
      "If this would cause problems for you,\n",
      "please provide us feedback at https://github.com/pandas-dev/pandas/issues/54466\n",
      "        \n",
      "  import pandas as pd\n"
     ]
    }
   ],
   "source": [
    "import pandas as pd\n",
    "import json"
   ]
  },
  {
   "cell_type": "code",
   "execution_count": 4,
   "metadata": {},
   "outputs": [],
   "source": [
    "json_obj = []\n",
    "\n",
    "with open(\"../data/raw/flaws_cloudtrail00.json\") as ifile:\n",
    "    jfile = json.loads(\"\".join(ifile.readlines()))\n",
    "    for i in jfile[\"Records\"]:\n",
    "        json_obj.append(i)\n",
    "\n",
    "df = pd.DataFrame(json_obj) "
   ]
  },
  {
   "cell_type": "code",
   "execution_count": 33,
   "metadata": {},
   "outputs": [],
   "source": [
    "df.describe()"
   ]
  },
  {
   "cell_type": "code",
   "execution_count": 5,
   "metadata": {},
   "outputs": [
    {
     "data": {
      "text/html": [
       "<div>\n",
       "<style scoped>\n",
       "    .dataframe tbody tr th:only-of-type {\n",
       "        vertical-align: middle;\n",
       "    }\n",
       "\n",
       "    .dataframe tbody tr th {\n",
       "        vertical-align: top;\n",
       "    }\n",
       "\n",
       "    .dataframe thead th {\n",
       "        text-align: right;\n",
       "    }\n",
       "</style>\n",
       "<table border=\"1\" class=\"dataframe\">\n",
       "  <thead>\n",
       "    <tr style=\"text-align: right;\">\n",
       "      <th></th>\n",
       "      <th>userAgent</th>\n",
       "      <th>eventID</th>\n",
       "      <th>userIdentity</th>\n",
       "      <th>eventType</th>\n",
       "      <th>sourceIPAddress</th>\n",
       "      <th>eventName</th>\n",
       "      <th>eventSource</th>\n",
       "      <th>recipientAccountId</th>\n",
       "      <th>requestParameters</th>\n",
       "      <th>awsRegion</th>\n",
       "      <th>...</th>\n",
       "      <th>eventVersion</th>\n",
       "      <th>eventTime</th>\n",
       "      <th>errorMessage</th>\n",
       "      <th>errorCode</th>\n",
       "      <th>apiVersion</th>\n",
       "      <th>readOnly</th>\n",
       "      <th>resources</th>\n",
       "      <th>additionalEventData</th>\n",
       "      <th>sharedEventID</th>\n",
       "      <th>vpcEndpointId</th>\n",
       "    </tr>\n",
       "  </thead>\n",
       "  <tbody>\n",
       "    <tr>\n",
       "      <th>0</th>\n",
       "      <td>[S3Console/0.4]</td>\n",
       "      <td>3038ebd2-c98a-4c65-9b6e-e22506292313</td>\n",
       "      <td>{'type': 'Root', 'principalId': '811596193553'...</td>\n",
       "      <td>AwsApiCall</td>\n",
       "      <td>255.253.125.115</td>\n",
       "      <td>ListBuckets</td>\n",
       "      <td>s3.amazonaws.com</td>\n",
       "      <td>811596193553</td>\n",
       "      <td>None</td>\n",
       "      <td>us-east-1</td>\n",
       "      <td>...</td>\n",
       "      <td>1.04</td>\n",
       "      <td>2017-02-12T19:57:06Z</td>\n",
       "      <td>NaN</td>\n",
       "      <td>NaN</td>\n",
       "      <td>NaN</td>\n",
       "      <td>NaN</td>\n",
       "      <td>NaN</td>\n",
       "      <td>NaN</td>\n",
       "      <td>NaN</td>\n",
       "      <td>NaN</td>\n",
       "    </tr>\n",
       "    <tr>\n",
       "      <th>1</th>\n",
       "      <td>console.amazonaws.com</td>\n",
       "      <td>22a0d9b1-deea-4d39-827b-2af7050ed3f3</td>\n",
       "      <td>{'type': 'Root', 'principalId': '811596193553'...</td>\n",
       "      <td>AwsApiCall</td>\n",
       "      <td>255.253.125.115</td>\n",
       "      <td>GetAccountPasswordPolicy</td>\n",
       "      <td>iam.amazonaws.com</td>\n",
       "      <td>811596193553</td>\n",
       "      <td>None</td>\n",
       "      <td>us-east-1</td>\n",
       "      <td>...</td>\n",
       "      <td>1.02</td>\n",
       "      <td>2017-02-12T19:59:10Z</td>\n",
       "      <td>The Password Policy with domain name 811596193...</td>\n",
       "      <td>NoSuchEntityException</td>\n",
       "      <td>NaN</td>\n",
       "      <td>NaN</td>\n",
       "      <td>NaN</td>\n",
       "      <td>NaN</td>\n",
       "      <td>NaN</td>\n",
       "      <td>NaN</td>\n",
       "    </tr>\n",
       "    <tr>\n",
       "      <th>2</th>\n",
       "      <td>console.amazonaws.com</td>\n",
       "      <td>9facf7ca-cb76-4b19-940c-3de6803f7efb</td>\n",
       "      <td>{'type': 'Root', 'principalId': '811596193553'...</td>\n",
       "      <td>AwsApiCall</td>\n",
       "      <td>255.253.125.115</td>\n",
       "      <td>GetAccountSummary</td>\n",
       "      <td>iam.amazonaws.com</td>\n",
       "      <td>811596193553</td>\n",
       "      <td>None</td>\n",
       "      <td>us-east-1</td>\n",
       "      <td>...</td>\n",
       "      <td>1.02</td>\n",
       "      <td>2017-02-12T19:59:10Z</td>\n",
       "      <td>NaN</td>\n",
       "      <td>NaN</td>\n",
       "      <td>NaN</td>\n",
       "      <td>NaN</td>\n",
       "      <td>NaN</td>\n",
       "      <td>NaN</td>\n",
       "      <td>NaN</td>\n",
       "      <td>NaN</td>\n",
       "    </tr>\n",
       "    <tr>\n",
       "      <th>3</th>\n",
       "      <td>console.amazonaws.com</td>\n",
       "      <td>6596d3b4-7c98-40b1-867d-f317f1dbdc18</td>\n",
       "      <td>{'type': 'Root', 'principalId': '811596193553'...</td>\n",
       "      <td>AwsApiCall</td>\n",
       "      <td>255.253.125.115</td>\n",
       "      <td>ListAccountAliases</td>\n",
       "      <td>iam.amazonaws.com</td>\n",
       "      <td>811596193553</td>\n",
       "      <td>None</td>\n",
       "      <td>us-east-1</td>\n",
       "      <td>...</td>\n",
       "      <td>1.02</td>\n",
       "      <td>2017-02-12T19:59:10Z</td>\n",
       "      <td>NaN</td>\n",
       "      <td>NaN</td>\n",
       "      <td>NaN</td>\n",
       "      <td>NaN</td>\n",
       "      <td>NaN</td>\n",
       "      <td>NaN</td>\n",
       "      <td>NaN</td>\n",
       "      <td>NaN</td>\n",
       "    </tr>\n",
       "    <tr>\n",
       "      <th>4</th>\n",
       "      <td>console.amazonaws.com</td>\n",
       "      <td>9f9d038c-e5a5-443e-83d5-4cf00941d399</td>\n",
       "      <td>{'type': 'Root', 'principalId': '811596193553'...</td>\n",
       "      <td>AwsApiCall</td>\n",
       "      <td>255.253.125.115</td>\n",
       "      <td>ListMFADevices</td>\n",
       "      <td>iam.amazonaws.com</td>\n",
       "      <td>811596193553</td>\n",
       "      <td>None</td>\n",
       "      <td>us-east-1</td>\n",
       "      <td>...</td>\n",
       "      <td>1.02</td>\n",
       "      <td>2017-02-12T19:59:10Z</td>\n",
       "      <td>NaN</td>\n",
       "      <td>NaN</td>\n",
       "      <td>NaN</td>\n",
       "      <td>NaN</td>\n",
       "      <td>NaN</td>\n",
       "      <td>NaN</td>\n",
       "      <td>NaN</td>\n",
       "      <td>NaN</td>\n",
       "    </tr>\n",
       "  </tbody>\n",
       "</table>\n",
       "<p>5 rows × 22 columns</p>\n",
       "</div>"
      ],
      "text/plain": [
       "               userAgent                               eventID  \\\n",
       "0        [S3Console/0.4]  3038ebd2-c98a-4c65-9b6e-e22506292313   \n",
       "1  console.amazonaws.com  22a0d9b1-deea-4d39-827b-2af7050ed3f3   \n",
       "2  console.amazonaws.com  9facf7ca-cb76-4b19-940c-3de6803f7efb   \n",
       "3  console.amazonaws.com  6596d3b4-7c98-40b1-867d-f317f1dbdc18   \n",
       "4  console.amazonaws.com  9f9d038c-e5a5-443e-83d5-4cf00941d399   \n",
       "\n",
       "                                        userIdentity   eventType  \\\n",
       "0  {'type': 'Root', 'principalId': '811596193553'...  AwsApiCall   \n",
       "1  {'type': 'Root', 'principalId': '811596193553'...  AwsApiCall   \n",
       "2  {'type': 'Root', 'principalId': '811596193553'...  AwsApiCall   \n",
       "3  {'type': 'Root', 'principalId': '811596193553'...  AwsApiCall   \n",
       "4  {'type': 'Root', 'principalId': '811596193553'...  AwsApiCall   \n",
       "\n",
       "   sourceIPAddress                 eventName        eventSource  \\\n",
       "0  255.253.125.115               ListBuckets   s3.amazonaws.com   \n",
       "1  255.253.125.115  GetAccountPasswordPolicy  iam.amazonaws.com   \n",
       "2  255.253.125.115         GetAccountSummary  iam.amazonaws.com   \n",
       "3  255.253.125.115        ListAccountAliases  iam.amazonaws.com   \n",
       "4  255.253.125.115            ListMFADevices  iam.amazonaws.com   \n",
       "\n",
       "  recipientAccountId requestParameters  awsRegion  ... eventVersion  \\\n",
       "0       811596193553              None  us-east-1  ...         1.04   \n",
       "1       811596193553              None  us-east-1  ...         1.02   \n",
       "2       811596193553              None  us-east-1  ...         1.02   \n",
       "3       811596193553              None  us-east-1  ...         1.02   \n",
       "4       811596193553              None  us-east-1  ...         1.02   \n",
       "\n",
       "              eventTime                                       errorMessage  \\\n",
       "0  2017-02-12T19:57:06Z                                                NaN   \n",
       "1  2017-02-12T19:59:10Z  The Password Policy with domain name 811596193...   \n",
       "2  2017-02-12T19:59:10Z                                                NaN   \n",
       "3  2017-02-12T19:59:10Z                                                NaN   \n",
       "4  2017-02-12T19:59:10Z                                                NaN   \n",
       "\n",
       "               errorCode apiVersion readOnly resources additionalEventData  \\\n",
       "0                    NaN        NaN      NaN       NaN                 NaN   \n",
       "1  NoSuchEntityException        NaN      NaN       NaN                 NaN   \n",
       "2                    NaN        NaN      NaN       NaN                 NaN   \n",
       "3                    NaN        NaN      NaN       NaN                 NaN   \n",
       "4                    NaN        NaN      NaN       NaN                 NaN   \n",
       "\n",
       "  sharedEventID vpcEndpointId  \n",
       "0           NaN           NaN  \n",
       "1           NaN           NaN  \n",
       "2           NaN           NaN  \n",
       "3           NaN           NaN  \n",
       "4           NaN           NaN  \n",
       "\n",
       "[5 rows x 22 columns]"
      ]
     },
     "execution_count": 5,
     "metadata": {},
     "output_type": "execute_result"
    }
   ],
   "source": [
    "df.head()"
   ]
  }
 ],
 "metadata": {
  "kernelspec": {
   "display_name": "thesis-da",
   "language": "python",
   "name": "python3"
  },
  "language_info": {
   "codemirror_mode": {
    "name": "ipython",
    "version": 3
   },
   "file_extension": ".py",
   "mimetype": "text/x-python",
   "name": "python",
   "nbconvert_exporter": "python",
   "pygments_lexer": "ipython3",
   "version": "3.10.12"
  }
 },
 "nbformat": 4,
 "nbformat_minor": 2
}
