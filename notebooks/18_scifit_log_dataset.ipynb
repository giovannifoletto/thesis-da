{
 "cells": [
  {
   "cell_type": "markdown",
   "metadata": {},
   "source": [
    "# Try SciFit with Log dataset\n",
    "\n",
    "The goal is to understand if the SciFit model can works with different and more complex dataset, like the logs we are using.\n",
    "The approach is similar to the LogPrecis application, but more hand-down approach with low/none-application specific analysis\n",
    "blind few-shot classification operations.\n",
    "\n",
    "## We need to TEST\n",
    "https://github.com/r-three/t-few/blob/master/src/pl_train.py"
   ]
  },
  {
   "cell_type": "code",
   "execution_count": 30,
   "metadata": {},
   "outputs": [],
   "source": [
    "import polars as pl\n",
    "import numpy as np\n",
    "import pandas as pd\n",
    "\n",
    "import json\n",
    "from copy import deepcopy as dp\n",
    "\n",
    "from datasets import load_dataset, IterableDataset \n",
    "from datasets import Dataset as hfDataset\n",
    "from sentence_transformers.losses import CosineSimilarityLoss\n",
    "\n",
    "import torch\n",
    "import torch.nn as nn\n",
    "import torchtext as tt\n",
    "from torchtext.data.utils import get_tokenizer\n",
    "from torch.utils.data import Dataset, DataLoader\n",
    "\n",
    "from setfit import SetFitModel, Trainer, TrainingArguments\n",
    "\n",
    "import math"
   ]
  },
  {
   "cell_type": "code",
   "execution_count": 2,
   "metadata": {},
   "outputs": [],
   "source": [
    "log_location = {\n",
    "    \"train\": \"/home/rising/2024-06-21-category-1-sorted-cplabels.json\",\n",
    "    \"evaluation\": \"/home/rising/2024-06-21-random-luis-matteo.json\"\n",
    "}"
   ]
  },
  {
   "cell_type": "code",
   "execution_count": 3,
   "metadata": {},
   "outputs": [],
   "source": [
    "def import_from_json(log_location):\n",
    "\tdata = list()\n",
    "\twith open(log_location) as log_file:\n",
    "\t\tlog_lines = log_file.readlines()\n",
    "\t\tfor line in log_lines:\n",
    "\t\t\told_obj = json.loads(line)\n",
    "\n",
    "\t\t\tnew_obj = dict()\n",
    "\n",
    "\t\t\ttry:\n",
    "\t\t\t\tnew_obj['label'] = old_obj['label']\n",
    "\t\t\t\tnew_obj['log'] = dp(old_obj)\n",
    "\t\t\t\tnew_obj['log'].pop('label', None)\n",
    "\n",
    "\t\t\t\tnew_obj['log'] = json.dumps(new_obj['log'])\n",
    "\t\t\t\tnew_obj['text-label'] = 'label-n-' + str(old_obj['label'])\n",
    "\t\t\texcept KeyError:\n",
    "\t\t\t\tnew_obj['log'] = dp(old_obj)\n",
    "\t\t\t\tnew_obj['log'].pop('label', None)\n",
    "\n",
    "\t\t\t\tnew_obj['log'] = json.dumps(new_obj['log'])\n",
    "\n",
    "\t\t\tdata.append(new_obj)\n",
    "\n",
    "\treturn data"
   ]
  },
  {
   "cell_type": "code",
   "execution_count": 4,
   "metadata": {},
   "outputs": [],
   "source": [
    "df = pl.DataFrame(import_from_json(log_location[\"train\"]))"
   ]
  },
  {
   "cell_type": "code",
   "execution_count": 5,
   "metadata": {},
   "outputs": [
    {
     "data": {
      "text/html": [
       "<div><style>\n",
       ".dataframe > thead > tr,\n",
       ".dataframe > tbody > tr {\n",
       "  text-align: right;\n",
       "  white-space: pre-wrap;\n",
       "}\n",
       "</style>\n",
       "<small>shape: (5, 3)</small><table border=\"1\" class=\"dataframe\"><thead><tr><th>label</th><th>log</th><th>text-label</th></tr><tr><td>i64</td><td>str</td><td>str</td></tr></thead><tbody><tr><td>3694672</td><td>&quot;{&quot;kind&quot;: &quot;Even…</td><td>&quot;label-n-369467…</td></tr><tr><td>4176</td><td>&quot;{&quot;kind&quot;: &quot;Even…</td><td>&quot;label-n-4176&quot;</td></tr><tr><td>61648</td><td>&quot;{&quot;kind&quot;: &quot;Even…</td><td>&quot;label-n-61648&quot;</td></tr><tr><td>151632</td><td>&quot;{&quot;kind&quot;: &quot;Even…</td><td>&quot;label-n-151632…</td></tr><tr><td>3280976</td><td>&quot;{&quot;kind&quot;: &quot;Even…</td><td>&quot;label-n-328097…</td></tr></tbody></table></div>"
      ],
      "text/plain": [
       "shape: (5, 3)\n",
       "┌─────────┬───────────────────────────────────┬─────────────────┐\n",
       "│ label   ┆ log                               ┆ text-label      │\n",
       "│ ---     ┆ ---                               ┆ ---             │\n",
       "│ i64     ┆ str                               ┆ str             │\n",
       "╞═════════╪═══════════════════════════════════╪═════════════════╡\n",
       "│ 3694672 ┆ {\"kind\": \"Event\", \"apiVersion\": … ┆ label-n-3694672 │\n",
       "│ 4176    ┆ {\"kind\": \"Event\", \"apiVersion\": … ┆ label-n-4176    │\n",
       "│ 61648   ┆ {\"kind\": \"Event\", \"apiVersion\": … ┆ label-n-61648   │\n",
       "│ 151632  ┆ {\"kind\": \"Event\", \"apiVersion\": … ┆ label-n-151632  │\n",
       "│ 3280976 ┆ {\"kind\": \"Event\", \"apiVersion\": … ┆ label-n-3280976 │\n",
       "└─────────┴───────────────────────────────────┴─────────────────┘"
      ]
     },
     "execution_count": 5,
     "metadata": {},
     "output_type": "execute_result"
    }
   ],
   "source": [
    "df.head()"
   ]
  },
  {
   "cell_type": "code",
   "execution_count": 6,
   "metadata": {},
   "outputs": [
    {
     "data": {
      "text/html": [
       "<div><style>\n",
       ".dataframe > thead > tr,\n",
       ".dataframe > tbody > tr {\n",
       "  text-align: right;\n",
       "  white-space: pre-wrap;\n",
       "}\n",
       "</style>\n",
       "<small>shape: (114, 2)</small><table border=\"1\" class=\"dataframe\"><thead><tr><th>label</th><th>count</th></tr><tr><td>i64</td><td>u32</td></tr></thead><tbody><tr><td>24992</td><td>8</td></tr><tr><td>98384</td><td>7</td></tr><tr><td>3695024</td><td>114</td></tr><tr><td>4512</td><td>93</td></tr><tr><td>3702864</td><td>7</td></tr><tr><td>&hellip;</td><td>&hellip;</td></tr><tr><td>147536</td><td>5</td></tr><tr><td>49168</td><td>3</td></tr><tr><td>-2</td><td>166</td></tr><tr><td>3702832</td><td>1</td></tr><tr><td>65616</td><td>3</td></tr></tbody></table></div>"
      ],
      "text/plain": [
       "shape: (114, 2)\n",
       "┌─────────┬───────┐\n",
       "│ label   ┆ count │\n",
       "│ ---     ┆ ---   │\n",
       "│ i64     ┆ u32   │\n",
       "╞═════════╪═══════╡\n",
       "│ 24992   ┆ 8     │\n",
       "│ 98384   ┆ 7     │\n",
       "│ 3695024 ┆ 114   │\n",
       "│ 4512    ┆ 93    │\n",
       "│ 3702864 ┆ 7     │\n",
       "│ …       ┆ …     │\n",
       "│ 147536  ┆ 5     │\n",
       "│ 49168   ┆ 3     │\n",
       "│ -2      ┆ 166   │\n",
       "│ 3702832 ┆ 1     │\n",
       "│ 65616   ┆ 3     │\n",
       "└─────────┴───────┘"
      ]
     },
     "execution_count": 6,
     "metadata": {},
     "output_type": "execute_result"
    }
   ],
   "source": [
    "df.select(pl.col(\"label\").value_counts()).unnest(\"label\")"
   ]
  },
  {
   "cell_type": "code",
   "execution_count": 7,
   "metadata": {},
   "outputs": [
    {
     "data": {
      "text/plain": [
       "(4473, 3)"
      ]
     },
     "execution_count": 7,
     "metadata": {},
     "output_type": "execute_result"
    }
   ],
   "source": [
    "df.shape"
   ]
  },
  {
   "cell_type": "code",
   "execution_count": 8,
   "metadata": {},
   "outputs": [
    {
     "data": {
      "text/plain": [
       "3354"
      ]
     },
     "execution_count": 8,
     "metadata": {},
     "output_type": "execute_result"
    }
   ],
   "source": [
    "train_over_test_ratio = math.floor(0.75 * df.shape[0])\n",
    "train_over_test_ratio"
   ]
  },
  {
   "cell_type": "code",
   "execution_count": 15,
   "metadata": {},
   "outputs": [
    {
     "data": {
      "text/plain": [
       "(array([['{\"kind\": \"Event\", \"apiVersion\": \"audit.k8s.io/v1\", \"level\": \"RequestResponse\", \"auditID\": \"0ec16783-6b73-4e80-8a39-2dd9265d37fd\", \"stage\": \"ResponseComplete\", \"requestURI\": \"/api/v1/endpoints?allowWatchBookmarks=true&resourceVersion=2219852&timeout=8m58s&timeoutSeconds=538&watch=true\", \"verb\": \"watch\", \"user\": {\"username\": \"system:apiserver\", \"uid\": \"3debce64-170e-4de3-8a01-219a85be9879\", \"groups\": [\"system:masters\"]}, \"sourceIPs\": [\"::1\"], \"userAgent\": \"kube-apiserver/v1.28.7 (linux/amd64) kubernetes/c8dcb00\", \"objectRef\": {\"resource\": \"endpoints\", \"apiVersion\": \"v1\", \"namespace\": null, \"apiGroup\": \"core\"}, \"responseStatus\": {\"metadata\": {}, \"code\": 200}, \"requestReceivedTimestamp\": \"2024-05-28T09:15:35.273102Z\", \"stageTimestamp\": \"2024-05-28T09:24:33.274576Z\", \"annotations\": {\"authorization.k8s.io/decision\": \"allow\", \"authorization.k8s.io/reason\": \"\"}}',\n",
       "         'label-n-3694672'],\n",
       "        ['{\"kind\": \"Event\", \"apiVersion\": \"audit.k8s.io/v1\", \"level\": \"RequestResponse\", \"auditID\": \"711e70a1-14da-4278-aded-3b3e39e50ce8\", \"stage\": \"ResponseComplete\", \"requestURI\": \"/api/v1/pods?allowWatchBookmarks=true&fieldSelector=spec.nodeName%3Dkubeadm-worker1&resourceVersion=2219850&timeoutSeconds=556&watch=true\", \"verb\": \"watch\", \"user\": {\"username\": \"system:node:kubeadm-worker1\", \"groups\": [\"system:nodes\", \"system:authenticated\"]}, \"sourceIPs\": [\"192.168.38.11\"], \"userAgent\": \"kubelet/v1.28.6 (linux/amd64) kubernetes/be3af46\", \"objectRef\": {\"resource\": \"pods\", \"apiVersion\": \"v1\", \"namespace\": null, \"apiGroup\": \"core\"}, \"responseStatus\": {\"metadata\": {}, \"code\": 200}, \"requestReceivedTimestamp\": \"2024-05-28T09:15:35.367095Z\", \"stageTimestamp\": \"2024-05-28T09:24:51.369969Z\", \"annotations\": {\"authorization.k8s.io/decision\": \"allow\", \"authorization.k8s.io/reason\": \"\"}}',\n",
       "         'label-n-4176'],\n",
       "        ['{\"kind\": \"Event\", \"apiVersion\": \"audit.k8s.io/v1\", \"level\": \"RequestResponse\", \"auditID\": \"a99467f4-6fea-4cb8-8102-df98b30ca578\", \"stage\": \"ResponseComplete\", \"requestURI\": \"/api/v1/nodes?allowWatchBookmarks=true&fieldSelector=metadata.name%3Dkubeadm-worker1&resourceVersion=2219868&timeout=9m53s&timeoutSeconds=593&watch=true\", \"verb\": \"watch\", \"user\": {\"username\": \"system:serviceaccount:kube-system:kube-proxy\", \"uid\": \"cb18fb81-d800-4ad6-a402-a6799ce5a4a1\", \"groups\": [\"system:serviceaccounts\", \"system:serviceaccounts:kube-system\", \"system:authenticated\"], \"extra\": {\"authentication.kubernetes.io/pod-name\": [\"kube-proxy-r85g2\"], \"authentication.kubernetes.io/pod-uid\": [\"68cf9d6d-e034-4458-8882-5cca862435b1\"]}}, \"sourceIPs\": [\"192.168.38.11\"], \"userAgent\": \"kube-proxy/v1.28.7 (linux/amd64) kubernetes/c8dcb00\", \"objectRef\": {\"resource\": \"nodes\", \"name\": \"kubeadm-worker1\", \"apiVersion\": \"v1\", \"namespace\": null, \"apiGroup\": \"core\"}, \"responseStatus\": {\"metadata\": {}, \"code\": 200}, \"requestReceivedTimestamp\": \"2024-05-28T09:15:45.676840Z\", \"stageTimestamp\": \"2024-05-28T09:25:38.680012Z\", \"annotations\": {\"authorization.k8s.io/decision\": \"allow\", \"authorization.k8s.io/reason\": \"RBAC: allowed by ClusterRoleBinding \\\\\"kubeadm:node-proxier\\\\\" of ClusterRole \\\\\"system:node-proxier\\\\\" to ServiceAccount \\\\\"kube-proxy/kube-system\\\\\"\"}}',\n",
       "         'label-n-61648'],\n",
       "        ...,\n",
       "        ['{\"kind\": \"Event\", \"apiVersion\": \"audit.k8s.io/v1\", \"level\": \"RequestResponse\", \"auditID\": \"e0a5f784-eeef-41cd-8357-dc583075a3fd\", \"stage\": \"ResponseComplete\", \"requestURI\": \"/apis/coordination.k8s.io/v1/namespaces/kube-system/leases/kube-scheduler?timeout=5s\", \"verb\": \"update\", \"user\": {\"username\": \"system:kube-scheduler\", \"groups\": [\"system:authenticated\"]}, \"sourceIPs\": [\"192.168.38.9\"], \"userAgent\": \"kube-scheduler/v1.28.7 (linux/amd64) kubernetes/c8dcb00/leader-election\", \"objectRef\": {\"resource\": \"leases\", \"namespace\": \"kube-system\", \"name\": \"kube-scheduler\", \"uid\": \"76cad05e-fbec-4503-88ab-21e9ec9d38fa\", \"apiGroup\": \"coordination.k8s.io\", \"apiVersion\": \"v1\", \"resourceVersion\": \"5313244\"}, \"responseStatus\": {\"metadata\": {}, \"code\": 200}, \"requestObject\": {\"kind\": \"Lease\", \"apiVersion\": \"coordination.k8s.io/v1\", \"metadata\": {\"name\": \"kube-scheduler\", \"namespace\": \"kube-system\", \"uid\": \"76cad05e-fbec-4503-88ab-21e9ec9d38fa\", \"resourceVersion\": \"5313244\", \"creationTimestamp\": \"2024-02-19T08:50:48Z\", \"managedFields\": [{\"manager\": \"kube-scheduler\", \"operation\": \"Update\", \"apiVersion\": \"coordination.k8s.io/v1\", \"time\": \"2024-06-21T07:09:36Z\", \"fieldsType\": \"FieldsV1\", \"fieldsV1\": {\"f:spec\": {\"f:acquireTime\": {}, \"f:holderIdentity\": {}, \"f:leaseDurationSeconds\": {}, \"f:leaseTransitions\": {}, \"f:renewTime\": {}}}}]}, \"spec\": {\"holderIdentity\": \"kubeadm-master_379520dd-74f4-4e64-8a6c-6ccf4be0acc2\", \"leaseDurationSeconds\": 15, \"acquireTime\": \"2024-06-13T12:30:21.633881Z\", \"renewTime\": \"2024-06-21T07:09:38.270136Z\", \"leaseTransitions\": 20}}, \"responseObject\": {\"kind\": \"Lease\", \"apiVersion\": \"coordination.k8s.io/v1\", \"metadata\": {\"name\": \"kube-scheduler\", \"namespace\": \"kube-system\", \"uid\": \"76cad05e-fbec-4503-88ab-21e9ec9d38fa\", \"resourceVersion\": \"5313248\", \"creationTimestamp\": \"2024-02-19T08:50:48Z\", \"managedFields\": [{\"manager\": \"kube-scheduler\", \"operation\": \"Update\", \"apiVersion\": \"coordination.k8s.io/v1\", \"time\": \"2024-06-21T07:09:38Z\", \"fieldsType\": \"FieldsV1\", \"fieldsV1\": {\"f:spec\": {\"f:acquireTime\": {}, \"f:holderIdentity\": {}, \"f:leaseDurationSeconds\": {}, \"f:leaseTransitions\": {}, \"f:renewTime\": {}}}}]}, \"spec\": {\"holderIdentity\": \"kubeadm-master_379520dd-74f4-4e64-8a6c-6ccf4be0acc2\", \"leaseDurationSeconds\": 15, \"acquireTime\": \"2024-06-13T12:30:21.633881Z\", \"renewTime\": \"2024-06-21T07:09:38.270136Z\", \"leaseTransitions\": 20}}, \"requestReceivedTimestamp\": \"2024-06-21T07:09:38.277712Z\", \"stageTimestamp\": \"2024-06-21T07:09:38.291259Z\", \"annotations\": {\"authorization.k8s.io/decision\": \"allow\", \"authorization.k8s.io/reason\": \"RBAC: allowed by ClusterRoleBinding \\\\\"system:kube-scheduler\\\\\" of ClusterRole \\\\\"system:kube-scheduler\\\\\" to User \\\\\"system:kube-scheduler\\\\\"\"}}',\n",
       "         'label-n-119232'],\n",
       "        ['{\"kind\": \"Event\", \"apiVersion\": \"audit.k8s.io/v1\", \"level\": \"RequestResponse\", \"auditID\": \"520afed5-7874-4f6f-b7ed-e4b83d254b55\", \"stage\": \"ResponseComplete\", \"requestURI\": \"/apis/coordination.k8s.io/v1/namespaces/kube-system/leases/kube-controller-manager?timeout=5s\", \"verb\": \"get\", \"user\": {\"username\": \"system:kube-controller-manager\", \"groups\": [\"system:authenticated\"]}, \"sourceIPs\": [\"192.168.38.9\"], \"userAgent\": \"kube-controller-manager/v1.28.7 (linux/amd64) kubernetes/c8dcb00/leader-election\", \"objectRef\": {\"resource\": \"leases\", \"namespace\": \"kube-system\", \"name\": \"kube-controller-manager\", \"apiGroup\": \"coordination.k8s.io\", \"apiVersion\": \"v1\"}, \"responseStatus\": {\"metadata\": {}, \"code\": 200}, \"responseObject\": {\"kind\": \"Lease\", \"apiVersion\": \"coordination.k8s.io/v1\", \"metadata\": {\"name\": \"kube-controller-manager\", \"namespace\": \"kube-system\", \"uid\": \"774a1d00-f6da-4af8-9e98-d3f07aab0c3e\", \"resourceVersion\": \"5313245\", \"creationTimestamp\": \"2024-02-19T08:50:48Z\", \"managedFields\": [{\"manager\": \"kube-controller-manager\", \"operation\": \"Update\", \"apiVersion\": \"coordination.k8s.io/v1\", \"time\": \"2024-06-21T07:09:36Z\", \"fieldsType\": \"FieldsV1\", \"fieldsV1\": {\"f:spec\": {\"f:acquireTime\": {}, \"f:holderIdentity\": {}, \"f:leaseDurationSeconds\": {}, \"f:leaseTransitions\": {}, \"f:renewTime\": {}}}}]}, \"spec\": {\"holderIdentity\": \"kubeadm-master_4bb3bd16-c1f2-438a-b932-c6632585f2de\", \"leaseDurationSeconds\": 15, \"acquireTime\": \"2024-06-13T12:29:29.965503Z\", \"renewTime\": \"2024-06-21T07:09:36.262085Z\", \"leaseTransitions\": 20}}, \"requestReceivedTimestamp\": \"2024-06-21T07:09:38.278669Z\", \"stageTimestamp\": \"2024-06-21T07:09:38.282106Z\", \"annotations\": {\"authorization.k8s.io/decision\": \"allow\", \"authorization.k8s.io/reason\": \"RBAC: allowed by ClusterRoleBinding \\\\\"system:kube-controller-manager\\\\\" of ClusterRole \\\\\"system:kube-controller-manager\\\\\" to User \\\\\"system:kube-controller-manager\\\\\"\"}}',\n",
       "         'label-n-119216'],\n",
       "        ['{\"kind\": \"Event\", \"apiVersion\": \"audit.k8s.io/v1\", \"level\": \"RequestResponse\", \"auditID\": \"b449c1ca-1165-4897-84fe-6fd1d6864f96\", \"stage\": \"ResponseComplete\", \"requestURI\": \"/apis/coordination.k8s.io/v1/namespaces/kube-system/leases/kube-controller-manager?timeout=5s\", \"verb\": \"update\", \"user\": {\"username\": \"system:kube-controller-manager\", \"groups\": [\"system:authenticated\"]}, \"sourceIPs\": [\"192.168.38.9\"], \"userAgent\": \"kube-controller-manager/v1.28.7 (linux/amd64) kubernetes/c8dcb00/leader-election\", \"objectRef\": {\"resource\": \"leases\", \"namespace\": \"kube-system\", \"name\": \"kube-controller-manager\", \"uid\": \"774a1d00-f6da-4af8-9e98-d3f07aab0c3e\", \"apiGroup\": \"coordination.k8s.io\", \"apiVersion\": \"v1\", \"resourceVersion\": \"5313245\"}, \"responseStatus\": {\"metadata\": {}, \"code\": 200}, \"requestObject\": {\"kind\": \"Lease\", \"apiVersion\": \"coordination.k8s.io/v1\", \"metadata\": {\"name\": \"kube-controller-manager\", \"namespace\": \"kube-system\", \"uid\": \"774a1d00-f6da-4af8-9e98-d3f07aab0c3e\", \"resourceVersion\": \"5313245\", \"creationTimestamp\": \"2024-02-19T08:50:48Z\", \"managedFields\": [{\"manager\": \"kube-controller-manager\", \"operation\": \"Update\", \"apiVersion\": \"coordination.k8s.io/v1\", \"time\": \"2024-06-21T07:09:36Z\", \"fieldsType\": \"FieldsV1\", \"fieldsV1\": {\"f:spec\": {\"f:acquireTime\": {}, \"f:holderIdentity\": {}, \"f:leaseDurationSeconds\": {}, \"f:leaseTransitions\": {}, \"f:renewTime\": {}}}}]}, \"spec\": {\"holderIdentity\": \"kubeadm-master_4bb3bd16-c1f2-438a-b932-c6632585f2de\", \"leaseDurationSeconds\": 15, \"acquireTime\": \"2024-06-13T12:29:29.965503Z\", \"renewTime\": \"2024-06-21T07:09:38.277865Z\", \"leaseTransitions\": 20}}, \"responseObject\": {\"kind\": \"Lease\", \"apiVersion\": \"coordination.k8s.io/v1\", \"metadata\": {\"name\": \"kube-controller-manager\", \"namespace\": \"kube-system\", \"uid\": \"774a1d00-f6da-4af8-9e98-d3f07aab0c3e\", \"resourceVersion\": \"5313249\", \"creationTimestamp\": \"2024-02-19T08:50:48Z\", \"managedFields\": [{\"manager\": \"kube-controller-manager\", \"operation\": \"Update\", \"apiVersion\": \"coordination.k8s.io/v1\", \"time\": \"2024-06-21T07:09:38Z\", \"fieldsType\": \"FieldsV1\", \"fieldsV1\": {\"f:spec\": {\"f:acquireTime\": {}, \"f:holderIdentity\": {}, \"f:leaseDurationSeconds\": {}, \"f:leaseTransitions\": {}, \"f:renewTime\": {}}}}]}, \"spec\": {\"holderIdentity\": \"kubeadm-master_4bb3bd16-c1f2-438a-b932-c6632585f2de\", \"leaseDurationSeconds\": 15, \"acquireTime\": \"2024-06-13T12:29:29.965503Z\", \"renewTime\": \"2024-06-21T07:09:38.277865Z\", \"leaseTransitions\": 20}}, \"requestReceivedTimestamp\": \"2024-06-21T07:09:38.283946Z\", \"stageTimestamp\": \"2024-06-21T07:09:38.293426Z\", \"annotations\": {\"authorization.k8s.io/decision\": \"allow\", \"authorization.k8s.io/reason\": \"RBAC: allowed by ClusterRoleBinding \\\\\"system:kube-controller-manager\\\\\" of ClusterRole \\\\\"system:kube-controller-manager\\\\\" to User \\\\\"system:kube-controller-manager\\\\\"\"}}',\n",
       "         'label-n-119232']], dtype=object),\n",
       " array([[3694672],\n",
       "        [   4176],\n",
       "        [  61648],\n",
       "        ...,\n",
       "        [ 119232],\n",
       "        [ 119216],\n",
       "        [ 119232]]))"
      ]
     },
     "execution_count": 15,
     "metadata": {},
     "output_type": "execute_result"
    }
   ],
   "source": [
    "df_X_numpy = df.select(pl.col(\"*\").exclude(\"label\")).to_numpy()\n",
    "df_y_numpy = df.select(pl.col(\"label\")).to_numpy()\n",
    "df_X_numpy, df_y_numpy"
   ]
  },
  {
   "cell_type": "code",
   "execution_count": 37,
   "metadata": {},
   "outputs": [],
   "source": [
    "df_train = df.head(train_over_test_ratio)\n",
    "df_test = df.head(-train_over_test_ratio)\n",
    "\n",
    "X_train = df_X_numpy[train_over_test_ratio:]\n",
    "y_train = df_y_numpy[train_over_test_ratio:]\n",
    "\n",
    "X_test = df_X_numpy[:train_over_test_ratio]\n",
    "y_test = df_y_numpy[:train_over_test_ratio]"
   ]
  },
  {
   "cell_type": "code",
   "execution_count": 17,
   "metadata": {},
   "outputs": [
    {
     "data": {
      "text/plain": [
       "((1119, 2), (1119, 1), (3354, 2), (3354, 1))"
      ]
     },
     "execution_count": 17,
     "metadata": {},
     "output_type": "execute_result"
    }
   ],
   "source": [
    "X_train.shape, y_train.shape, X_test.shape, y_test.shape"
   ]
  },
  {
   "cell_type": "code",
   "execution_count": 38,
   "metadata": {},
   "outputs": [],
   "source": [
    "# TRY WITH torch.utils.data.Dataset\n",
    "\n",
    "# class NLP_Log_Dataset(hfDataset):\n",
    "#   def __init__(self, X, y):\n",
    "#     self.X = X\n",
    "#     self.y = y\n",
    "#     #self.column_names = (\"log\", \"label\", \"text-label\")\n",
    "#   def __len__(self):\n",
    "#     return len(self.X)\n",
    "#   def __getitem__(self, i):\n",
    "#     return self.X[i], self.y[i]\n",
    "# NOT WORKING\n",
    "# def gen_train():\n",
    "#     for i in df_train:\n",
    "#         yield i\n",
    "# def gen_test():\n",
    "#     for i in df_test:\n",
    "#         yield i"
   ]
  },
  {
   "cell_type": "code",
   "execution_count": 39,
   "metadata": {},
   "outputs": [],
   "source": [
    "# NOT WORKING\n",
    "# df_train_hf = IterableDataset.from_generator(gen_train)\n",
    "# df_test_hf = IterableDataset.from_generator(gen_test)\n",
    "\n",
    "# train_dataset = NLP_Log_Dataset(X_train, y_train)\n",
    "# test_dataset = NLP_Log_Dataset(X_test, y_test)"
   ]
  },
  {
   "cell_type": "code",
   "execution_count": 44,
   "metadata": {},
   "outputs": [],
   "source": [
    "ds_train = hfDataset.from_dict(df_train.to_dict())\n",
    "ds_test = hfDataset.from_dict(df_test.to_dict())"
   ]
  },
  {
   "cell_type": "code",
   "execution_count": 45,
   "metadata": {},
   "outputs": [
    {
     "data": {
      "text/plain": [
       "(Dataset({\n",
       "     features: ['label', 'log', 'text-label'],\n",
       "     num_rows: 3354\n",
       " }),\n",
       " Dataset({\n",
       "     features: ['label', 'log', 'text-label'],\n",
       "     num_rows: 1119\n",
       " }))"
      ]
     },
     "execution_count": 45,
     "metadata": {},
     "output_type": "execute_result"
    }
   ],
   "source": [
    "ds_train, ds_test"
   ]
  },
  {
   "cell_type": "code",
   "execution_count": 46,
   "metadata": {},
   "outputs": [
    {
     "name": "stderr",
     "output_type": "stream",
     "text": [
      "model_head.pkl not found on HuggingFace Hub, initialising classification head with random weights. You should TRAIN this model on a downstream task to use it for predictions and inference.\n",
      "Applying column mapping to the training dataset\n",
      "Applying column mapping to the evaluation dataset\n"
     ]
    },
    {
     "data": {
      "application/vnd.jupyter.widget-view+json": {
       "model_id": "6e532dc5de7c4dc08ef3b9960861438b",
       "version_major": 2,
       "version_minor": 0
      },
      "text/plain": [
       "Map:   0%|          | 0/3354 [00:00<?, ? examples/s]"
      ]
     },
     "metadata": {},
     "output_type": "display_data"
    }
   ],
   "source": [
    "model = SetFitModel.from_pretrained(\"sentence-transformers/paraphrase-mpnet-base-v2\")\n",
    "\n",
    "args = TrainingArguments(\n",
    "    batch_size=16,\n",
    "    num_epochs=4,\n",
    "    evaluation_strategy=\"epoch\",\n",
    "    save_strategy=\"epoch\",\n",
    "    load_best_model_at_end=True,\n",
    ")\n",
    "\n",
    "trainer = Trainer(\n",
    "    model=model,\n",
    "    args=args,\n",
    "    train_dataset=ds_train_hf,\n",
    "    eval_dataset=ds_test_hf,\n",
    "    metric=\"accuracy\",\n",
    "    column_mapping={\"log\": \"text\", \"label\": \"label\"}  # Map dataset columns to text/label expected by trainer\n",
    ")"
   ]
  },
  {
   "cell_type": "code",
   "execution_count": 47,
   "metadata": {},
   "outputs": [
    {
     "name": "stderr",
     "output_type": "stream",
     "text": [
      "***** Running training *****\n",
      "  Num unique pairs = 8850130\n",
      "  Batch size = 16\n",
      "  Num epochs = 4\n",
      "  Total optimization steps = 2212536\n"
     ]
    },
    {
     "ename": "",
     "evalue": "",
     "output_type": "error",
     "traceback": [
      "\u001b[1;31mThe Kernel crashed while executing code in the current cell or a previous cell. \n",
      "\u001b[1;31mPlease review the code in the cell(s) to identify a possible cause of the failure. \n",
      "\u001b[1;31mClick <a href='https://aka.ms/vscodeJupyterKernelCrash'>here</a> for more info. \n",
      "\u001b[1;31mView Jupyter <a href='command:jupyter.viewOutput'>log</a> for further details."
     ]
    }
   ],
   "source": [
    "trainer.train()"
   ]
  },
  {
   "cell_type": "code",
   "execution_count": null,
   "metadata": {},
   "outputs": [],
   "source": [
    "trainer.evaluate()"
   ]
  }
 ],
 "metadata": {
  "kernelspec": {
   "display_name": "thesis-da",
   "language": "python",
   "name": "python3"
  },
  "language_info": {
   "codemirror_mode": {
    "name": "ipython",
    "version": 3
   },
   "file_extension": ".py",
   "mimetype": "text/x-python",
   "name": "python",
   "nbconvert_exporter": "python",
   "pygments_lexer": "ipython3",
   "version": "3.10.12"
  }
 },
 "nbformat": 4,
 "nbformat_minor": 2
}
