{
 "cells": [
  {
   "cell_type": "code",
   "execution_count": 1,
   "metadata": {},
   "outputs": [
    {
     "name": "stderr",
     "output_type": "stream",
     "text": [
      "/home/rising/thesis-da/lib/python3.10/site-packages/polars/_cpu_check.py:232: RuntimeWarning: Missing required CPU features.\n",
      "\n",
      "The following required CPU features were not detected:\n",
      "    ssse3, sse4.1, sse4.2, popcnt\n",
      "Continuing to use this version of Polars on this processor will likely result in a crash.\n",
      "Install the `polars-lts-cpu` package instead of `polars` to run Polars with better compatibility.\n",
      "\n",
      "Hint: If you are on an Apple ARM machine (e.g. M1) this is likely due to running Python under Rosetta.\n",
      "It is recommended to install a native version of Python that does not run under Rosetta x86-64 emulation.\n",
      "\n",
      "If you believe this warning to be a false positive, you can set the `POLARS_SKIP_CPU_CHECK` environment variable to bypass this check.\n",
      "\n",
      "  warnings.warn(\n"
     ]
    }
   ],
   "source": [
    "import polars as pl"
   ]
  },
  {
   "cell_type": "code",
   "execution_count": 2,
   "metadata": {},
   "outputs": [],
   "source": [
    "dlp = pl.read_ndjson(\"../data/raw/flaws_cloudtrail02.ndjson\")"
   ]
  },
  {
   "cell_type": "code",
   "execution_count": 3,
   "metadata": {},
   "outputs": [
    {
     "data": {
      "text/html": [
       "<div><style>\n",
       ".dataframe > thead > tr,\n",
       ".dataframe > tbody > tr {\n",
       "  text-align: right;\n",
       "  white-space: pre-wrap;\n",
       "}\n",
       "</style>\n",
       "<small>shape: (2, 17)</small><table border=\"1\" class=\"dataframe\"><thead><tr><th>userAgent</th><th>eventID</th><th>userIdentity</th><th>eventType</th><th>sourceIPAddress</th><th>eventName</th><th>eventSource</th><th>recipientAccountId</th><th>requestParameters</th><th>awsRegion</th><th>requestID</th><th>responseElements</th><th>eventVersion</th><th>eventTime</th><th>errorMessage</th><th>errorCode</th><th>apiVersion</th></tr><tr><td>str</td><td>str</td><td>struct[6]</td><td>str</td><td>str</td><td>str</td><td>str</td><td>str</td><td>struct[44]</td><td>str</td><td>str</td><td>struct[9]</td><td>str</td><td>str</td><td>str</td><td>str</td><td>str</td></tr></thead><tbody><tr><td>&quot;[S3Console/0.4…</td><td>&quot;3038ebd2-c98a-…</td><td>{&quot;Root&quot;,&quot;811596193553&quot;,&quot;arn:aws:iam::811596193553:root&quot;,&quot;811596193553&quot;,null,{{&quot;false&quot;,&quot;2017-02-12T19:57:05Z&quot;}}}</td><td>&quot;AwsApiCall&quot;</td><td>&quot;255.253.125.11…</td><td>&quot;ListBuckets&quot;</td><td>&quot;s3.amazonaws.c…</td><td>&quot;811596193553&quot;</td><td>{null,{null},{null},{null},null,null,{{{null,null},null,null}},null,{null},null,null,null,{null},{null},{null},null,null,null,{null},null,{null},{null},{null,null},{null},{null},{null},null,null,{null},null,{null},null,{null},null,null,null,{null},null,null,{null},{null,null},{null},{null},{null}}</td><td>&quot;us-east-1&quot;</td><td>&quot;83A6C73FE87F51…</td><td>{null,null,null,null,null,null,null,null,{null,null,null,null,null,null}}</td><td>&quot;1.04&quot;</td><td>&quot;2017-02-12T19:…</td><td>null</td><td>null</td><td>null</td></tr><tr><td>&quot;console.amazon…</td><td>&quot;22a0d9b1-deea-…</td><td>{&quot;Root&quot;,&quot;811596193553&quot;,&quot;arn:aws:iam::811596193553:root&quot;,&quot;811596193553&quot;,&quot;ASIA79EXPHZ8SRL55OOE&quot;,{{&quot;false&quot;,&quot;2017-02-12T19:57:05Z&quot;}}}</td><td>&quot;AwsApiCall&quot;</td><td>&quot;255.253.125.11…</td><td>&quot;GetAccountPass…</td><td>&quot;iam.amazonaws.…</td><td>&quot;811596193553&quot;</td><td>{null,{null},{null},{null},null,null,{{{null,null},null,null}},null,{null},null,null,null,{null},{null},{null},null,null,null,{null},null,{null},{null},{null,null},{null},{null},{null},null,null,{null},null,{null},null,{null},null,null,null,{null},null,null,{null},{null,null},{null},{null},{null}}</td><td>&quot;us-east-1&quot;</td><td>&quot;b833be53-f15d-…</td><td>{null,null,null,null,null,null,null,null,{null,null,null,null,null,null}}</td><td>&quot;1.02&quot;</td><td>&quot;2017-02-12T19:…</td><td>&quot;The Password P…</td><td>&quot;NoSuchEntityEx…</td><td>null</td></tr></tbody></table></div>"
      ],
      "text/plain": [
       "shape: (2, 17)\n",
       "┌───────────┬───────────┬───────────┬───────────┬───┬───────────┬───────────┬───────────┬──────────┐\n",
       "│ userAgent ┆ eventID   ┆ userIdent ┆ eventType ┆ … ┆ eventTime ┆ errorMess ┆ errorCode ┆ apiVersi │\n",
       "│ ---       ┆ ---       ┆ ity       ┆ ---       ┆   ┆ ---       ┆ age       ┆ ---       ┆ on       │\n",
       "│ str       ┆ str       ┆ ---       ┆ str       ┆   ┆ str       ┆ ---       ┆ str       ┆ ---      │\n",
       "│           ┆           ┆ struct[6] ┆           ┆   ┆           ┆ str       ┆           ┆ str      │\n",
       "╞═══════════╪═══════════╪═══════════╪═══════════╪═══╪═══════════╪═══════════╪═══════════╪══════════╡\n",
       "│ [S3Consol ┆ 3038ebd2- ┆ {\"Root\",\" ┆ AwsApiCal ┆ … ┆ 2017-02-1 ┆ null      ┆ null      ┆ null     │\n",
       "│ e/0.4]    ┆ c98a-4c65 ┆ 811596193 ┆ l         ┆   ┆ 2T19:57:0 ┆           ┆           ┆          │\n",
       "│           ┆ -9b6e-e22 ┆ 553\",\"arn ┆           ┆   ┆ 6Z        ┆           ┆           ┆          │\n",
       "│           ┆ 50629…    ┆ :aws:…    ┆           ┆   ┆           ┆           ┆           ┆          │\n",
       "│ console.a ┆ 22a0d9b1- ┆ {\"Root\",\" ┆ AwsApiCal ┆ … ┆ 2017-02-1 ┆ The       ┆ NoSuchEnt ┆ null     │\n",
       "│ mazonaws. ┆ deea-4d39 ┆ 811596193 ┆ l         ┆   ┆ 2T19:59:1 ┆ Password  ┆ ityExcept ┆          │\n",
       "│ com       ┆ -827b-2af ┆ 553\",\"arn ┆           ┆   ┆ 0Z        ┆ Policy    ┆ ion       ┆          │\n",
       "│           ┆ 7050e…    ┆ :aws:…    ┆           ┆   ┆           ┆ with      ┆           ┆          │\n",
       "│           ┆           ┆           ┆           ┆   ┆           ┆ domain …  ┆           ┆          │\n",
       "└───────────┴───────────┴───────────┴───────────┴───┴───────────┴───────────┴───────────┴──────────┘"
      ]
     },
     "execution_count": 3,
     "metadata": {},
     "output_type": "execute_result"
    }
   ],
   "source": [
    "dlp.head(2)"
   ]
  },
  {
   "cell_type": "code",
   "execution_count": 25,
   "metadata": {},
   "outputs": [
    {
     "name": "stdout",
     "output_type": "stream",
     "text": [
      "shape: (1, 1)\n",
      "┌───────────────┐\n",
      "│ eventName     │\n",
      "│ ---           │\n",
      "│ str           │\n",
      "╞═══════════════╡\n",
      "│ ListEndpoints │\n",
      "└───────────────┘\n"
     ]
    }
   ],
   "source": [
    "event1 = dlp.select(pl.col(\"eventName\").unique())[0]\n",
    "print(event1)"
   ]
  },
  {
   "cell_type": "code",
   "execution_count": 28,
   "metadata": {},
   "outputs": [
    {
     "data": {
      "text/html": [
       "<div><style>\n",
       ".dataframe > thead > tr,\n",
       ".dataframe > tbody > tr {\n",
       "  text-align: right;\n",
       "  white-space: pre-wrap;\n",
       "}\n",
       "</style>\n",
       "<small>shape: (6, 17)</small><table border=\"1\" class=\"dataframe\"><thead><tr><th>userAgent</th><th>eventID</th><th>userIdentity</th><th>eventType</th><th>sourceIPAddress</th><th>eventName</th><th>eventSource</th><th>recipientAccountId</th><th>requestParameters</th><th>awsRegion</th><th>requestID</th><th>responseElements</th><th>eventVersion</th><th>eventTime</th><th>errorMessage</th><th>errorCode</th><th>apiVersion</th></tr><tr><td>str</td><td>str</td><td>struct[6]</td><td>str</td><td>str</td><td>str</td><td>str</td><td>str</td><td>struct[44]</td><td>str</td><td>str</td><td>struct[9]</td><td>str</td><td>str</td><td>str</td><td>str</td><td>str</td></tr></thead><tbody><tr><td>&quot;Boto3/1.7.4 Py…</td><td>&quot;2759c644-6976-…</td><td>{&quot;IAMUser&quot;,&quot;AIDA9BO36HFBHKGJAO9C1&quot;,&quot;arn:aws:iam::811596193553:user/backup&quot;,&quot;811596193553&quot;,&quot;AKIA01U43UX3RBRDXF4Q&quot;,{{null,null}}}</td><td>&quot;AwsApiCall&quot;</td><td>&quot;2.231.90.242&quot;</td><td>&quot;ListEndpoints&quot;</td><td>&quot;sagemaker.amaz…</td><td>&quot;811596193553&quot;</td><td>{null,{null},{null},{null},null,null,{{{null,null},null,null}},null,{null},null,null,null,{null},{null},{null},null,null,null,{null},null,{null},{null},{null,null},{null},{null},{null},null,null,{null},null,{null},null,{null},null,null,null,{null},null,null,{null},{null,null},{null},{null},{null}}</td><td>&quot;us-east-1&quot;</td><td>&quot;7c3d0fbd-7bed-…</td><td>{null,null,null,null,null,null,null,null,{null,null,null,null,null,null}}</td><td>&quot;1.05&quot;</td><td>&quot;2019-03-07T21:…</td><td>&quot;User: arn:aws:…</td><td>&quot;AccessDenied&quot;</td><td>null</td></tr><tr><td>&quot;Boto3/1.7.4 Py…</td><td>&quot;2759c644-6976-…</td><td>{&quot;IAMUser&quot;,&quot;AIDA9BO36HFBHKGJAO9C1&quot;,&quot;arn:aws:iam::811596193553:user/backup&quot;,&quot;811596193553&quot;,&quot;AKIA01U43UX3RBRDXF4Q&quot;,{{null,null}}}</td><td>&quot;AwsApiCall&quot;</td><td>&quot;2.231.90.242&quot;</td><td>&quot;ListEndpoints&quot;</td><td>&quot;sagemaker.amaz…</td><td>&quot;811596193553&quot;</td><td>{null,{null},{null},{null},null,null,{{{null,null},null,null}},null,{null},null,null,null,{null},{null},{null},null,null,null,{null},null,{null},{null},{null,null},{null},{null},{null},null,null,{null},null,{null},null,{null},null,null,null,{null},null,null,{null},{null,null},{null},{null},{null}}</td><td>&quot;us-east-1&quot;</td><td>&quot;7c3d0fbd-7bed-…</td><td>{null,null,null,null,null,null,null,null,{null,null,null,null,null,null}}</td><td>&quot;1.05&quot;</td><td>&quot;2019-03-07T21:…</td><td>&quot;User: arn:aws:…</td><td>&quot;AccessDenied&quot;</td><td>null</td></tr><tr><td>&quot;Boto3/1.7.4 Py…</td><td>&quot;359011a69-f7f7…</td><td>{&quot;IAMUser&quot;,&quot;AIDADO2GQD0K8TEF7KW1V&quot;,&quot;arn:aws:iam::811596193553:user/Level6&quot;,&quot;811596193553&quot;,&quot;AKIA3Z2XBVUDFQ9TU4MD&quot;,{{null,null}}}</td><td>&quot;AwsApiCall&quot;</td><td>&quot;2.231.90.242&quot;</td><td>&quot;ListEndpoints&quot;</td><td>&quot;sagemaker.amaz…</td><td>&quot;811596193553&quot;</td><td>{null,{null},{null},{null},null,null,{{{null,null},null,null}},null,{null},null,null,null,{null},{null},{null},null,null,null,{null},null,{null},{null},{null,null},{null},{null},{null},null,null,{null},null,{null},null,{null},null,null,null,{null},null,null,{null},{null,null},{null},{null},{null}}</td><td>&quot;us-east-1&quot;</td><td>&quot;8765b8da-b146-…</td><td>{null,null,null,null,null,null,null,null,{null,null,null,null,null,null}}</td><td>&quot;1.05&quot;</td><td>&quot;2019-03-07T23:…</td><td>null</td><td>null</td><td>null</td></tr><tr><td>&quot;Boto3/1.7.4 Py…</td><td>&quot;359011a69-f7f7…</td><td>{&quot;IAMUser&quot;,&quot;AIDADO2GQD0K8TEF7KW1V&quot;,&quot;arn:aws:iam::811596193553:user/Level6&quot;,&quot;811596193553&quot;,&quot;AKIA3Z2XBVUDFQ9TU4MD&quot;,{{null,null}}}</td><td>&quot;AwsApiCall&quot;</td><td>&quot;2.231.90.242&quot;</td><td>&quot;ListEndpoints&quot;</td><td>&quot;sagemaker.amaz…</td><td>&quot;811596193553&quot;</td><td>{null,{null},{null},{null},null,null,{{{null,null},null,null}},null,{null},null,null,null,{null},{null},{null},null,null,null,{null},null,{null},{null},{null,null},{null},{null},{null},null,null,{null},null,{null},null,{null},null,null,null,{null},null,null,{null},{null,null},{null},{null},{null}}</td><td>&quot;us-east-1&quot;</td><td>&quot;8765b8da-b146-…</td><td>{null,null,null,null,null,null,null,null,{null,null,null,null,null,null}}</td><td>&quot;1.05&quot;</td><td>&quot;2019-03-07T23:…</td><td>null</td><td>null</td><td>null</td></tr><tr><td>&quot;Boto3/1.7.4 Py…</td><td>&quot;32a2571d-6d64-…</td><td>{&quot;IAMUser&quot;,&quot;AIDA9BO36HFBHKGJAO9C1&quot;,&quot;arn:aws:iam::811596193553:user/backup&quot;,&quot;811596193553&quot;,&quot;AKIA01U43UX3RBRDXF4Q&quot;,{{null,null}}}</td><td>&quot;AwsApiCall&quot;</td><td>&quot;202.157.9.237&quot;</td><td>&quot;ListEndpoints&quot;</td><td>&quot;sagemaker.amaz…</td><td>&quot;811596193553&quot;</td><td>{null,{null},{null},{null},null,null,{{{null,null},null,null}},null,{null},null,null,null,{null},{null},{null},null,null,null,{null},null,{null},{null},{null,null},{null},{null},{null},null,null,{null},null,{null},null,{null},null,null,null,{null},null,null,{null},{null,null},{null},{null},{null}}</td><td>&quot;us-east-1&quot;</td><td>&quot;3153b7c2-ddc3-…</td><td>{null,null,null,null,null,null,null,null,{null,null,null,null,null,null}}</td><td>&quot;1.05&quot;</td><td>&quot;2019-04-05T09:…</td><td>&quot;User: arn:aws:…</td><td>&quot;AccessDenied&quot;</td><td>null</td></tr><tr><td>&quot;Boto3/1.7.4 Py…</td><td>&quot;32a2571d-6d64-…</td><td>{&quot;IAMUser&quot;,&quot;AIDA9BO36HFBHKGJAO9C1&quot;,&quot;arn:aws:iam::811596193553:user/backup&quot;,&quot;811596193553&quot;,&quot;AKIA01U43UX3RBRDXF4Q&quot;,{{null,null}}}</td><td>&quot;AwsApiCall&quot;</td><td>&quot;202.157.9.237&quot;</td><td>&quot;ListEndpoints&quot;</td><td>&quot;sagemaker.amaz…</td><td>&quot;811596193553&quot;</td><td>{null,{null},{null},{null},null,null,{{{null,null},null,null}},null,{null},null,null,null,{null},{null},{null},null,null,null,{null},null,{null},{null},{null,null},{null},{null},{null},null,null,{null},null,{null},null,{null},null,null,null,{null},null,null,{null},{null,null},{null},{null},{null}}</td><td>&quot;us-east-1&quot;</td><td>&quot;3153b7c2-ddc3-…</td><td>{null,null,null,null,null,null,null,null,{null,null,null,null,null,null}}</td><td>&quot;1.05&quot;</td><td>&quot;2019-04-05T09:…</td><td>&quot;User: arn:aws:…</td><td>&quot;AccessDenied&quot;</td><td>null</td></tr></tbody></table></div>"
      ],
      "text/plain": [
       "shape: (6, 17)\n",
       "┌───────────┬───────────┬───────────┬───────────┬───┬───────────┬───────────┬───────────┬──────────┐\n",
       "│ userAgent ┆ eventID   ┆ userIdent ┆ eventType ┆ … ┆ eventTime ┆ errorMess ┆ errorCode ┆ apiVersi │\n",
       "│ ---       ┆ ---       ┆ ity       ┆ ---       ┆   ┆ ---       ┆ age       ┆ ---       ┆ on       │\n",
       "│ str       ┆ str       ┆ ---       ┆ str       ┆   ┆ str       ┆ ---       ┆ str       ┆ ---      │\n",
       "│           ┆           ┆ struct[6] ┆           ┆   ┆           ┆ str       ┆           ┆ str      │\n",
       "╞═══════════╪═══════════╪═══════════╪═══════════╪═══╪═══════════╪═══════════╪═══════════╪══════════╡\n",
       "│ Boto3/1.7 ┆ 2759c644- ┆ {\"IAMUser ┆ AwsApiCal ┆ … ┆ 2019-03-0 ┆ User: arn ┆ AccessDen ┆ null     │\n",
       "│ .4 Python ┆ 6976-4264 ┆ \",\"AIDA9B ┆ l         ┆   ┆ 7T21:19:4 ┆ :aws:iam: ┆ ied       ┆          │\n",
       "│ /3.7.2+   ┆ -945d-ca8 ┆ O36HFBHKG ┆           ┆   ┆ 5Z        ┆ :81159619 ┆           ┆          │\n",
       "│ Linux/…   ┆ a5341…    ┆ JAO9C…    ┆           ┆   ┆           ┆ 3553:…    ┆           ┆          │\n",
       "│ Boto3/1.7 ┆ 2759c644- ┆ {\"IAMUser ┆ AwsApiCal ┆ … ┆ 2019-03-0 ┆ User: arn ┆ AccessDen ┆ null     │\n",
       "│ .4 Python ┆ 6976-4264 ┆ \",\"AIDA9B ┆ l         ┆   ┆ 7T21:19:4 ┆ :aws:iam: ┆ ied       ┆          │\n",
       "│ /3.7.2+   ┆ -945d-ca8 ┆ O36HFBHKG ┆           ┆   ┆ 5Z        ┆ :81159619 ┆           ┆          │\n",
       "│ Linux/…   ┆ a5341…    ┆ JAO9C…    ┆           ┆   ┆           ┆ 3553:…    ┆           ┆          │\n",
       "│ Boto3/1.7 ┆ 359011a69 ┆ {\"IAMUser ┆ AwsApiCal ┆ … ┆ 2019-03-0 ┆ null      ┆ null      ┆ null     │\n",
       "│ .4 Python ┆ -f7f7-49d ┆ \",\"AIDADO ┆ l         ┆   ┆ 7T23:28:0 ┆           ┆           ┆          │\n",
       "│ /3.7.2+   ┆ 4-ab9e-d9 ┆ 2GQD0K8TE ┆           ┆   ┆ 8Z        ┆           ┆           ┆          │\n",
       "│ Linux/…   ┆ d196e…    ┆ F7KW1…    ┆           ┆   ┆           ┆           ┆           ┆          │\n",
       "│ Boto3/1.7 ┆ 359011a69 ┆ {\"IAMUser ┆ AwsApiCal ┆ … ┆ 2019-03-0 ┆ null      ┆ null      ┆ null     │\n",
       "│ .4 Python ┆ -f7f7-49d ┆ \",\"AIDADO ┆ l         ┆   ┆ 7T23:28:0 ┆           ┆           ┆          │\n",
       "│ /3.7.2+   ┆ 4-ab9e-d9 ┆ 2GQD0K8TE ┆           ┆   ┆ 8Z        ┆           ┆           ┆          │\n",
       "│ Linux/…   ┆ d196e…    ┆ F7KW1…    ┆           ┆   ┆           ┆           ┆           ┆          │\n",
       "│ Boto3/1.7 ┆ 32a2571d- ┆ {\"IAMUser ┆ AwsApiCal ┆ … ┆ 2019-04-0 ┆ User: arn ┆ AccessDen ┆ null     │\n",
       "│ .4 Python ┆ 6d64-43d9 ┆ \",\"AIDA9B ┆ l         ┆   ┆ 5T09:24:2 ┆ :aws:iam: ┆ ied       ┆          │\n",
       "│ /3.6.7    ┆ -8647-494 ┆ O36HFBHKG ┆           ┆   ┆ 4Z        ┆ :81159619 ┆           ┆          │\n",
       "│ Linux/4…  ┆ 6b0e1…    ┆ JAO9C…    ┆           ┆   ┆           ┆ 3553:…    ┆           ┆          │\n",
       "│ Boto3/1.7 ┆ 32a2571d- ┆ {\"IAMUser ┆ AwsApiCal ┆ … ┆ 2019-04-0 ┆ User: arn ┆ AccessDen ┆ null     │\n",
       "│ .4 Python ┆ 6d64-43d9 ┆ \",\"AIDA9B ┆ l         ┆   ┆ 5T09:24:2 ┆ :aws:iam: ┆ ied       ┆          │\n",
       "│ /3.6.7    ┆ -8647-494 ┆ O36HFBHKG ┆           ┆   ┆ 4Z        ┆ :81159619 ┆           ┆          │\n",
       "│ Linux/4…  ┆ 6b0e1…    ┆ JAO9C…    ┆           ┆   ┆           ┆ 3553:…    ┆           ┆          │\n",
       "└───────────┴───────────┴───────────┴───────────┴───┴───────────┴───────────┴───────────┴──────────┘"
      ]
     },
     "execution_count": 28,
     "metadata": {},
     "output_type": "execute_result"
    }
   ],
   "source": [
    "dlp.filter(pl.col(\"eventName\") == event1)"
   ]
  }
 ],
 "metadata": {
  "kernelspec": {
   "display_name": "thesis-da",
   "language": "python",
   "name": "python3"
  },
  "language_info": {
   "codemirror_mode": {
    "name": "ipython",
    "version": 3
   },
   "file_extension": ".py",
   "mimetype": "text/x-python",
   "name": "python",
   "nbconvert_exporter": "python",
   "pygments_lexer": "ipython3",
   "version": "3.12.1"
  }
 },
 "nbformat": 4,
 "nbformat_minor": 2
}
