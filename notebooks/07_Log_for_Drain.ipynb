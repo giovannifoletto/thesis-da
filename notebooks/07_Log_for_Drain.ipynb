{
 "cells": [
  {
   "cell_type": "code",
   "execution_count": 2,
   "metadata": {},
   "outputs": [
    {
     "name": "stderr",
     "output_type": "stream",
     "text": [
      "/home/ubuntu/thesis-da/lib/python3.10/site-packages/polars/_cpu_check.py:239: RuntimeWarning: Missing required CPU features.\n",
      "\n",
      "The following required CPU features were not detected:\n",
      "    ssse3, sse4.1, sse4.2, popcnt\n",
      "Continuing to use this version of Polars on this processor will likely result in a crash.\n",
      "Install the `polars-lts-cpu` package instead of `polars` to run Polars with better compatibility.\n",
      "\n",
      "Hint: If you are on an Apple ARM machine (e.g. M1) this is likely due to running Python under Rosetta.\n",
      "It is recommended to install a native version of Python that does not run under Rosetta x86-64 emulation.\n",
      "\n",
      "If you believe this warning to be a false positive, you can set the `POLARS_SKIP_CPU_CHECK` environment variable to bypass this check.\n",
      "\n",
      "  warnings.warn(\n"
     ]
    }
   ],
   "source": [
    "import polars as pl\n",
    "import json\n",
    "from tqdm import tqdm\n",
    "import numpy as np\n",
    "import sys"
   ]
  },
  {
   "cell_type": "code",
   "execution_count": 3,
   "metadata": {},
   "outputs": [],
   "source": [
    "np.set_printoptions(threshold=sys.maxsize)"
   ]
  },
  {
   "cell_type": "code",
   "execution_count": 4,
   "metadata": {},
   "outputs": [],
   "source": [
    "to_maintain = [\n",
    "    \"userAgent\",\n",
    "    \"eventType\",\n",
    "    \"eventName\",\n",
    "    \"eventSource\",\n",
    "    \"recipientAccountId\",\n",
    "    \"awsRegion\",\n",
    "    \"eventVersion\",\n",
    "    #\"errorCode\",\n",
    "]"
   ]
  },
  {
   "cell_type": "markdown",
   "metadata": {},
   "source": [
    "```log\n",
    "081109 203615 148 INFO dfs.DataNode$PacketResponder: PacketResponder 1 for block blk_38865049064139660 terminating\n",
    "081109 203807 222 INFO dfs.DataNode$PacketResponder: PacketResponder 0 for block blk_-6952295868487656571 terminating\n",
    "081109 204005 35 INFO dfs.FSNamesystem: BLOCK* NameSystem.addStoredBlock: blockMap updated: 10.251.73.220:50010 is added to blk_7128370237687728475 size 67108864\n",
    "```"
   ]
  },
  {
   "cell_type": "code",
   "execution_count": 5,
   "metadata": {},
   "outputs": [],
   "source": [
    "# LineId,Date,Time,Pid,Level,Component,Content,EventId,EventTemplate\n",
    "# 1,081109,203518,143,INFO,dfs.DataNode$DataXceiver,Receiving block blk_-1608999687919862906 src: /10.250.19.102:54106 dest: /10.250.19.102:50010,E5,Receiving block <*> src: /<*> dest: /<*>\n",
    "def transtlate_to_syslog(log):\n",
    "    datetime = log['eventTime']\n",
    "    userAgent = log['userAgent']\n",
    "    accountId = log['recipientAccountId']\n",
    "    source = log['eventSource']\n",
    "    eventName = log['eventName']\n",
    "    eventid = log['eventID']\n",
    "    return f\"{datetime}: {eventid} the {accountId} with {userAgent} in the {source} have done {eventName}\"    "
   ]
  },
  {
   "cell_type": "code",
   "execution_count": 6,
   "metadata": {},
   "outputs": [],
   "source": [
    "OUTFILE_HDFS = \"../data/prepared/kube_copy_hdfs.log\""
   ]
  },
  {
   "cell_type": "code",
   "execution_count": 7,
   "metadata": {},
   "outputs": [
    {
     "name": "stderr",
     "output_type": "stream",
     "text": [
      "100%|██████████| 100000/100000 [00:06<00:00, 16147.58it/s]\n"
     ]
    }
   ],
   "source": [
    "outfile = open(OUTFILE_HDFS, \"w\")\n",
    "\n",
    "with open('../data/raw/flaws_cloudtrail00.ndjson', \"r\") as fj:\n",
    "    for line in tqdm(fj.readlines()):\n",
    "        jo = json.loads(line)\n",
    "        outfile.write(f\"{transtlate_to_syslog(jo)}\\n\")\n",
    "outfile.close()"
   ]
  },
  {
   "cell_type": "code",
   "execution_count": 8,
   "metadata": {},
   "outputs": [
    {
     "name": "stdout",
     "output_type": "stream",
     "text": [
      "Requirement already satisfied: drain3 in /home/ubuntu/thesis-da/lib/python3.10/site-packages (0.9.11)\n",
      "Requirement already satisfied: cachetools==4.2.1 in /home/ubuntu/thesis-da/lib/python3.10/site-packages (from drain3) (4.2.1)\n",
      "Requirement already satisfied: jsonpickle==1.5.1 in /home/ubuntu/thesis-da/lib/python3.10/site-packages (from drain3) (1.5.1)\n",
      "Note: you may need to restart the kernel to use updated packages.\n"
     ]
    }
   ],
   "source": [
    "# Testing drain\n",
    "%pip install drain3"
   ]
  },
  {
   "cell_type": "code",
   "execution_count": 9,
   "metadata": {},
   "outputs": [],
   "source": [
    "from drain3 import TemplateMiner\n",
    "from drain3.template_miner_config import TemplateMinerConfig\n",
    "import time"
   ]
  },
  {
   "cell_type": "code",
   "execution_count": 10,
   "metadata": {},
   "outputs": [
    {
     "name": "stderr",
     "output_type": "stream",
     "text": [
      "config file not found: drain3.ini\n"
     ]
    },
    {
     "name": "stdout",
     "output_type": "stream",
     "text": [
      "Line of the file: 100000\n",
      "Input (1): 3038ebd2-c98a-4c65-9b6e-e22506292313 the 811596193553 with [S3Console/0.4] in the s3.amazonaws.com have done ListBuckets\n",
      "Result: {\"change_type\": \"cluster_created\", \"cluster_id\": 1, \"cluster_size\": 1, \"template_mined\": \"3038ebd2-c98a-4c65-9b6e-e22506292313 the 811596193553 with [S3Console/0.4] in the s3.amazonaws.com have done ListBuckets\", \"cluster_count\": 1}\n",
      "Input (2): 22a0d9b1-deea-4d39-827b-2af7050ed3f3 the 811596193553 with console.amazonaws.com in the iam.amazonaws.com have done GetAccountPasswordPolicy\n",
      "Result: {\"change_type\": \"cluster_template_changed\", \"cluster_id\": 1, \"cluster_size\": 2, \"template_mined\": \"<*> the 811596193553 with <*> in the <*> have done <*>\", \"cluster_count\": 1}\n",
      "Input (13): 2dd9d57f-2734-49e4-a801-ab9a7fb21dd3 the 811596193553 with [AWSCloudTrail, aws-internal/3] in the s3.amazonaws.com have done ListBuckets\n",
      "Result: {\"change_type\": \"cluster_created\", \"cluster_id\": 2, \"cluster_size\": 1, \"template_mined\": \"2dd9d57f-2734-49e4-a801-ab9a7fb21dd3 the 811596193553 with [AWSCloudTrail, aws-internal/3] in the s3.amazonaws.com have done ListBuckets\", \"cluster_count\": 2}\n",
      "Input (14): 032db777-fcc7-4fdd-a916-c60e1050db97 the 811596193553 with AWSCloudTrail, aws-internal/3 in the sns.amazonaws.com have done ListTopics\n",
      "Result: {\"change_type\": \"cluster_template_changed\", \"cluster_id\": 2, \"cluster_size\": 2, \"template_mined\": \"<*> the 811596193553 with <*> <*> in the <*> have done <*>\", \"cluster_count\": 2}\n",
      "Input (378): 0dafc2f8-066b-4ebb-8d1c-fccd80a1f66e the 811596193553 with [aws-cli/1.11.47 Python/2.7.3 Linux/3.2.0-4-amd64 botocore/1.5.10] in the s3.amazonaws.com have done ListBuckets\n",
      "Result: {\"change_type\": \"cluster_created\", \"cluster_id\": 3, \"cluster_size\": 1, \"template_mined\": \"0dafc2f8-066b-4ebb-8d1c-fccd80a1f66e the 811596193553 with [aws-cli/1.11.47 Python/2.7.3 Linux/3.2.0-4-amd64 botocore/1.5.10] in the s3.amazonaws.com have done ListBuckets\", \"cluster_count\": 3}\n",
      "Input (379): d5f5a993-c85f-474d-afd8-403159a8e1a the 811596193553 with [aws-cli/1.11.47 Python/2.7.3 Linux/3.2.0-4-amd64 botocore/1.5.10] in the s3.amazonaws.com have done ListBuckets\n",
      "Result: {\"change_type\": \"cluster_template_changed\", \"cluster_id\": 3, \"cluster_size\": 2, \"template_mined\": \"<*> the 811596193553 with [aws-cli/1.11.47 Python/2.7.3 Linux/3.2.0-4-amd64 botocore/1.5.10] in the s3.amazonaws.com have done ListBuckets\", \"cluster_count\": 3}\n",
      "Input (850): d176df90-9df9-4991-9e1d-3da0d843df4f the 811596193553 with aws-cli/1.11.47 Python/2.7.3 Linux/3.2.0-4-amd64 botocore/1.5.10 in the ec2.amazonaws.com have done DescribeSnapshots\n",
      "Result: {\"change_type\": \"cluster_template_changed\", \"cluster_id\": 3, \"cluster_size\": 10, \"template_mined\": \"<*> the 811596193553 with <*> Python/2.7.3 Linux/3.2.0-4-amd64 <*> in the <*> have done <*>\", \"cluster_count\": 3}\n"
     ]
    },
    {
     "name": "stdout",
     "output_type": "stream",
     "text": [
      "Input (1389): c5472feb-40d2-41c6-9c47-fb15aad0f326 the 811596193553 with Mozilla/5.0 (Windows NT 6.3; WOW64) AppleWebKit/537.36 (KHTML, like Gecko) Chrome/56.0.2924.87 Safari/537.36 in the signin.amazonaws.com have done ConsoleLogin\n",
      "Result: {\"change_type\": \"cluster_created\", \"cluster_id\": 4, \"cluster_size\": 1, \"template_mined\": \"c5472feb-40d2-41c6-9c47-fb15aad0f326 the 811596193553 with Mozilla/5.0 (Windows NT 6.3; WOW64) AppleWebKit/537.36 (KHTML, like Gecko) Chrome/56.0.2924.87 Safari/537.36 in the signin.amazonaws.com have done ConsoleLogin\", \"cluster_count\": 4}\n",
      "Input (1592): 4d7c0add-9e21-4ed9-8238-65055cb87b7c the 811596193553 with [Cyberduck/4.7 (459548).459548 (Windows 8/6.2) (x86)] in the s3.amazonaws.com have done GetBucketVersioning\n",
      "Result: {\"change_type\": \"cluster_created\", \"cluster_id\": 5, \"cluster_size\": 1, \"template_mined\": \"4d7c0add-9e21-4ed9-8238-65055cb87b7c the 811596193553 with [Cyberduck/4.7 (459548).459548 (Windows 8/6.2) (x86)] in the s3.amazonaws.com have done GetBucketVersioning\", \"cluster_count\": 5}\n",
      "Input (1593): 938c35d7-7093-44ca-a271-ee5d9759a83c the 811596193553 with [Cyberduck/4.7 (459548).459548 (Windows 8/6.2) (x86)] in the s3.amazonaws.com have done GetBucketVersioning\n",
      "Result: {\"change_type\": \"cluster_template_changed\", \"cluster_id\": 5, \"cluster_size\": 2, \"template_mined\": \"<*> the 811596193553 with [Cyberduck/4.7 (459548).459548 (Windows 8/6.2) (x86)] in the s3.amazonaws.com have done GetBucketVersioning\", \"cluster_count\": 5}\n",
      "Input (1594): 76dba1ba-2ff2-44f6-89b4-05814c0d432f the 811596193553 with [Cyberduck/4.7 (459548).459548 (Windows 8/6.2) (x86)] in the s3.amazonaws.com have done GetBucketAcl\n",
      "Result: {\"change_type\": \"cluster_template_changed\", \"cluster_id\": 5, \"cluster_size\": 3, \"template_mined\": \"<*> the 811596193553 with [Cyberduck/4.7 (459548).459548 (Windows 8/6.2) (x86)] in the s3.amazonaws.com have done <*>\", \"cluster_count\": 5}\n",
      "Input (1629): c64204-880c-40ea-98f4-d040e52cc2db the 811596193553 with Mozilla/5.0 (Windows NT 6.3; WOW64) AppleWebKit/537.36 (KHTML, like Gecko) Chrome/56.0.2924.87 Safari/537.36 in the signin.amazonaws.com have done ConsoleLogin\n",
      "Result: {\"change_type\": \"cluster_template_changed\", \"cluster_id\": 4, \"cluster_size\": 2, \"template_mined\": \"<*> the 811596193553 with Mozilla/5.0 (Windows NT 6.3; WOW64) AppleWebKit/537.36 (KHTML, like Gecko) Chrome/56.0.2924.87 Safari/537.36 in the signin.amazonaws.com have done ConsoleLogin\", \"cluster_count\": 5}\n",
      "Input (1848): 3e3107e0-db8b-48eb-9e1f-484214641efb the 811596193553 with Mozilla/5.0 (Windows NT 6.3; WOW64) AppleWebKit/537.36 (KHTML, like Gecko) Chrome/56.0.2924.87 Safari/537.36 in the lambda.amazonaws.com have done CreateFunction202224\n",
      "Result: {\"change_type\": \"cluster_template_changed\", \"cluster_id\": 4, \"cluster_size\": 3, \"template_mined\": \"<*> the 811596193553 with Mozilla/5.0 (Windows NT 6.3; WOW64) AppleWebKit/537.36 (KHTML, like Gecko) Chrome/56.0.2924.87 Safari/537.36 in the <*> have done <*>\", \"cluster_count\": 5}\n",
      "Input (3500): ae5dc1fd-b79e-4daa-b93d-de065be49ed2 the 811596193553 with [AWS Console Lambda, aws-internal/3] in the s3.amazonaws.com have done ListBuckets\n",
      "Result: {\"change_type\": \"cluster_template_changed\", \"cluster_id\": 3, \"cluster_size\": 46, \"template_mined\": \"<*> the 811596193553 with <*> <*> <*> <*> in the <*> have done <*>\", \"cluster_count\": 5}\n",
      "Input (6227): 03cae736-aee3-479a-8755-a85513bad3f the 811596193553 with [aws-cli/1.5.2 Python/2.7.8 Linux/4.9.0-1-amd64] in the s3.amazonaws.com have done ListBuckets\n",
      "Result: {\"change_type\": \"cluster_created\", \"cluster_id\": 6, \"cluster_size\": 1, \"template_mined\": \"03cae736-aee3-479a-8755-a85513bad3f the 811596193553 with [aws-cli/1.5.2 Python/2.7.8 Linux/4.9.0-1-amd64] in the s3.amazonaws.com have done ListBuckets\", \"cluster_count\": 6}\n",
      "Input (6230): 02ca19b9-49f5-440a-ae00-fb279d3085d3 the 811596193553 with [aws-cli/1.5.2 Python/2.7.8 Linux/4.9.0-1-amd64] in the s3.amazonaws.com have done ListBuckets\n",
      "Result: {\"change_type\": \"cluster_template_changed\", \"cluster_id\": 6, \"cluster_size\": 2, \"template_mined\": \"<*> the 811596193553 with [aws-cli/1.5.2 Python/2.7.8 Linux/4.9.0-1-amd64] in the s3.amazonaws.com have done ListBuckets\", \"cluster_count\": 6}\n",
      "Input (6237): af044305-5790-4542-9315-f061708ae4 the 811596193553 with aws-cli/1.5.2 Python/2.7.8 Linux/4.9.0-1-amd64 in the ec2.amazonaws.com have done DescribeInstances\n",
      "Result: {\"change_type\": \"cluster_template_changed\", \"cluster_id\": 6, \"cluster_size\": 3, \"template_mined\": \"<*> the 811596193553 with <*> Python/2.7.8 <*> in the <*> have done <*>\", \"cluster_count\": 6}\n",
      "Input (6396): 2c59cb82-9079-4be4-a2e3-c55fd375c437 the 811596193553 with [aws-cli/1.7.36 Python/2.7.11 Linux/4.4.0-34-generic] in the s3.amazonaws.com have done ListBuckets\n",
      "Result: {\"change_type\": \"cluster_template_changed\", \"cluster_id\": 6, \"cluster_size\": 12, \"template_mined\": \"<*> the 811596193553 with <*> <*> <*> in the <*> have done <*>\", \"cluster_count\": 6}\n",
      "Input (7544): f373eb6b-36c0-4b4e-802c-8614cfd966f0 the 811596193553 with Boto3/1.4.4 Python/2.7.13 Darwin/15.6.0 Botocore/1.5.14 Resource in the ec2.amazonaws.com have done DescribeInstances\n",
      "Result: {\"change_type\": \"cluster_template_changed\", \"cluster_id\": 5, \"cluster_size\": 38, \"template_mined\": \"<*> the 811596193553 with <*> <*> <*> <*> <*> in the <*> have done <*>\", \"cluster_count\": 6}\n",
      "Input (11821): 0aab84b2-390f-479e-b319-9b13eda2cb56 the 811596193553 with Mozilla/5.0 (Macintosh; Intel Mac OS X 10_12_3) AppleWebKit/537.36 (KHTML, like Gecko) Chrome/57.0.2987.88 Safari/537.36 in the sts.amazonaws.com have done GetSessionToken\n",
      "Result: {\"change_type\": \"cluster_created\", \"cluster_id\": 7, \"cluster_size\": 1, \"template_mined\": \"0aab84b2-390f-479e-b319-9b13eda2cb56 the 811596193553 with Mozilla/5.0 (Macintosh; Intel Mac OS X 10_12_3) AppleWebKit/537.36 (KHTML, like Gecko) Chrome/57.0.2987.88 Safari/537.36 in the sts.amazonaws.com have done GetSessionToken\", \"cluster_count\": 7}\n",
      "Input (13418): 0f0a79e7-2e09-4ae0-86a3-40ed32b7fdac the 811596193553 with Mozilla/5.0 (Windows NT 6.3; WOW64) AppleWebKit/537.36 (KHTML, like Gecko) Chrome/57.0.2987.98 Safari/537.36 in the signin.amazonaws.com have done ConsoleLogin\n",
      "Result: {\"change_type\": \"cluster_template_changed\", \"cluster_id\": 4, \"cluster_size\": 33, \"template_mined\": \"<*> the 811596193553 with Mozilla/5.0 (Windows NT 6.3; WOW64) AppleWebKit/537.36 (KHTML, like Gecko) <*> Safari/537.36 in the <*> have done <*>\", \"cluster_count\": 7}\n",
      "Input (16946): 772201fc0-5510-44cb-a389-5aaad3a41ba9 the 811596193553 with [AWSPowerShell/236.78.148.42 .NET_Runtime/4.0 .NET_Framework/4.0 OS/Microsoft_Windows_NT_10.0.41693.0  WindowsPowerShell/5.0 ClientSync] in the s3.amazonaws.com have done ListBuckets\n",
      "Result: {\"change_type\": \"cluster_created\", \"cluster_id\": 8, \"cluster_size\": 1, \"template_mined\": \"772201fc0-5510-44cb-a389-5aaad3a41ba9 the 811596193553 with [AWSPowerShell/236.78.148.42 .NET_Runtime/4.0 .NET_Framework/4.0 OS/Microsoft_Windows_NT_10.0.41693.0 WindowsPowerShell/5.0 ClientSync] in the s3.amazonaws.com have done ListBuckets\", \"cluster_count\": 8}\n",
      "Input (16947): e3608a13-0ee5-401e-9aae-6c98fd0c370e the 811596193553 with AWSPowerShell/236.78.148.42 .NET_Runtime/4.0 .NET_Framework/4.0 OS/Microsoft_Windows_NT_10.0.41693.0  WindowsPowerShell/5.0 ClientSync in the ec2.amazonaws.com have done DescribeSnapshots\n",
      "Result: {\"change_type\": \"cluster_template_changed\", \"cluster_id\": 8, \"cluster_size\": 2, \"template_mined\": \"<*> the 811596193553 with <*> .NET_Runtime/4.0 .NET_Framework/4.0 OS/Microsoft_Windows_NT_10.0.41693.0 WindowsPowerShell/5.0 <*> in the <*> have done <*>\", \"cluster_count\": 8}\n",
      "Input (20177): ed18ef8b-38ec-475a-9dd5-01adf14b45bb the 811596193553 with Mozilla/5.0 (Macintosh; Intel Mac OS X 10_12_4) AppleWebKit/537.36 (KHTML, like Gecko) Chrome/58.0.3029.110 Safari/537.36 in the signin.amazonaws.com have done ConsoleLogin\n",
      "Result: {\"change_type\": \"cluster_template_changed\", \"cluster_id\": 7, \"cluster_size\": 2, \"template_mined\": \"<*> the 811596193553 with Mozilla/5.0 (Macintosh; Intel Mac OS X <*> AppleWebKit/537.36 (KHTML, like Gecko) <*> Safari/537.36 in the <*> have done <*>\", \"cluster_count\": 8}\n",
      "Input (20790): 41f5e92e-52f0-4c9b-9415-5e10fe0b9e07 the 811596193553 with [AWSPowerShell/228.181.46.250 .NET_Runtime/4.0 .NET_Framework/4.0 OS/Microsoft_Windows_NT_10.0.17369.0 WindowsPowerShell/5.0 ClientSync] in the s3.amazonaws.com have done ListBuckets\n",
      "Result: {\"change_type\": \"cluster_template_changed\", \"cluster_id\": 8, \"cluster_size\": 8, \"template_mined\": \"<*> the 811596193553 with <*> .NET_Runtime/4.0 .NET_Framework/4.0 <*> WindowsPowerShell/5.0 <*> in the <*> have done <*>\", \"cluster_count\": 8}\n",
      "Input (21406): 62289-612b-4d0b-9a58-2185a6d0b4b7 the 811596193553 with Mozilla/5.0 (Windows NT 6.3; Win64; x64) AppleWebKit/537.36 (KHTML, like Gecko) Chrome/58.0.3029.110 Safari/537.36 in the signin.amazonaws.com have done ConsoleLogin\n",
      "Result: {\"change_type\": \"cluster_created\", \"cluster_id\": 9, \"cluster_size\": 1, \"template_mined\": \"62289-612b-4d0b-9a58-2185a6d0b4b7 the 811596193553 with Mozilla/5.0 (Windows NT 6.3; Win64; x64) AppleWebKit/537.36 (KHTML, like Gecko) Chrome/58.0.3029.110 Safari/537.36 in the signin.amazonaws.com have done ConsoleLogin\", \"cluster_count\": 9}\n",
      "Input (23317): 70bd1d0a-07cb-4d3b-b982-5b54b46937c5 the 811596193553 with Mozilla/5.0 (Windows NT 6.3; Win64; x64) AppleWebKit/537.36 (KHTML, like Gecko) Chrome/58.0.3029.110 Safari/537.36 in the signin.amazonaws.com have done ConsoleLogin\n",
      "Result: {\"change_type\": \"cluster_template_changed\", \"cluster_id\": 9, \"cluster_size\": 2, \"template_mined\": \"<*> the 811596193553 with Mozilla/5.0 (Windows NT 6.3; Win64; x64) AppleWebKit/537.36 (KHTML, like Gecko) Chrome/58.0.3029.110 Safari/537.36 in the signin.amazonaws.com have done ConsoleLogin\", \"cluster_count\": 9}\n",
      "Input (53355): b828d6b5-0f97-45f3-9327-cc4fb76b872a the 811596193553 with Mozilla/5.0 (Windows NT 6.3; Win64; x64) AppleWebKit/537.36 (KHTML, like Gecko) Chrome/59.0.3071.115 Safari/537.36 in the signin.amazonaws.com have done ConsoleLogin\n",
      "Result: {\"change_type\": \"cluster_template_changed\", \"cluster_id\": 9, \"cluster_size\": 6, \"template_mined\": \"<*> the 811596193553 with Mozilla/5.0 (Windows NT 6.3; Win64; x64) AppleWebKit/537.36 (KHTML, like Gecko) <*> Safari/537.36 in the signin.amazonaws.com have done ConsoleLogin\", \"cluster_count\": 9}\n",
      "Input (53709): 179d30b6-b2cc-4e6d-87c5-9ea1563c8e93 the 811596193553 with Mozilla/5.0 (X11; CrOS armv7l 9460.60.0) AppleWebKit/537.36 (KHTML, like Gecko) Chrome/59.0.3071.91 Safari/537.36 in the signin.amazonaws.com have done ConsoleLogin\n",
      "Result: {\"change_type\": \"cluster_template_changed\", \"cluster_id\": 4, \"cluster_size\": 39, \"template_mined\": \"<*> the 811596193553 with Mozilla/5.0 <*> <*> <*> <*> AppleWebKit/537.36 (KHTML, like Gecko) <*> Safari/537.36 in the <*> have done <*>\", \"cluster_count\": 9}\n",
      "Input (58039): 988620-a6bd-49a3-ae71-eec90c673a31 the 811596193553 with Mozilla/5.0 (Windows NT 6.1; WOW64; Trident/7.0; rv:11.0) like Gecko in the signin.amazonaws.com have done CheckMfa\n",
      "Result: {\"change_type\": \"cluster_created\", \"cluster_id\": 10, \"cluster_size\": 1, \"template_mined\": \"988620-a6bd-49a3-ae71-eec90c673a31 the 811596193553 with Mozilla/5.0 (Windows NT 6.1; WOW64; Trident/7.0; rv:11.0) like Gecko in the signin.amazonaws.com have done CheckMfa\", \"cluster_count\": 10}\n",
      "Input (62013): 003eaf7f-5c29-4603-bea0-0c30568b5 the 811596193553 with aws-sdk-go/1.10.18 (go1.8; darwin; amd64) APN/1.0 HashiCorp/1.0 Terraform/0.9.8 in the sts.amazonaws.com have done GetCallerIdentity\n",
      "Result: {\"change_type\": \"cluster_created\", \"cluster_id\": 11, \"cluster_size\": 1, \"template_mined\": \"003eaf7f-5c29-4603-bea0-0c30568b5 the 811596193553 with aws-sdk-go/1.10.18 (go1.8; darwin; amd64) APN/1.0 HashiCorp/1.0 Terraform/0.9.8 in the sts.amazonaws.com have done GetCallerIdentity\", \"cluster_count\": 11}\n",
      "Input (62014): e12b97fc-df69-4ed1-b659-188701e the 811596193553 with aws-sdk-go/1.10.18 (go1.8; darwin; amd64) APN/1.0 HashiCorp/1.0 Terraform/0.9.8 in the iam.amazonaws.com have done GetUser\n",
      "Result: {\"change_type\": \"cluster_template_changed\", \"cluster_id\": 11, \"cluster_size\": 2, \"template_mined\": \"<*> the 811596193553 with aws-sdk-go/1.10.18 (go1.8; darwin; amd64) APN/1.0 HashiCorp/1.0 Terraform/0.9.8 in the <*> have done <*>\", \"cluster_count\": 11}\n",
      "Input (62146): 9296ad23-e409-4226-ac72-055556b6a83b the 811596193553 with Mozilla/5.0 (Windows NT 6.3; Win64; x64) AppleWebKit/537.36 (KHTML, like Gecko) Chrome/60.0.3112.113 Safari/537.36 in the signin.amazonaws.com have done CheckMfa\n",
      "Result: {\"change_type\": \"cluster_template_changed\", \"cluster_id\": 9, \"cluster_size\": 7, \"template_mined\": \"<*> the 811596193553 with Mozilla/5.0 (Windows NT 6.3; Win64; x64) AppleWebKit/537.36 (KHTML, like Gecko) <*> Safari/537.36 in the signin.amazonaws.com have done <*>\", \"cluster_count\": 11}\n",
      "Input (84993): e7524ecb-6dee-4d82-93d8-2ead6bfced4b the 811596193553 with aws-sdk-go/1.12.70 (go1.9.2; darwin; amd64) APN/1.0 HashiCorp/1.0 Terraform/0.11.2 in the sts.amazonaws.com have done GetCallerIdentity\n",
      "Result: {\"change_type\": \"cluster_template_changed\", \"cluster_id\": 11, \"cluster_size\": 24, \"template_mined\": \"<*> the 811596193553 with <*> <*> darwin; amd64) APN/1.0 HashiCorp/1.0 <*> in the <*> have done <*>\", \"cluster_count\": 11}\n",
      "Input (86086): 00e3129f-3d06-4167-9af7-5dc79891be2 the 811596193553 with Mozilla/5.0 (Windows NT 10.0; Win64; x64) AppleWebKit/537.36 (KHTML, like Gecko) Chrome/64.0.3282.167 Safari/537.36 in the signin.amazonaws.com have done CheckMfa\n",
      "Result: {\"change_type\": \"cluster_template_changed\", \"cluster_id\": 9, \"cluster_size\": 9, \"template_mined\": \"<*> the 811596193553 with Mozilla/5.0 (Windows NT <*> Win64; x64) AppleWebKit/537.36 (KHTML, like Gecko) <*> Safari/537.36 in the signin.amazonaws.com have done <*>\", \"cluster_count\": 11}\n",
      "Input (90005): 94c89a1b-aa0c-4da5-ac56-dc173306fa7e0 the 811596193553 with Mozilla/5.0 (Macintosh; Intel Mac OS X 10_13_3) AppleWebKit/604.5.6 (KHTML, like Gecko) Version/11.0.3 Safari/604.5.6 in the signin.amazonaws.com have done CheckMfa\n",
      "Result: {\"change_type\": \"cluster_template_changed\", \"cluster_id\": 7, \"cluster_size\": 12, \"template_mined\": \"<*> the 811596193553 with Mozilla/5.0 (Macintosh; Intel Mac OS X <*> <*> (KHTML, like Gecko) <*> <*> in the <*> have done <*>\", \"cluster_count\": 11}\n",
      "Processing line: 100000, rate 39574.9 lines/sec, 11 clusters so far.\n",
      "--- Done processing file in 2.53 sec. Total of 100000 lines, rate 39569.0 lines/sec, 11 clusters\n",
      "ID=3     : size=62308     : <*> the 811596193553 with <*> <*> <*> <*> in the <*> have done <*>\n",
      "ID=1     : size=23504     : <*> the 811596193553 with <*> in the <*> have done <*>\n",
      "ID=6     : size=6758      : <*> the 811596193553 with <*> <*> <*> in the <*> have done <*>\n",
      "ID=5     : size=5776      : <*> the 811596193553 with <*> <*> <*> <*> <*> in the <*> have done <*>\n",
      "ID=2     : size=1518      : <*> the 811596193553 with <*> <*> in the <*> have done <*>\n",
      "ID=4     : size=42        : <*> the 811596193553 with Mozilla/5.0 <*> <*> <*> <*> AppleWebKit/537.36 (KHTML, like Gecko) <*> Safari/537.36 in the <*> have done <*>\n",
      "ID=11    : size=31        : <*> the 811596193553 with <*> <*> darwin; amd64) APN/1.0 HashiCorp/1.0 <*> in the <*> have done <*>\n",
      "ID=8     : size=28        : <*> the 811596193553 with <*> .NET_Runtime/4.0 .NET_Framework/4.0 <*> WindowsPowerShell/5.0 <*> in the <*> have done <*>\n",
      "ID=7     : size=23        : <*> the 811596193553 with Mozilla/5.0 (Macintosh; Intel Mac OS X <*> <*> (KHTML, like Gecko) <*> <*> in the <*> have done <*>\n",
      "ID=9     : size=11        : <*> the 811596193553 with Mozilla/5.0 (Windows NT <*> Win64; x64) AppleWebKit/537.36 (KHTML, like Gecko) <*> Safari/537.36 in the signin.amazonaws.com have done <*>\n",
      "ID=10    : size=1         : 988620-a6bd-49a3-ae71-eec90c673a31 the 811596193553 with Mozilla/5.0 (Windows NT 6.1; WOW64; Trident/7.0; rv:11.0) like Gecko in the signin.amazonaws.com have done CheckMfa\n",
      "Prefix Tree:\n",
      "<root>\n",
      "\t<L=11>\n",
      "\t\t\"<*>\" (cluster_count=1)\n",
      "\t\t\tID=1     : size=23504     : <*> the 811596193553 with <*> in the <*> have done <*>\n",
      "\t<L=12>\n",
      "\t\t\"<*>\" (cluster_count=1)\n",
      "\t\t\tID=2     : size=1518      : <*> the 811596193553 with <*> <*> in the <*> have done <*>\n",
      "\t<L=14>\n",
      "\t\t\"<*>\" (cluster_count=1)\n",
      "\t\t\tID=3     : size=62308     : <*> the 811596193553 with <*> <*> <*> <*> in the <*> have done <*>\n",
      "\t<L=21>\n",
      "\t\t\"<*>\" (cluster_count=1)\n",
      "\t\t\tID=4     : size=42        : <*> the 811596193553 with Mozilla/5.0 <*> <*> <*> <*> AppleWebKit/537.36 (KHTML, like Gecko) <*> Safari/537.36 in the <*> have done <*>\n",
      "\t<L=15>\n",
      "\t\t\"<*>\" (cluster_count=1)\n",
      "\t\t\tID=5     : size=5776      : <*> the 811596193553 with <*> <*> <*> <*> <*> in the <*> have done <*>\n",
      "\t<L=13>\n",
      "\t\t\"<*>\" (cluster_count=1)\n",
      "\t\t\tID=6     : size=6758      : <*> the 811596193553 with <*> <*> <*> in the <*> have done <*>\n",
      "\t<L=23>\n",
      "\t\t\"<*>\" (cluster_count=1)\n",
      "\t\t\tID=7     : size=23        : <*> the 811596193553 with Mozilla/5.0 (Macintosh; Intel Mac OS X <*> <*> (KHTML, like Gecko) <*> <*> in the <*> have done <*>\n",
      "\t<L=16>\n",
      "\t\t\"<*>\" (cluster_count=1)\n",
      "\t\t\tID=8     : size=28        : <*> the 811596193553 with <*> .NET_Runtime/4.0 .NET_Framework/4.0 <*> WindowsPowerShell/5.0 <*> in the <*> have done <*>\n",
      "\t<L=22>\n",
      "\t\t\"<*>\" (cluster_count=1)\n",
      "\t\t\tID=9     : size=11        : <*> the 811596193553 with Mozilla/5.0 (Windows NT <*> Win64; x64) AppleWebKit/537.36 (KHTML, like Gecko) <*> Safari/537.36 in the signin.amazonaws.com have done <*>\n",
      "\t<L=19>\n",
      "\t\t\"<*>\" (cluster_count=1)\n",
      "\t\t\tID=10    : size=1         : 988620-a6bd-49a3-ae71-eec90c673a31 the 811596193553 with Mozilla/5.0 (Windows NT 6.1; WOW64; Trident/7.0; rv:11.0) like Gecko in the signin.amazonaws.com have done CheckMfa\n",
      "\t<L=17>\n",
      "\t\t\"<*>\" (cluster_count=1)\n",
      "\t\t\tID=11    : size=31        : <*> the 811596193553 with <*> <*> darwin; amd64) APN/1.0 HashiCorp/1.0 <*> in the <*> have done <*>\n"
     ]
    }
   ],
   "source": [
    "template_miner = TemplateMiner()\n",
    "\n",
    "line_count = 0\n",
    "\n",
    "with open(OUTFILE_HDFS) as f:\n",
    "    lines = f.readlines()\n",
    "\n",
    "print(f\"Line of the file: {len(lines)}\")\n",
    "\n",
    "start_time = time.time()\n",
    "batch_start_time = start_time\n",
    "batch_size = 100000\n",
    "\n",
    "for line in lines:\n",
    "    line = line.rstrip()\n",
    "    line = line.partition(\": \")[2]\n",
    "    result = template_miner.add_log_message(line)\n",
    "    line_count += 1\n",
    "    if line_count % batch_size == 0:\n",
    "        time_took = time.time() - batch_start_time\n",
    "        rate = batch_size / time_took\n",
    "        print(f\"Processing line: {line_count}, rate {rate:.1f} lines/sec, \"\n",
    "                    f\"{len(template_miner.drain.clusters)} clusters so far.\")\n",
    "        batch_start_time = time.time()\n",
    "    if result[\"change_type\"] != \"none\":\n",
    "        result_json = json.dumps(result)\n",
    "        print(f\"Input ({line_count}): {line}\")\n",
    "        print(f\"Result: {result_json}\")\n",
    "\n",
    "time_took = time.time() - start_time\n",
    "rate = line_count / time_took\n",
    "print(f\"--- Done processing file in {time_took:.2f} sec. Total of {line_count} lines, rate {rate:.1f} lines/sec, \"\n",
    "            f\"{len(template_miner.drain.clusters)} clusters\")\n",
    "\n",
    "sorted_clusters = sorted(template_miner.drain.clusters, key=lambda it: it.size, reverse=True)\n",
    "for cluster in sorted_clusters:\n",
    "    print(cluster)\n",
    "\n",
    "print(\"Prefix Tree:\")\n",
    "template_miner.drain.print_tree()\n",
    "\n",
    "template_miner.profiler.report(0)"
   ]
  },
  {
   "cell_type": "code",
   "execution_count": 11,
   "metadata": {},
   "outputs": [],
   "source": [
    "df = pl.read_csv(\"../data/prepared/tokenized_data_dot_product.csv\")"
   ]
  },
  {
   "cell_type": "code",
   "execution_count": 12,
   "metadata": {},
   "outputs": [
    {
     "data": {
      "text/html": [
       "<div><style>\n",
       ".dataframe > thead > tr,\n",
       ".dataframe > tbody > tr {\n",
       "  text-align: right;\n",
       "  white-space: pre-wrap;\n",
       "}\n",
       "</style>\n",
       "<small>shape: (5, 8)</small><table border=\"1\" class=\"dataframe\"><thead><tr><th>userAgent-token</th><th>eventType-token</th><th>eventName-token</th><th>eventSource-token</th><th>recipientAccountId-token</th><th>awsRegion-token</th><th>eventVersion-token</th><th>dot</th></tr><tr><td>i64</td><td>i64</td><td>i64</td><td>i64</td><td>i64</td><td>i64</td><td>i64</td><td>f64</td></tr></thead><tbody><tr><td>3827</td><td>2</td><td>594</td><td>100</td><td>0</td><td>13</td><td>2</td><td>4538.0</td></tr><tr><td>3827</td><td>2</td><td>594</td><td>100</td><td>0</td><td>3</td><td>2</td><td>4528.0</td></tr><tr><td>3827</td><td>2</td><td>594</td><td>100</td><td>0</td><td>3</td><td>2</td><td>4528.0</td></tr><tr><td>3827</td><td>2</td><td>594</td><td>100</td><td>0</td><td>8</td><td>2</td><td>4533.0</td></tr><tr><td>3827</td><td>2</td><td>594</td><td>100</td><td>0</td><td>8</td><td>2</td><td>4533.0</td></tr></tbody></table></div>"
      ],
      "text/plain": [
       "shape: (5, 8)\n",
       "┌────────────┬────────────┬────────────┬────────────┬────────────┬────────────┬───────────┬────────┐\n",
       "│ userAgent- ┆ eventType- ┆ eventName- ┆ eventSourc ┆ recipientA ┆ awsRegion- ┆ eventVers ┆ dot    │\n",
       "│ token      ┆ token      ┆ token      ┆ e-token    ┆ ccountId-t ┆ token      ┆ ion-token ┆ ---    │\n",
       "│ ---        ┆ ---        ┆ ---        ┆ ---        ┆ oken       ┆ ---        ┆ ---       ┆ f64    │\n",
       "│ i64        ┆ i64        ┆ i64        ┆ i64        ┆ ---        ┆ i64        ┆ i64       ┆        │\n",
       "│            ┆            ┆            ┆            ┆ i64        ┆            ┆           ┆        │\n",
       "╞════════════╪════════════╪════════════╪════════════╪════════════╪════════════╪═══════════╪════════╡\n",
       "│ 3827       ┆ 2          ┆ 594        ┆ 100        ┆ 0          ┆ 13         ┆ 2         ┆ 4538.0 │\n",
       "│ 3827       ┆ 2          ┆ 594        ┆ 100        ┆ 0          ┆ 3          ┆ 2         ┆ 4528.0 │\n",
       "│ 3827       ┆ 2          ┆ 594        ┆ 100        ┆ 0          ┆ 3          ┆ 2         ┆ 4528.0 │\n",
       "│ 3827       ┆ 2          ┆ 594        ┆ 100        ┆ 0          ┆ 8          ┆ 2         ┆ 4533.0 │\n",
       "│ 3827       ┆ 2          ┆ 594        ┆ 100        ┆ 0          ┆ 8          ┆ 2         ┆ 4533.0 │\n",
       "└────────────┴────────────┴────────────┴────────────┴────────────┴────────────┴───────────┴────────┘"
      ]
     },
     "execution_count": 12,
     "metadata": {},
     "output_type": "execute_result"
    }
   ],
   "source": [
    "df.head()"
   ]
  },
  {
   "cell_type": "code",
   "execution_count": 13,
   "metadata": {},
   "outputs": [
    {
     "data": {
      "text/html": [
       "<div><style>\n",
       ".dataframe > thead > tr,\n",
       ".dataframe > tbody > tr {\n",
       "  text-align: right;\n",
       "  white-space: pre-wrap;\n",
       "}\n",
       "</style>\n",
       "<small>shape: (121_491, 8)</small><table border=\"1\" class=\"dataframe\"><thead><tr><th>userAgent-token</th><th>eventType-token</th><th>eventName-token</th><th>eventSource-token</th><th>recipientAccountId-token</th><th>awsRegion-token</th><th>eventVersion-token</th><th>dot</th></tr><tr><td>i64</td><td>i64</td><td>i64</td><td>i64</td><td>i64</td><td>i64</td><td>i64</td><td>f64</td></tr></thead><tbody><tr><td>3827</td><td>2</td><td>298</td><td>100</td><td>0</td><td>11</td><td>2</td><td>4240.0</td></tr><tr><td>3827</td><td>2</td><td>828</td><td>100</td><td>0</td><td>12</td><td>2</td><td>4771.0</td></tr><tr><td>3827</td><td>2</td><td>298</td><td>100</td><td>0</td><td>6</td><td>2</td><td>4235.0</td></tr><tr><td>3827</td><td>2</td><td>1236</td><td>100</td><td>0</td><td>14</td><td>2</td><td>5181.0</td></tr><tr><td>1792</td><td>2</td><td>533</td><td>142</td><td>0</td><td>14</td><td>2</td><td>2485.0</td></tr><tr><td>4009</td><td>2</td><td>594</td><td>100</td><td>0</td><td>8</td><td>2</td><td>4715.0</td></tr><tr><td>4009</td><td>2</td><td>594</td><td>100</td><td>0</td><td>11</td><td>2</td><td>4718.0</td></tr><tr><td>4009</td><td>2</td><td>594</td><td>100</td><td>0</td><td>16</td><td>2</td><td>4723.0</td></tr><tr><td>4009</td><td>2</td><td>1236</td><td>100</td><td>0</td><td>1</td><td>2</td><td>5350.0</td></tr><tr><td>4009</td><td>2</td><td>828</td><td>100</td><td>0</td><td>9</td><td>2</td><td>4950.0</td></tr><tr><td>4009</td><td>2</td><td>594</td><td>100</td><td>0</td><td>7</td><td>2</td><td>4714.0</td></tr><tr><td>3711</td><td>2</td><td>918</td><td>100</td><td>0</td><td>15</td><td>2</td><td>4748.0</td></tr><tr><td>&hellip;</td><td>&hellip;</td><td>&hellip;</td><td>&hellip;</td><td>&hellip;</td><td>&hellip;</td><td>&hellip;</td><td>&hellip;</td></tr><tr><td>3614</td><td>2</td><td>695</td><td>142</td><td>0</td><td>14</td><td>2</td><td>4469.0</td></tr><tr><td>3614</td><td>2</td><td>271</td><td>100</td><td>0</td><td>2</td><td>2</td><td>3991.0</td></tr><tr><td>3614</td><td>2</td><td>1089</td><td>100</td><td>0</td><td>14</td><td>2</td><td>4821.0</td></tr><tr><td>1173</td><td>2</td><td>572</td><td>126</td><td>0</td><td>15</td><td>2</td><td>1890.0</td></tr><tr><td>3614</td><td>2</td><td>821</td><td>129</td><td>0</td><td>11</td><td>2</td><td>4579.0</td></tr><tr><td>3614</td><td>2</td><td>821</td><td>129</td><td>0</td><td>8</td><td>2</td><td>4576.0</td></tr><tr><td>1054</td><td>2</td><td>1159</td><td>100</td><td>0</td><td>9</td><td>2</td><td>2326.0</td></tr><tr><td>1054</td><td>2</td><td>1159</td><td>100</td><td>0</td><td>8</td><td>2</td><td>2325.0</td></tr><tr><td>1054</td><td>2</td><td>1098</td><td>100</td><td>0</td><td>15</td><td>2</td><td>2271.0</td></tr><tr><td>823</td><td>2</td><td>996</td><td>126</td><td>0</td><td>14</td><td>2</td><td>1963.0</td></tr><tr><td>2464</td><td>2</td><td>1086</td><td>142</td><td>0</td><td>14</td><td>2</td><td>3710.0</td></tr><tr><td>3827</td><td>2</td><td>1058</td><td>142</td><td>0</td><td>14</td><td>2</td><td>5045.0</td></tr></tbody></table></div>"
      ],
      "text/plain": [
       "shape: (121_491, 8)\n",
       "┌────────────┬────────────┬────────────┬────────────┬────────────┬────────────┬───────────┬────────┐\n",
       "│ userAgent- ┆ eventType- ┆ eventName- ┆ eventSourc ┆ recipientA ┆ awsRegion- ┆ eventVers ┆ dot    │\n",
       "│ token      ┆ token      ┆ token      ┆ e-token    ┆ ccountId-t ┆ token      ┆ ion-token ┆ ---    │\n",
       "│ ---        ┆ ---        ┆ ---        ┆ ---        ┆ oken       ┆ ---        ┆ ---       ┆ f64    │\n",
       "│ i64        ┆ i64        ┆ i64        ┆ i64        ┆ ---        ┆ i64        ┆ i64       ┆        │\n",
       "│            ┆            ┆            ┆            ┆ i64        ┆            ┆           ┆        │\n",
       "╞════════════╪════════════╪════════════╪════════════╪════════════╪════════════╪═══════════╪════════╡\n",
       "│ 3827       ┆ 2          ┆ 298        ┆ 100        ┆ 0          ┆ 11         ┆ 2         ┆ 4240.0 │\n",
       "│ 3827       ┆ 2          ┆ 828        ┆ 100        ┆ 0          ┆ 12         ┆ 2         ┆ 4771.0 │\n",
       "│ 3827       ┆ 2          ┆ 298        ┆ 100        ┆ 0          ┆ 6          ┆ 2         ┆ 4235.0 │\n",
       "│ 3827       ┆ 2          ┆ 1236       ┆ 100        ┆ 0          ┆ 14         ┆ 2         ┆ 5181.0 │\n",
       "│ 1792       ┆ 2          ┆ 533        ┆ 142        ┆ 0          ┆ 14         ┆ 2         ┆ 2485.0 │\n",
       "│ …          ┆ …          ┆ …          ┆ …          ┆ …          ┆ …          ┆ …         ┆ …      │\n",
       "│ 1054       ┆ 2          ┆ 1159       ┆ 100        ┆ 0          ┆ 8          ┆ 2         ┆ 2325.0 │\n",
       "│ 1054       ┆ 2          ┆ 1098       ┆ 100        ┆ 0          ┆ 15         ┆ 2         ┆ 2271.0 │\n",
       "│ 823        ┆ 2          ┆ 996        ┆ 126        ┆ 0          ┆ 14         ┆ 2         ┆ 1963.0 │\n",
       "│ 2464       ┆ 2          ┆ 1086       ┆ 142        ┆ 0          ┆ 14         ┆ 2         ┆ 3710.0 │\n",
       "│ 3827       ┆ 2          ┆ 1058       ┆ 142        ┆ 0          ┆ 14         ┆ 2         ┆ 5045.0 │\n",
       "└────────────┴────────────┴────────────┴────────────┴────────────┴────────────┴───────────┴────────┘"
      ]
     },
     "execution_count": 13,
     "metadata": {},
     "output_type": "execute_result"
    }
   ],
   "source": [
    "df.select(pl.col(\"*\")).unique()"
   ]
  },
  {
   "cell_type": "code",
   "execution_count": 14,
   "metadata": {},
   "outputs": [
    {
     "data": {
      "text/html": [
       "<div><style>\n",
       ".dataframe > thead > tr,\n",
       ".dataframe > tbody > tr {\n",
       "  text-align: right;\n",
       "  white-space: pre-wrap;\n",
       "}\n",
       "</style>\n",
       "<small>shape: (9_897, 2)</small><table border=\"1\" class=\"dataframe\"><thead><tr><th>dot</th><th>count</th></tr><tr><td>f64</td><td>u32</td></tr></thead><tbody><tr><td>4710.0</td><td>69110</td></tr><tr><td>4715.0</td><td>69035</td></tr><tr><td>4719.0</td><td>60698</td></tr><tr><td>4720.0</td><td>59486</td></tr><tr><td>4533.0</td><td>57086</td></tr><tr><td>4534.0</td><td>54661</td></tr><tr><td>4716.0</td><td>51946</td></tr><tr><td>4528.0</td><td>51641</td></tr><tr><td>4712.0</td><td>49843</td></tr><tr><td>4714.0</td><td>47899</td></tr><tr><td>4538.0</td><td>46832</td></tr><tr><td>4537.0</td><td>45359</td></tr><tr><td>&hellip;</td><td>&hellip;</td></tr><tr><td>10205.0</td><td>1</td></tr><tr><td>9810.0</td><td>1</td></tr><tr><td>283.0</td><td>1</td></tr><tr><td>454.0</td><td>1</td></tr><tr><td>9939.0</td><td>1</td></tr><tr><td>311.0</td><td>1</td></tr><tr><td>10093.0</td><td>1</td></tr><tr><td>5924.0</td><td>1</td></tr><tr><td>207.0</td><td>1</td></tr><tr><td>380.0</td><td>1</td></tr><tr><td>10128.0</td><td>1</td></tr><tr><td>9663.0</td><td>1</td></tr></tbody></table></div>"
      ],
      "text/plain": [
       "shape: (9_897, 2)\n",
       "┌─────────┬───────┐\n",
       "│ dot     ┆ count │\n",
       "│ ---     ┆ ---   │\n",
       "│ f64     ┆ u32   │\n",
       "╞═════════╪═══════╡\n",
       "│ 4710.0  ┆ 69110 │\n",
       "│ 4715.0  ┆ 69035 │\n",
       "│ 4719.0  ┆ 60698 │\n",
       "│ 4720.0  ┆ 59486 │\n",
       "│ 4533.0  ┆ 57086 │\n",
       "│ …       ┆ …     │\n",
       "│ 5924.0  ┆ 1     │\n",
       "│ 207.0   ┆ 1     │\n",
       "│ 380.0   ┆ 1     │\n",
       "│ 10128.0 ┆ 1     │\n",
       "│ 9663.0  ┆ 1     │\n",
       "└─────────┴───────┘"
      ]
     },
     "execution_count": 14,
     "metadata": {},
     "output_type": "execute_result"
    }
   ],
   "source": [
    "df.select(pl.col(\"dot\").value_counts()).unnest(\"dot\").select(pl.col(\"*\").sort_by(\"count\", descending=True))"
   ]
  },
  {
   "cell_type": "code",
   "execution_count": 15,
   "metadata": {},
   "outputs": [
    {
     "data": {
      "text/html": [
       "<div><style>\n",
       ".dataframe > thead > tr,\n",
       ".dataframe > tbody > tr {\n",
       "  text-align: right;\n",
       "  white-space: pre-wrap;\n",
       "}\n",
       "</style>\n",
       "<small>shape: (14, 8)</small><table border=\"1\" class=\"dataframe\"><thead><tr><th>userAgent-token</th><th>eventType-token</th><th>eventName-token</th><th>eventSource-token</th><th>recipientAccountId-token</th><th>awsRegion-token</th><th>eventVersion-token</th><th>dot</th></tr><tr><td>i64</td><td>i64</td><td>i64</td><td>i64</td><td>i64</td><td>i64</td><td>i64</td><td>f64</td></tr></thead><tbody><tr><td>4516</td><td>2</td><td>136</td><td>48</td><td>0</td><td>5</td><td>3</td><td>4710.0</td></tr><tr><td>3742</td><td>2</td><td>842</td><td>108</td><td>0</td><td>14</td><td>2</td><td>4710.0</td></tr><tr><td>3464</td><td>2</td><td>1086</td><td>142</td><td>0</td><td>14</td><td>2</td><td>4710.0</td></tr><tr><td>4498</td><td>2</td><td>185</td><td>8</td><td>0</td><td>15</td><td>2</td><td>4710.0</td></tr><tr><td>4516</td><td>2</td><td>91</td><td>86</td><td>0</td><td>13</td><td>2</td><td>4710.0</td></tr><tr><td>4526</td><td>2</td><td>43</td><td>132</td><td>0</td><td>5</td><td>2</td><td>4710.0</td></tr><tr><td>4516</td><td>2</td><td>43</td><td>132</td><td>0</td><td>15</td><td>2</td><td>4710.0</td></tr><tr><td>4009</td><td>2</td><td>594</td><td>100</td><td>0</td><td>3</td><td>2</td><td>4710.0</td></tr><tr><td>3432</td><td>2</td><td>1159</td><td>100</td><td>0</td><td>15</td><td>2</td><td>4710.0</td></tr><tr><td>4384</td><td>2</td><td>276</td><td>32</td><td>0</td><td>14</td><td>2</td><td>4710.0</td></tr><tr><td>3572</td><td>2</td><td>1020</td><td>100</td><td>0</td><td>14</td><td>2</td><td>4710.0</td></tr><tr><td>4516</td><td>2</td><td>87</td><td>100</td><td>0</td><td>3</td><td>2</td><td>4710.0</td></tr><tr><td>3466</td><td>2</td><td>1086</td><td>142</td><td>0</td><td>14</td><td>0</td><td>4710.0</td></tr><tr><td>4040</td><td>2</td><td>525</td><td>126</td><td>0</td><td>15</td><td>2</td><td>4710.0</td></tr></tbody></table></div>"
      ],
      "text/plain": [
       "shape: (14, 8)\n",
       "┌────────────┬────────────┬────────────┬────────────┬────────────┬────────────┬───────────┬────────┐\n",
       "│ userAgent- ┆ eventType- ┆ eventName- ┆ eventSourc ┆ recipientA ┆ awsRegion- ┆ eventVers ┆ dot    │\n",
       "│ token      ┆ token      ┆ token      ┆ e-token    ┆ ccountId-t ┆ token      ┆ ion-token ┆ ---    │\n",
       "│ ---        ┆ ---        ┆ ---        ┆ ---        ┆ oken       ┆ ---        ┆ ---       ┆ f64    │\n",
       "│ i64        ┆ i64        ┆ i64        ┆ i64        ┆ ---        ┆ i64        ┆ i64       ┆        │\n",
       "│            ┆            ┆            ┆            ┆ i64        ┆            ┆           ┆        │\n",
       "╞════════════╪════════════╪════════════╪════════════╪════════════╪════════════╪═══════════╪════════╡\n",
       "│ 4516       ┆ 2          ┆ 136        ┆ 48         ┆ 0          ┆ 5          ┆ 3         ┆ 4710.0 │\n",
       "│ 3742       ┆ 2          ┆ 842        ┆ 108        ┆ 0          ┆ 14         ┆ 2         ┆ 4710.0 │\n",
       "│ 3464       ┆ 2          ┆ 1086       ┆ 142        ┆ 0          ┆ 14         ┆ 2         ┆ 4710.0 │\n",
       "│ 4498       ┆ 2          ┆ 185        ┆ 8          ┆ 0          ┆ 15         ┆ 2         ┆ 4710.0 │\n",
       "│ 4516       ┆ 2          ┆ 91         ┆ 86         ┆ 0          ┆ 13         ┆ 2         ┆ 4710.0 │\n",
       "│ …          ┆ …          ┆ …          ┆ …          ┆ …          ┆ …          ┆ …         ┆ …      │\n",
       "│ 4384       ┆ 2          ┆ 276        ┆ 32         ┆ 0          ┆ 14         ┆ 2         ┆ 4710.0 │\n",
       "│ 3572       ┆ 2          ┆ 1020       ┆ 100        ┆ 0          ┆ 14         ┆ 2         ┆ 4710.0 │\n",
       "│ 4516       ┆ 2          ┆ 87         ┆ 100        ┆ 0          ┆ 3          ┆ 2         ┆ 4710.0 │\n",
       "│ 3466       ┆ 2          ┆ 1086       ┆ 142        ┆ 0          ┆ 14         ┆ 0         ┆ 4710.0 │\n",
       "│ 4040       ┆ 2          ┆ 525        ┆ 126        ┆ 0          ┆ 15         ┆ 2         ┆ 4710.0 │\n",
       "└────────────┴────────────┴────────────┴────────────┴────────────┴────────────┴───────────┴────────┘"
      ]
     },
     "execution_count": 15,
     "metadata": {},
     "output_type": "execute_result"
    }
   ],
   "source": [
    "# 4710.0\n",
    "\n",
    "df.filter(pl.col(\"dot\") == 4710.0).unique()"
   ]
  },
  {
   "cell_type": "code",
   "execution_count": 16,
   "metadata": {},
   "outputs": [
    {
     "data": {
      "text/plain": [
       "87"
      ]
     },
     "execution_count": 16,
     "metadata": {},
     "output_type": "execute_result"
    }
   ],
   "source": [
    "df.select(pl.col(\"dot\").value_counts()).unnest(\"dot\").filter(pl.col(\"count\") == 1).count()[\"dot\"][0]"
   ]
  },
  {
   "cell_type": "code",
   "execution_count": 17,
   "metadata": {},
   "outputs": [
    {
     "name": "stdout",
     "output_type": "stream",
     "text": [
      "Correct-ness: 4.48637225751158e-05\n",
      "INcorrect-ness: 0.0050587714765734015\n"
     ]
    }
   ],
   "source": [
    "dim = df.shape\n",
    "correct = df.select(pl.col(\"dot\").value_counts()).unnest(\"dot\").filter(pl.col(\"count\") == 1).count()[\"dot\"][0]\n",
    "incorrect = df.select(pl.col(\"dot\").value_counts()).unnest(\"dot\").filter(pl.col(\"count\") != 1).count()[\"dot\"][0]\n",
    "print(f\"Correct-ness: {correct/dim[0]}\")\n",
    "print(f\"INcorrect-ness: {incorrect/dim[0]}\")"
   ]
  },
  {
   "cell_type": "code",
   "execution_count": 18,
   "metadata": {},
   "outputs": [],
   "source": [
    "from sklearn.cluster import KMeans"
   ]
  },
  {
   "cell_type": "code",
   "execution_count": 19,
   "metadata": {},
   "outputs": [
    {
     "data": {
      "text/html": [
       "<div><style>\n",
       ".dataframe > thead > tr,\n",
       ".dataframe > tbody > tr {\n",
       "  text-align: right;\n",
       "  white-space: pre-wrap;\n",
       "}\n",
       "</style>\n",
       "<small>shape: (5, 7)</small><table border=\"1\" class=\"dataframe\"><thead><tr><th>userAgent-token</th><th>eventType-token</th><th>eventName-token</th><th>eventSource-token</th><th>recipientAccountId-token</th><th>awsRegion-token</th><th>eventVersion-token</th></tr><tr><td>i64</td><td>i64</td><td>i64</td><td>i64</td><td>i64</td><td>i64</td><td>i64</td></tr></thead><tbody><tr><td>3827</td><td>2</td><td>594</td><td>100</td><td>0</td><td>13</td><td>2</td></tr><tr><td>3827</td><td>2</td><td>594</td><td>100</td><td>0</td><td>3</td><td>2</td></tr><tr><td>3827</td><td>2</td><td>594</td><td>100</td><td>0</td><td>3</td><td>2</td></tr><tr><td>3827</td><td>2</td><td>594</td><td>100</td><td>0</td><td>8</td><td>2</td></tr><tr><td>3827</td><td>2</td><td>594</td><td>100</td><td>0</td><td>8</td><td>2</td></tr></tbody></table></div>"
      ],
      "text/plain": [
       "shape: (5, 7)\n",
       "┌──────────────┬─────────────┬─────────────┬─────────────┬─────────────┬─────────────┬─────────────┐\n",
       "│ userAgent-to ┆ eventType-t ┆ eventName-t ┆ eventSource ┆ recipientAc ┆ awsRegion-t ┆ eventVersio │\n",
       "│ ken          ┆ oken        ┆ oken        ┆ -token      ┆ countId-tok ┆ oken        ┆ n-token     │\n",
       "│ ---          ┆ ---         ┆ ---         ┆ ---         ┆ en          ┆ ---         ┆ ---         │\n",
       "│ i64          ┆ i64         ┆ i64         ┆ i64         ┆ ---         ┆ i64         ┆ i64         │\n",
       "│              ┆             ┆             ┆             ┆ i64         ┆             ┆             │\n",
       "╞══════════════╪═════════════╪═════════════╪═════════════╪═════════════╪═════════════╪═════════════╡\n",
       "│ 3827         ┆ 2           ┆ 594         ┆ 100         ┆ 0           ┆ 13          ┆ 2           │\n",
       "│ 3827         ┆ 2           ┆ 594         ┆ 100         ┆ 0           ┆ 3           ┆ 2           │\n",
       "│ 3827         ┆ 2           ┆ 594         ┆ 100         ┆ 0           ┆ 3           ┆ 2           │\n",
       "│ 3827         ┆ 2           ┆ 594         ┆ 100         ┆ 0           ┆ 8           ┆ 2           │\n",
       "│ 3827         ┆ 2           ┆ 594         ┆ 100         ┆ 0           ┆ 8           ┆ 2           │\n",
       "└──────────────┴─────────────┴─────────────┴─────────────┴─────────────┴─────────────┴─────────────┘"
      ]
     },
     "execution_count": 19,
     "metadata": {},
     "output_type": "execute_result"
    }
   ],
   "source": [
    "dlp = pl.read_csv(\"../data/prepared/tokenized_data.csv\")\n",
    "dlp.head()"
   ]
  },
  {
   "cell_type": "code",
   "execution_count": 20,
   "metadata": {},
   "outputs": [
    {
     "data": {
      "text/plain": [
       "7"
      ]
     },
     "execution_count": 20,
     "metadata": {},
     "output_type": "execute_result"
    }
   ],
   "source": [
    "dlp.shape[1]"
   ]
  },
  {
   "cell_type": "code",
   "execution_count": 21,
   "metadata": {},
   "outputs": [],
   "source": [
    "X_train = dlp.to_numpy()\n",
    "\n",
    "kmeans = KMeans(n_clusters=dlp.shape[1], random_state=0, n_init=\"auto\").fit(X_train)"
   ]
  },
  {
   "cell_type": "code",
   "execution_count": 22,
   "metadata": {},
   "outputs": [
    {
     "name": "stderr",
     "output_type": "stream",
     "text": [
      "/home/ubuntu/thesis-da/lib/python3.10/site-packages/sklearn/base.py:486: UserWarning: X has feature names, but KMeans was fitted without feature names\n",
      "  warnings.warn(\n"
     ]
    },
    {
     "data": {
      "text/plain": [
       "array([0], dtype=int32)"
      ]
     },
     "execution_count": 22,
     "metadata": {},
     "output_type": "execute_result"
    }
   ],
   "source": [
    "kmeans.predict(dlp[134])"
   ]
  },
  {
   "cell_type": "code",
   "execution_count": 23,
   "metadata": {},
   "outputs": [
    {
     "data": {
      "text/plain": [
       "(shape: (1, 7)\n",
       " ┌──────────────┬─────────────┬─────────────┬─────────────┬─────────────┬─────────────┬─────────────┐\n",
       " │ userAgent-to ┆ eventType-t ┆ eventName-t ┆ eventSource ┆ recipientAc ┆ awsRegion-t ┆ eventVersio │\n",
       " │ ken          ┆ oken        ┆ oken        ┆ -token      ┆ countId-tok ┆ oken        ┆ n-token     │\n",
       " │ ---          ┆ ---         ┆ ---         ┆ ---         ┆ en          ┆ ---         ┆ ---         │\n",
       " │ i64          ┆ i64         ┆ i64         ┆ i64         ┆ ---         ┆ i64         ┆ i64         │\n",
       " │              ┆             ┆             ┆             ┆ i64         ┆             ┆             │\n",
       " ╞══════════════╪═════════════╪═════════════╪═════════════╪═════════════╪═════════════╪═════════════╡\n",
       " │ 3827         ┆ 2           ┆ 594         ┆ 100         ┆ 0           ┆ 3           ┆ 2           │\n",
       " └──────────────┴─────────────┴─────────────┴─────────────┴─────────────┴─────────────┴─────────────┘,\n",
       " shape: (1, 7)\n",
       " ┌──────────────┬─────────────┬─────────────┬─────────────┬─────────────┬─────────────┬─────────────┐\n",
       " │ userAgent-to ┆ eventType-t ┆ eventName-t ┆ eventSource ┆ recipientAc ┆ awsRegion-t ┆ eventVersio │\n",
       " │ ken          ┆ oken        ┆ oken        ┆ -token      ┆ countId-tok ┆ oken        ┆ n-token     │\n",
       " │ ---          ┆ ---         ┆ ---         ┆ ---         ┆ en          ┆ ---         ┆ ---         │\n",
       " │ i64          ┆ i64         ┆ i64         ┆ i64         ┆ ---         ┆ i64         ┆ i64         │\n",
       " │              ┆             ┆             ┆             ┆ i64         ┆             ┆             │\n",
       " ╞══════════════╪═════════════╪═════════════╪═════════════╪═════════════╪═════════════╪═════════════╡\n",
       " │ 3827         ┆ 2           ┆ 594         ┆ 100         ┆ 0           ┆ 13          ┆ 2           │\n",
       " └──────────────┴─────────────┴─────────────┴─────────────┴─────────────┴─────────────┴─────────────┘)"
      ]
     },
     "execution_count": 23,
     "metadata": {},
     "output_type": "execute_result"
    }
   ],
   "source": [
    "dlp[134], dlp[0]"
   ]
  },
  {
   "cell_type": "markdown",
   "metadata": {},
   "source": [
    "# To test:\n",
    "- Knearest fatto bene\n",
    "- drain3 con `requestResponse`/`requestObject` messo a testo"
   ]
  },
  {
   "cell_type": "code",
   "execution_count": 24,
   "metadata": {},
   "outputs": [],
   "source": [
    "from sklearn.neighbors import NearestNeighbors"
   ]
  },
  {
   "cell_type": "code",
   "execution_count": 26,
   "metadata": {},
   "outputs": [],
   "source": [
    "nbrs = NearestNeighbors(n_neighbors=8, algorithm='ball_tree').fit(X_train)"
   ]
  },
  {
   "cell_type": "code",
   "execution_count": 28,
   "metadata": {},
   "outputs": [],
   "source": [
    "distances, indices = nbrs.kneighbors(X_train)"
   ]
  },
  {
   "cell_type": "code",
   "execution_count": 1,
   "metadata": {},
   "outputs": [
    {
     "ename": "NameError",
     "evalue": "name 'indices' is not defined",
     "output_type": "error",
     "traceback": [
      "\u001b[0;31m---------------------------------------------------------------------------\u001b[0m",
      "\u001b[0;31mNameError\u001b[0m                                 Traceback (most recent call last)",
      "Cell \u001b[0;32mIn[1], line 1\u001b[0m\n\u001b[0;32m----> 1\u001b[0m \u001b[43mindices\u001b[49m\n",
      "\u001b[0;31mNameError\u001b[0m: name 'indices' is not defined"
     ]
    }
   ],
   "source": [
    "indices"
   ]
  },
  {
   "cell_type": "code",
   "execution_count": null,
   "metadata": {},
   "outputs": [],
   "source": [
    "distances"
   ]
  },
  {
   "cell_type": "code",
   "execution_count": null,
   "metadata": {},
   "outputs": [],
   "source": [
    "import seaborn as sns\n",
    "import matplotlib as mlp\n",
    "import matplotlib.pyplot as plt"
   ]
  },
  {
   "cell_type": "code",
   "execution_count": null,
   "metadata": {},
   "outputs": [],
   "source": [
    "sns.scatterplot(indices)"
   ]
  },
  {
   "cell_type": "code",
   "execution_count": null,
   "metadata": {},
   "outputs": [],
   "source": [
    "sns.scatterplot(distances)"
   ]
  }
 ],
 "metadata": {
  "kernelspec": {
   "display_name": "thesis-da",
   "language": "python",
   "name": "python3"
  },
  "language_info": {
   "codemirror_mode": {
    "name": "ipython",
    "version": 3
   },
   "file_extension": ".py",
   "mimetype": "text/x-python",
   "name": "python",
   "nbconvert_exporter": "python",
   "pygments_lexer": "ipython3",
   "version": "3.10.12"
  }
 },
 "nbformat": 4,
 "nbformat_minor": 2
}
