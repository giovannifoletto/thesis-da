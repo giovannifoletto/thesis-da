{
 "cells": [
  {
   "cell_type": "markdown",
   "metadata": {},
   "source": [
    "# Analysis on the most common eventName: `RunInstances`"
   ]
  },
  {
   "cell_type": "code",
   "execution_count": 1,
   "metadata": {},
   "outputs": [
    {
     "name": "stderr",
     "output_type": "stream",
     "text": [
      "/home/rising/thesis-da/lib/python3.10/site-packages/polars/_cpu_check.py:232: RuntimeWarning: Missing required CPU features.\n",
      "\n",
      "The following required CPU features were not detected:\n",
      "    ssse3, sse4.1, sse4.2, popcnt\n",
      "Continuing to use this version of Polars on this processor will likely result in a crash.\n",
      "Install the `polars-lts-cpu` package instead of `polars` to run Polars with better compatibility.\n",
      "\n",
      "Hint: If you are on an Apple ARM machine (e.g. M1) this is likely due to running Python under Rosetta.\n",
      "It is recommended to install a native version of Python that does not run under Rosetta x86-64 emulation.\n",
      "\n",
      "If you believe this warning to be a false positive, you can set the `POLARS_SKIP_CPU_CHECK` environment variable to bypass this check.\n",
      "\n",
      "  warnings.warn(\n"
     ]
    }
   ],
   "source": [
    "import matplotlib.pyplot as plt\n",
    "import numpy as np\n",
    "import seaborn as sns\n",
    "\n",
    "from sklearn.cluster import DBSCAN, HDBSCAN\n",
    "from sklearn.datasets import make_blobs\n",
    "from sklearn import preprocessing\n",
    "\n",
    "import polars as pl"
   ]
  },
  {
   "cell_type": "code",
   "execution_count": 10,
   "metadata": {},
   "outputs": [],
   "source": [
    "cloudtrails_log_schema = pl.Struct({\n",
    "    \"eventVersion\": pl.Utf8,\n",
    "    \"userIdentity\": pl.Struct({\n",
    "        \"type\": pl.Utf8,\n",
    "        \"principalId\": pl.Utf8,\n",
    "        \"arn\": pl.Utf8,\n",
    "        \"accountId\": pl.Utf8,\n",
    "        \"invokedby\": pl.Utf8,\n",
    "        \"accesskeyId\": pl.Utf8,\n",
    "        \"userName\": pl.Utf8,\n",
    "    }),\n",
    "    \"sessionContext\": pl.Struct({\n",
    "        \"attributes\": pl.Struct({\n",
    "            \"mfaAuthenticated\": pl.Utf8,\n",
    "            \"creationDate\": pl.Utf8,\n",
    "        }),\n",
    "        \"sessionIssuer\": pl.Struct({\n",
    "            \"type\": pl.Utf8,\n",
    "            \"principalId\": pl.Utf8,\n",
    "            \"arn\": pl.Utf8,\n",
    "            \"accountId\": pl.Utf8,\n",
    "            \"userName\": pl.Utf8,\n",
    "        }),\n",
    "    }),\n",
    "    \"eventTime\": pl.Utf8,\n",
    "    \"eventSource\": pl.Utf8,\n",
    "    \"eventName\": pl.Utf8,\n",
    "    \"awsRegion\": pl.Utf8,\n",
    "    \"sourceIPAddress\": pl.Utf8,\n",
    "    \"userAgent\": pl.Utf8,\n",
    "    \"errorCode\": pl.Utf8,\n",
    "    \"errorMessage\": pl.Utf8,\n",
    "    \"requestParameters\": pl.Utf8,\n",
    "    \"responseElements\": pl.Utf8,\n",
    "    \"additionalEventData\": pl.Utf8,\n",
    "    \"requestId\": pl.Utf8,\n",
    "    \"eventId\": pl.Utf8,\n",
    "    \"resources\": pl.List(pl.Struct({\n",
    "        \"ARN\": pl.Utf8,\n",
    "        \"accountId\": pl.Utf8,\n",
    "        \"type\": pl.Utf8,\n",
    "    })),\n",
    "    \"eventType\": pl.Utf8,\n",
    "    \"apiVersion\": pl.Utf8,\n",
    "    \"readonly\": pl.Utf8,\n",
    "    \"recipientAccountId\": pl.Utf8,\n",
    "    \"serviceEventDetails\": pl.Utf8,\n",
    "    \"sharedEventId\": pl.Utf8,\n",
    "    \"vpcEndpointId\": pl.Utf8,\n",
    "})"
   ]
  },
  {
   "cell_type": "code",
   "execution_count": 2,
   "metadata": {},
   "outputs": [],
   "source": [
    "df = pl.read_ndjson(\"../data/raw/flaws_cloudtrail02.ndjson\")"
   ]
  },
  {
   "cell_type": "code",
   "execution_count": 6,
   "metadata": {},
   "outputs": [
    {
     "data": {
      "text/html": [
       "<div><style>\n",
       ".dataframe > thead > tr,\n",
       ".dataframe > tbody > tr {\n",
       "  text-align: right;\n",
       "  white-space: pre-wrap;\n",
       "}\n",
       "</style>\n",
       "<small>shape: (2, 17)</small><table border=\"1\" class=\"dataframe\"><thead><tr><th>userAgent</th><th>eventID</th><th>userIdentity</th><th>eventType</th><th>sourceIPAddress</th><th>eventName</th><th>eventSource</th><th>recipientAccountId</th><th>requestParameters</th><th>awsRegion</th><th>requestID</th><th>responseElements</th><th>eventVersion</th><th>eventTime</th><th>errorMessage</th><th>errorCode</th><th>apiVersion</th></tr><tr><td>str</td><td>str</td><td>struct[6]</td><td>str</td><td>str</td><td>str</td><td>str</td><td>str</td><td>struct[44]</td><td>str</td><td>str</td><td>struct[9]</td><td>str</td><td>str</td><td>str</td><td>str</td><td>str</td></tr></thead><tbody><tr><td>&quot;[S3Console/0.4…</td><td>&quot;3038ebd2-c98a-…</td><td>{&quot;Root&quot;,&quot;811596193553&quot;,&quot;arn:aws:iam::811596193553:root&quot;,&quot;811596193553&quot;,null,{{&quot;false&quot;,&quot;2017-02-12T19:57:05Z&quot;}}}</td><td>&quot;AwsApiCall&quot;</td><td>&quot;255.253.125.11…</td><td>&quot;ListBuckets&quot;</td><td>&quot;s3.amazonaws.c…</td><td>&quot;811596193553&quot;</td><td>{{null,null},null,null,null,{null},{null},null,{null},{{{null,null},null,null}},{null},null,null,null,{null},{null},null,{null},null,null,null,{null},{null},{null},null,{null},null,{null},null,{null},{null},{null},{null},{null},{null},{null},null,{null,null},null,{null},null,null,{null},null,null}</td><td>&quot;us-east-1&quot;</td><td>&quot;83A6C73FE87F51…</td><td>{null,null,null,null,null,null,null,null,{null,null,null,null,null,null}}</td><td>&quot;1.04&quot;</td><td>&quot;2017-02-12T19:…</td><td>null</td><td>null</td><td>null</td></tr><tr><td>&quot;console.amazon…</td><td>&quot;22a0d9b1-deea-…</td><td>{&quot;Root&quot;,&quot;811596193553&quot;,&quot;arn:aws:iam::811596193553:root&quot;,&quot;811596193553&quot;,&quot;ASIA79EXPHZ8SRL55OOE&quot;,{{&quot;false&quot;,&quot;2017-02-12T19:57:05Z&quot;}}}</td><td>&quot;AwsApiCall&quot;</td><td>&quot;255.253.125.11…</td><td>&quot;GetAccountPass…</td><td>&quot;iam.amazonaws.…</td><td>&quot;811596193553&quot;</td><td>{{null,null},null,null,null,{null},{null},null,{null},{{{null,null},null,null}},{null},null,null,null,{null},{null},null,{null},null,null,null,{null},{null},{null},null,{null},null,{null},null,{null},{null},{null},{null},{null},{null},{null},null,{null,null},null,{null},null,null,{null},null,null}</td><td>&quot;us-east-1&quot;</td><td>&quot;b833be53-f15d-…</td><td>{null,null,null,null,null,null,null,null,{null,null,null,null,null,null}}</td><td>&quot;1.02&quot;</td><td>&quot;2017-02-12T19:…</td><td>&quot;The Password P…</td><td>&quot;NoSuchEntityEx…</td><td>null</td></tr></tbody></table></div>"
      ],
      "text/plain": [
       "shape: (2, 17)\n",
       "┌───────────┬───────────┬───────────┬───────────┬───┬───────────┬───────────┬───────────┬──────────┐\n",
       "│ userAgent ┆ eventID   ┆ userIdent ┆ eventType ┆ … ┆ eventTime ┆ errorMess ┆ errorCode ┆ apiVersi │\n",
       "│ ---       ┆ ---       ┆ ity       ┆ ---       ┆   ┆ ---       ┆ age       ┆ ---       ┆ on       │\n",
       "│ str       ┆ str       ┆ ---       ┆ str       ┆   ┆ str       ┆ ---       ┆ str       ┆ ---      │\n",
       "│           ┆           ┆ struct[6] ┆           ┆   ┆           ┆ str       ┆           ┆ str      │\n",
       "╞═══════════╪═══════════╪═══════════╪═══════════╪═══╪═══════════╪═══════════╪═══════════╪══════════╡\n",
       "│ [S3Consol ┆ 3038ebd2- ┆ {\"Root\",\" ┆ AwsApiCal ┆ … ┆ 2017-02-1 ┆ null      ┆ null      ┆ null     │\n",
       "│ e/0.4]    ┆ c98a-4c65 ┆ 811596193 ┆ l         ┆   ┆ 2T19:57:0 ┆           ┆           ┆          │\n",
       "│           ┆ -9b6e-e22 ┆ 553\",\"arn ┆           ┆   ┆ 6Z        ┆           ┆           ┆          │\n",
       "│           ┆ 50629…    ┆ :aws:…    ┆           ┆   ┆           ┆           ┆           ┆          │\n",
       "│ console.a ┆ 22a0d9b1- ┆ {\"Root\",\" ┆ AwsApiCal ┆ … ┆ 2017-02-1 ┆ The       ┆ NoSuchEnt ┆ null     │\n",
       "│ mazonaws. ┆ deea-4d39 ┆ 811596193 ┆ l         ┆   ┆ 2T19:59:1 ┆ Password  ┆ ityExcept ┆          │\n",
       "│ com       ┆ -827b-2af ┆ 553\",\"arn ┆           ┆   ┆ 0Z        ┆ Policy    ┆ ion       ┆          │\n",
       "│           ┆ 7050e…    ┆ :aws:…    ┆           ┆   ┆           ┆ with      ┆           ┆          │\n",
       "│           ┆           ┆           ┆           ┆   ┆           ┆ domain …  ┆           ┆          │\n",
       "└───────────┴───────────┴───────────┴───────────┴───┴───────────┴───────────┴───────────┴──────────┘"
      ]
     },
     "execution_count": 6,
     "metadata": {},
     "output_type": "execute_result"
    }
   ],
   "source": [
    "df.head(2)"
   ]
  },
  {
   "cell_type": "code",
   "execution_count": 5,
   "metadata": {},
   "outputs": [
    {
     "data": {
      "text/html": [
       "<div><style>\n",
       ".dataframe > thead > tr,\n",
       ".dataframe > tbody > tr {\n",
       "  text-align: right;\n",
       "  white-space: pre-wrap;\n",
       "}\n",
       "</style>\n",
       "<small>shape: (1, 17)</small><table border=\"1\" class=\"dataframe\"><thead><tr><th>userAgent</th><th>eventID</th><th>userIdentity</th><th>eventType</th><th>sourceIPAddress</th><th>eventName</th><th>eventSource</th><th>recipientAccountId</th><th>requestParameters</th><th>awsRegion</th><th>requestID</th><th>responseElements</th><th>eventVersion</th><th>eventTime</th><th>errorMessage</th><th>errorCode</th><th>apiVersion</th></tr><tr><td>u32</td><td>u32</td><td>u32</td><td>u32</td><td>u32</td><td>u32</td><td>u32</td><td>u32</td><td>u32</td><td>u32</td><td>u32</td><td>u32</td><td>u32</td><td>u32</td><td>u32</td><td>u32</td><td>u32</td></tr></thead><tbody><tr><td>199668</td><td>199668</td><td>199668</td><td>199668</td><td>199668</td><td>199668</td><td>199668</td><td>199668</td><td>199668</td><td>199668</td><td>199608</td><td>199668</td><td>199668</td><td>199668</td><td>37161</td><td>38232</td><td>4438</td></tr></tbody></table></div>"
      ],
      "text/plain": [
       "shape: (1, 17)\n",
       "┌───────────┬─────────┬────────────┬───────────┬───┬───────────┬───────────┬───────────┬───────────┐\n",
       "│ userAgent ┆ eventID ┆ userIdenti ┆ eventType ┆ … ┆ eventTime ┆ errorMess ┆ errorCode ┆ apiVersio │\n",
       "│ ---       ┆ ---     ┆ ty         ┆ ---       ┆   ┆ ---       ┆ age       ┆ ---       ┆ n         │\n",
       "│ u32       ┆ u32     ┆ ---        ┆ u32       ┆   ┆ u32       ┆ ---       ┆ u32       ┆ ---       │\n",
       "│           ┆         ┆ u32        ┆           ┆   ┆           ┆ u32       ┆           ┆ u32       │\n",
       "╞═══════════╪═════════╪════════════╪═══════════╪═══╪═══════════╪═══════════╪═══════════╪═══════════╡\n",
       "│ 199668    ┆ 199668  ┆ 199668     ┆ 199668    ┆ … ┆ 199668    ┆ 37161     ┆ 38232     ┆ 4438      │\n",
       "└───────────┴─────────┴────────────┴───────────┴───┴───────────┴───────────┴───────────┴───────────┘"
      ]
     },
     "execution_count": 5,
     "metadata": {},
     "output_type": "execute_result"
    }
   ],
   "source": [
    "df.filter(pl.col(\"responseElements\").is_null()).count()"
   ]
  },
  {
   "cell_type": "code",
   "execution_count": 13,
   "metadata": {},
   "outputs": [
    {
     "data": {
      "text/html": [
       "<div><style>\n",
       ".dataframe > thead > tr,\n",
       ".dataframe > tbody > tr {\n",
       "  text-align: right;\n",
       "  white-space: pre-wrap;\n",
       "}\n",
       "</style>\n",
       "<small>shape: (3_193, 2)</small><table border=\"1\" class=\"dataframe\"><thead><tr><th>userAgent</th><th>count</th></tr><tr><td>str</td><td>u32</td></tr></thead><tbody><tr><td>&quot;[aws-cli/1.16.…</td><td>2</td></tr><tr><td>&quot;aws-cli/1.11.7…</td><td>3</td></tr><tr><td>&quot;[aws-cli/1.11.…</td><td>2</td></tr><tr><td>&quot;aws-cli/1.14.6…</td><td>12</td></tr><tr><td>&quot;aws-cli/1.14.5…</td><td>23</td></tr><tr><td>&hellip;</td><td>&hellip;</td></tr><tr><td>&quot;[aws-cli/1.16.…</td><td>14</td></tr><tr><td>&quot;[aws-cli/1.11.…</td><td>1</td></tr><tr><td>&quot;aws-cli/1.16.8…</td><td>57</td></tr><tr><td>&quot;[aws-cli/1.16.…</td><td>2</td></tr><tr><td>&quot;[aws-cli/1.11.…</td><td>1</td></tr></tbody></table></div>"
      ],
      "text/plain": [
       "shape: (3_193, 2)\n",
       "┌───────────────────────────────────┬───────┐\n",
       "│ userAgent                         ┆ count │\n",
       "│ ---                               ┆ ---   │\n",
       "│ str                               ┆ u32   │\n",
       "╞═══════════════════════════════════╪═══════╡\n",
       "│ [aws-cli/1.16.106 Python/2.7.15+… ┆ 2     │\n",
       "│ aws-cli/1.11.76 Python/2.7.11 Wi… ┆ 3     │\n",
       "│ [aws-cli/1.11.13 Python/3.5.2 Li… ┆ 2     │\n",
       "│ aws-cli/1.14.60 Python/3.6.4 Dar… ┆ 12    │\n",
       "│ aws-cli/1.14.50 Python/2.7.12+ L… ┆ 23    │\n",
       "│ …                                 ┆ …     │\n",
       "│ [aws-cli/1.16.135 Python/2.7.15r… ┆ 14    │\n",
       "│ [aws-cli/1.11.123 Python/2.7.9 W… ┆ 1     │\n",
       "│ aws-cli/1.16.81 Python/2.7.15 Da… ┆ 57    │\n",
       "│ [aws-cli/1.16.94 Python/2.7.13 L… ┆ 2     │\n",
       "│ [aws-cli/1.11.139 Python/3.6.3 L… ┆ 1     │\n",
       "└───────────────────────────────────┴───────┘"
      ]
     },
     "execution_count": 13,
     "metadata": {},
     "output_type": "execute_result"
    }
   ],
   "source": [
    "df.select(pl.col(\"userAgent\").value_counts()).unnest(\"userAgent\")"
   ]
  }
 ],
 "metadata": {
  "kernelspec": {
   "display_name": "thesis-da",
   "language": "python",
   "name": "python3"
  },
  "language_info": {
   "codemirror_mode": {
    "name": "ipython",
    "version": 3
   },
   "file_extension": ".py",
   "mimetype": "text/x-python",
   "name": "python",
   "nbconvert_exporter": "python",
   "pygments_lexer": "ipython3",
   "version": "3.10.12"
  }
 },
 "nbformat": 4,
 "nbformat_minor": 2
}
